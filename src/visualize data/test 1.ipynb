{
 "cells": [
  {
   "cell_type": "code",
   "execution_count": 3,
   "metadata": {},
   "outputs": [],
   "source": [
    "train <- read.csv(file = '../../Data/training_data.csv')"
   ]
  },
  {
   "cell_type": "code",
   "execution_count": 5,
   "metadata": {},
   "outputs": [
    {
     "data": {
      "text/html": [
       "<ol class=list-inline>\n",
       "\t<li>708</li>\n",
       "\t<li>4872</li>\n",
       "</ol>\n"
      ],
      "text/latex": [
       "\\begin{enumerate*}\n",
       "\\item 708\n",
       "\\item 4872\n",
       "\\end{enumerate*}\n"
      ],
      "text/markdown": [
       "1. 708\n",
       "2. 4872\n",
       "\n",
       "\n"
      ],
      "text/plain": [
       "[1]  708 4872"
      ]
     },
     "metadata": {},
     "output_type": "display_data"
    },
    {
     "data": {
      "text/html": [
       "<table>\n",
       "<thead><tr><th scope=col>Intensity</th><th scope=col>VALENCE.PLEASANTNESS</th><th scope=col>SWEETORSOUR</th><th scope=col>complexity.from.pubmed</th><th scope=col>MW</th><th scope=col>AMW</th><th scope=col>Sv</th><th scope=col>Se</th><th scope=col>Sp</th><th scope=col>Si</th><th scope=col>...</th><th scope=col>Psychotic.80</th><th scope=col>Psychotic.50</th><th scope=col>Hypertens.80</th><th scope=col>Hypertens.50</th><th scope=col>Hypnotic.80</th><th scope=col>Hypnotic.50</th><th scope=col>Neoplastic.80</th><th scope=col>Neoplastic.50</th><th scope=col>Infective.80</th><th scope=col>Infective.50</th></tr></thead>\n",
       "<tbody>\n",
       "\t<tr><td>low   </td><td>45    </td><td>FALSE </td><td>302.0 </td><td>208.33</td><td>5.952 </td><td>19.698</td><td>34.491</td><td>21.523</td><td>39.571</td><td>...   </td><td>0     </td><td>0     </td><td>1     </td><td>0     </td><td>1     </td><td>0     </td><td>1     </td><td>0     </td><td>1     </td><td>0     </td></tr>\n",
       "\t<tr><td>high  </td><td>49    </td><td> TRUE </td><td> 72.6 </td><td>122.18</td><td>6.431 </td><td>11.349</td><td>18.745</td><td>12.261</td><td>21.285</td><td>...   </td><td>0     </td><td>0     </td><td>0     </td><td>0     </td><td>0     </td><td>0     </td><td>0     </td><td>0     </td><td>0     </td><td>0     </td></tr>\n",
       "\t<tr><td>high  </td><td>56    </td><td> TRUE </td><td>259.0 </td><td>242.29</td><td>7.572 </td><td>20.832</td><td>32.167</td><td>21.693</td><td>35.535</td><td>...   </td><td>0     </td><td>0     </td><td>1     </td><td>0     </td><td>1     </td><td>1     </td><td>1     </td><td>0     </td><td>1     </td><td>1     </td></tr>\n",
       "\t<tr><td>high  </td><td> 7    </td><td>FALSE </td><td> 56.6 </td><td> 88.12</td><td>6.294 </td><td> 7.537</td><td>14.189</td><td> 7.955</td><td>16.080</td><td>...   </td><td>0     </td><td>0     </td><td>0     </td><td>0     </td><td>0     </td><td>0     </td><td>0     </td><td>0     </td><td>0     </td><td>0     </td></tr>\n",
       "\t<tr><td>low   </td><td>51    </td><td>FALSE </td><td> 84.7 </td><td>136.21</td><td>6.191 </td><td>12.876</td><td>21.629</td><td>14.023</td><td>24.701</td><td>...   </td><td>0     </td><td>0     </td><td>0     </td><td>0     </td><td>0     </td><td>0     </td><td>0     </td><td>0     </td><td>0     </td><td>0     </td></tr>\n",
       "\t<tr><td>high  </td><td>21    </td><td>FALSE </td><td>160.0 </td><td>192.28</td><td>6.409 </td><td>17.644</td><td>29.723</td><td>19.000</td><td>33.740</td><td>...   </td><td>0     </td><td>0     </td><td>0     </td><td>0     </td><td>1     </td><td>0     </td><td>1     </td><td>0     </td><td>1     </td><td>0     </td></tr>\n",
       "</tbody>\n",
       "</table>\n"
      ],
      "text/latex": [
       "\\begin{tabular}{r|llllllllllllllllllllllllllllllllllllllllllllllllllllllllllllllllllllllllllllllllllllllllllllllllllllllllllllllllllllllllllllllllllllllllllllllllllllllllllllllllllllllllllllllllllllllllllllllllllllllllllllllllllllllllllllllllllllllllllllllllllllllllllllllllllllllllllllllllllllllllllllllllllllllllllllllllllllllllllllllllllllllllllllllllllllllllllllllllllllllllllllllllllllllllllllllllllllllllllllllllllllllllllllllllllllllllllllllllllllllllllllllllllllllllllllllllllllllllllllllllllllllllllllllllllllllllllllllllllllllllllllllllllllllllllllllllllllllllllllllllllllllllllllllllllllllllllllllllllllllllllllllllllllllllllllllllllllllllllllllllllllllllllllllllllllllllllllllllllllllllllllllllllllllllllllllllllllllllllllllllllllllllllllllllllllllllllllllllllllllllllllllllllllllllllllllllllllllllllllllllllllllllllllllllllllllllllllllllllllllllllllllllllllllllllllllllllllllllllllllllllllllllllllllllllllllllllllllllllllllllllllllllllllllllllllllllllllllllllllllllllllllllllllllllllllllllllllllllllllllllllllllllllllllllllllllllllllllllllllllllllllllllllllllllllllllllllllllllllllllllllllllllllllllllllllllllllllllllllllllllllllllllllllllllllllllllllllllllllllllllllllllllllllllllllllllllllllllllllllllllllllllllllllllllllllllllllllllllllllllllllllllllllllllllllllllllllllllllllllllllllllllllllllllllllllllllllllllllllllllllllllllllllllllllllllllllllllllllllllllllllllllllllllllllllllllllllllllllllllllllllllllllllllllllllllllllllllllllllllllllllllllllllllllllllllllllllllllllllllllllllllllllllllllllllllllllllllllllllllllllllllllllllllllllllllllllllllllllllllllllllllllllllllllllllllllllllllllllllllllllllllllllllllllllllllllllllllllllllllllllllllllllllllllllllllllllllllllllllllllllllllllllllllllllllllllllllllllllllllllllllllllllllllllllllllllllllllllllllllllllllllllllllllllllllllllllllllllllllllllllllllllllllllllllllllllllllllllllllllllllllllllllllllllllllllllllllllllllllllllllllllllllllllllllllllllllllllllllllllllllllllllllllllllllllllllllllllllllllllllllllllllllllllllllllllllllllllllllllllllllllllllllllllllllllllllllllllllllllllllllllllllllllllllllllllllllllllllllllllllllllllllllllllllllllllllllllllllllllllllllllllllllllllllllllllllllllllllllllllllllllllllllllllllllllllllllllllllllllllllllllllllllllllllllllllllllllllllllllllllllllllllllllllllllllllllllllllllllllllllllllllllllllllllllllllllllllllllllllllllllllllllllllllllllllllllllllllllllllllllllllllllllllllllllllllllllllllllllllllllllllllllllllllllllllllllllllllllllllllllllllllllllllllllllllllllllllllllllllllllllllllllllllllllllllllllllllllllllllllllllllllllllllllllllllllllllllllllllllllllllllllllllllllllllllllllllllllllllllllllllllllllllllllllllllllllllllllllllllllllllllllllllllllllllllllllllllllllllllllllllllllllllllllllllllllllllllllllllllllllllllllllllllllllllllllllllllllllllllllllllllllllllllllllllllllllllllllllllllllllllllllllllllllllllllllllllllllllllllllllllllllllllllllllllllllllllllllllllllllllllllllllllllllllllllllllllllllllllllllllllllllllllllllllllllllllllllllllllllllllllllllllllllllllllllllllllllllllllllllllllllllllllllllllllllllllllllllllllllllllllllllllllllllllllllllllllllllllllllllllllllllllllllllllllllllllllllllllllllllllllllllllllllllllllllllllllllllllllllllllllllllllllllllllllllllllllllllllllllllllllllllllllllllllllllllllllllllllllllllllllllllllllllllllllllllllllllllllllllllllllllllllllllllllllllllllllllllllllllllllllllllllllllllllllllllllllllllllllllllllllllllllllllllllllllllllllllllllllllllllllllllllllllllllllllllllllllllllllllllllllllllllllllllllllllllllllllllllllllllllllllllllllllllllllllllllllllllllllllllllllllllllllllllllllllllllllllllllllllllllllllllllllllllllllllllllllllllllllllllllllllllllllllllllllllllllllllllllllllllllllllllllllllllllllllllllllllllllllllllllllllllllllllllllllllllllllllllllllllllllllllllllllllllllllllllllllllllllllllllllllllllllllllllllllllllllllllllllllllllllllllllllllllllllllllllllllllllllllllllllllllllllllllllllllllllllllllllllllllllllllllllllllllllllllllllllllllllllllllllllllllllllllllllllllllllllllllllllllllllllllllllllllllllllllllllllllllllllllllllllllllllllllllllllllllllllllllllllllllllllllllllllllllllllllllllllllllllllllllllllllllllllllllllllllllllllllllllllllllllllllllllllllllllllllllllllllllllllllllllllllllllllllllllllllllllllllllllllllllllllllllllllllllllllllllllllllllllllllllllllllllllllllllllllllllllllllllllllllllllllllllllllllllllllllllllllllllllllllllllllllllllllllllllllllllllllllllllllllllllllllllllllllllllllllllllllllllllllllllllllllllllllllllllllllllllllllllllllllllllllllllllllllllllllllllllllllllllllllllllllllllllllllllllllllllllllllllllllllllllllllllllllllllllllllllllllllllllllllllllllllllllllllllllllllllllllllllllllllllllllllllllllllllllllllllllllllllllllllllllllllllllllllllllllllllllllllllllllllllllllllllllllllllllllllllllllllllllllllllllllllllllllllllllllllllllllllllllllllllllllllllllllllllllllllllllllllllllllllllllllllllllllllllllllllllllllllllllllllllllllllllllllllllllllllllllllllllllllll}\n",
       " Intensity & VALENCE.PLEASANTNESS & SWEETORSOUR & complexity.from.pubmed & MW & AMW & Sv & Se & Sp & Si & ... & Psychotic.80 & Psychotic.50 & Hypertens.80 & Hypertens.50 & Hypnotic.80 & Hypnotic.50 & Neoplastic.80 & Neoplastic.50 & Infective.80 & Infective.50\\\\\n",
       "\\hline\n",
       "\t low    & 45     & FALSE  & 302.0  & 208.33 & 5.952  & 19.698 & 34.491 & 21.523 & 39.571 & ...    & 0      & 0      & 1      & 0      & 1      & 0      & 1      & 0      & 1      & 0     \\\\\n",
       "\t high   & 49     &  TRUE  &  72.6  & 122.18 & 6.431  & 11.349 & 18.745 & 12.261 & 21.285 & ...    & 0      & 0      & 0      & 0      & 0      & 0      & 0      & 0      & 0      & 0     \\\\\n",
       "\t high   & 56     &  TRUE  & 259.0  & 242.29 & 7.572  & 20.832 & 32.167 & 21.693 & 35.535 & ...    & 0      & 0      & 1      & 0      & 1      & 1      & 1      & 0      & 1      & 1     \\\\\n",
       "\t high   &  7     & FALSE  &  56.6  &  88.12 & 6.294  &  7.537 & 14.189 &  7.955 & 16.080 & ...    & 0      & 0      & 0      & 0      & 0      & 0      & 0      & 0      & 0      & 0     \\\\\n",
       "\t low    & 51     & FALSE  &  84.7  & 136.21 & 6.191  & 12.876 & 21.629 & 14.023 & 24.701 & ...    & 0      & 0      & 0      & 0      & 0      & 0      & 0      & 0      & 0      & 0     \\\\\n",
       "\t high   & 21     & FALSE  & 160.0  & 192.28 & 6.409  & 17.644 & 29.723 & 19.000 & 33.740 & ...    & 0      & 0      & 0      & 0      & 1      & 0      & 1      & 0      & 1      & 0     \\\\\n",
       "\\end{tabular}\n"
      ],
      "text/markdown": [
       "\n",
       "| Intensity | VALENCE.PLEASANTNESS | SWEETORSOUR | complexity.from.pubmed | MW | AMW | Sv | Se | Sp | Si | ... | Psychotic.80 | Psychotic.50 | Hypertens.80 | Hypertens.50 | Hypnotic.80 | Hypnotic.50 | Neoplastic.80 | Neoplastic.50 | Infective.80 | Infective.50 |\n",
       "|---|---|---|---|---|---|---|---|---|---|---|---|---|---|---|---|---|---|---|---|---|\n",
       "| low    | 45     | FALSE  | 302.0  | 208.33 | 5.952  | 19.698 | 34.491 | 21.523 | 39.571 | ...    | 0      | 0      | 1      | 0      | 1      | 0      | 1      | 0      | 1      | 0      |\n",
       "| high   | 49     |  TRUE  |  72.6  | 122.18 | 6.431  | 11.349 | 18.745 | 12.261 | 21.285 | ...    | 0      | 0      | 0      | 0      | 0      | 0      | 0      | 0      | 0      | 0      |\n",
       "| high   | 56     |  TRUE  | 259.0  | 242.29 | 7.572  | 20.832 | 32.167 | 21.693 | 35.535 | ...    | 0      | 0      | 1      | 0      | 1      | 1      | 1      | 0      | 1      | 1      |\n",
       "| high   |  7     | FALSE  |  56.6  |  88.12 | 6.294  |  7.537 | 14.189 |  7.955 | 16.080 | ...    | 0      | 0      | 0      | 0      | 0      | 0      | 0      | 0      | 0      | 0      |\n",
       "| low    | 51     | FALSE  |  84.7  | 136.21 | 6.191  | 12.876 | 21.629 | 14.023 | 24.701 | ...    | 0      | 0      | 0      | 0      | 0      | 0      | 0      | 0      | 0      | 0      |\n",
       "| high   | 21     | FALSE  | 160.0  | 192.28 | 6.409  | 17.644 | 29.723 | 19.000 | 33.740 | ...    | 0      | 0      | 0      | 0      | 1      | 0      | 1      | 0      | 1      | 0      |\n",
       "\n"
      ],
      "text/plain": [
       "  Intensity VALENCE.PLEASANTNESS SWEETORSOUR complexity.from.pubmed MW    \n",
       "1 low       45                   FALSE       302.0                  208.33\n",
       "2 high      49                    TRUE        72.6                  122.18\n",
       "3 high      56                    TRUE       259.0                  242.29\n",
       "4 high       7                   FALSE        56.6                   88.12\n",
       "5 low       51                   FALSE        84.7                  136.21\n",
       "6 high      21                   FALSE       160.0                  192.28\n",
       "  AMW   Sv     Se     Sp     Si     ... Psychotic.80 Psychotic.50 Hypertens.80\n",
       "1 5.952 19.698 34.491 21.523 39.571 ... 0            0            1           \n",
       "2 6.431 11.349 18.745 12.261 21.285 ... 0            0            0           \n",
       "3 7.572 20.832 32.167 21.693 35.535 ... 0            0            1           \n",
       "4 6.294  7.537 14.189  7.955 16.080 ... 0            0            0           \n",
       "5 6.191 12.876 21.629 14.023 24.701 ... 0            0            0           \n",
       "6 6.409 17.644 29.723 19.000 33.740 ... 0            0            0           \n",
       "  Hypertens.50 Hypnotic.80 Hypnotic.50 Neoplastic.80 Neoplastic.50 Infective.80\n",
       "1 0            1           0           1             0             1           \n",
       "2 0            0           0           0             0             0           \n",
       "3 0            1           1           1             0             1           \n",
       "4 0            0           0           0             0             0           \n",
       "5 0            0           0           0             0             0           \n",
       "6 0            1           0           1             0             1           \n",
       "  Infective.50\n",
       "1 0           \n",
       "2 0           \n",
       "3 1           \n",
       "4 0           \n",
       "5 0           \n",
       "6 0           "
      ]
     },
     "metadata": {},
     "output_type": "display_data"
    }
   ],
   "source": [
    "#head(train)\n",
    "dim(train)\n",
    "\n",
    "head(train)"
   ]
  },
  {
   "cell_type": "markdown",
   "metadata": {},
   "source": [
    "BCP plus de prédicteurs que de données !"
   ]
  },
  {
   "cell_type": "code",
   "execution_count": 15,
   "metadata": {},
   "outputs": [
    {
     "data": {
      "text/html": [
       "<table>\n",
       "<thead><tr><th scope=col>VALENCE.PLEASANTNESS</th><th scope=col>complexity.from.pubmed</th><th scope=col>MW</th><th scope=col>AMW</th><th scope=col>Sv</th><th scope=col>Se</th><th scope=col>Sp</th><th scope=col>Si</th><th scope=col>Mv</th><th scope=col>Me</th><th scope=col>...</th><th scope=col>Psychotic.80</th><th scope=col>Psychotic.50</th><th scope=col>Hypertens.80</th><th scope=col>Hypertens.50</th><th scope=col>Hypnotic.80</th><th scope=col>Hypnotic.50</th><th scope=col>Neoplastic.80</th><th scope=col>Neoplastic.50</th><th scope=col>Infective.80</th><th scope=col>Infective.50</th></tr></thead>\n",
       "<tbody>\n",
       "\t<tr><td>45    </td><td>302.0 </td><td>208.33</td><td>5.952 </td><td>19.698</td><td>34.491</td><td>21.523</td><td>39.571</td><td>0.563 </td><td>0.985 </td><td>...   </td><td>0     </td><td>0     </td><td>1     </td><td>0     </td><td>1     </td><td>0     </td><td>1     </td><td>0     </td><td>1     </td><td>0     </td></tr>\n",
       "\t<tr><td>49    </td><td> 72.6 </td><td>122.18</td><td>6.431 </td><td>11.349</td><td>18.745</td><td>12.261</td><td>21.285</td><td>0.597 </td><td>0.987 </td><td>...   </td><td>0     </td><td>0     </td><td>0     </td><td>0     </td><td>0     </td><td>0     </td><td>0     </td><td>0     </td><td>0     </td><td>0     </td></tr>\n",
       "\t<tr><td>56    </td><td>259.0 </td><td>242.29</td><td>7.572 </td><td>20.832</td><td>32.167</td><td>21.693</td><td>35.535</td><td>0.651 </td><td>1.005 </td><td>...   </td><td>0     </td><td>0     </td><td>1     </td><td>0     </td><td>1     </td><td>1     </td><td>1     </td><td>0     </td><td>1     </td><td>1     </td></tr>\n",
       "\t<tr><td> 7    </td><td> 56.6 </td><td> 88.12</td><td>6.294 </td><td> 7.537</td><td>14.189</td><td> 7.955</td><td>16.080</td><td>0.538 </td><td>1.014 </td><td>...   </td><td>0     </td><td>0     </td><td>0     </td><td>0     </td><td>0     </td><td>0     </td><td>0     </td><td>0     </td><td>0     </td><td>0     </td></tr>\n",
       "\t<tr><td>51    </td><td> 84.7 </td><td>136.21</td><td>6.191 </td><td>12.876</td><td>21.629</td><td>14.023</td><td>24.701</td><td>0.585 </td><td>0.983 </td><td>...   </td><td>0     </td><td>0     </td><td>0     </td><td>0     </td><td>0     </td><td>0     </td><td>0     </td><td>0     </td><td>0     </td><td>0     </td></tr>\n",
       "\t<tr><td>21    </td><td>160.0 </td><td>192.28</td><td>6.409 </td><td>17.644</td><td>29.723</td><td>19.000</td><td>33.740</td><td>0.588 </td><td>0.991 </td><td>...   </td><td>0     </td><td>0     </td><td>0     </td><td>0     </td><td>1     </td><td>0     </td><td>1     </td><td>0     </td><td>1     </td><td>0     </td></tr>\n",
       "</tbody>\n",
       "</table>\n"
      ],
      "text/latex": [
       "\\begin{tabular}{r|llllllllllllllllllllllllllllllllllllllllllllllllllllllllllllllllllllllllllllllllllllllllllllllllllllllllllllllllllllllllllllllllllllllllllllllllllllllllllllllllllllllllllllllllllllllllllllllllllllllllllllllllllllllllllllllllllllllllllllllllllllllllllllllllllllllllllllllllllllllllllllllllllllllllllllllllllllllllllllllllllllllllllllllllllllllllllllllllllllllllllllllllllllllllllllllllllllllllllllllllllllllllllllllllllllllllllllllllllllllllllllllllllllllllllllllllllllllllllllllllllllllllllllllllllllllllllllllllllllllllllllllllllllllllllllllllllllllllllllllllllllllllllllllllllllllllllllllllllllllllllllllllllllllllllllllllllllllllllllllllllllllllllllllllllllllllllllllllllllllllllllllllllllllllllllllllllllllllllllllllllllllllllllllllllllllllllllllllllllllllllllllllllllllllllllllllllllllllllllllllllllllllllllllllllllllllllllllllllllllllllllllllllllllllllllllllllllllllllllllllllllllllllllllllllllllllllllllllllllllllllllllllllllllllllllllllllllllllllllllllllllllllllllllllllllllllllllllllllllllllllllllllllllllllllllllllllllllllllllllllllllllllllllllllllllllllllllllllllllllllllllllllllllllllllllllllllllllllllllllllllllllllllllllllllllllllllllllllllllllllllllllllllllllllllllllllllllllllllllllllllllllllllllllllllllllllllllllllllllllllllllllllllllllllllllllllllllllllllllllllllllllllllllllllllllllllllllllllllllllllllllllllllllllllllllllllllllllllllllllllllllllllllllllllllllllllllllllllllllllllllllllllllllllllllllllllllllllllllllllllllllllllllllllllllllllllllllllllllllllllllllllllllllllllllllllllllllllllllllllllllllllllllllllllllllllllllllllllllllllllllllllllllllllllllllllllllllllllllllllllllllllllllllllllllllllllllllllllllllllllllllllllllllllllllllllllllllllllllllllllllllllllllllllllllllllllllllllllllllllllllllllllllllllllllllllllllllllllllllllllllllllllllllllllllllllllllllllllllllllllllllllllllllllllllllllllllllllllllllllllllllllllllllllllllllllllllllllllllllllllllllllllllllllllllllllllllllllllllllllllllllllllllllllllllllllllllllllllllllllllllllllllllllllllllllllllllllllllllllllllllllllllllllllllllllllllllllllllllllllllllllllllllllllllllllllllllllllllllllllllllllllllllllllllllllllllllllllllllllllllllllllllllllllllllllllllllllllllllllllllllllllllllllllllllllllllllllllllllllllllllllllllllllllllllllllllllllllllllllllllllllllllllllllllllllllllllllllllllllllllllllllllllllllllllllllllllllllllllllllllllllllllllllllllllllllllllllllllllllllllllllllllllllllllllllllllllllllllllllllllllllllllllllllllllllllllllllllllllllllllllllllllllllllllllllllllllllllllllllllllllllllllllllllllllllllllllllllllllllllllllllllllllllllllllllllllllllllllllllllllllllllllllllllllllllllllllllllllllllllllllllllllllllllllllllllllllllllllllllllllllllllllllllllllllllllllllllllllllllllllllllllllllllllllllllllllllllllllllllllllllllllllllllllllllllllllllllllllllllllllllllllllllllllllllllllllllllllllllllllllllllllllllllllllllllllllllllllllllllllllllllllllllllllllllllllllllllllllllllllllllllllllllllllllllllllllllllllllllllllllllllllllllllllllllllllllllllllllllllllllllllllllllllllllllllllllllllllllllllllllllllllllllllllllllllllllllllllllllllllllllllllllllllllllllllllllllllllllllllllllllllllllllllllllllllllllllllllllllllllllllllllllllllllllllllllllllllllllllllllllllllllllllllllllllllllllllllllllllllllllllllllllllllllllllllllllllllllllllllllllllllllllllllllllllllllllllllllllllllllllllllllllllllllllllllllllllllllllllllllllllllllllllllllllllllllllllllllllllllllllllllllllllllllllllllllllllllllllllllllllllllllllllllllllllllllllllllllllllllllllllllllllllllllllllllllllllllllllllllllllllllllllllllllllllllllllllllllllllllllllllllllllllllllllllllllllllllllllllllllllllllllllllllllllllllllllllllllllllllllllllllllllllllllllllllllllllllllllllllllllllllllllllllllllllllllllllllllllllllllllllllllllllllllllllllllllllllllllllllllllllllllllllllllllllllllllllllllllllllllllllllllllllllllllllllllllllllllllllllllllllllllllllllllllllllllllllllllllllllllllllllllllllllllllllllllllllllllllllllllllllllllllllllllllllllllllllllllllllllllllllllllllllllllllllllllllllllllllllllllllllllllllllllllllllllllllllllllllllllllllllllllllllllllllllllllllllllllllllllllllllllllllllllllllllllllllllllllllllllllllllllllllllllllllllllllllllllllllllllllllllllllllllllllllllllllllllllllllllllllllllllllllllllllllllllllllllllllllllllllllllllllllllllllllllllllllllllllllllllllllllllllllllllllllllllllllllllllllllllllllllllllllllllllllllllllllllllllllllllllllllllllllllllllllllllllllllllllllllllllllllllllllllllllllllllllllllllllllllllllllllllllllllllllllllllllllllllllllllllllllllllllllllllllllllllllllllllllllllllllllllllllllllllllllllllllllllllllllllllllllllllllllllllllllllllllllllllllllllllllllllllllllllllllllllllllllllllllllllllllllllllllllllllllllllllllllllllllllllllllllllllllllllllllllllllllllllllllllllllllllllllllllllllllllllllllllllllllllllllllllllllllllllllllllllllllllllllllllllllllllllllllllllllllllllllllllllllllllllllllllllllllllllllllllllllllllllllllllllllllllllllllllllllllllllllllllllllll}\n",
       " VALENCE.PLEASANTNESS & complexity.from.pubmed & MW & AMW & Sv & Se & Sp & Si & Mv & Me & ... & Psychotic.80 & Psychotic.50 & Hypertens.80 & Hypertens.50 & Hypnotic.80 & Hypnotic.50 & Neoplastic.80 & Neoplastic.50 & Infective.80 & Infective.50\\\\\n",
       "\\hline\n",
       "\t 45     & 302.0  & 208.33 & 5.952  & 19.698 & 34.491 & 21.523 & 39.571 & 0.563  & 0.985  & ...    & 0      & 0      & 1      & 0      & 1      & 0      & 1      & 0      & 1      & 0     \\\\\n",
       "\t 49     &  72.6  & 122.18 & 6.431  & 11.349 & 18.745 & 12.261 & 21.285 & 0.597  & 0.987  & ...    & 0      & 0      & 0      & 0      & 0      & 0      & 0      & 0      & 0      & 0     \\\\\n",
       "\t 56     & 259.0  & 242.29 & 7.572  & 20.832 & 32.167 & 21.693 & 35.535 & 0.651  & 1.005  & ...    & 0      & 0      & 1      & 0      & 1      & 1      & 1      & 0      & 1      & 1     \\\\\n",
       "\t  7     &  56.6  &  88.12 & 6.294  &  7.537 & 14.189 &  7.955 & 16.080 & 0.538  & 1.014  & ...    & 0      & 0      & 0      & 0      & 0      & 0      & 0      & 0      & 0      & 0     \\\\\n",
       "\t 51     &  84.7  & 136.21 & 6.191  & 12.876 & 21.629 & 14.023 & 24.701 & 0.585  & 0.983  & ...    & 0      & 0      & 0      & 0      & 0      & 0      & 0      & 0      & 0      & 0     \\\\\n",
       "\t 21     & 160.0  & 192.28 & 6.409  & 17.644 & 29.723 & 19.000 & 33.740 & 0.588  & 0.991  & ...    & 0      & 0      & 0      & 0      & 1      & 0      & 1      & 0      & 1      & 0     \\\\\n",
       "\\end{tabular}\n"
      ],
      "text/markdown": [
       "\n",
       "| VALENCE.PLEASANTNESS | complexity.from.pubmed | MW | AMW | Sv | Se | Sp | Si | Mv | Me | ... | Psychotic.80 | Psychotic.50 | Hypertens.80 | Hypertens.50 | Hypnotic.80 | Hypnotic.50 | Neoplastic.80 | Neoplastic.50 | Infective.80 | Infective.50 |\n",
       "|---|---|---|---|---|---|---|---|---|---|---|---|---|---|---|---|---|---|---|---|---|\n",
       "| 45     | 302.0  | 208.33 | 5.952  | 19.698 | 34.491 | 21.523 | 39.571 | 0.563  | 0.985  | ...    | 0      | 0      | 1      | 0      | 1      | 0      | 1      | 0      | 1      | 0      |\n",
       "| 49     |  72.6  | 122.18 | 6.431  | 11.349 | 18.745 | 12.261 | 21.285 | 0.597  | 0.987  | ...    | 0      | 0      | 0      | 0      | 0      | 0      | 0      | 0      | 0      | 0      |\n",
       "| 56     | 259.0  | 242.29 | 7.572  | 20.832 | 32.167 | 21.693 | 35.535 | 0.651  | 1.005  | ...    | 0      | 0      | 1      | 0      | 1      | 1      | 1      | 0      | 1      | 1      |\n",
       "|  7     |  56.6  |  88.12 | 6.294  |  7.537 | 14.189 |  7.955 | 16.080 | 0.538  | 1.014  | ...    | 0      | 0      | 0      | 0      | 0      | 0      | 0      | 0      | 0      | 0      |\n",
       "| 51     |  84.7  | 136.21 | 6.191  | 12.876 | 21.629 | 14.023 | 24.701 | 0.585  | 0.983  | ...    | 0      | 0      | 0      | 0      | 0      | 0      | 0      | 0      | 0      | 0      |\n",
       "| 21     | 160.0  | 192.28 | 6.409  | 17.644 | 29.723 | 19.000 | 33.740 | 0.588  | 0.991  | ...    | 0      | 0      | 0      | 0      | 1      | 0      | 1      | 0      | 1      | 0      |\n",
       "\n"
      ],
      "text/plain": [
       "  VALENCE.PLEASANTNESS complexity.from.pubmed MW     AMW   Sv     Se     Sp    \n",
       "1 45                   302.0                  208.33 5.952 19.698 34.491 21.523\n",
       "2 49                    72.6                  122.18 6.431 11.349 18.745 12.261\n",
       "3 56                   259.0                  242.29 7.572 20.832 32.167 21.693\n",
       "4  7                    56.6                   88.12 6.294  7.537 14.189  7.955\n",
       "5 51                    84.7                  136.21 6.191 12.876 21.629 14.023\n",
       "6 21                   160.0                  192.28 6.409 17.644 29.723 19.000\n",
       "  Si     Mv    Me    ... Psychotic.80 Psychotic.50 Hypertens.80 Hypertens.50\n",
       "1 39.571 0.563 0.985 ... 0            0            1            0           \n",
       "2 21.285 0.597 0.987 ... 0            0            0            0           \n",
       "3 35.535 0.651 1.005 ... 0            0            1            0           \n",
       "4 16.080 0.538 1.014 ... 0            0            0            0           \n",
       "5 24.701 0.585 0.983 ... 0            0            0            0           \n",
       "6 33.740 0.588 0.991 ... 0            0            0            0           \n",
       "  Hypnotic.80 Hypnotic.50 Neoplastic.80 Neoplastic.50 Infective.80 Infective.50\n",
       "1 1           0           1             0             1            0           \n",
       "2 0           0           0             0             0            0           \n",
       "3 1           1           1             0             1            1           \n",
       "4 0           0           0             0             0            0           \n",
       "5 0           0           0             0             0            0           \n",
       "6 1           0           1             0             1            0           "
      ]
     },
     "metadata": {},
     "output_type": "display_data"
    },
    {
     "ename": "ERROR",
     "evalue": "Error in prcomp.default(train.regr, scale = T): cannot rescale a constant/zero column to unit variance\n",
     "output_type": "error",
     "traceback": [
      "Error in prcomp.default(train.regr, scale = T): cannot rescale a constant/zero column to unit variance\nTraceback:\n",
      "1. prcomp(train.regr, scale = T)",
      "2. prcomp.default(train.regr, scale = T)",
      "3. stop(\"cannot rescale a constant/zero column to unit variance\")"
     ]
    }
   ],
   "source": [
    "train.regr <- train[,c(-1,-3)]\n",
    "head(train.regr)\n",
    "#train.regr <- train[,!\"Intensity\"]\n",
    "pca <- prcomp(train.regr, scale = T)"
   ]
  },
  {
   "cell_type": "code",
   "execution_count": null,
   "metadata": {},
   "outputs": [],
   "source": []
  }
 ],
 "metadata": {
  "kernelspec": {
   "display_name": "R",
   "language": "R",
   "name": "ir"
  },
  "language_info": {
   "codemirror_mode": "r",
   "file_extension": ".r",
   "mimetype": "text/x-r-source",
   "name": "R",
   "pygments_lexer": "r",
   "version": "3.6.1"
  }
 },
 "nbformat": 4,
 "nbformat_minor": 4
}
