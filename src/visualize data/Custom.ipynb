{
 "cells": [
  {
   "cell_type": "code",
   "execution_count": 2,
   "metadata": {},
   "outputs": [
    {
     "name": "stderr",
     "output_type": "stream",
     "text": [
      "Warning message:\n",
      "\"package 'caret' was built under R version 3.6.3\"Loading required package: lattice\n",
      "Loading required package: ggplot2\n",
      "Registered S3 methods overwritten by 'ggplot2':\n",
      "  method         from \n",
      "  [.quosures     rlang\n",
      "  c.quosures     rlang\n",
      "  print.quosures rlang\n",
      "Warning message:\n",
      "\"package 'pls' was built under R version 3.6.3\"\n",
      "Attaching package: 'pls'\n",
      "\n",
      "The following object is masked from 'package:caret':\n",
      "\n",
      "    R2\n",
      "\n",
      "The following object is masked from 'package:stats':\n",
      "\n",
      "    loadings\n",
      "\n"
     ]
    }
   ],
   "source": [
    "#library(plotly)\n",
    "library(caret)\n",
    "library(pls)\n",
    "library(keras)\n",
    "use_condaenv(\"r-tensorflow\")"
   ]
  },
  {
   "cell_type": "code",
   "execution_count": 3,
   "metadata": {},
   "outputs": [],
   "source": [
    "train <- read.csv(file = '../../Data/training_data.csv')\n",
    "test <- read.csv(file = '../../Data/test_data.csv')\n",
    "train$Intensity <- as.numeric(train$Intensity)\n",
    "test$Intensity <- as.numeric(test$Intensity)\n",
    "Y <- subset(train,select = VALENCE.PLEASANTNESS)\n",
    "train <- subset(train,select = -c(VALENCE.PLEASANTNESS,SWEETORSOUR))\n",
    "test <-  subset(test,select = -Id)"
   ]
  },
  {
   "cell_type": "code",
   "execution_count": 4,
   "metadata": {},
   "outputs": [],
   "source": [
    "full <- rbind(train,test)"
   ]
  },
  {
   "cell_type": "code",
   "execution_count": 5,
   "metadata": {},
   "outputs": [
    {
     "data": {
      "text/html": [
       "<table>\n",
       "<thead><tr><th scope=col>Intensity</th><th scope=col>complexity.from.pubmed</th><th scope=col>MW</th><th scope=col>AMW</th><th scope=col>Sv</th><th scope=col>Se</th><th scope=col>Sp</th><th scope=col>Si</th><th scope=col>Mv</th><th scope=col>Me</th><th scope=col>...</th><th scope=col>Psychotic.80</th><th scope=col>Psychotic.50</th><th scope=col>Hypertens.80</th><th scope=col>Hypertens.50</th><th scope=col>Hypnotic.80</th><th scope=col>Hypnotic.50</th><th scope=col>Neoplastic.80</th><th scope=col>Neoplastic.50</th><th scope=col>Infective.80</th><th scope=col>Infective.50</th></tr></thead>\n",
       "<tbody>\n",
       "\t<tr><td>2     </td><td>302.0 </td><td>208.33</td><td>5.952 </td><td>19.698</td><td>34.491</td><td>21.523</td><td>39.571</td><td>0.563 </td><td>0.985 </td><td>...   </td><td>0     </td><td>0     </td><td>1     </td><td>0     </td><td>1     </td><td>0     </td><td>1     </td><td>0     </td><td>1     </td><td>0     </td></tr>\n",
       "\t<tr><td>1     </td><td> 72.6 </td><td>122.18</td><td>6.431 </td><td>11.349</td><td>18.745</td><td>12.261</td><td>21.285</td><td>0.597 </td><td>0.987 </td><td>...   </td><td>0     </td><td>0     </td><td>0     </td><td>0     </td><td>0     </td><td>0     </td><td>0     </td><td>0     </td><td>0     </td><td>0     </td></tr>\n",
       "\t<tr><td>1     </td><td>259.0 </td><td>242.29</td><td>7.572 </td><td>20.832</td><td>32.167</td><td>21.693</td><td>35.535</td><td>0.651 </td><td>1.005 </td><td>...   </td><td>0     </td><td>0     </td><td>1     </td><td>0     </td><td>1     </td><td>1     </td><td>1     </td><td>0     </td><td>1     </td><td>1     </td></tr>\n",
       "\t<tr><td>1     </td><td> 56.6 </td><td> 88.12</td><td>6.294 </td><td> 7.537</td><td>14.189</td><td> 7.955</td><td>16.080</td><td>0.538 </td><td>1.014 </td><td>...   </td><td>0     </td><td>0     </td><td>0     </td><td>0     </td><td>0     </td><td>0     </td><td>0     </td><td>0     </td><td>0     </td><td>0     </td></tr>\n",
       "\t<tr><td>2     </td><td> 84.7 </td><td>136.21</td><td>6.191 </td><td>12.876</td><td>21.629</td><td>14.023</td><td>24.701</td><td>0.585 </td><td>0.983 </td><td>...   </td><td>0     </td><td>0     </td><td>0     </td><td>0     </td><td>0     </td><td>0     </td><td>0     </td><td>0     </td><td>0     </td><td>0     </td></tr>\n",
       "\t<tr><td>1     </td><td>160.0 </td><td>192.28</td><td>6.409 </td><td>17.644</td><td>29.723</td><td>19.000</td><td>33.740</td><td>0.588 </td><td>0.991 </td><td>...   </td><td>0     </td><td>0     </td><td>0     </td><td>0     </td><td>1     </td><td>0     </td><td>1     </td><td>0     </td><td>1     </td><td>0     </td></tr>\n",
       "</tbody>\n",
       "</table>\n"
      ],
      "text/latex": [
       "\\begin{tabular}{r|llllllllllllllllllllllllllllllllllllllllllllllllllllllllllllllllllllllllllllllllllllllllllllllllllllllllllllllllllllllllllllllllllllllllllllllllllllllllllllllllllllllllllllllllllllllllllllllllllllllllllllllllllllllllllllllllllllllllllllllllllllllllllllllllllllllllllllllllllllllllllllllllllllllllllllllllllllllllllllllllllllllllllllllllllllllllllllllllllllllllllllllllllllllllllllllllllllllllllllllllllllllllllllllllllllllllllllllllllllllllllllllllllllllllllllllllllllllllllllllllllllllllllllllllllllllllllllllllllllllllllllllllllllllllllllllllllllllllllllllllllllllllllllllllllllllllllllllllllllllllllllllllllllllllllllllllllllllllllllllllllllllllllllllllllllllllllllllllllllllllllllllllllllllllllllllllllllllllllllllllllllllllllllllllllllllllllllllllllllllllllllllllllllllllllllllllllllllllllllllllllllllllllllllllllllllllllllllllllllllllllllllllllllllllllllllllllllllllllllllllllllllllllllllllllllllllllllllllllllllllllllllllllllllllllllllllllllllllllllllllllllllllllllllllllllllllllllllllllllllllllllllllllllllllllllllllllllllllllllllllllllllllllllllllllllllllllllllllllllllllllllllllllllllllllllllllllllllllllllllllllllllllllllllllllllllllllllllllllllllllllllllllllllllllllllllllllllllllllllllllllllllllllllllllllllllllllllllllllllllllllllllllllllllllllllllllllllllllllllllllllllllllllllllllllllllllllllllllllllllllllllllllllllllllllllllllllllllllllllllllllllllllllllllllllllllllllllllllllllllllllllllllllllllllllllllllllllllllllllllllllllllllllllllllllllllllllllllllllllllllllllllllllllllllllllllllllllllllllllllllllllllllllllllllllllllllllllllllllllllllllllllllllllllllllllllllllllllllllllllllllllllllllllllllllllllllllllllllllllllllllllllllllllllllllllllllllllllllllllllllllllllllllllllllllllllllllllllllllllllllllllllllllllllllllllllllllllllllllllllllllllllllllllllllllllllllllllllllllllllllllllllllllllllllllllllllllllllllllllllllllllllllllllllllllllllllllllllllllllllllllllllllllllllllllllllllllllllllllllllllllllllllllllllllllllllllllllllllllllllllllllllllllllllllllllllllllllllllllllllllllllllllllllllllllllllllllllllllllllllllllllllllllllllllllllllllllllllllllllllllllllllllllllllllllllllllllllllllllllllllllllllllllllllllllllllllllllllllllllllllllllllllllllllllllllllllllllllllllllllllllllllllllllllllllllllllllllllllllllllllllllllllllllllllllllllllllllllllllllllllllllllllllllllllllllllllllllllllllllllllllllllllllllllllllllllllllllllllllllllllllllllllllllllllllllllllllllllllllllllllllllllllllllllllllllllllllllllllllllllllllllllllllllllllllllllllllllllllllllllllllllllllllllllllllllllllllllllllllllllllllllllllllllllllllllllllllllllllllllllllllllllllllllllllllllllllllllllllllllllllllllllllllllllllllllllllllllllllllllllllllllllllllllllllllllllllllllllllllllllllllllllllllllllllllllllllllllllllllllllllllllllllllllllllllllllllllllllllllllllllllllllllllllllllllllllllllllllllllllllllllllllllllllllllllllllllllllllllllllllllllllllllllllllllllllllllllllllllllllllllllllllllllllllllllllllllllllllllllllllllllllllllllllllllllllllllllllllllllllllllllllllllllllllllllllllllllllllllllllllllllllllllllllllllllllllllllllllllllllllllllllllllllllllllllllllllllllllllllllllllllllllllllllllllllllllllllllllllllllllllllllllllllllllllllllllllllllllllllllllllllllllllllllllllllllllllllllllllllllllllllllllllllllllllllllllllllllllllllllllllllllllllllllllllllllllllllllllllllllllllllllllllllllllllllllllllllllllllllllllllllllllllllllllllllllllllllllllllllllllllllllllllllllllllllllllllllllllllllllllllllllllllllllllllllllllllllllllllllllllllllllllllllllllllllllllllllllllllllllllllllllllllllllllllllllllllllllllllllllllllllllllllllllllllllllllllllllllllllllllllllllllllllllllllllllllllllllllllllllllllllllllllllllllllllllllllllllllllllllllllllllllllllllllllllllllllllllllllllllllllllllllllllllllllllllllllllllllllllllllllllllllllllllllllllllllllllllllllllllllllllllllllllllllllllllllllllllllllllllllllllllllllllllllllllllllllllllllllllllllllllllllllllllllllllllllllllllllllllllllllllllllllllllllllllllllllllllllllllllllllllllllllllllllllllllllllllllllllllllllllllllllllllllllllllllllllllllllllllllllllllllllllllllllllllllllllllllllllllllllllllllllllllllllllllllllllllllllllllllllllllllllllllllllllllllllllllllllllllllllllllllllllllllllllllllllllllllllllllllllllllllllllllllllllllllllllllllllllllllllllllllllllllllllllllllllllllllllllllllllllllllllllllllllllllllllllllllllllllllllllllllllllllllllllllllllllllllllllllllllllllllllllllllllllllllllllllllllllllllllllllllllllllllllllllllllllllllllllllllllllllllllllllllllllllllllllllllllllllllllllllllllllllllllllllllllllllllllllllllllllllllllllllllllllllllllllllllllllllllllllllllllllllllllllllllllllllllllllllllllllllllllllllllllllllllllllllllllllllllllllllllllllllllllllllllllllllllllllllllllllllllllllllllllllllllllllllllllllllllllllllllllllllllllllllllllllllllllllllllllllllllllllllllllllllllllllllllllllllllllllllllllllllllllllllllllllllllllllllllllllllllllllllllllllllllllllllllllllllllllllllllllllllllllllllllllllllllll}\n",
       " Intensity & complexity.from.pubmed & MW & AMW & Sv & Se & Sp & Si & Mv & Me & ... & Psychotic.80 & Psychotic.50 & Hypertens.80 & Hypertens.50 & Hypnotic.80 & Hypnotic.50 & Neoplastic.80 & Neoplastic.50 & Infective.80 & Infective.50\\\\\n",
       "\\hline\n",
       "\t 2      & 302.0  & 208.33 & 5.952  & 19.698 & 34.491 & 21.523 & 39.571 & 0.563  & 0.985  & ...    & 0      & 0      & 1      & 0      & 1      & 0      & 1      & 0      & 1      & 0     \\\\\n",
       "\t 1      &  72.6  & 122.18 & 6.431  & 11.349 & 18.745 & 12.261 & 21.285 & 0.597  & 0.987  & ...    & 0      & 0      & 0      & 0      & 0      & 0      & 0      & 0      & 0      & 0     \\\\\n",
       "\t 1      & 259.0  & 242.29 & 7.572  & 20.832 & 32.167 & 21.693 & 35.535 & 0.651  & 1.005  & ...    & 0      & 0      & 1      & 0      & 1      & 1      & 1      & 0      & 1      & 1     \\\\\n",
       "\t 1      &  56.6  &  88.12 & 6.294  &  7.537 & 14.189 &  7.955 & 16.080 & 0.538  & 1.014  & ...    & 0      & 0      & 0      & 0      & 0      & 0      & 0      & 0      & 0      & 0     \\\\\n",
       "\t 2      &  84.7  & 136.21 & 6.191  & 12.876 & 21.629 & 14.023 & 24.701 & 0.585  & 0.983  & ...    & 0      & 0      & 0      & 0      & 0      & 0      & 0      & 0      & 0      & 0     \\\\\n",
       "\t 1      & 160.0  & 192.28 & 6.409  & 17.644 & 29.723 & 19.000 & 33.740 & 0.588  & 0.991  & ...    & 0      & 0      & 0      & 0      & 1      & 0      & 1      & 0      & 1      & 0     \\\\\n",
       "\\end{tabular}\n"
      ],
      "text/markdown": [
       "\n",
       "| Intensity | complexity.from.pubmed | MW | AMW | Sv | Se | Sp | Si | Mv | Me | ... | Psychotic.80 | Psychotic.50 | Hypertens.80 | Hypertens.50 | Hypnotic.80 | Hypnotic.50 | Neoplastic.80 | Neoplastic.50 | Infective.80 | Infective.50 |\n",
       "|---|---|---|---|---|---|---|---|---|---|---|---|---|---|---|---|---|---|---|---|---|\n",
       "| 2      | 302.0  | 208.33 | 5.952  | 19.698 | 34.491 | 21.523 | 39.571 | 0.563  | 0.985  | ...    | 0      | 0      | 1      | 0      | 1      | 0      | 1      | 0      | 1      | 0      |\n",
       "| 1      |  72.6  | 122.18 | 6.431  | 11.349 | 18.745 | 12.261 | 21.285 | 0.597  | 0.987  | ...    | 0      | 0      | 0      | 0      | 0      | 0      | 0      | 0      | 0      | 0      |\n",
       "| 1      | 259.0  | 242.29 | 7.572  | 20.832 | 32.167 | 21.693 | 35.535 | 0.651  | 1.005  | ...    | 0      | 0      | 1      | 0      | 1      | 1      | 1      | 0      | 1      | 1      |\n",
       "| 1      |  56.6  |  88.12 | 6.294  |  7.537 | 14.189 |  7.955 | 16.080 | 0.538  | 1.014  | ...    | 0      | 0      | 0      | 0      | 0      | 0      | 0      | 0      | 0      | 0      |\n",
       "| 2      |  84.7  | 136.21 | 6.191  | 12.876 | 21.629 | 14.023 | 24.701 | 0.585  | 0.983  | ...    | 0      | 0      | 0      | 0      | 0      | 0      | 0      | 0      | 0      | 0      |\n",
       "| 1      | 160.0  | 192.28 | 6.409  | 17.644 | 29.723 | 19.000 | 33.740 | 0.588  | 0.991  | ...    | 0      | 0      | 0      | 0      | 1      | 0      | 1      | 0      | 1      | 0      |\n",
       "\n"
      ],
      "text/plain": [
       "  Intensity complexity.from.pubmed MW     AMW   Sv     Se     Sp     Si    \n",
       "1 2         302.0                  208.33 5.952 19.698 34.491 21.523 39.571\n",
       "2 1          72.6                  122.18 6.431 11.349 18.745 12.261 21.285\n",
       "3 1         259.0                  242.29 7.572 20.832 32.167 21.693 35.535\n",
       "4 1          56.6                   88.12 6.294  7.537 14.189  7.955 16.080\n",
       "5 2          84.7                  136.21 6.191 12.876 21.629 14.023 24.701\n",
       "6 1         160.0                  192.28 6.409 17.644 29.723 19.000 33.740\n",
       "  Mv    Me    ... Psychotic.80 Psychotic.50 Hypertens.80 Hypertens.50\n",
       "1 0.563 0.985 ... 0            0            1            0           \n",
       "2 0.597 0.987 ... 0            0            0            0           \n",
       "3 0.651 1.005 ... 0            0            1            0           \n",
       "4 0.538 1.014 ... 0            0            0            0           \n",
       "5 0.585 0.983 ... 0            0            0            0           \n",
       "6 0.588 0.991 ... 0            0            0            0           \n",
       "  Hypnotic.80 Hypnotic.50 Neoplastic.80 Neoplastic.50 Infective.80 Infective.50\n",
       "1 1           0           1             0             1            0           \n",
       "2 0           0           0             0             0            0           \n",
       "3 1           1           1             0             1            1           \n",
       "4 0           0           0             0             0            0           \n",
       "5 0           0           0             0             0            0           \n",
       "6 1           0           1             0             1            0           "
      ]
     },
     "metadata": {},
     "output_type": "display_data"
    },
    {
     "data": {
      "text/html": [
       "<ol class=list-inline>\n",
       "\t<li>776</li>\n",
       "\t<li>4870</li>\n",
       "</ol>\n"
      ],
      "text/latex": [
       "\\begin{enumerate*}\n",
       "\\item 776\n",
       "\\item 4870\n",
       "\\end{enumerate*}\n"
      ],
      "text/markdown": [
       "1. 776\n",
       "2. 4870\n",
       "\n",
       "\n"
      ],
      "text/plain": [
       "[1]  776 4870"
      ]
     },
     "metadata": {},
     "output_type": "display_data"
    }
   ],
   "source": [
    "head(full)\n",
    "dim(full)"
   ]
  },
  {
   "cell_type": "code",
   "execution_count": 6,
   "metadata": {},
   "outputs": [
    {
     "data": {
      "text/html": [
       "<ol class=list-inline>\n",
       "\t<li>776</li>\n",
       "\t<li>2615</li>\n",
       "</ol>\n"
      ],
      "text/latex": [
       "\\begin{enumerate*}\n",
       "\\item 776\n",
       "\\item 2615\n",
       "\\end{enumerate*}\n"
      ],
      "text/markdown": [
       "1. 776\n",
       "2. 2615\n",
       "\n",
       "\n"
      ],
      "text/plain": [
       "[1]  776 2615"
      ]
     },
     "metadata": {},
     "output_type": "display_data"
    }
   ],
   "source": [
    "full <- scale(subset(full,select = -nearZeroVar(full)))\n",
    "dim(full)\n"
   ]
  },
  {
   "cell_type": "code",
   "execution_count": 7,
   "metadata": {},
   "outputs": [],
   "source": [
    "pca <- prcomp(full, scale = FALSE)            "
   ]
  },
  {
   "cell_type": "code",
   "execution_count": 8,
   "metadata": {},
   "outputs": [
    {
     "data": {
      "image/png": "iVBORw0KGgoAAAANSUhEUgAAA0gAAANICAMAAADKOT/pAAAAM1BMVEUAAABNTU1oaGh8fHyM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\nBPgfnAR/Kf/MS48AAAAASUVORK5CYII=",
      "text/plain": [
       "plot without title"
      ]
     },
     "metadata": {},
     "output_type": "display_data"
    }
   ],
   "source": [
    "plot(pca$x[1:nrow(train),1:2])\n",
    "points(pca$x[(nrow(train)+1):nrow(full),1:2],col = 2)"
   ]
  },
  {
   "cell_type": "markdown",
   "metadata": {},
   "source": [
    "In red are test sample, in black training sample. We can roughly see that the test set is distributed like the training set. "
   ]
  },
  {
   "cell_type": "code",
   "execution_count": 9,
   "metadata": {},
   "outputs": [
    {
     "data": {
      "image/png": "iVBORw0KGgoAAAANSUhEUgAAA0gAAANICAMAAADKOT/pAAAAM1BMVEUAAAAAAP9NTU1oaGh8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\noUAyg4EmAAAAAElFTkSuQmCC",
      "text/plain": [
       "plot without title"
      ]
     },
     "metadata": {},
     "output_type": "display_data"
    },
    {
     "data": {
      "image/png": "iVBORw0KGgoAAAANSUhEUgAAA0gAAANICAMAAADKOT/pAAAAM1BMVEUAAAAAAP9NTU1oaGh8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\nTkSuQmCC",
      "text/plain": [
       "plot without title"
      ]
     },
     "metadata": {},
     "output_type": "display_data"
    }
   ],
   "source": [
    "#Standard way to calculate the prop. var explained and cumulative Prop. Variance Explained\n",
    "pca.var <- pca$sdev^2\n",
    "pca.vare <- pca.var / sum(pca.var)\n",
    "plot(pca.vare[1:15], xlab = \"Principal Component\", ylab = \"Prop. Variance Explained\", col = \"blue\", type = \"b\")\n",
    "plot(cumsum(pca.vare[1:50]), xlab = \"Principal Component\", ylab = \"Cumulative Prop. Variance Explained\", col = \"blue\", type = \"b\")"
   ]
  },
  {
   "cell_type": "markdown",
   "metadata": {},
   "source": [
    "We already see that two variables explains a lot of variance in the data, whereas 10 to 15 explain 80%"
   ]
  },
  {
   "cell_type": "code",
   "execution_count": 10,
   "metadata": {},
   "outputs": [
    {
     "ename": "ERROR",
     "evalue": "Error in plot_ly(x = pca$x[1:nrow(train), 1], y = pca$x[1:nrow(train), : impossible de trouver la fonction \"plot_ly\"\n",
     "output_type": "error",
     "traceback": [
      "Error in plot_ly(x = pca$x[1:nrow(train), 1], y = pca$x[1:nrow(train), : impossible de trouver la fonction \"plot_ly\"\nTraceback:\n"
     ]
    }
   ],
   "source": [
    "plot_ly(x = pca$x[1:nrow(train),1], y = pca$x[1:nrow(train),2], z = Y$VALENCE.PLEASANTNESS, type = 'scatter3d', mode = 'markers', marker = list(size = 2))\n"
   ]
  },
  {
   "cell_type": "markdown",
   "metadata": {},
   "source": [
<<<<<<< HEAD
    "We shall now try to optimize the result obtained in PCA_test"
=======
    "I think this looks way much better than anything we saw until now ! Let's say that the data is more spread out"
   ]
  },
  {
   "cell_type": "markdown",
   "metadata": {},
   "source": [
    "We will try now to optimize the result obtained in PCA_test"
>>>>>>> 770425c1769895b0aff0ca9845cebb95fc5b4844
   ]
  },
  {
   "cell_type": "code",
   "execution_count": null,
   "metadata": {},
   "outputs": [],
   "source": [
    "#Get the data in the new basis (PC)\n",
    "train.pca <- as.matrix(pca$x[1:nrow(train),1:15])\n",
    "\n",
    "train.pca <- data.frame(Y = Y$VALENCE.PLEASANTNESS, train.pca)\n",
    "head(train.pca)\n",
    "test.pca <- pca$x[(nrow(train)+1):nrow(full),1:15] #take only the test set in the full PCA data\n",
    "dim(test.pca)"
   ]
  },
  {
   "cell_type": "markdown",
   "metadata": {},
   "source": [
    "First we try a simple regression "
   ]
  },
  {
   "cell_type": "code",
   "execution_count": 11,
   "metadata": {},
   "outputs": [
    {
     "data": {
      "text/plain": [
       "\n",
       "Call:\n",
       "lm(formula = Y ~ ., data = train.pca)\n",
       "\n",
       "Residuals:\n",
       "    Min      1Q  Median      3Q     Max \n",
       "-52.222 -19.175   3.989  13.945  61.824 \n",
       "\n",
       "Coefficients:\n",
       "            Estimate Std. Error t value Pr(>|t|)    \n",
       "(Intercept) 43.60739    0.84914  51.355  < 2e-16 ***\n",
       "PC1         -0.07090    0.02556  -2.774  0.00569 ** \n",
       "PC2          0.04151    0.04434   0.936  0.34958    \n",
       "PC3         -0.01148    0.07258  -0.158  0.87437    \n",
       "PC4         -0.07370    0.07806  -0.944  0.34544    \n",
       "PC5          0.10709    0.08255   1.297  0.19496    \n",
       "PC6          0.19771    0.10250   1.929  0.05417 .  \n",
       "PC7          0.11072    0.11562   0.958  0.33863    \n",
       "PC8          0.08054    0.12502   0.644  0.51965    \n",
       "PC9         -0.66727    0.13835  -4.823 1.74e-06 ***\n",
       "PC10        -0.44816    0.14204  -3.155  0.00167 ** \n",
       "PC11         0.15292    0.16116   0.949  0.34300    \n",
       "PC12        -0.17948    0.16933  -1.060  0.28956    \n",
       "PC13        -0.32839    0.17248  -1.904  0.05734 .  \n",
       "PC14        -0.23522    0.18830  -1.249  0.21201    \n",
       "PC15        -0.06694    0.19243  -0.348  0.72804    \n",
       "---\n",
       "Signif. codes:  0 '***' 0.001 '**' 0.01 '*' 0.05 '.' 0.1 ' ' 1\n",
       "\n",
       "Residual standard error: 22.57 on 692 degrees of freedom\n",
       "Multiple R-squared:  0.07704,\tAdjusted R-squared:  0.05703 \n",
       "F-statistic: 3.851 on 15 and 692 DF,  p-value: 1.216e-06\n"
      ]
     },
     "metadata": {},
     "output_type": "display_data"
    }
   ],
   "source": [
    "linear <- lm(Y ~ .,train.pca)\n",
    "summary(linear)"
   ]
  },
  {
   "cell_type": "markdown",
   "metadata": {},
   "source": [
    "It is already not bad, we will try Lasso/Ridge cv \n",
    "(but we don't think it is good as we already have regularized a lot with the feature reduction)"
   ]
  },
  {
   "cell_type": "code",
   "execution_count": 12,
   "metadata": {},
   "outputs": [
    {
     "name": "stderr",
     "output_type": "stream",
     "text": [
      "Warning message:\n",
      "\"package 'glmnet' was built under R version 3.6.3\"Loading required package: Matrix\n",
      "Loaded glmnet 4.0-2\n"
     ]
    },
    {
     "data": {
      "image/png": "iVBORw0KGgoAAAANSUhEUgAAA0gAAANICAMAAADKOT/pAAAANlBMVEUAAABNTU1oaGh8fHyM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\n",
      "text/plain": [
       "plot without title"
      ]
     },
     "metadata": {},
     "output_type": "display_data"
    }
   ],
   "source": [
    "library(glmnet)\n",
    "cv.lasso <- cv.glmnet(as.matrix(subset(train.pca,select = -Y)),as.matrix(Y),alpha = 0, v_folds = 5)\n",
    "plot(cv.lasso)"
   ]
  },
  {
   "cell_type": "markdown",
   "metadata": {},
   "source": [
    "As expected Lasso may increase the bias \"too much\" "
   ]
  },
  {
   "cell_type": "markdown",
   "metadata": {},
   "source": [
    "Let's explore a GAM to fit the 15 variables (I would think a GAM is not the best method here, a NN may be better but as we have never tested this method, we will try it).\n",
    "\n",
    "The motivation to fit a GAM is that we saw the 3D plot in the PCA_test file, and we want to perform a better fit than just a linear plan that already gave good results)."
   ]
  },
  {
   "cell_type": "markdown",
   "metadata": {},
   "source": [
    "Finally, I won't do the fit because we have to select the nodes manually which is too long."
   ]
  },
  {
   "cell_type": "markdown",
   "metadata": {},
   "source": [
    "### -> NN"
   ]
  },
  {
   "cell_type": "code",
   "execution_count": null,
   "metadata": {},
   "outputs": [],
   "source": [
    "get.scale <- function(scaled) {\n",
    "    if (\"scaled:center\" %in% names(attributes(scaled))) {\n",
    "        center <- attr(scaled, \"scaled:center\")\n",
    "    } else {\n",
    "        center <- rep(0, ncol(scaled))\n",
    "    }\n",
    "    if (\"scaled:scale\" %in% names(attributes(scaled))) {\n",
    "        list(center, attr(scaled, \"scaled:scale\"))\n",
    "    } else {\n",
    "        list(center, rep(1., length(center)))\n",
    "    }\n",
    "}\n",
    "PC.x.scale <- function(x, scaled) {\n",
    "    s <- get.scale(scaled)\n",
    "    centered <- sweep(x, 2, s[[1]])\n",
    "    sweep(centered, 2, s[[2]], FUN = \"/\")\n",
    "}\n",
    "PC.y.scale <- function(y, scaled) {\n",
    "    s <- get.scale(scaled)\n",
    "    (y - s[[1]])/s[[2]]\n",
    "}\n",
    "PC.y.unscale <- function(y, scaled) {\n",
    "    s <- get.scale(scaled)\n",
    "    y * s[[2]] + s[[1]]\n",
    "}"
   ]
  },
  {
   "cell_type": "code",
   "execution_count": null,
   "metadata": {},
   "outputs": [],
   "source": [
    "train.x <- scale(subset(train.pca,select = -Y),center = T, scale = T)\n",
    "train.y <- scale(as.matrix(Y),center = T, scale = T)\n",
    "head(train.x)\n",
    "test.pca <- PC.x.scale(as.matrix(test.pca),train.x)\n",
    "dim(test.pca)\n"
   ]
  },
  {
   "cell_type": "code",
   "execution_count": 15,
   "metadata": {},
   "outputs": [],
   "source": [
    "nn <- keras_model_sequential()\n"
   ]
  },
  {
   "cell_type": "code",
   "execution_count": 32,
   "metadata": {},
   "outputs": [],
   "source": [
    "nn %>%\n",
    "  layer_dense(units = 20, activation = 'relu', input_shape = 15,kernel_regularizer = regularizer_l2(l = .1)) %>%\n",
    "  layer_dense(units = 15, activation = 'relu',kernel_regularizer = regularizer_l2(l = .1))  %>%\n",
    "  layer_dense(units = 10, activation = 'relu',kernel_regularizer = regularizer_l2(l = .1))  %>%\n",
    "  layer_dense(units = 1,activation = 'linear')\n",
    "\n",
    "nn %>% compile(\n",
    "  loss = 'mse',\n",
    "  optimizer = 'adam'\n",
    ")"
   ]
  },
  {
   "cell_type": "code",
   "execution_count": 33,
   "metadata": {},
   "outputs": [
    {
     "name": "stderr",
     "output_type": "stream",
     "text": [
      "`geom_smooth()` using formula 'y ~ x'\n"
     ]
    },
    {
     "data": {
      "image/png": "iVBORw0KGgoAAAANSUhEUgAAA0gAAANICAMAAADKOT/pAAAAP1BMVEUAAAAAv8QzMzNNTU1o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\nIhEiCCIRIsj/Azf3SDq0SSpEAAAAAElFTkSuQmCC",
      "text/plain": [
       "plot without title"
      ]
     },
     "metadata": {},
     "output_type": "display_data"
    }
   ],
   "source": [
    "history <- nn %>% fit(\n",
    "  train.x, train.y, \n",
    "  epochs = 600,\n",
    "  validation_split = 0.2\n",
    "  #,callbacks = callback_early_stopping(monitor = \"val_loss\")\n",
    ")\n",
    "plot(history)"
   ]
  },
  {
   "cell_type": "code",
   "execution_count": 74,
   "metadata": {},
   "outputs": [],
   "source": [
    "nn2 <- keras_model_sequential()\n",
    "\n",
    "#for now best is here with 30,20\n",
    "\n",
    "nn2 %>%\n",
    "  layer_dense(units = 30, activation = 'relu', input_shape = 15,kernel_regularizer = regularizer_l2(l = .1)) %>% \n",
    "  layer_dense(units = 20, activation = 'relu',kernel_regularizer = regularizer_l2(l = .1)) %>% layer_dense(units = 1,activation = 'linear')\n",
    "\n",
    "nn2 %>% compile(\n",
    "  loss = 'mse',\n",
    "  optimizer = 'adam'\n",
    "  ,metric = c('mean_squared_error')\n",
    ")"
   ]
  },
  {
   "cell_type": "code",
   "execution_count": 75,
   "metadata": {},
   "outputs": [
    {
     "name": "stderr",
     "output_type": "stream",
     "text": [
      "`geom_smooth()` using formula 'y ~ x'\n"
     ]
    },
    {
     "data": {
      "image/png": "iVBORw0KGgoAAAANSUhEUgAAA0gAAANICAMAAADKOT/pAAAAP1BMVEUAAAAAv8QzMzNNTU1o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\nRK5CYII=",
      "text/plain": [
       "plot without title"
      ]
     },
     "metadata": {},
     "output_type": "display_data"
    }
   ],
   "source": [
    "history <- nn2 %>% fit(\n",
    "  train.x, train.y, \n",
    "  epochs = 300,\n",
    "  validation_split = 0.2\n",
    ")\n",
    "plot(history)"
   ]
  },
  {
   "cell_type": "markdown",
   "metadata": {},
   "source": [
    "We again use the neural testing function to try to tune the hyperparameters"
   ]
  },
  {
   "cell_type": "code",
   "execution_count": null,
   "metadata": {},
   "outputs": [],
   "source": [
    "Neural_testing <- function(a = c(10,30,100),b = c(10,30,100), regul = c(0.1,0.01), drop = c(0.25,0.5)){\n",
    "    output <- c(1,1,1,1,100)\n",
    "    for(i in a){\n",
    "        for(j in b){\n",
    "            for(z in regul){\n",
    "                for(c in drop){\n",
    "                    nn <- keras_model_sequential()\n",
    "\n",
    "                    nn %>%\n",
    "                     layer_dense(i,kernel_regularizer = regularizer_l2(l = z), activation = \"relu\", input_shape = c(15)) %>%\n",
    "                     layer_dropout(rate = c) %>%\n",
    "                     layer_dense(j, kernel_regularizer = regularizer_l2(l = z), activation = \"relu\") %>%\n",
    "                     layer_dropout(rate = c) %>%\n",
    "                     layer_dense(1, activation = \"linear\")\n",
    "\n",
    "                    nn %>% compile(\n",
    "                      loss = 'mse',\n",
    "                      optimizer = 'adam'\n",
    "                    )\n",
    "\n",
    "                    history <- nn %>% fit(\n",
    "                      train.x, train.y,\n",
    "                      epochs = 1000,\n",
    "                      validation_split = 0.5,\n",
    "                      callbacks = callback_early_stopping(monitor = \"val_loss\", patience = 30)\n",
    "                    )\n",
    "                    x<-history$metrics[2]\n",
    "                    frame <- data.frame(X=x[[1]])\n",
    "                    frame[dim(frame)[1],1]\n",
    "                    cat(\"\\n\",i,j,z,c,frame[dim(frame)[1],1])\n",
    "                    temp <- c(i,j,z,c,frame[dim(frame)[1],1])\n",
    "                    if(temp[5]<output[5]){\n",
    "                        output <- temp\n",
    "                    }\n",
    "                    output\n",
    "                }\n",
    "            }\n",
    "        }\n",
    "    }\n",
    "}"
   ]
  },
  {
   "cell_type": "code",
   "execution_count": 29,
   "metadata": {},
   "outputs": [
    {
     "name": "stdout",
     "output_type": "stream",
     "text": [
      "\n",
      " 10 10 0.1 0.25 1.033015\n",
      " 10 10 0.1 0.5 1.046422\n",
      " 10 10 0.01 0.25 0.9667843\n",
      " 10 10 0.01 0.5 1.002073\n",
      " 10 30 0.1 0.25 1.038555\n",
      " 10 30 0.1 0.5 1.034592\n",
      " 10 30 0.01 0.25 0.9729899\n",
      " 10 30 0.01 0.5 0.9779337\n",
      " 10 100 0.1 0.25 1.040356\n",
      " 10 100 0.1 0.5 1.033279\n",
      " 10 100 0.01 0.25 0.9678621\n",
      " 10 100 0.01 0.5 0.9616452\n",
      " 30 10 0.1 0.25 1.014851\n",
      " 30 10 0.1 0.5 1.030495\n",
      " 30 10 0.01 0.25 0.9716401\n",
      " 30 10 0.01 0.5 0.9570715\n",
      " 30 30 0.1 0.25 1.038387\n",
      " 30 30 0.1 0.5 1.031577\n",
      " 30 30 0.01 0.25 1.031712\n",
      " 30 30 0.01 0.5 0.9501174\n",
      " 30 100 0.1 0.25 1.029529\n",
      " 30 100 0.1 0.5 1.02978\n",
      " 30 100 0.01 0.25 1.00498\n",
      " 30 100 0.01 0.5 0.9895039\n",
      " 100 10 0.1 0.25 1.021989\n",
      " 100 10 0.1 0.5 1.044087\n",
      " 100 10 0.01 0.25 1.002539\n",
      " 100 10 0.01 0.5 0.9711156\n",
      " 100 30 0.1 0.25 1.022693\n",
      " 100 30 0.1 0.5 1.051063\n",
      " 100 30 0.01 0.25 1.036907\n",
      " 100 30 0.01 0.5 0.9986045\n",
      " 100 100 0.1 0.25 0.9909217\n",
      " 100 100 0.1 0.5 1.032252\n",
      " 100 100 0.01 0.25 1.062286\n",
      " 100 100 0.01 0.5 1.006704"
     ]
    }
   ],
   "source": [
    "Neural_testing()"
   ]
  },
  {
   "cell_type": "code",
   "execution_count": 41,
   "metadata": {},
   "outputs": [],
   "source": [
    "nn2 <- keras_model_sequential()\n",
    "\n",
    "#for now best is here with 30,20\n",
    "\n",
    " nn2 %>%\n",
    "     layer_dense(30,kernel_regularizer = regularizer_l2(l = 0.1), activation = \"relu\", input_shape = c(15)) %>%\n",
    "     layer_dropout(rate = 0) %>%\n",
    "     layer_dense(30, kernel_regularizer = regularizer_l2(l = 0.1), activation = \"relu\") %>%\n",
    "     layer_dropout(rate = 0) %>%\n",
    "     layer_dense(1, activation = \"linear\")\n",
    "\n",
    "nn2 %>% compile(\n",
    "  loss = 'mse',\n",
    "  optimizer = 'adam',\n",
    "  metric = c('mean_squared_error')\n",
    ")"
   ]
  },
  {
   "cell_type": "code",
   "execution_count": 44,
   "metadata": {},
   "outputs": [
    {
     "data": {
      "image/png": "iVBORw0KGgoAAAANSUhEUgAAA0gAAANICAMAAADKOT/pAAAAP1BMVEUAAAAAv8QzMzNNTU1o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\nRK5CYII=",
      "text/plain": [
       "plot without title"
      ]
     },
     "metadata": {},
     "output_type": "display_data"
    }
   ],
   "source": [
    "history <- nn2 %>% fit(\n",
    "  train.x, train.y, \n",
    "  epochs = 300,\n",
    "  validation_split = 0.4,\n",
    "  callbacks = callback_early_stopping(monitor = \"val_loss\", patience = 30)\n",
    ")\n",
    "plot(history)"
   ]
  },
  {
   "cell_type": "code",
   "execution_count": 72,
   "metadata": {},
   "outputs": [
    {
     "name": "stderr",
     "output_type": "stream",
     "text": [
      "`geom_smooth()` using formula 'y ~ x'\n"
     ]
    },
    {
     "data": {
      "image/png": "iVBORw0KGgoAAAANSUhEUgAAA0gAAANICAMAAADKOT/pAAAAOVBMVEUAAAAzMzMzZv9NTU1o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",
      "text/plain": [
       "plot without title"
      ]
     },
     "metadata": {},
     "output_type": "display_data"
    }
   ],
   "source": [
    "#train on whole data set\n",
    "history <- nn2 %>% fit(\n",
    "  train.x, train.y, \n",
    "  epochs = 300\n",
    ")\n",
    "plot(history)"
   ]
  },
  {
   "cell_type": "code",
   "execution_count": 73,
   "metadata": {},
   "outputs": [],
   "source": [
    "res.NN2 <- PC.y.unscale(predict(nn2,test.pca),train.y)\n",
    "id <- 1:68\n",
    "final.data <- data.frame(Id = id,VALENCE.PLEASANTNESS = res.NN2)\n",
    "write.csv(final.data,\"../../Submission/NNPC15.csv\",row.names = FALSE)"
   ]
  },
  {
   "cell_type": "markdown",
   "metadata": {},
   "source": [
    "It gave even better results (beating everybody by the way) than the next part which was submitted before"
   ]
  },
  {
   "cell_type": "markdown",
   "metadata": {},
   "source": [
    "### for less variable (2)"
   ]
  },
  {
   "cell_type": "code",
   "execution_count": 253,
   "metadata": {},
   "outputs": [
    {
     "data": {
      "text/html": [
       "<table>\n",
       "<thead><tr><th scope=col>Y</th><th scope=col>PC1</th><th scope=col>PC2</th></tr></thead>\n",
       "<tbody>\n",
       "\t<tr><td>45        </td><td>-48.723237</td><td>10.8534817</td></tr>\n",
       "\t<tr><td>49        </td><td> 11.432127</td><td>14.8223442</td></tr>\n",
       "\t<tr><td>56        </td><td>-61.764487</td><td>20.5903204</td></tr>\n",
       "\t<tr><td> 7        </td><td> 43.383969</td><td>-3.9431539</td></tr>\n",
       "\t<tr><td>51        </td><td>  1.515816</td><td>14.4099668</td></tr>\n",
       "\t<tr><td>21        </td><td>-37.850110</td><td>-0.4825083</td></tr>\n",
       "</tbody>\n",
       "</table>\n"
      ],
      "text/latex": [
       "\\begin{tabular}{r|lll}\n",
       " Y & PC1 & PC2\\\\\n",
       "\\hline\n",
       "\t 45         & -48.723237 & 10.8534817\\\\\n",
       "\t 49         &  11.432127 & 14.8223442\\\\\n",
       "\t 56         & -61.764487 & 20.5903204\\\\\n",
       "\t  7         &  43.383969 & -3.9431539\\\\\n",
       "\t 51         &   1.515816 & 14.4099668\\\\\n",
       "\t 21         & -37.850110 & -0.4825083\\\\\n",
       "\\end{tabular}\n"
      ],
      "text/markdown": [
       "\n",
       "| Y | PC1 | PC2 |\n",
       "|---|---|---|\n",
       "| 45         | -48.723237 | 10.8534817 |\n",
       "| 49         |  11.432127 | 14.8223442 |\n",
       "| 56         | -61.764487 | 20.5903204 |\n",
       "|  7         |  43.383969 | -3.9431539 |\n",
       "| 51         |   1.515816 | 14.4099668 |\n",
       "| 21         | -37.850110 | -0.4825083 |\n",
       "\n"
      ],
      "text/plain": [
       "  Y  PC1        PC2       \n",
       "1 45 -48.723237 10.8534817\n",
       "2 49  11.432127 14.8223442\n",
       "3 56 -61.764487 20.5903204\n",
       "4  7  43.383969 -3.9431539\n",
       "5 51   1.515816 14.4099668\n",
       "6 21 -37.850110 -0.4825083"
      ]
     },
     "metadata": {},
     "output_type": "display_data"
    },
    {
     "data": {
      "text/html": [
       "<ol class=list-inline>\n",
       "\t<li>68</li>\n",
       "\t<li>2</li>\n",
       "</ol>\n"
      ],
      "text/latex": [
       "\\begin{enumerate*}\n",
       "\\item 68\n",
       "\\item 2\n",
       "\\end{enumerate*}\n"
      ],
      "text/markdown": [
       "1. 68\n",
       "2. 2\n",
       "\n",
       "\n"
      ],
      "text/plain": [
       "[1] 68  2"
      ]
     },
     "metadata": {},
     "output_type": "display_data"
    }
   ],
   "source": [
    "train.pca2 <- as.matrix(pca$x[1:nrow(train),1:2])\n",
    "train.pca2 <- data.frame(Y = Y$VALENCE.PLEASANTNESS, train.pca2)\n",
    "train.x2 <- scale(as.matrix(subset(train.pca2,select = -Y)),center = T, scale = T)\n",
    "head(train.pca2)\n",
    "test.pca2 <- PC.x.scale(as.matrix(pca$x[(nrow(train)+1):nrow(full),1:2]),train.x2)\n",
    "dim(test.pca2)"
   ]
  },
  {
   "cell_type": "code",
   "execution_count": 251,
   "metadata": {},
   "outputs": [],
   "source": [
    "nn3 <- keras_model_sequential()\n",
    "\n",
    "nn3 %>%\n",
    "  layer_dense(units = 10, activation = 'relu',kernel_regularizer = regularizer_l2(l = .1), input_shape = 2) %>%\n",
    "  layer_dense(units = 10, activation = 'relu') %>%\n",
    "  layer_dense(units = 1,activation = 'linear')\n",
    "\n",
    "nn3 %>% compile(\n",
    "  loss = 'mean_squared_error',\n",
    "  optimizer = 'adam',\n",
    "  metric = c('mean_squared_error')\n",
    ")"
   ]
  },
  {
   "cell_type": "code",
   "execution_count": 254,
   "metadata": {},
   "outputs": [
    {
     "name": "stderr",
     "output_type": "stream",
     "text": [
      "`geom_smooth()` using formula 'y ~ x'\n"
     ]
    },
    {
     "data": {
      "image/png": "iVBORw0KGgoAAAANSUhEUgAAA0gAAANICAMAAADKOT/pAAAAP1BMVEUAAAAAv8QzMzNNTU1o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\ngxAkCGIQggRBDPo/lSIEBJqSrFkAAAAASUVORK5CYII=",
      "text/plain": [
       "plot without title"
      ]
     },
     "metadata": {},
     "output_type": "display_data"
    }
   ],
   "source": [
    "history <- nn3 %>% fit(\n",
    "  train.x2, train.y, \n",
    "  epochs = 300,\n",
    "  validation_split = 0.2\n",
    ")\n",
    "plot(history)"
   ]
  },
  {
   "cell_type": "code",
   "execution_count": 207,
   "metadata": {},
   "outputs": [],
   "source": [
    "res.NN3 <- PC.y.unscale(predict(nn3,test.pca2),train.y)\n",
    "id <- 1:68\n",
    "final.data <- data.frame(Id = id,VALENCE.PLEASANTNESS = res.NN3)\n",
    "write.csv(final.data,\"../../Submission/NNPC.csv\",row.names = FALSE)"
   ]
  },
  {
   "cell_type": "markdown",
   "metadata": {},
   "source": [
    "Very good results"
   ]
  },
  {
   "cell_type": "markdown",
   "metadata": {},
   "source": [
    "As we saw with the two models above, the one with two \"features\" (the two first PC) has two much bias. By augmenting the number of feature, we make the bias smaller. Let's try to get to more feature than just 15 ! And see if it performs better. "
   ]
  },
  {
   "cell_type": "code",
   "execution_count": 35,
   "metadata": {},
   "outputs": [
    {
     "data": {
      "text/html": [
       "<table>\n",
       "<thead><tr><th scope=col>Y</th><th scope=col>PC1</th><th scope=col>PC2</th><th scope=col>PC3</th><th scope=col>PC4</th><th scope=col>PC5</th><th scope=col>PC6</th><th scope=col>PC7</th><th scope=col>PC8</th><th scope=col>PC9</th><th scope=col>...</th><th scope=col>PC21</th><th scope=col>PC22</th><th scope=col>PC23</th><th scope=col>PC24</th><th scope=col>PC25</th><th scope=col>PC26</th><th scope=col>PC27</th><th scope=col>PC28</th><th scope=col>PC29</th><th scope=col>PC30</th></tr></thead>\n",
       "<tbody>\n",
       "\t<tr><td>45          </td><td>-48.723237  </td><td>10.8534817  </td><td> 17.367649  </td><td>11.240623   </td><td>-13.333519  </td><td>  0.5073267 </td><td>-7.1354987  </td><td> 5.5532193  </td><td>-9.1123185  </td><td>...         </td><td> 2.6823449  </td><td>-2.1459051  </td><td> 3.013308   </td><td>-0.3950239  </td><td> 0.6061113  </td><td>-5.8951767  </td><td> 6.026574   </td><td>-0.08523415 </td><td>-2.5963989  </td><td> 1.438241182</td></tr>\n",
       "\t<tr><td>49          </td><td> 11.432127  </td><td>14.8223442  </td><td> -6.907465  </td><td> 7.255352   </td><td>  9.177159  </td><td>  1.4011855 </td><td>-0.7050395  </td><td> 3.1065242  </td><td>-0.1989913  </td><td>...         </td><td> 4.5742235  </td><td>-3.1380066  </td><td>-2.743657   </td><td> 3.8762258  </td><td>-2.7604750  </td><td>-0.8606083  </td><td>-5.255974   </td><td> 3.60929091 </td><td>-0.1840569  </td><td> 3.118702072</td></tr>\n",
       "\t<tr><td>56          </td><td>-61.764487  </td><td>20.5903204  </td><td>-24.819024  </td><td>-9.113924   </td><td> -9.395881  </td><td>-14.1904510 </td><td>-9.0592211  </td><td> 0.5541924  </td><td>-3.0798689  </td><td>...         </td><td>-2.7823033  </td><td>-0.8768559  </td><td>-1.652028   </td><td> 5.6617609  </td><td>-2.7038927  </td><td>-1.8041032  </td><td>-1.086061   </td><td> 3.06140952 </td><td> 0.6683995  </td><td>-0.008589571</td></tr>\n",
       "\t<tr><td> 7          </td><td> 43.383969  </td><td>-3.9431539  </td><td> 13.476601  </td><td>-9.811184   </td><td>-13.036687  </td><td>-11.1903889 </td><td> 5.1537035  </td><td> 2.0814083  </td><td>-7.3632550  </td><td>...         </td><td> 5.5615343  </td><td>-0.4142082  </td><td>-1.155629   </td><td>-3.9018902  </td><td> 1.8493573  </td><td> 4.9995855  </td><td> 3.943343   </td><td> 1.56108956 </td><td> 3.8390735  </td><td> 5.516889331</td></tr>\n",
       "\t<tr><td>51          </td><td>  1.515816  </td><td>14.4099668  </td><td>  1.703738  </td><td> 6.457316   </td><td>  6.012960  </td><td>  0.9418318 </td><td>-1.9675812  </td><td>-9.2653349  </td><td> 0.2556029  </td><td>...         </td><td>-2.8669677  </td><td> 1.2210582  </td><td>-1.590715   </td><td>-0.4125628  </td><td>-1.4400538  </td><td>-2.8145903  </td><td>-0.722734   </td><td>-2.02583130 </td><td>-2.4826479  </td><td>-2.142150054</td></tr>\n",
       "\t<tr><td>21          </td><td>-37.850110  </td><td>-0.4825083  </td><td>-14.460895  </td><td>-5.135662   </td><td>  3.009908  </td><td> -3.1030880 </td><td> 0.3718760  </td><td> 2.0272810  </td><td>-6.9462825  </td><td>...         </td><td>-0.5758158  </td><td>-0.4467357  </td><td> 2.048269   </td><td> 3.2607286  </td><td>-0.9074037  </td><td>-0.3949247  </td><td> 2.045247   </td><td>-2.70998988 </td><td> 0.5302725  </td><td>-1.605167474</td></tr>\n",
       "</tbody>\n",
       "</table>\n"
      ],
      "text/latex": [
       "\\begin{tabular}{r|lllllllllllllllllllllllllllllll}\n",
       " Y & PC1 & PC2 & PC3 & PC4 & PC5 & PC6 & PC7 & PC8 & PC9 & ... & PC21 & PC22 & PC23 & PC24 & PC25 & PC26 & PC27 & PC28 & PC29 & PC30\\\\\n",
       "\\hline\n",
       "\t 45           & -48.723237   & 10.8534817   &  17.367649   & 11.240623    & -13.333519   &   0.5073267  & -7.1354987   &  5.5532193   & -9.1123185   & ...          &  2.6823449   & -2.1459051   &  3.013308    & -0.3950239   &  0.6061113   & -5.8951767   &  6.026574    & -0.08523415  & -2.5963989   &  1.438241182\\\\\n",
       "\t 49           &  11.432127   & 14.8223442   &  -6.907465   &  7.255352    &   9.177159   &   1.4011855  & -0.7050395   &  3.1065242   & -0.1989913   & ...          &  4.5742235   & -3.1380066   & -2.743657    &  3.8762258   & -2.7604750   & -0.8606083   & -5.255974    &  3.60929091  & -0.1840569   &  3.118702072\\\\\n",
       "\t 56           & -61.764487   & 20.5903204   & -24.819024   & -9.113924    &  -9.395881   & -14.1904510  & -9.0592211   &  0.5541924   & -3.0798689   & ...          & -2.7823033   & -0.8768559   & -1.652028    &  5.6617609   & -2.7038927   & -1.8041032   & -1.086061    &  3.06140952  &  0.6683995   & -0.008589571\\\\\n",
       "\t  7           &  43.383969   & -3.9431539   &  13.476601   & -9.811184    & -13.036687   & -11.1903889  &  5.1537035   &  2.0814083   & -7.3632550   & ...          &  5.5615343   & -0.4142082   & -1.155629    & -3.9018902   &  1.8493573   &  4.9995855   &  3.943343    &  1.56108956  &  3.8390735   &  5.516889331\\\\\n",
       "\t 51           &   1.515816   & 14.4099668   &   1.703738   &  6.457316    &   6.012960   &   0.9418318  & -1.9675812   & -9.2653349   &  0.2556029   & ...          & -2.8669677   &  1.2210582   & -1.590715    & -0.4125628   & -1.4400538   & -2.8145903   & -0.722734    & -2.02583130  & -2.4826479   & -2.142150054\\\\\n",
       "\t 21           & -37.850110   & -0.4825083   & -14.460895   & -5.135662    &   3.009908   &  -3.1030880  &  0.3718760   &  2.0272810   & -6.9462825   & ...          & -0.5758158   & -0.4467357   &  2.048269    &  3.2607286   & -0.9074037   & -0.3949247   &  2.045247    & -2.70998988  &  0.5302725   & -1.605167474\\\\\n",
       "\\end{tabular}\n"
      ],
      "text/markdown": [
       "\n",
       "| Y | PC1 | PC2 | PC3 | PC4 | PC5 | PC6 | PC7 | PC8 | PC9 | ... | PC21 | PC22 | PC23 | PC24 | PC25 | PC26 | PC27 | PC28 | PC29 | PC30 |\n",
       "|---|---|---|---|---|---|---|---|---|---|---|---|---|---|---|---|---|---|---|---|---|\n",
       "| 45           | -48.723237   | 10.8534817   |  17.367649   | 11.240623    | -13.333519   |   0.5073267  | -7.1354987   |  5.5532193   | -9.1123185   | ...          |  2.6823449   | -2.1459051   |  3.013308    | -0.3950239   |  0.6061113   | -5.8951767   |  6.026574    | -0.08523415  | -2.5963989   |  1.438241182 |\n",
       "| 49           |  11.432127   | 14.8223442   |  -6.907465   |  7.255352    |   9.177159   |   1.4011855  | -0.7050395   |  3.1065242   | -0.1989913   | ...          |  4.5742235   | -3.1380066   | -2.743657    |  3.8762258   | -2.7604750   | -0.8606083   | -5.255974    |  3.60929091  | -0.1840569   |  3.118702072 |\n",
       "| 56           | -61.764487   | 20.5903204   | -24.819024   | -9.113924    |  -9.395881   | -14.1904510  | -9.0592211   |  0.5541924   | -3.0798689   | ...          | -2.7823033   | -0.8768559   | -1.652028    |  5.6617609   | -2.7038927   | -1.8041032   | -1.086061    |  3.06140952  |  0.6683995   | -0.008589571 |\n",
       "|  7           |  43.383969   | -3.9431539   |  13.476601   | -9.811184    | -13.036687   | -11.1903889  |  5.1537035   |  2.0814083   | -7.3632550   | ...          |  5.5615343   | -0.4142082   | -1.155629    | -3.9018902   |  1.8493573   |  4.9995855   |  3.943343    |  1.56108956  |  3.8390735   |  5.516889331 |\n",
       "| 51           |   1.515816   | 14.4099668   |   1.703738   |  6.457316    |   6.012960   |   0.9418318  | -1.9675812   | -9.2653349   |  0.2556029   | ...          | -2.8669677   |  1.2210582   | -1.590715    | -0.4125628   | -1.4400538   | -2.8145903   | -0.722734    | -2.02583130  | -2.4826479   | -2.142150054 |\n",
       "| 21           | -37.850110   | -0.4825083   | -14.460895   | -5.135662    |   3.009908   |  -3.1030880  |  0.3718760   |  2.0272810   | -6.9462825   | ...          | -0.5758158   | -0.4467357   |  2.048269    |  3.2607286   | -0.9074037   | -0.3949247   |  2.045247    | -2.70998988  |  0.5302725   | -1.605167474 |\n",
       "\n"
      ],
      "text/plain": [
       "  Y  PC1        PC2        PC3        PC4       PC5        PC6        \n",
       "1 45 -48.723237 10.8534817  17.367649 11.240623 -13.333519   0.5073267\n",
       "2 49  11.432127 14.8223442  -6.907465  7.255352   9.177159   1.4011855\n",
       "3 56 -61.764487 20.5903204 -24.819024 -9.113924  -9.395881 -14.1904510\n",
       "4  7  43.383969 -3.9431539  13.476601 -9.811184 -13.036687 -11.1903889\n",
       "5 51   1.515816 14.4099668   1.703738  6.457316   6.012960   0.9418318\n",
       "6 21 -37.850110 -0.4825083 -14.460895 -5.135662   3.009908  -3.1030880\n",
       "  PC7        PC8        PC9        ... PC21       PC22       PC23     \n",
       "1 -7.1354987  5.5532193 -9.1123185 ...  2.6823449 -2.1459051  3.013308\n",
       "2 -0.7050395  3.1065242 -0.1989913 ...  4.5742235 -3.1380066 -2.743657\n",
       "3 -9.0592211  0.5541924 -3.0798689 ... -2.7823033 -0.8768559 -1.652028\n",
       "4  5.1537035  2.0814083 -7.3632550 ...  5.5615343 -0.4142082 -1.155629\n",
       "5 -1.9675812 -9.2653349  0.2556029 ... -2.8669677  1.2210582 -1.590715\n",
       "6  0.3718760  2.0272810 -6.9462825 ... -0.5758158 -0.4467357  2.048269\n",
       "  PC24       PC25       PC26       PC27      PC28        PC29      \n",
       "1 -0.3950239  0.6061113 -5.8951767  6.026574 -0.08523415 -2.5963989\n",
       "2  3.8762258 -2.7604750 -0.8606083 -5.255974  3.60929091 -0.1840569\n",
       "3  5.6617609 -2.7038927 -1.8041032 -1.086061  3.06140952  0.6683995\n",
       "4 -3.9018902  1.8493573  4.9995855  3.943343  1.56108956  3.8390735\n",
       "5 -0.4125628 -1.4400538 -2.8145903 -0.722734 -2.02583130 -2.4826479\n",
       "6  3.2607286 -0.9074037 -0.3949247  2.045247 -2.70998988  0.5302725\n",
       "  PC30        \n",
       "1  1.438241182\n",
       "2  3.118702072\n",
       "3 -0.008589571\n",
       "4  5.516889331\n",
       "5 -2.142150054\n",
       "6 -1.605167474"
      ]
     },
     "metadata": {},
     "output_type": "display_data"
    },
    {
     "data": {
      "text/html": [
       "<ol class=list-inline>\n",
       "\t<li>68</li>\n",
       "\t<li>30</li>\n",
       "</ol>\n"
      ],
      "text/latex": [
       "\\begin{enumerate*}\n",
       "\\item 68\n",
       "\\item 30\n",
       "\\end{enumerate*}\n"
      ],
      "text/markdown": [
       "1. 68\n",
       "2. 30\n",
       "\n",
       "\n"
      ],
      "text/plain": [
       "[1] 68 30"
      ]
     },
     "metadata": {},
     "output_type": "display_data"
    },
    {
     "data": {
      "text/html": [
       "<table>\n",
       "<thead><tr><th scope=col>PC1</th><th scope=col>PC2</th><th scope=col>PC3</th><th scope=col>PC4</th><th scope=col>PC5</th><th scope=col>PC6</th><th scope=col>PC7</th><th scope=col>PC8</th><th scope=col>PC9</th><th scope=col>PC10</th><th scope=col>...</th><th scope=col>PC21</th><th scope=col>PC22</th><th scope=col>PC23</th><th scope=col>PC24</th><th scope=col>PC25</th><th scope=col>PC26</th><th scope=col>PC27</th><th scope=col>PC28</th><th scope=col>PC29</th><th scope=col>PC30</th></tr></thead>\n",
       "<tbody>\n",
       "\t<tr><td>-1.47042000 </td><td> 0.56959918 </td><td> 1.4758617  </td><td> 1.0096121  </td><td>-1.3012311  </td><td> 0.0483318  </td><td>-0.99603325 </td><td> 0.81052316 </td><td>-1.49367748 </td><td> 1.2248549  </td><td>...         </td><td> 0.8258396  </td><td>-0.6426523  </td><td> 0.9520015  </td><td>-0.1155274  </td><td> 0.1921613  </td><td>-1.9911142  </td><td> 2.0810728  </td><td>-0.03658123 </td><td>-0.91280168 </td><td> 0.516437178</td></tr>\n",
       "\t<tr><td> 0.33667557 </td><td> 0.77678314 </td><td>-0.5976901  </td><td> 0.6434535  </td><td> 0.8832936  </td><td> 0.1559903  </td><td>-0.12060208 </td><td> 0.45047219 </td><td>-0.04266926 </td><td>-1.1876481  </td><td>...         </td><td> 1.3965189  </td><td>-0.9447480  </td><td>-0.8631274  </td><td> 1.2717137  </td><td>-0.9031427  </td><td>-0.2887100  </td><td>-1.8201363  </td><td> 1.26106057 </td><td>-0.04590168 </td><td> 1.120654183</td></tr>\n",
       "\t<tr><td>-1.86218531 </td><td> 1.07788507 </td><td>-2.1276745  </td><td>-0.8605217  </td><td>-0.9191073  </td><td>-1.7219035  </td><td>-1.25792538 </td><td> 0.07487593 </td><td>-0.51164981 </td><td> 0.4746958  </td><td>...         </td><td>-0.8225547  </td><td>-0.2562257  </td><td>-0.5189447  </td><td> 1.8516301  </td><td>-0.8847339  </td><td>-0.6077463  </td><td>-0.3782898  </td><td> 1.06862614 </td><td> 0.26043733 </td><td>-0.003777097</td></tr>\n",
       "\t<tr><td> 1.29652402 </td><td>-0.20282000 </td><td> 1.1434930  </td><td>-0.9245845  </td><td>-1.2724254  </td><td>-1.3605689  </td><td> 0.67699670 </td><td> 0.29961809 </td><td>-1.20894593 </td><td>-0.2207807  </td><td>...         </td><td> 1.6943382  </td><td>-0.1153491  </td><td>-0.3624339  </td><td>-1.2545076  </td><td> 0.5966459  </td><td> 1.6928735  </td><td> 1.3607464  </td><td> 0.54166318 </td><td> 1.39985171 </td><td> 1.982932818</td></tr>\n",
       "\t<tr><td> 0.03878489 </td><td> 0.75525607 </td><td> 0.1378688  </td><td> 0.5701316  </td><td> 0.5762273  </td><td> 0.1006646  </td><td>-0.29248224 </td><td>-1.37014695 </td><td> 0.03133454 </td><td>-0.5832976  </td><td>...         </td><td>-0.8480935  </td><td> 0.3825909  </td><td>-0.4996133  </td><td>-0.1212238  </td><td>-0.4735495  </td><td>-0.9494354  </td><td>-0.2526608  </td><td>-0.71818440 </td><td>-0.87192409 </td><td>-0.770908027</td></tr>\n",
       "\t<tr><td>-1.14378613 </td><td>-0.02216616 </td><td>-1.2428952  </td><td>-0.4950072  </td><td> 0.2847993  </td><td>-0.3865151  </td><td> 0.02600727 </td><td> 0.29165282 </td><td>-1.14106662 </td><td> 0.7836801  </td><td>...         </td><td>-0.1569746  </td><td>-0.1252537  </td><td> 0.6477318  </td><td> 1.0718090  </td><td>-0.3002541  </td><td>-0.1312424  </td><td> 0.7044343  </td><td>-0.95848396 </td><td> 0.21079995 </td><td>-0.577833610</td></tr>\n",
       "</tbody>\n",
       "</table>\n"
      ],
      "text/latex": [
       "\\begin{tabular}{r|llllllllllllllllllllllllllllll}\n",
       " PC1 & PC2 & PC3 & PC4 & PC5 & PC6 & PC7 & PC8 & PC9 & PC10 & ... & PC21 & PC22 & PC23 & PC24 & PC25 & PC26 & PC27 & PC28 & PC29 & PC30\\\\\n",
       "\\hline\n",
       "\t -1.47042000  &  0.56959918  &  1.4758617   &  1.0096121   & -1.3012311   &  0.0483318   & -0.99603325  &  0.81052316  & -1.49367748  &  1.2248549   & ...          &  0.8258396   & -0.6426523   &  0.9520015   & -0.1155274   &  0.1921613   & -1.9911142   &  2.0810728   & -0.03658123  & -0.91280168  &  0.516437178\\\\\n",
       "\t  0.33667557  &  0.77678314  & -0.5976901   &  0.6434535   &  0.8832936   &  0.1559903   & -0.12060208  &  0.45047219  & -0.04266926  & -1.1876481   & ...          &  1.3965189   & -0.9447480   & -0.8631274   &  1.2717137   & -0.9031427   & -0.2887100   & -1.8201363   &  1.26106057  & -0.04590168  &  1.120654183\\\\\n",
       "\t -1.86218531  &  1.07788507  & -2.1276745   & -0.8605217   & -0.9191073   & -1.7219035   & -1.25792538  &  0.07487593  & -0.51164981  &  0.4746958   & ...          & -0.8225547   & -0.2562257   & -0.5189447   &  1.8516301   & -0.8847339   & -0.6077463   & -0.3782898   &  1.06862614  &  0.26043733  & -0.003777097\\\\\n",
       "\t  1.29652402  & -0.20282000  &  1.1434930   & -0.9245845   & -1.2724254   & -1.3605689   &  0.67699670  &  0.29961809  & -1.20894593  & -0.2207807   & ...          &  1.6943382   & -0.1153491   & -0.3624339   & -1.2545076   &  0.5966459   &  1.6928735   &  1.3607464   &  0.54166318  &  1.39985171  &  1.982932818\\\\\n",
       "\t  0.03878489  &  0.75525607  &  0.1378688   &  0.5701316   &  0.5762273   &  0.1006646   & -0.29248224  & -1.37014695  &  0.03133454  & -0.5832976   & ...          & -0.8480935   &  0.3825909   & -0.4996133   & -0.1212238   & -0.4735495   & -0.9494354   & -0.2526608   & -0.71818440  & -0.87192409  & -0.770908027\\\\\n",
       "\t -1.14378613  & -0.02216616  & -1.2428952   & -0.4950072   &  0.2847993   & -0.3865151   &  0.02600727  &  0.29165282  & -1.14106662  &  0.7836801   & ...          & -0.1569746   & -0.1252537   &  0.6477318   &  1.0718090   & -0.3002541   & -0.1312424   &  0.7044343   & -0.95848396  &  0.21079995  & -0.577833610\\\\\n",
       "\\end{tabular}\n"
      ],
      "text/markdown": [
       "\n",
       "| PC1 | PC2 | PC3 | PC4 | PC5 | PC6 | PC7 | PC8 | PC9 | PC10 | ... | PC21 | PC22 | PC23 | PC24 | PC25 | PC26 | PC27 | PC28 | PC29 | PC30 |\n",
       "|---|---|---|---|---|---|---|---|---|---|---|---|---|---|---|---|---|---|---|---|---|\n",
       "| -1.47042000  |  0.56959918  |  1.4758617   |  1.0096121   | -1.3012311   |  0.0483318   | -0.99603325  |  0.81052316  | -1.49367748  |  1.2248549   | ...          |  0.8258396   | -0.6426523   |  0.9520015   | -0.1155274   |  0.1921613   | -1.9911142   |  2.0810728   | -0.03658123  | -0.91280168  |  0.516437178 |\n",
       "|  0.33667557  |  0.77678314  | -0.5976901   |  0.6434535   |  0.8832936   |  0.1559903   | -0.12060208  |  0.45047219  | -0.04266926  | -1.1876481   | ...          |  1.3965189   | -0.9447480   | -0.8631274   |  1.2717137   | -0.9031427   | -0.2887100   | -1.8201363   |  1.26106057  | -0.04590168  |  1.120654183 |\n",
       "| -1.86218531  |  1.07788507  | -2.1276745   | -0.8605217   | -0.9191073   | -1.7219035   | -1.25792538  |  0.07487593  | -0.51164981  |  0.4746958   | ...          | -0.8225547   | -0.2562257   | -0.5189447   |  1.8516301   | -0.8847339   | -0.6077463   | -0.3782898   |  1.06862614  |  0.26043733  | -0.003777097 |\n",
       "|  1.29652402  | -0.20282000  |  1.1434930   | -0.9245845   | -1.2724254   | -1.3605689   |  0.67699670  |  0.29961809  | -1.20894593  | -0.2207807   | ...          |  1.6943382   | -0.1153491   | -0.3624339   | -1.2545076   |  0.5966459   |  1.6928735   |  1.3607464   |  0.54166318  |  1.39985171  |  1.982932818 |\n",
       "|  0.03878489  |  0.75525607  |  0.1378688   |  0.5701316   |  0.5762273   |  0.1006646   | -0.29248224  | -1.37014695  |  0.03133454  | -0.5832976   | ...          | -0.8480935   |  0.3825909   | -0.4996133   | -0.1212238   | -0.4735495   | -0.9494354   | -0.2526608   | -0.71818440  | -0.87192409  | -0.770908027 |\n",
       "| -1.14378613  | -0.02216616  | -1.2428952   | -0.4950072   |  0.2847993   | -0.3865151   |  0.02600727  |  0.29165282  | -1.14106662  |  0.7836801   | ...          | -0.1569746   | -0.1252537   |  0.6477318   |  1.0718090   | -0.3002541   | -0.1312424   |  0.7044343   | -0.95848396  |  0.21079995  | -0.577833610 |\n",
       "\n"
      ],
      "text/plain": [
       "  PC1         PC2         PC3        PC4        PC5        PC6       \n",
       "1 -1.47042000  0.56959918  1.4758617  1.0096121 -1.3012311  0.0483318\n",
       "2  0.33667557  0.77678314 -0.5976901  0.6434535  0.8832936  0.1559903\n",
       "3 -1.86218531  1.07788507 -2.1276745 -0.8605217 -0.9191073 -1.7219035\n",
       "4  1.29652402 -0.20282000  1.1434930 -0.9245845 -1.2724254 -1.3605689\n",
       "5  0.03878489  0.75525607  0.1378688  0.5701316  0.5762273  0.1006646\n",
       "6 -1.14378613 -0.02216616 -1.2428952 -0.4950072  0.2847993 -0.3865151\n",
       "  PC7         PC8         PC9         PC10       ... PC21       PC22      \n",
       "1 -0.99603325  0.81052316 -1.49367748  1.2248549 ...  0.8258396 -0.6426523\n",
       "2 -0.12060208  0.45047219 -0.04266926 -1.1876481 ...  1.3965189 -0.9447480\n",
       "3 -1.25792538  0.07487593 -0.51164981  0.4746958 ... -0.8225547 -0.2562257\n",
       "4  0.67699670  0.29961809 -1.20894593 -0.2207807 ...  1.6943382 -0.1153491\n",
       "5 -0.29248224 -1.37014695  0.03133454 -0.5832976 ... -0.8480935  0.3825909\n",
       "6  0.02600727  0.29165282 -1.14106662  0.7836801 ... -0.1569746 -0.1252537\n",
       "  PC23       PC24       PC25       PC26       PC27       PC28       \n",
       "1  0.9520015 -0.1155274  0.1921613 -1.9911142  2.0810728 -0.03658123\n",
       "2 -0.8631274  1.2717137 -0.9031427 -0.2887100 -1.8201363  1.26106057\n",
       "3 -0.5189447  1.8516301 -0.8847339 -0.6077463 -0.3782898  1.06862614\n",
       "4 -0.3624339 -1.2545076  0.5966459  1.6928735  1.3607464  0.54166318\n",
       "5 -0.4996133 -0.1212238 -0.4735495 -0.9494354 -0.2526608 -0.71818440\n",
       "6  0.6477318  1.0718090 -0.3002541 -0.1312424  0.7044343 -0.95848396\n",
       "  PC29        PC30        \n",
       "1 -0.91280168  0.516437178\n",
       "2 -0.04590168  1.120654183\n",
       "3  0.26043733 -0.003777097\n",
       "4  1.39985171  1.982932818\n",
       "5 -0.87192409 -0.770908027\n",
       "6  0.21079995 -0.577833610"
      ]
     },
     "metadata": {},
     "output_type": "display_data"
    },
    {
     "data": {
      "text/html": [
       "<ol class=list-inline>\n",
       "\t<li>68</li>\n",
       "\t<li>30</li>\n",
       "</ol>\n"
      ],
      "text/latex": [
       "\\begin{enumerate*}\n",
       "\\item 68\n",
       "\\item 30\n",
       "\\end{enumerate*}\n"
      ],
      "text/markdown": [
       "1. 68\n",
       "2. 30\n",
       "\n",
       "\n"
      ],
      "text/plain": [
       "[1] 68 30"
      ]
     },
     "metadata": {},
     "output_type": "display_data"
    }
   ],
   "source": [
    "#Get the data in the new basis\n",
    "train.pca30 <- as.matrix(pca$x[1:nrow(train),1:30])\n",
    "\n",
    "train.pca30 <- data.frame(Y = Y$VALENCE.PLEASANTNESS, train.pca30)\n",
    "head(train.pca30)\n",
    "test.pca30 <- pca$x[(nrow(train)+1):nrow(full),1:30]\n",
    "dim(test.pca30)\n",
    "train.x30 <- scale(subset(train.pca30,select = -Y),center = T, scale = T)\n",
    "head(train.x30)\n",
    "test.pca30 <- PC.x.scale(as.matrix(test.pca30),train.x30)\n",
    "dim(test.pca30)\n"
   ]
  },
  {
   "cell_type": "code",
   "execution_count": 147,
   "metadata": {},
   "outputs": [],
   "source": [
    "set.seed(16)\n",
    "nn4 <- keras_model_sequential()\n",
    "\n",
    "nn4 %>%\n",
    "  layer_dense(units = 30, activation = 'relu',kernel_regularizer = regularizer_l2(l = .1), input_shape = 30) %>%\n",
    "  layer_dense(units = 20, activation = 'relu',kernel_regularizer = regularizer_l2(l = .1)) %>%\n",
    "  #layer_dense(units = 20, activation = 'relu',kernel_regularizer = regularizer_l2(l = .1)) %>%\n",
    "  layer_dense(units = 1,activation = 'linear')\n",
    "\n",
    "nn4 %>% compile(\n",
    "  loss = 'mean_squared_error',\n",
    "  optimizer = 'adam',\n",
    "  metric = c('mean_squared_error')\n",
    ")"
   ]
  },
  {
   "cell_type": "code",
   "execution_count": 101,
   "metadata": {},
   "outputs": [
    {
     "name": "stderr",
     "output_type": "stream",
     "text": [
      "`geom_smooth()` using formula 'y ~ x'\n"
     ]
    },
    {
     "data": {
      "image/png": "iVBORw0KGgoAAAANSUhEUgAAA0gAAANICAMAAADKOT/pAAAAP1BMVEUAAAAAv8QzMzNNTU1o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",
      "text/plain": [
       "plot without title"
      ]
     },
     "metadata": {},
     "output_type": "display_data"
    }
   ],
   "source": [
    "history <- nn4 %>% fit(\n",
    "  train.x30, train.y, \n",
    "  epochs = 200,\n",
    "  validation_split = 0.2\n",
    ")\n",
    "plot(history)"
   ]
  },
  {
   "cell_type": "markdown",
   "metadata": {},
   "source": [
    "Let's try to do early stopping !"
   ]
  },
  {
   "cell_type": "code",
   "execution_count": 148,
   "metadata": {},
   "outputs": [
    {
     "name": "stderr",
     "output_type": "stream",
     "text": [
      "`geom_smooth()` using formula 'y ~ x'\n"
     ]
    },
    {
     "data": {
      "image/png": "iVBORw0KGgoAAAANSUhEUgAAA0gAAANICAMAAADKOT/pAAAAP1BMVEUAAAAAv8QzMzNNTU1o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\nFEFisRSKILFYCkWQWCyFIkgslkL9Hzjf/cnk8TlCAAAAAElFTkSuQmCC",
      "text/plain": [
       "plot without title"
      ]
     },
     "metadata": {},
     "output_type": "display_data"
    }
   ],
   "source": [
    "history <- nn4 %>% fit(\n",
    "  train.x30, train.y, \n",
    "  epochs = 300,\n",
    "  validation_split = 0.1\n",
    "  ,callbacks = callback_early_stopping(monitor = \"val_loss\",patience = 8)\n",
    ")\n",
    "plot(history)\n"
   ]
  },
  {
   "cell_type": "code",
   "execution_count": 149,
   "metadata": {},
   "outputs": [],
   "source": [
    "res.NN4 <- PC.y.unscale(predict(nn4,test.pca30),train.y)\n",
    "id <- 1:68\n",
    "final.data <- data.frame(Id = id,VALENCE.PLEASANTNESS = res.NN4)\n",
    "write.csv(final.data,\"../../Submission/NNPC30.csv\",row.names = FALSE)"
   ]
  },
  {
   "cell_type": "markdown",
   "metadata": {},
   "source": [
    "It turned out to be too flexible on the test set we think ! "
   ]
  },
  {
   "cell_type": "markdown",
   "metadata": {},
   "source": [
    "Finally, I think we could try something else on the PC data -> Random Forest. We saw that it was performing not so bad on raw data (better than NN) because it reduces variance.\n",
    "We will actually perform bagging, as our variable are already limited and spcifically chosen "
   ]
  },
  {
   "cell_type": "code",
   "execution_count": 152,
   "metadata": {},
   "outputs": [
    {
     "name": "stderr",
     "output_type": "stream",
     "text": [
      "randomForest 4.6-14\n",
      "Type rfNews() to see new features/changes/bug fixes.\n",
      "\n",
      "Attaching package: 'randomForest'\n",
      "\n",
      "The following object is masked from 'package:ggplot2':\n",
      "\n",
      "    margin\n",
      "\n"
     ]
    }
   ],
   "source": [
    "library(randomForest)"
   ]
  },
  {
   "cell_type": "code",
   "execution_count": 241,
   "metadata": {},
   "outputs": [],
   "source": [
    "#first rapid try\n",
    "id <- sample(nrow(train.pca),nrow(train.pca)*0.8)\n",
    "t <- train.pca[id,]\n",
    "val <- train.pca[-id,]\n",
    "\n",
    "rf <- randomForest(Y ~ ., t, mtry = 15, ntree = 500, maxnodes = 50) \n"
   ]
  },
  {
   "cell_type": "code",
   "execution_count": 242,
   "metadata": {},
   "outputs": [
    {
     "name": "stdout",
     "output_type": "stream",
     "text": [
      "\n",
      "Call:\n",
      " randomForest(formula = Y ~ ., data = t, mtry = 15, ntree = 500,      maxnodes = 50) \n",
      "               Type of random forest: regression\n",
      "                     Number of trees: 500\n",
      "No. of variables tried at each split: 15\n",
      "\n",
      "          Mean of squared residuals: 457.0142\n",
      "                    % Var explained: 13.03\n"
     ]
    },
    {
     "data": {
      "text/html": [
       "<dl class=dl-horizontal>\n",
       "\t<dt>9</dt>\n",
       "\t\t<dd>47.7374110879266</dd>\n",
       "\t<dt>10</dt>\n",
       "\t\t<dd>18.6582924837588</dd>\n",
       "\t<dt>14</dt>\n",
       "\t\t<dd>41.6917071231888</dd>\n",
       "\t<dt>25</dt>\n",
       "\t\t<dd>59.4414917894859</dd>\n",
       "\t<dt>29</dt>\n",
       "\t\t<dd>35.2221774348658</dd>\n",
       "\t<dt>33</dt>\n",
       "\t\t<dd>53.517499710392</dd>\n",
       "</dl>\n"
      ],
      "text/latex": [
       "\\begin{description*}\n",
       "\\item[9] 47.7374110879266\n",
       "\\item[10] 18.6582924837588\n",
       "\\item[14] 41.6917071231888\n",
       "\\item[25] 59.4414917894859\n",
       "\\item[29] 35.2221774348658\n",
       "\\item[33] 53.517499710392\n",
       "\\end{description*}\n"
      ],
      "text/markdown": [
       "9\n",
       ":   47.737411087926610\n",
       ":   18.658292483758814\n",
       ":   41.691707123188825\n",
       ":   59.441491789485929\n",
       ":   35.222177434865833\n",
       ":   53.517499710392\n",
       "\n"
      ],
      "text/plain": [
       "       9       10       14       25       29       33 \n",
       "47.73741 18.65829 41.69171 59.44149 35.22218 53.51750 "
      ]
     },
     "metadata": {},
     "output_type": "display_data"
    },
    {
     "data": {
      "image/png": "iVBORw0KGgoAAAANSUhEUgAAA0gAAANICAMAAADKOT/pAAAAMFBMVEUAAABNTU1oaGh8fHyM\njIyampqnp6eysrK9vb3Hx8fQ0NDZ2dnh4eHp6enw8PD////QFLu4AAAACXBIWXMAABJ0AAAS\ndAHeZh94AAAV4UlEQVR4nO3d7ULaShSG0QnEiMjH/d/tkSiKrYcqvEwmuNaPFmvLHsWnQDJi\n2QNXK1MvAO6BkCBASBAgJAgQEgQICQKEBAFCggAhQYCQIEBIECAkCBASBAgJAoQEAUKCACFB\ngJAgQEgQICQIEBIECAkChAQBQoIAIUGAkCBASBAgJAgQEgQICQKEBAFCggAhQYCQIEBIECAk\nCBASBAgJAoQEAUKCACFBgJBm7bEr5WHqRbAX0rw9liKkNghpzhalbKZeAyMhzdnL/dHUS+CV\nG2KGXvrZLsogpIa4IWbopZ+XB3XL8mrq1XDgZpih14CehNQQN8MMvdSz3L1dmHotvHJDzNBL\nP+vjhYmXwhs3xAy99LM7Xph4KbxxQ8zQez9CaoYbYoaE1B43xAwJqT1uiBkSUnvcEDMkpPa4\nIWZISO1xQ8yQkNrjhoAAIUGAkCBASBAgJAgQEgQICQKEBAFCggAhQYCQIEBIECAkCBASBAgJ\nAoQEAUKCACFBgJAgQEgQICQIEBIECAkChAQBQoIAIUGAkCBASBAgJAgQEgQICQKEBAFCggAh\nQYCQIEBIECAkCBASBAgJAiqEVGBmLvgqz4czwQhIEhIECAkChAQBQoIAIUGAkCBASBAgJAgQ\nEgQICQKEBAFCggAhQYCQIEBIECAkCBASBAgJAoQEAUKCACFBwMxCUhhtEhIECAkChAQBQoIA\nIUGAkCBASBAgJAgQEgRUDen5sR9/JlM/PF84Qki0qWJIu8XJzzdbXjZCSLSpYkhD6Z4246Xt\nuivDRSOERJsqhtSVzfvlTekuGiEk2lQxpE8/r/b8D68VEjPjHgkC6j5HWm/HS54jcW9qHv5e\nnhy1W+wuGiEk2lT3PNIwnkfq+kfnkbgvdjZAgJAgwBYhCLBFCAJsEYIAJ2QhoJ0tQuVUejbc\nlnskCLBFCAJsEYIAW4QgwM4GCBASBNQ8/N394wHdN0YIiTZVPY9U+rOHGL4xQki0qWpIh6Pe\n30pJSMxM3Z0Nu76Uh/UVI4REm2pvEdocDoD3q835OyYhMTP199pthu7sdrqzI4REmybZtLpZ\n9QshcU+m2v194Qgh0SYhQYCdDRAgJAgQEgQICQKEBAFCggAhQYCQIEBIECAkCBASBAgJAoQE\nAUKCgJmFpCTaJCQIEBIECAkChAQBQoIAIUGAkCBASBAgJAgQEgQICQKEBAFCggAhQYCQIEBI\nECAkCBASBAgJAoQEAUKCACFBgJAgQEgQICQIEBIECAkChAQBQoIAIUGAkCBASBAgJAgQEgQI\nCQKEBAFCggAhQYCQIEBIECAkCBASBAgJAoQEAUKCACFBgJAgQEgQICQIEBIECAkChAQBQoIA\nIUGAkCBASBAgJAgQEgQICQKEBAFCggAhQYCQIEBIECAkCBASBFQN6fmxLwf98HzpCCHRpIoh\n7Rblw/LCEUKiSRVDGkr3tBkvbdddGS4bISSaVDGkrmzeL29Kd9kIIdGkiiGV8n9v/GCEkGiS\neyQIqPscab0dL3mOxL2pefh7eXLUbrG7bISQaFLd80jDeB6p6x+dR+K+2NkAAUKCgPohrRal\n9OtLRwiJJlU/j/R2xOHsQTshMTe1QxrKsNvvt0NZXTZCSDSpdkhdGY9778rishFCokm1Qzpu\nDfp7i1A5FR8ON1U7pIdjSLYIcU+qhtQ/rtbl6eXibrBFiLtSNaT3h22ldLYIcU9qnkfabFar\nvh8POQxnOxISc2NnAwQICQJqhrQbDofqHhelLJ8uHSEkmlQxpG1Xyn7XeRUh7lDFkB5Kv3v5\n5WH70tSDw9/claqHv3dvvxy2CDkhyz2pv9fu5I0LRgiJJlV9aLfZ7x9fX0pod/5JkpCYmYoh\nbUo3bPZ991LSelHOfmufkJiZmoe/193H9u7HC0cIiSbVPSH79DC+kH7/uL10hJBokp0NECAk\nCBASBAgJAoQEAUKCACFBgJAgQEgQICQIEBIECAkC5haSkmiSkCBASBAgJAgQEgQICQKEBAFC\nggAhQYCQIEBIECAkCBASBAgJAoQEAUKCACFBwPxCUhINEhIECAkChAQBQoIAIUGAkCBASBAg\nJAgQEgQICQKEBAFCggAhQYCQIEBIECAkCBASBAgJAoQEAUKCACFBgJAgQEgQICQIEBIECAkC\nhAQBQoIAIUGAkCBASBAgJAgQEgQICQKEBAFCggAhQcDsQqoxHn5KSBAgJAiYX0hKokFCggAh\nQYCQIEBIECAkCBASBAgJAoQEAUKCACFBgJAgoGpIz499OeiH5ytGCIn2VAxptygflpePEBLt\nqRjSULqnzXhpu+7KcPEIIdGeiiF1ZfN+eVO6i0cIifZUDOnTqy2cf+kFITEz7pEgoO5zpPV2\nvOQ5Evem5uHv5clRu8Xu4hFCoj11zyMN43mkrn90Hon7YmcDBAgJAmwRggBbhCDAFiEIcEIW\nAtrZIlRO3WI+3I57JAiwRQgCbBGCAFuEIMDOBggQEgTUDGk3HA7VPS5KWT5dMUJItKdiSNuu\nlP2us0WIO1QxpIfS715+edi+NPXg8Dd3perOht3bLy+P8pyQ5a7U3iLUlZM3LhshJNpT9aHd\nZr9/fN0ntDv/JElIzEzFkDalGzb7vnspab0o64tHCIn2XBlSf/aYwR/W3ccWocfLVyUk2nNl\nSOef6vzl6WH8Ltn+cXvFqoREe64MaVHObj69lJCYmStD2vXLf+w/vYiQmJmrH9p965tarxnx\ns3fCJIQEAXZ/Q4CQIODqkJ4O30De/+PbIq4b8ZN3wiSuDen4Ogznvy3iqhE/eidM4sqQVqU7\n7PVZd2WVWtGfI372TpjE1SdkX1+rblMWmfX8PeJn74RJpLYIOfzNrxa7Rzr7jXrXjPjZO2ES\nniNBwAyP2imJ9lx/HqmvfR5JSLRnhjsbhER7an6H7GUjfvpemEDd75C9ZMRP3wsTmOF3yAqJ\n9szwO2SFRHtm+I19QqI9QoIAh78hwOFvCHD4GwIc/oYAh78hwFE7CBASBDj8DQFCgoArQiq3\nOw4uJGbm6pDeChISv5qQIEBIECAkCBASBAgJAoQEAVeF9Em9VQmJ5ggJAmwRggAhQcAcQ1IS\nzRESBAgJAoQEAUKCACFBgJAgQEgQICQIEBIECAkChAQBQoIAIUGAkCBASBAgJAgQEgTMMiQl\n0RohQYCQIEBIECAkCBASBAgJAoQEAUKCACFBgJAgQEgQICQIEBIECAkChAQBQoIAIUGAkCBA\nSBAgJAioGtLzY18O+uH5uhFCojEVQ9otyoflVSOERGMqhjSU7mkzXtquuzJcM0JINKZiSF3Z\nvF/elO6aEUKiMRVDKuX/3vj5CCXRlnneIwmJxtR9jrTejpeufo4kJBpT8/D38uSo3WJ31Qgh\n0Za655GG8TxS1z9eeR5JSDRmnjsbhERjhAQB9UNaLUrp11eOEBJtqX4e6e2Iw9mDdkJibmqH\nNJRht99vh7K6aoSQaEvtkLoyHvfelcVVI4REW2qHdNwa9PcWoXLqVmuA26gd0sMxJFuEuCdV\nQ+ofV+vy9HJxN9gixF2pGtL7w7ZSOluEuCc1zyNtNqtV34+HHIazHQmJubGzAQKEBAG2CEGA\nLUIQYIsQBNgiBAHtbBH60Qgh0RZbhCDAFiEIsEUIAmwRggA7GyBASBAgJAgQEgQICQKEBAFC\nggAhQcBMQ1ISbRESBAgJAoQEAUKCACFBgJAgQEgQICQIEBIECAkChAQBcw3pH68wCXXNNiT3\nSbRESBAgJAgQEgQICQKEBAFCggAhQYCQIEBIECAkCBASBAgJAoQEAUKCgPmGpCQaIiQIEBIE\nCAkChAQBQoIAIUGAkCBASBAgJAgQEgQICQKEBAFCggAhQYCQIEBIECAkCBASBAgJAmYckpJo\nh5AgQEgQICQIEBIECAkChAQBQoIAIUHAnENSEs0QEgQICQKEBAFCggAhQcCsQ1ISrRASBAgJ\nAoQEAUKCACFBgJAgQEgQICQIEBIECAkCqob0/NiXg354zowQEo2oGNJuUT4sIyOERCMqhjSU\n7mkzXtquuzIkRgiJRlQMqSub98ub0iVGCIlGVAyplP974+IRQqIR7pEgoO5zpPV2vOQ5Evem\n5uHv5clRu8UuMUJINKLueaRhPI/U9Y+h80hKohHz3tkgJBohJAiY9xYhIdGIeW8REhKNmPcW\nISHRiHmfkBUSjWhni1A5deu1QJZ7JAiY9xYhIdGIeW8REhKNsEUIAuxsgAAhQUD9kFaLUvp1\naMT3D5TDLVU/j/R2xOHsQTshMTe1QxrKsNvvt0NZZUYIiSbUDqkr43HvXVlkRgiJJtQO6fhY\nLPMqQkKiEbVDejiGlNkiJCTaUDWk/nG1Lk8vF3dDaIuQkGhD1ZDed3aX0mW2CAmJNtQ8j7TZ\nrFZ9Px5yGM52JCTmZuY7G5REG4QEAUKCACFBgJAgQEgQICQIEBIEzD+k922wt1kKfMfsQ3r/\n20JiQncUkpKYjpAg4I5C8uCO6QgJAu4hpPGvF4cbmNCdhFSExKTuI6Ty9soqN1kM/Nt9hLQX\nEtO6i5CO/0RITEVIEHA3IV3xz+BqQoIAIUHAXYWkJKYiJAgQEgQICQKEBAH3FZKSmMidhaQk\npiEkCBASBNxbSEpiEncYkpSo7x5D8sJcVHd/IXnxBiZwdyH5Dj+mcH8hjf++eHxHVfcZUu5K\n4FuEBAFCgoA7DklJ1CMkCLj3kMREFfcc0vtLGeeuEb525yEdd945q8Rt3XVI7/uFbBvixu48\npLdfivskbuu+Q3q7spK/UvjkF4TkgAO39xtCuvXVwu8KSUncyu8KSUncyC8LSUnchpAg4LeF\npCRu4veFpCRu4NeFdHLdkiLm94X0ceVlfA08ORHwC0M6Prr72NAK1/qNIb2lZOMQOb8zpP3p\n6xoriev91pBOnypNtwbuxu8N6fwwByH4ESGN37A0djMexXv9E0ch+BkhHY/ivX1b+kdCQuL7\nhPTFbMfz+Ckh/T28/H0JzhPSWc0shMYJ6bx2VkLThPQPx+N5cI6Q/s2PpeWfhPRNDS6Jhgjp\nu1pc0z/5NpFahPRtt/iaLJ9+bPTH5Z8EUN59+tP9x5nmJj+dd0ZIP1HetxCV8sNFls//9tOX\n/ulbJwGc/zx8kc/bm+PVf+rni9DIEtLPlPeaysldwVfr/eNr/PhH77Wc/v7Hv3u/dObe5H8/\nRWcS19LtCOmHvj6E9+eflD+2vV7xAX2+Zzn+0aVX+NV92FcuX+9XQ79Yw/v/KV+P+p813Xad\n1xBSxsetelpQOT6OC1z528O2xKH4b3wdBr9Yx7vIL6/v+CF9M+Sv/vj//snrJ/7T/zm37U5I\nQeX4NfP5T/ND6vr7K/zM1+Tnv3z8izWW/Ncyj98Vc/pHfy/v+L5v9/w/0y9Y8M//SYMjbmS+\nK/+m//ma/J/7hUmW+G2f7hu//hvfzklI8A/fuYuqGtLzYz+uph+ebzUCJlExpN3ipOzlTUbA\nRCqGNJTuaTNe2q67MtxiBEykYkhd2bxf3pTuFiNgIhVD+vRM7fyhECExM+6RIKDuc6T1drzk\nORL3pubh7+XJUbvF7iYjYBp1zyMN43mkrn90Hon7YmcDBAgJAuqHtFqU0q9vOgJqq34e6e2I\nw9mDdkJibmqHNJRht99vh7K6xQiYSO2QujIe996VxS1GwERqh/Txwjl/v/ui70yEFtQO6eEY\nki1C3JOqIfWPq3V5erm4G2wR4q5UDenkhSY6W4S4JzXPI202q1Xfj4cchrMdCYm5sbMBAoQE\nAZOE9M/D2//zmmnQrAsyuCiez51c+g+vHn2dqedPvgDzG7iyqwu+s8/jHBdgfgNX9twJae4L\nML+FK9v1ZTm+aIOHdnNdgPltXNlTGTc2CGmuCzC/kSvbLku/E9JsF2B+M1f2WLq1kOa6APPb\nubLN4sIjDdePvtrU8ydfgPktXdmDkOa6APNbvbLZjG5i/uQLML/VK5vN6CbmT74A81u9stmM\nbmL+5Aswv9Urg99KSBAgJAgQEgQICQKEBAFCggAhQYCQIEBIECAkCBASBAgJAoQEAUKCACFB\nwFQhDV35189VuoXV8eM9mV9xKavFV1OrLWD3UMrDZj/Z/IPnMt3805cFTs+fKKTl+BGd/WHo\nt7A5vlLLyfyKSxnGUePPN5xkAa8vM735Y2jV22LXvd4CU8zfnIQUnz9NSM+l2+w3XXmuO/Zl\nYvlzfsWlbMrD7nCn+DDRAobD5KH0+6k+AS/611tgkvmb8UPf32b+NCENZb0/vObxY9Wpq7I8\n3q9/zK+4lP51+GENkyygK7u38RN9AsaXuR4/CZPMX33MyM+fJqS+HF5//+R/iCrKcHx95ZP5\n9ZdyWMOECyjdfrL52+N/ZZPMX5XV8WJ+/jQhlXL6Wy2bPwcffqu+lF1ZTrmAYfxqmmj+smxf\n50wyvy/rh9INt5n/m0L6a/AkIa0ODyWmWsDLQ6sbfSF9x2N52k8a0mh5k/lCqryUbddPuIBV\n341PBiaZPz58mjCk8ccQ7ca7ZCFFB08Q0q5bTruA/cNtvpC+YXE48D9hSK92hyPd9xJSN3FI\nJ/MrL2W5mHgBL19I3TTzH8bDY69zJvz4/xwamj9NSK9HSraVj9rt3z9dJ/OrLmW7eP1xoZMt\n4ODjqGHd+ac/cfj+Pv5pQnoc/3Navz7xrektpJP5NZeyHp/oTraA1/NI28NDmynmn4Y06cff\n32L+NCFNtLPhPaRpTuxv3zuacGfDrj88R5psZ8N+wp0NwyGW3XgC9l52NuwX7wci6zo+Ej6Z\nX28pDx//I0+zgO7LoXVvi7dbYIr5u9ePf7jJ/IlC2o07buvPPYZ0Mr/eUk4e2kyzgMM+58Xq\nz6F1b4u3W2CS+bsbfvwThQT3RUgQICQIEBIECAkChAQBQoIAIUGAkCBASBAgJAgQEgQICQKE\nBAFCggAhQYCQIEBIECAkCBASBAgJAoQEAUKCACFBgJAgQEgQICQIEBIECAkChAQBQoIAIUGA\nkCBASLOwnnoB/IOQ5mDhZmqdW2gOipupdW6hORBS89xCM/D2o9BL2S1K//L2alG61x/OfXJx\nvSxl6bnUVIQ0A+8h9aUM+30/vr08vOfj4mq8VFYTL/XXEtIcvD60eylm9/Lb+vDbblnWny52\nZbPfP5XFxCv9tYQ0B8eQng+/9eWQ0+7wIO/kYike1k1JSHNwDOntjTefLg4vD/w2m0lX+asJ\naQ6+EdL+sXv5vdtOuczfTEhz8EdIf/z50XpYeI40FSHNwaeQ+o9nQ/2fT4yccJqKT/wclLLd\nv1fyVLrN4XB3/+niojw5ajchIc3B4uXZz8fdzXJ8WjQ+Hfq4+PT6ZOl50nX+YkKag+fFaUiH\n7QzlYfvHxXFng46mIiQIEBIECAkChAQBQoIAIUGAkCBASBAgJAgQEgQICQKEBAFCggAhQYCQ\nIEBIECAkCBASBAgJAoQEAUKCACFBgJAgQEgQICQIEBIECAkChAQBQoIAIUGAkCDgPymhAPkN\nNb2TAAAAAElFTkSuQmCC",
      "text/plain": [
       "Plot with title \"rf\""
      ]
     },
     "metadata": {},
     "output_type": "display_data"
    }
   ],
   "source": [
    "print(rf)\n",
    "plot(rf)\n",
    "head(predict(rf,val))"
   ]
  },
  {
   "cell_type": "markdown",
   "metadata": {},
   "source": [
    "It performs a little bit less well than NN"
   ]
  },
  {
   "cell_type": "markdown",
   "metadata": {},
   "source": [
    "### Let's finally try 20 PC"
   ]
  },
  {
   "cell_type": "code",
   "execution_count": 11,
   "metadata": {},
   "outputs": [
    {
     "data": {
      "text/html": [
       "<table>\n",
       "<thead><tr><th scope=col>Y</th><th scope=col>PC1</th><th scope=col>PC2</th><th scope=col>PC3</th><th scope=col>PC4</th><th scope=col>PC5</th><th scope=col>PC6</th><th scope=col>PC7</th><th scope=col>PC8</th><th scope=col>PC9</th><th scope=col>...</th><th scope=col>PC11</th><th scope=col>PC12</th><th scope=col>PC13</th><th scope=col>PC14</th><th scope=col>PC15</th><th scope=col>PC16</th><th scope=col>PC17</th><th scope=col>PC18</th><th scope=col>PC19</th><th scope=col>PC20</th></tr></thead>\n",
       "<tbody>\n",
       "\t<tr><td>45         </td><td>-48.723237 </td><td>10.8534817 </td><td> 17.367649 </td><td>11.240623  </td><td>-13.333519 </td><td>  0.5073267</td><td>-7.1354987 </td><td> 5.5532193 </td><td>-9.1123185 </td><td>...        </td><td>-4.1987548 </td><td> 2.041345  </td><td>-1.0847157 </td><td> 2.410126  </td><td>-4.8281611 </td><td> 1.1161742 </td><td> 3.2033422 </td><td>-1.7185380 </td><td> 7.0824119 </td><td>-0.8347811 </td></tr>\n",
       "\t<tr><td>49         </td><td> 11.432127 </td><td>14.8223442 </td><td> -6.907465 </td><td> 7.255352  </td><td>  9.177159 </td><td>  1.4011855</td><td>-0.7050395 </td><td> 3.1065242 </td><td>-0.1989913 </td><td>...        </td><td> 1.2742071 </td><td>-4.443787  </td><td> 0.3933191 </td><td>-2.853239  </td><td>-0.2528758 </td><td> 5.6718831 </td><td>-2.0268721 </td><td>-2.0914318 </td><td> 0.4915086 </td><td> 4.0810886 </td></tr>\n",
       "\t<tr><td>56         </td><td>-61.764487 </td><td>20.5903204 </td><td>-24.819024 </td><td>-9.113924  </td><td> -9.395881 </td><td>-14.1904510</td><td>-9.0592211 </td><td> 0.5541924 </td><td>-3.0798689 </td><td>...        </td><td>-5.7409901 </td><td>-8.573962  </td><td>-1.6470433 </td><td> 3.124246  </td><td> 8.3171974 </td><td>-3.7511071 </td><td>-2.8158394 </td><td> 0.3535016 </td><td> 1.5463153 </td><td>-5.0745324 </td></tr>\n",
       "\t<tr><td> 7         </td><td> 43.383969 </td><td>-3.9431539 </td><td> 13.476601 </td><td>-9.811184  </td><td>-13.036687 </td><td>-11.1903889</td><td> 5.1537035 </td><td> 2.0814083 </td><td>-7.3632550 </td><td>...        </td><td>-0.6129062 </td><td>-5.715186  </td><td> 5.1587891 </td><td>-6.606620  </td><td> 2.3793172 </td><td>-0.1123169 </td><td>-2.3193280 </td><td> 2.2261582 </td><td>-2.6051928 </td><td> 3.2065417 </td></tr>\n",
       "\t<tr><td>51         </td><td>  1.515816 </td><td>14.4099668 </td><td>  1.703738 </td><td> 6.457316  </td><td>  6.012960 </td><td>  0.9418318</td><td>-1.9675812 </td><td>-9.2653349 </td><td> 0.2556029 </td><td>...        </td><td>-1.0184399 </td><td>-4.222248  </td><td> 0.5980506 </td><td>-1.060161  </td><td> 0.4915756 </td><td>-2.4096402 </td><td> 0.4346418 </td><td>-1.9412790 </td><td>-5.4615768 </td><td>-1.8707511 </td></tr>\n",
       "\t<tr><td>21         </td><td>-37.850110 </td><td>-0.4825083 </td><td>-14.460895 </td><td>-5.135662  </td><td>  3.009908 </td><td> -3.1030880</td><td> 0.3718760 </td><td> 2.0272810 </td><td>-6.9462825 </td><td>...        </td><td>-4.5107900 </td><td>-5.322369  </td><td>-0.5985977 </td><td>-1.800477  </td><td> 1.6361227 </td><td>-3.2053160 </td><td> 0.8077224 </td><td>-0.1138935 </td><td> 0.8371007 </td><td> 0.3595183 </td></tr>\n",
       "</tbody>\n",
       "</table>\n"
      ],
      "text/latex": [
       "\\begin{tabular}{r|lllllllllllllllllllll}\n",
       " Y & PC1 & PC2 & PC3 & PC4 & PC5 & PC6 & PC7 & PC8 & PC9 & ... & PC11 & PC12 & PC13 & PC14 & PC15 & PC16 & PC17 & PC18 & PC19 & PC20\\\\\n",
       "\\hline\n",
       "\t 45          & -48.723237  & 10.8534817  &  17.367649  & 11.240623   & -13.333519  &   0.5073267 & -7.1354987  &  5.5532193  & -9.1123185  & ...         & -4.1987548  &  2.041345   & -1.0847157  &  2.410126   & -4.8281611  &  1.1161742  &  3.2033422  & -1.7185380  &  7.0824119  & -0.8347811 \\\\\n",
       "\t 49          &  11.432127  & 14.8223442  &  -6.907465  &  7.255352   &   9.177159  &   1.4011855 & -0.7050395  &  3.1065242  & -0.1989913  & ...         &  1.2742071  & -4.443787   &  0.3933191  & -2.853239   & -0.2528758  &  5.6718831  & -2.0268721  & -2.0914318  &  0.4915086  &  4.0810886 \\\\\n",
       "\t 56          & -61.764487  & 20.5903204  & -24.819024  & -9.113924   &  -9.395881  & -14.1904510 & -9.0592211  &  0.5541924  & -3.0798689  & ...         & -5.7409901  & -8.573962   & -1.6470433  &  3.124246   &  8.3171974  & -3.7511071  & -2.8158394  &  0.3535016  &  1.5463153  & -5.0745324 \\\\\n",
       "\t  7          &  43.383969  & -3.9431539  &  13.476601  & -9.811184   & -13.036687  & -11.1903889 &  5.1537035  &  2.0814083  & -7.3632550  & ...         & -0.6129062  & -5.715186   &  5.1587891  & -6.606620   &  2.3793172  & -0.1123169  & -2.3193280  &  2.2261582  & -2.6051928  &  3.2065417 \\\\\n",
       "\t 51          &   1.515816  & 14.4099668  &   1.703738  &  6.457316   &   6.012960  &   0.9418318 & -1.9675812  & -9.2653349  &  0.2556029  & ...         & -1.0184399  & -4.222248   &  0.5980506  & -1.060161   &  0.4915756  & -2.4096402  &  0.4346418  & -1.9412790  & -5.4615768  & -1.8707511 \\\\\n",
       "\t 21          & -37.850110  & -0.4825083  & -14.460895  & -5.135662   &   3.009908  &  -3.1030880 &  0.3718760  &  2.0272810  & -6.9462825  & ...         & -4.5107900  & -5.322369   & -0.5985977  & -1.800477   &  1.6361227  & -3.2053160  &  0.8077224  & -0.1138935  &  0.8371007  &  0.3595183 \\\\\n",
       "\\end{tabular}\n"
      ],
      "text/markdown": [
       "\n",
       "| Y | PC1 | PC2 | PC3 | PC4 | PC5 | PC6 | PC7 | PC8 | PC9 | ... | PC11 | PC12 | PC13 | PC14 | PC15 | PC16 | PC17 | PC18 | PC19 | PC20 |\n",
       "|---|---|---|---|---|---|---|---|---|---|---|---|---|---|---|---|---|---|---|---|---|\n",
       "| 45          | -48.723237  | 10.8534817  |  17.367649  | 11.240623   | -13.333519  |   0.5073267 | -7.1354987  |  5.5532193  | -9.1123185  | ...         | -4.1987548  |  2.041345   | -1.0847157  |  2.410126   | -4.8281611  |  1.1161742  |  3.2033422  | -1.7185380  |  7.0824119  | -0.8347811  |\n",
       "| 49          |  11.432127  | 14.8223442  |  -6.907465  |  7.255352   |   9.177159  |   1.4011855 | -0.7050395  |  3.1065242  | -0.1989913  | ...         |  1.2742071  | -4.443787   |  0.3933191  | -2.853239   | -0.2528758  |  5.6718831  | -2.0268721  | -2.0914318  |  0.4915086  |  4.0810886  |\n",
       "| 56          | -61.764487  | 20.5903204  | -24.819024  | -9.113924   |  -9.395881  | -14.1904510 | -9.0592211  |  0.5541924  | -3.0798689  | ...         | -5.7409901  | -8.573962   | -1.6470433  |  3.124246   |  8.3171974  | -3.7511071  | -2.8158394  |  0.3535016  |  1.5463153  | -5.0745324  |\n",
       "|  7          |  43.383969  | -3.9431539  |  13.476601  | -9.811184   | -13.036687  | -11.1903889 |  5.1537035  |  2.0814083  | -7.3632550  | ...         | -0.6129062  | -5.715186   |  5.1587891  | -6.606620   |  2.3793172  | -0.1123169  | -2.3193280  |  2.2261582  | -2.6051928  |  3.2065417  |\n",
       "| 51          |   1.515816  | 14.4099668  |   1.703738  |  6.457316   |   6.012960  |   0.9418318 | -1.9675812  | -9.2653349  |  0.2556029  | ...         | -1.0184399  | -4.222248   |  0.5980506  | -1.060161   |  0.4915756  | -2.4096402  |  0.4346418  | -1.9412790  | -5.4615768  | -1.8707511  |\n",
       "| 21          | -37.850110  | -0.4825083  | -14.460895  | -5.135662   |   3.009908  |  -3.1030880 |  0.3718760  |  2.0272810  | -6.9462825  | ...         | -4.5107900  | -5.322369   | -0.5985977  | -1.800477   |  1.6361227  | -3.2053160  |  0.8077224  | -0.1138935  |  0.8371007  |  0.3595183  |\n",
       "\n"
      ],
      "text/plain": [
       "  Y  PC1        PC2        PC3        PC4       PC5        PC6        \n",
       "1 45 -48.723237 10.8534817  17.367649 11.240623 -13.333519   0.5073267\n",
       "2 49  11.432127 14.8223442  -6.907465  7.255352   9.177159   1.4011855\n",
       "3 56 -61.764487 20.5903204 -24.819024 -9.113924  -9.395881 -14.1904510\n",
       "4  7  43.383969 -3.9431539  13.476601 -9.811184 -13.036687 -11.1903889\n",
       "5 51   1.515816 14.4099668   1.703738  6.457316   6.012960   0.9418318\n",
       "6 21 -37.850110 -0.4825083 -14.460895 -5.135662   3.009908  -3.1030880\n",
       "  PC7        PC8        PC9        ... PC11       PC12      PC13      \n",
       "1 -7.1354987  5.5532193 -9.1123185 ... -4.1987548  2.041345 -1.0847157\n",
       "2 -0.7050395  3.1065242 -0.1989913 ...  1.2742071 -4.443787  0.3933191\n",
       "3 -9.0592211  0.5541924 -3.0798689 ... -5.7409901 -8.573962 -1.6470433\n",
       "4  5.1537035  2.0814083 -7.3632550 ... -0.6129062 -5.715186  5.1587891\n",
       "5 -1.9675812 -9.2653349  0.2556029 ... -1.0184399 -4.222248  0.5980506\n",
       "6  0.3718760  2.0272810 -6.9462825 ... -4.5107900 -5.322369 -0.5985977\n",
       "  PC14      PC15       PC16       PC17       PC18       PC19       PC20      \n",
       "1  2.410126 -4.8281611  1.1161742  3.2033422 -1.7185380  7.0824119 -0.8347811\n",
       "2 -2.853239 -0.2528758  5.6718831 -2.0268721 -2.0914318  0.4915086  4.0810886\n",
       "3  3.124246  8.3171974 -3.7511071 -2.8158394  0.3535016  1.5463153 -5.0745324\n",
       "4 -6.606620  2.3793172 -0.1123169 -2.3193280  2.2261582 -2.6051928  3.2065417\n",
       "5 -1.060161  0.4915756 -2.4096402  0.4346418 -1.9412790 -5.4615768 -1.8707511\n",
       "6 -1.800477  1.6361227 -3.2053160  0.8077224 -0.1138935  0.8371007  0.3595183"
      ]
     },
     "metadata": {},
     "output_type": "display_data"
    },
    {
     "data": {
      "text/html": [
       "<ol class=list-inline>\n",
       "\t<li>708</li>\n",
       "\t<li>21</li>\n",
       "</ol>\n"
      ],
      "text/latex": [
       "\\begin{enumerate*}\n",
       "\\item 708\n",
       "\\item 21\n",
       "\\end{enumerate*}\n"
      ],
      "text/markdown": [
       "1. 708\n",
       "2. 21\n",
       "\n",
       "\n"
      ],
      "text/plain": [
       "[1] 708  21"
      ]
     },
     "metadata": {},
     "output_type": "display_data"
    },
    {
     "data": {
      "text/html": [
       "<table>\n",
       "<thead><tr><th scope=col>PC1</th><th scope=col>PC2</th><th scope=col>PC3</th><th scope=col>PC4</th><th scope=col>PC5</th><th scope=col>PC6</th><th scope=col>PC7</th><th scope=col>PC8</th><th scope=col>PC9</th><th scope=col>PC10</th><th scope=col>PC11</th><th scope=col>PC12</th><th scope=col>PC13</th><th scope=col>PC14</th><th scope=col>PC15</th><th scope=col>PC16</th><th scope=col>PC17</th><th scope=col>PC18</th><th scope=col>PC19</th><th scope=col>PC20</th></tr></thead>\n",
       "<tbody>\n",
       "\t<tr><td>-1.47042000 </td><td> 0.56959918 </td><td> 1.4758617  </td><td> 1.0096121  </td><td>-1.3012311  </td><td> 0.0483318  </td><td>-0.99603325 </td><td> 0.81052316 </td><td>-1.49367748 </td><td> 1.2248549  </td><td>-0.7968902  </td><td> 0.4051870  </td><td>-0.21858196 </td><td> 0.5322244  </td><td>-1.11919327 </td><td> 0.26087110 </td><td> 0.8119779  </td><td>-0.444993602</td><td> 1.9744378  </td><td>-0.2341758  </td></tr>\n",
       "\t<tr><td> 0.33667557 </td><td> 0.77678314 </td><td>-0.5976901  </td><td> 0.6434535  </td><td> 0.8832936  </td><td> 0.1559903  </td><td>-0.12060208 </td><td> 0.45047219 </td><td>-0.04266926 </td><td>-1.1876481  </td><td> 0.2398562  </td><td>-0.8858437  </td><td> 0.08143974 </td><td>-0.6336392  </td><td>-0.08437304 </td><td> 1.35142515 </td><td>-0.5135764  </td><td>-0.546843757</td><td> 0.1587643  </td><td> 1.1845268  </td></tr>\n",
       "\t<tr><td>-1.86218531 </td><td> 1.07788507 </td><td>-2.1276745  </td><td>-0.8605217  </td><td>-0.9191073  </td><td>-1.7219035  </td><td>-1.25792538 </td><td> 0.07487593 </td><td>-0.51164981 </td><td> 0.4746958  </td><td>-1.0890367  </td><td>-1.7080603  </td><td>-0.33272711 </td><td> 0.6904057  </td><td> 1.85397278 </td><td>-0.90426771 </td><td>-0.7135336  </td><td> 0.120952002</td><td> 0.4493443  </td><td>-1.4577531  </td></tr>\n",
       "\t<tr><td> 1.29652402 </td><td>-0.20282000 </td><td> 1.1434930  </td><td>-0.9245845  </td><td>-1.2724254  </td><td>-1.3605689  </td><td> 0.67699670 </td><td> 0.29961809 </td><td>-1.20894593 </td><td>-0.2207807  </td><td>-0.1176208  </td><td>-1.1389480  </td><td> 1.04876778 </td><td>-1.4650333  </td><td> 0.51096613 </td><td>-0.03320736 </td><td>-0.5876969  </td><td> 0.632439196</td><td>-0.6943203  </td><td> 0.9321357  </td></tr>\n",
       "\t<tr><td> 0.03878489 </td><td> 0.75525607 </td><td> 0.1378688  </td><td> 0.5701316  </td><td> 0.5762273  </td><td> 0.1006646  </td><td>-0.29248224 </td><td>-1.37014695 </td><td> 0.03133454 </td><td>-0.5832976  </td><td>-0.1944413  </td><td>-0.8417407  </td><td> 0.12299757 </td><td>-0.2364629  </td><td> 0.08400409 </td><td>-0.58314487 </td><td> 0.1102738  </td><td>-0.505831843</td><td>-1.4812019  </td><td>-0.5331531  </td></tr>\n",
       "\t<tr><td>-1.14378613 </td><td>-0.02216616 </td><td>-1.2428952  </td><td>-0.4950072  </td><td> 0.2847993  </td><td>-0.3865151  </td><td> 0.02600727 </td><td> 0.29165282 </td><td>-1.14106662 </td><td> 0.7836801  </td><td>-0.8559992  </td><td>-1.0607480  </td><td>-0.11990638 </td><td>-0.4004470  </td><td> 0.34287330 </td><td>-0.77361523 </td><td> 0.2048280  </td><td>-0.006709761</td><td> 0.2539687  </td><td> 0.1104947  </td></tr>\n",
       "</tbody>\n",
       "</table>\n"
      ],
      "text/latex": [
       "\\begin{tabular}{r|llllllllllllllllllll}\n",
       " PC1 & PC2 & PC3 & PC4 & PC5 & PC6 & PC7 & PC8 & PC9 & PC10 & PC11 & PC12 & PC13 & PC14 & PC15 & PC16 & PC17 & PC18 & PC19 & PC20\\\\\n",
       "\\hline\n",
       "\t -1.47042000  &  0.56959918  &  1.4758617   &  1.0096121   & -1.3012311   &  0.0483318   & -0.99603325  &  0.81052316  & -1.49367748  &  1.2248549   & -0.7968902   &  0.4051870   & -0.21858196  &  0.5322244   & -1.11919327  &  0.26087110  &  0.8119779   & -0.444993602 &  1.9744378   & -0.2341758  \\\\\n",
       "\t  0.33667557  &  0.77678314  & -0.5976901   &  0.6434535   &  0.8832936   &  0.1559903   & -0.12060208  &  0.45047219  & -0.04266926  & -1.1876481   &  0.2398562   & -0.8858437   &  0.08143974  & -0.6336392   & -0.08437304  &  1.35142515  & -0.5135764   & -0.546843757 &  0.1587643   &  1.1845268  \\\\\n",
       "\t -1.86218531  &  1.07788507  & -2.1276745   & -0.8605217   & -0.9191073   & -1.7219035   & -1.25792538  &  0.07487593  & -0.51164981  &  0.4746958   & -1.0890367   & -1.7080603   & -0.33272711  &  0.6904057   &  1.85397278  & -0.90426771  & -0.7135336   &  0.120952002 &  0.4493443   & -1.4577531  \\\\\n",
       "\t  1.29652402  & -0.20282000  &  1.1434930   & -0.9245845   & -1.2724254   & -1.3605689   &  0.67699670  &  0.29961809  & -1.20894593  & -0.2207807   & -0.1176208   & -1.1389480   &  1.04876778  & -1.4650333   &  0.51096613  & -0.03320736  & -0.5876969   &  0.632439196 & -0.6943203   &  0.9321357  \\\\\n",
       "\t  0.03878489  &  0.75525607  &  0.1378688   &  0.5701316   &  0.5762273   &  0.1006646   & -0.29248224  & -1.37014695  &  0.03133454  & -0.5832976   & -0.1944413   & -0.8417407   &  0.12299757  & -0.2364629   &  0.08400409  & -0.58314487  &  0.1102738   & -0.505831843 & -1.4812019   & -0.5331531  \\\\\n",
       "\t -1.14378613  & -0.02216616  & -1.2428952   & -0.4950072   &  0.2847993   & -0.3865151   &  0.02600727  &  0.29165282  & -1.14106662  &  0.7836801   & -0.8559992   & -1.0607480   & -0.11990638  & -0.4004470   &  0.34287330  & -0.77361523  &  0.2048280   & -0.006709761 &  0.2539687   &  0.1104947  \\\\\n",
       "\\end{tabular}\n"
      ],
      "text/markdown": [
       "\n",
       "| PC1 | PC2 | PC3 | PC4 | PC5 | PC6 | PC7 | PC8 | PC9 | PC10 | PC11 | PC12 | PC13 | PC14 | PC15 | PC16 | PC17 | PC18 | PC19 | PC20 |\n",
       "|---|---|---|---|---|---|---|---|---|---|---|---|---|---|---|---|---|---|---|---|\n",
       "| -1.47042000  |  0.56959918  |  1.4758617   |  1.0096121   | -1.3012311   |  0.0483318   | -0.99603325  |  0.81052316  | -1.49367748  |  1.2248549   | -0.7968902   |  0.4051870   | -0.21858196  |  0.5322244   | -1.11919327  |  0.26087110  |  0.8119779   | -0.444993602 |  1.9744378   | -0.2341758   |\n",
       "|  0.33667557  |  0.77678314  | -0.5976901   |  0.6434535   |  0.8832936   |  0.1559903   | -0.12060208  |  0.45047219  | -0.04266926  | -1.1876481   |  0.2398562   | -0.8858437   |  0.08143974  | -0.6336392   | -0.08437304  |  1.35142515  | -0.5135764   | -0.546843757 |  0.1587643   |  1.1845268   |\n",
       "| -1.86218531  |  1.07788507  | -2.1276745   | -0.8605217   | -0.9191073   | -1.7219035   | -1.25792538  |  0.07487593  | -0.51164981  |  0.4746958   | -1.0890367   | -1.7080603   | -0.33272711  |  0.6904057   |  1.85397278  | -0.90426771  | -0.7135336   |  0.120952002 |  0.4493443   | -1.4577531   |\n",
       "|  1.29652402  | -0.20282000  |  1.1434930   | -0.9245845   | -1.2724254   | -1.3605689   |  0.67699670  |  0.29961809  | -1.20894593  | -0.2207807   | -0.1176208   | -1.1389480   |  1.04876778  | -1.4650333   |  0.51096613  | -0.03320736  | -0.5876969   |  0.632439196 | -0.6943203   |  0.9321357   |\n",
       "|  0.03878489  |  0.75525607  |  0.1378688   |  0.5701316   |  0.5762273   |  0.1006646   | -0.29248224  | -1.37014695  |  0.03133454  | -0.5832976   | -0.1944413   | -0.8417407   |  0.12299757  | -0.2364629   |  0.08400409  | -0.58314487  |  0.1102738   | -0.505831843 | -1.4812019   | -0.5331531   |\n",
       "| -1.14378613  | -0.02216616  | -1.2428952   | -0.4950072   |  0.2847993   | -0.3865151   |  0.02600727  |  0.29165282  | -1.14106662  |  0.7836801   | -0.8559992   | -1.0607480   | -0.11990638  | -0.4004470   |  0.34287330  | -0.77361523  |  0.2048280   | -0.006709761 |  0.2539687   |  0.1104947   |\n",
       "\n"
      ],
      "text/plain": [
       "  PC1         PC2         PC3        PC4        PC5        PC6       \n",
       "1 -1.47042000  0.56959918  1.4758617  1.0096121 -1.3012311  0.0483318\n",
       "2  0.33667557  0.77678314 -0.5976901  0.6434535  0.8832936  0.1559903\n",
       "3 -1.86218531  1.07788507 -2.1276745 -0.8605217 -0.9191073 -1.7219035\n",
       "4  1.29652402 -0.20282000  1.1434930 -0.9245845 -1.2724254 -1.3605689\n",
       "5  0.03878489  0.75525607  0.1378688  0.5701316  0.5762273  0.1006646\n",
       "6 -1.14378613 -0.02216616 -1.2428952 -0.4950072  0.2847993 -0.3865151\n",
       "  PC7         PC8         PC9         PC10       PC11       PC12      \n",
       "1 -0.99603325  0.81052316 -1.49367748  1.2248549 -0.7968902  0.4051870\n",
       "2 -0.12060208  0.45047219 -0.04266926 -1.1876481  0.2398562 -0.8858437\n",
       "3 -1.25792538  0.07487593 -0.51164981  0.4746958 -1.0890367 -1.7080603\n",
       "4  0.67699670  0.29961809 -1.20894593 -0.2207807 -0.1176208 -1.1389480\n",
       "5 -0.29248224 -1.37014695  0.03133454 -0.5832976 -0.1944413 -0.8417407\n",
       "6  0.02600727  0.29165282 -1.14106662  0.7836801 -0.8559992 -1.0607480\n",
       "  PC13        PC14       PC15        PC16        PC17       PC18        \n",
       "1 -0.21858196  0.5322244 -1.11919327  0.26087110  0.8119779 -0.444993602\n",
       "2  0.08143974 -0.6336392 -0.08437304  1.35142515 -0.5135764 -0.546843757\n",
       "3 -0.33272711  0.6904057  1.85397278 -0.90426771 -0.7135336  0.120952002\n",
       "4  1.04876778 -1.4650333  0.51096613 -0.03320736 -0.5876969  0.632439196\n",
       "5  0.12299757 -0.2364629  0.08400409 -0.58314487  0.1102738 -0.505831843\n",
       "6 -0.11990638 -0.4004470  0.34287330 -0.77361523  0.2048280 -0.006709761\n",
       "  PC19       PC20      \n",
       "1  1.9744378 -0.2341758\n",
       "2  0.1587643  1.1845268\n",
       "3  0.4493443 -1.4577531\n",
       "4 -0.6943203  0.9321357\n",
       "5 -1.4812019 -0.5331531\n",
       "6  0.2539687  0.1104947"
      ]
     },
     "metadata": {},
     "output_type": "display_data"
    },
    {
     "data": {
      "text/html": [
       "<ol class=list-inline>\n",
       "\t<li>68</li>\n",
       "\t<li>20</li>\n",
       "</ol>\n"
      ],
      "text/latex": [
       "\\begin{enumerate*}\n",
       "\\item 68\n",
       "\\item 20\n",
       "\\end{enumerate*}\n"
      ],
      "text/markdown": [
       "1. 68\n",
       "2. 20\n",
       "\n",
       "\n"
      ],
      "text/plain": [
       "[1] 68 20"
      ]
     },
     "metadata": {},
     "output_type": "display_data"
    }
   ],
   "source": [
    "#Get the data in the new basis\n",
    "train.pca20 <- as.matrix(pca$x[1:nrow(train),1:20])\n",
    "\n",
    "train.pca20 <- data.frame(Y = Y$VALENCE.PLEASANTNESS, train.pca20)\n",
    "head(train.pca20)\n",
    "test.pca20 <- pca$x[(nrow(train)+1):nrow(full),1:20]\n",
    "dim(train.pca20)\n",
    "train.x20 <- scale(subset(train.pca20,select = -Y),center = T, scale = T)\n",
    "head(train.x20)\n",
    "test.pca20 <- PC.x.scale(as.matrix(test.pca20),train.x20)\n",
    "dim(test.pca20)\n"
   ]
  },
  {
   "cell_type": "code",
   "execution_count": 43,
   "metadata": {},
   "outputs": [],
   "source": [
    "nn20 <- keras_model_sequential()\n",
    "\n",
    "nn20 %>%\n",
    "  layer_dense(units = 30, activation = 'relu',kernel_regularizer = regularizer_l2(l = .1),input_shape = 20) %>% \n",
    "  layer_dropout(1/3) %>%\n",
    "  layer_dense(units = 20, activation = 'relu',kernel_regularizer = regularizer_l2(l = .1)) %>%\n",
    "  layer_dense(units = 1,activation = 'linear')\n",
    "\n",
    "nn20 %>% compile(\n",
    "  loss = 'mean_squared_error',\n",
    "  optimizer = 'adam',\n",
    "  metric = c('mean_squared_error')\n",
    ")"
   ]
  },
  {
   "cell_type": "code",
   "execution_count": 44,
   "metadata": {},
   "outputs": [
    {
     "name": "stderr",
     "output_type": "stream",
     "text": [
      "`geom_smooth()` using formula 'y ~ x'\n"
     ]
    },
    {
     "data": {
      "image/png": "iVBORw0KGgoAAAANSUhEUgAAA0gAAANICAMAAADKOT/pAAAAP1BMVEUAAAAAv8QzMzNNTU1o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",
      "text/plain": [
       "plot without title"
      ]
     },
     "metadata": {},
     "output_type": "display_data"
    }
   ],
   "source": [
    "history <- nn20 %>% fit(\n",
    "  train.x20, train.y, \n",
    "  epochs = 300,\n",
    "  validation_split = 0.2\n",
    ")\n",
    "plot(history)\n"
   ]
  },
  {
   "cell_type": "code",
   "execution_count": 45,
   "metadata": {},
   "outputs": [],
   "source": [
    "res.NN20 <- PC.y.unscale(predict(nn20,test.pca20),train.y)\n",
    "id <- 1:68\n",
    "final.data <- data.frame(Id = id,VALENCE.PLEASANTNESS = res.NN20)\n",
    "write.csv(final.data,\"../../Submission/NNPC20.csv\",row.names = FALSE)"
   ]
  },
  {
   "cell_type": "markdown",
   "metadata": {},
   "source": [
    "I would say that this model also performs well, as good as our best. After the test set is different and because we have few data points, the results are very variant ! So a method with less variance will perform better than a more flexible one even if their estimated validation error is the same. Just see by yourself the 20 PC and 15PC have about the same error (0.85) "
   ]
  },
  {
   "cell_type": "code",
   "execution_count": null,
   "metadata": {},
   "outputs": [],
   "source": []
  }
 ],
 "metadata": {
  "kernelspec": {
   "display_name": "R",
   "language": "R",
   "name": "ir"
  },
  "language_info": {
   "codemirror_mode": "r",
   "file_extension": ".r",
   "mimetype": "text/x-r-source",
   "name": "R",
   "pygments_lexer": "r",
   "version": "3.6.1"
  }
 },
 "nbformat": 4,
 "nbformat_minor": 4
}
