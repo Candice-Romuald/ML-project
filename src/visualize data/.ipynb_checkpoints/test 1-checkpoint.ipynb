{
 "cells": [
  {
   "cell_type": "code",
   "execution_count": 7,
   "metadata": {},
   "outputs": [],
   "source": [
    "train <- read.csv(file = '../../Data/training_data.csv')"
   ]
  },
  {
   "cell_type": "code",
   "execution_count": 11,
   "metadata": {},
   "outputs": [
    {
     "data": {
      "text/html": [
       "<table>\n",
       "<thead><tr><th scope=col>Intensity</th><th scope=col>VALENCE.PLEASANTNESS</th><th scope=col>SWEETORSOUR</th><th scope=col>complexity.from.pubmed</th><th scope=col>MW</th><th scope=col>AMW</th><th scope=col>Sv</th><th scope=col>Se</th><th scope=col>Sp</th><th scope=col>Si</th><th scope=col>...</th><th scope=col>Psychotic.80</th><th scope=col>Psychotic.50</th><th scope=col>Hypertens.80</th><th scope=col>Hypertens.50</th><th scope=col>Hypnotic.80</th><th scope=col>Hypnotic.50</th><th scope=col>Neoplastic.80</th><th scope=col>Neoplastic.50</th><th scope=col>Infective.80</th><th scope=col>Infective.50</th></tr></thead>\n",
       "<tbody>\n",
       "\t<tr><td>low   </td><td>45    </td><td>FALSE </td><td>302.0 </td><td>208.33</td><td>5.952 </td><td>19.698</td><td>34.491</td><td>21.523</td><td>39.571</td><td>...   </td><td>0     </td><td>0     </td><td>1     </td><td>0     </td><td>1     </td><td>0     </td><td>1     </td><td>0     </td><td>1     </td><td>0     </td></tr>\n",
       "\t<tr><td>high  </td><td>49    </td><td> TRUE </td><td> 72.6 </td><td>122.18</td><td>6.431 </td><td>11.349</td><td>18.745</td><td>12.261</td><td>21.285</td><td>...   </td><td>0     </td><td>0     </td><td>0     </td><td>0     </td><td>0     </td><td>0     </td><td>0     </td><td>0     </td><td>0     </td><td>0     </td></tr>\n",
       "\t<tr><td>high  </td><td>56    </td><td> TRUE </td><td>259.0 </td><td>242.29</td><td>7.572 </td><td>20.832</td><td>32.167</td><td>21.693</td><td>35.535</td><td>...   </td><td>0     </td><td>0     </td><td>1     </td><td>0     </td><td>1     </td><td>1     </td><td>1     </td><td>0     </td><td>1     </td><td>1     </td></tr>\n",
       "\t<tr><td>high  </td><td> 7    </td><td>FALSE </td><td> 56.6 </td><td> 88.12</td><td>6.294 </td><td> 7.537</td><td>14.189</td><td> 7.955</td><td>16.080</td><td>...   </td><td>0     </td><td>0     </td><td>0     </td><td>0     </td><td>0     </td><td>0     </td><td>0     </td><td>0     </td><td>0     </td><td>0     </td></tr>\n",
       "\t<tr><td>low   </td><td>51    </td><td>FALSE </td><td> 84.7 </td><td>136.21</td><td>6.191 </td><td>12.876</td><td>21.629</td><td>14.023</td><td>24.701</td><td>...   </td><td>0     </td><td>0     </td><td>0     </td><td>0     </td><td>0     </td><td>0     </td><td>0     </td><td>0     </td><td>0     </td><td>0     </td></tr>\n",
       "\t<tr><td>high  </td><td>21    </td><td>FALSE </td><td>160.0 </td><td>192.28</td><td>6.409 </td><td>17.644</td><td>29.723</td><td>19.000</td><td>33.740</td><td>...   </td><td>0     </td><td>0     </td><td>0     </td><td>0     </td><td>1     </td><td>0     </td><td>1     </td><td>0     </td><td>1     </td><td>0     </td></tr>\n",
       "</tbody>\n",
       "</table>\n"
      ],
      "text/latex": [
       "\\begin{tabular}{r|llllllllllllllllllllllllllllllllllllllllllllllllllllllllllllllllllllllllllllllllllllllllllllllllllllllllllllllllllllllllllllllllllllllllllllllllllllllllllllllllllllllllllllllllllllllllllllllllllllllllllllllllllllllllllllllllllllllllllllllllllllllllllllllllllllllllllllllllllllllllllllllllllllllllllllllllllllllllllllllllllllllllllllllllllllllllllllllllllllllllllllllllllllllllllllllllllllllllllllllllllllllllllllllllllllllllllllllllllllllllllllllllllllllllllllllllllllllllllllllllllllllllllllllllllllllllllllllllllllllllllllllllllllllllllllllllllllllllllllllllllllllllllllllllllllllllllllllllllllllllllllllllllllllllllllllllllllllllllllllllllllllllllllllllllllllllllllllllllllllllllllllllllllllllllllllllllllllllllllllllllllllllllllllllllllllllllllllllllllllllllllllllllllllllllllllllllllllllllllllllllllllllllllllllllllllllllllllllllllllllllllllllllllllllllllllllllllllllllllllllllllllllllllllllllllllllllllllllllllllllllllllllllllllllllllllllllllllllllllllllllllllllllllllllllllllllllllllllllllllllllllllllllllllllllllllllllllllllllllllllllllllllllllllllllllllllllllllllllllllllllllllllllllllllllllllllllllllllllllllllllllllllllllllllllllllllllllllllllllllllllllllllllllllllllllllllllllllllllllllllllllllllllllllllllllllllllllllllllllllllllllllllllllllllllllllllllllllllllllllllllllllllllllllllllllllllllllllllllllllllllllllllllllllllllllllllllllllllllllllllllllllllllllllllllllllllllllllllllllllllllllllllllllllllllllllllllllllllllllllllllllllllllllllllllllllllllllllllllllllllllllllllllllllllllllllllllllllllllllllllllllllllllllllllllllllllllllllllllllllllllllllllllllllllllllllllllllllllllllllllllllllllllllllllllllllllllllllllllllllllllllllllllllllllllllllllllllllllllllllllllllllllllllllllllllllllllllllllllllllllllllllllllllllllllllllllllllllllllllllllllllllllllllllllllllllllllllllllllllllllllllllllllllllllllllllllllllllllllllllllllllllllllllllllllllllllllllllllllllllllllllllllllllllllllllllllllllllllllllllllllllllllllllllllllllllllllllllllllllllllllllllllllllllllllllllllllllllllllllllllllllllllllllllllllllllllllllllllllllllllllllllllllllllllllllllllllllllllllllllllllllllllllllllllllllllllllllllllllllllllllllllllllllllllllllllllllllllllllllllllllllllllllllllllllllllllllllllllllllllllllllllllllllllllllllllllllllllllllllllllllllllllllllllllllllllllllllllllllllllllllllllllllllllllllllllllllllllllllllllllllllllllllllllllllllllllllllllllllllllllllllllllllllllllllllllllllllllllllllllllllllllllllllllllllllllllllllllllllllllllllllllllllllllllllllllllllllllllllllllllllllllllllllllllllllllllllllllllllllllllllllllllllllllllllllllllllllllllllllllllllllllllllllllllllllllllllllllllllllllllllllllllllllllllllllllllllllllllllllllllllllllllllllllllllllllllllllllllllllllllllllllllllllllllllllllllllllllllllllllllllllllllllllllllllllllllllllllllllllllllllllllllllllllllllllllllllllllllllllllllllllllllllllllllllllllllllllllllllllllllllllllllllllllllllllllllllllllllllllllllllllllllllllllllllllllllllllllllllllllllllllllllllllllllllllllllllllllllllllllllllllllllllllllllllllllllllllllllllllllllllllllllllllllllllllllllllllllllllllllllllllllllllllllllllllllllllllllllllllllllllllllllllllllllllllllllllllllllllllllllllllllllllllllllllllllllllllllllllllllllllllllllllllllllllllllllllllllllllllllllllllllllllllllllllllllllllllllllllllllllllllllllllllllllllllllllllllllllllllllllllllllllllllllllllllllllllllllllllllllllllllllllllllllllllllllllllllllllllllllllllllllllllllllllllllllllllllllllllllllllllllllllllllllllllllllllllllllllllllllllllllllllllllllllllllllllllllllllllllllllllllllllllllllllllllllllllllllllllllllllllllllllllllllllllllllllllllllllllllllllllllllllllllllllllllllllllllllllllllllllllllllllllllllllllllllllllllllllllllllllllllllllllllllllllllllllllllllllllllllllllllllllllllllllllllllllllllllllllllllllllllllllllllllllllllllllllllllllllllllllllllllllllllllllllllllllllllllllllllllllllllllllllllllllllllllllllllllllllllllllllllllllllllllllllllllllllllllllllllllllllllllllllllllllllllllllllllllllllllllllllllllllllllllllllllllllllllllllllllllllllllllllllllllllllllllllllllllllllllllllllllllllllllllllllllllllllllllllllllllllllllllllllllllllllllllllllllllllllllllllllllllllllllllllllllllllllllllllllllllllllllllllllllllllllllllllllllllllllllllllllllllllllllllllllllllllllllllllllllllllllllllllllllllllllllllllllllllllllllllllllllllllllllllllllllllllllllllllllllllllllllllllllllllllllllllllllllllllllllllllllllllllllllllllllllllllllllllllllllllllllllllllllllllllllllllllllllllllllllllllllllllllllllllllllllllllllllllllllllllllllllllllllllllllllllllllllllllllllllllllllllllllllllllllllllllllllllllllllllllllllllllllllllllllllllllllllllllllllllllllllllllllllllllllllllllllllllllllllllllllllllllllllllllllllllllllllllllllllllllllllllllllllllllllllllllllllllllllllllllllllllllllllllllllllllllllllllllllllllllllllllllllllllllllllllllllllllllllllllllllllllllllllllllllllllllllllllllllllllllllllllllllllllllllllllllllllllllllllllllllllllllllllllllllllllllllllllllll}\n",
       " Intensity & VALENCE.PLEASANTNESS & SWEETORSOUR & complexity.from.pubmed & MW & AMW & Sv & Se & Sp & Si & ... & Psychotic.80 & Psychotic.50 & Hypertens.80 & Hypertens.50 & Hypnotic.80 & Hypnotic.50 & Neoplastic.80 & Neoplastic.50 & Infective.80 & Infective.50\\\\\n",
       "\\hline\n",
       "\t low    & 45     & FALSE  & 302.0  & 208.33 & 5.952  & 19.698 & 34.491 & 21.523 & 39.571 & ...    & 0      & 0      & 1      & 0      & 1      & 0      & 1      & 0      & 1      & 0     \\\\\n",
       "\t high   & 49     &  TRUE  &  72.6  & 122.18 & 6.431  & 11.349 & 18.745 & 12.261 & 21.285 & ...    & 0      & 0      & 0      & 0      & 0      & 0      & 0      & 0      & 0      & 0     \\\\\n",
       "\t high   & 56     &  TRUE  & 259.0  & 242.29 & 7.572  & 20.832 & 32.167 & 21.693 & 35.535 & ...    & 0      & 0      & 1      & 0      & 1      & 1      & 1      & 0      & 1      & 1     \\\\\n",
       "\t high   &  7     & FALSE  &  56.6  &  88.12 & 6.294  &  7.537 & 14.189 &  7.955 & 16.080 & ...    & 0      & 0      & 0      & 0      & 0      & 0      & 0      & 0      & 0      & 0     \\\\\n",
       "\t low    & 51     & FALSE  &  84.7  & 136.21 & 6.191  & 12.876 & 21.629 & 14.023 & 24.701 & ...    & 0      & 0      & 0      & 0      & 0      & 0      & 0      & 0      & 0      & 0     \\\\\n",
       "\t high   & 21     & FALSE  & 160.0  & 192.28 & 6.409  & 17.644 & 29.723 & 19.000 & 33.740 & ...    & 0      & 0      & 0      & 0      & 1      & 0      & 1      & 0      & 1      & 0     \\\\\n",
       "\\end{tabular}\n"
      ],
      "text/markdown": [
       "\n",
       "| Intensity | VALENCE.PLEASANTNESS | SWEETORSOUR | complexity.from.pubmed | MW | AMW | Sv | Se | Sp | Si | ... | Psychotic.80 | Psychotic.50 | Hypertens.80 | Hypertens.50 | Hypnotic.80 | Hypnotic.50 | Neoplastic.80 | Neoplastic.50 | Infective.80 | Infective.50 |\n",
       "|---|---|---|---|---|---|---|---|---|---|---|---|---|---|---|---|---|---|---|---|---|\n",
       "| low    | 45     | FALSE  | 302.0  | 208.33 | 5.952  | 19.698 | 34.491 | 21.523 | 39.571 | ...    | 0      | 0      | 1      | 0      | 1      | 0      | 1      | 0      | 1      | 0      |\n",
       "| high   | 49     |  TRUE  |  72.6  | 122.18 | 6.431  | 11.349 | 18.745 | 12.261 | 21.285 | ...    | 0      | 0      | 0      | 0      | 0      | 0      | 0      | 0      | 0      | 0      |\n",
       "| high   | 56     |  TRUE  | 259.0  | 242.29 | 7.572  | 20.832 | 32.167 | 21.693 | 35.535 | ...    | 0      | 0      | 1      | 0      | 1      | 1      | 1      | 0      | 1      | 1      |\n",
       "| high   |  7     | FALSE  |  56.6  |  88.12 | 6.294  |  7.537 | 14.189 |  7.955 | 16.080 | ...    | 0      | 0      | 0      | 0      | 0      | 0      | 0      | 0      | 0      | 0      |\n",
       "| low    | 51     | FALSE  |  84.7  | 136.21 | 6.191  | 12.876 | 21.629 | 14.023 | 24.701 | ...    | 0      | 0      | 0      | 0      | 0      | 0      | 0      | 0      | 0      | 0      |\n",
       "| high   | 21     | FALSE  | 160.0  | 192.28 | 6.409  | 17.644 | 29.723 | 19.000 | 33.740 | ...    | 0      | 0      | 0      | 0      | 1      | 0      | 1      | 0      | 1      | 0      |\n",
       "\n"
      ],
      "text/plain": [
       "  Intensity VALENCE.PLEASANTNESS SWEETORSOUR complexity.from.pubmed MW    \n",
       "1 low       45                   FALSE       302.0                  208.33\n",
       "2 high      49                    TRUE        72.6                  122.18\n",
       "3 high      56                    TRUE       259.0                  242.29\n",
       "4 high       7                   FALSE        56.6                   88.12\n",
       "5 low       51                   FALSE        84.7                  136.21\n",
       "6 high      21                   FALSE       160.0                  192.28\n",
       "  AMW   Sv     Se     Sp     Si     ... Psychotic.80 Psychotic.50 Hypertens.80\n",
       "1 5.952 19.698 34.491 21.523 39.571 ... 0            0            1           \n",
       "2 6.431 11.349 18.745 12.261 21.285 ... 0            0            0           \n",
       "3 7.572 20.832 32.167 21.693 35.535 ... 0            0            1           \n",
       "4 6.294  7.537 14.189  7.955 16.080 ... 0            0            0           \n",
       "5 6.191 12.876 21.629 14.023 24.701 ... 0            0            0           \n",
       "6 6.409 17.644 29.723 19.000 33.740 ... 0            0            0           \n",
       "  Hypertens.50 Hypnotic.80 Hypnotic.50 Neoplastic.80 Neoplastic.50 Infective.80\n",
       "1 0            1           0           1             0             1           \n",
       "2 0            0           0           0             0             0           \n",
       "3 0            1           1           1             0             1           \n",
       "4 0            0           0           0             0             0           \n",
       "5 0            0           0           0             0             0           \n",
       "6 0            1           0           1             0             1           \n",
       "  Infective.50\n",
       "1 0           \n",
       "2 0           \n",
       "3 1           \n",
       "4 0           \n",
       "5 0           \n",
       "6 0           "
      ]
     },
     "metadata": {},
     "output_type": "display_data"
    },
    {
     "data": {
      "text/html": [
       "<ol class=list-inline>\n",
       "\t<li>708</li>\n",
       "\t<li>4872</li>\n",
       "</ol>\n"
      ],
      "text/latex": [
       "\\begin{enumerate*}\n",
       "\\item 708\n",
       "\\item 4872\n",
       "\\end{enumerate*}\n"
      ],
      "text/markdown": [
       "1. 708\n",
       "2. 4872\n",
       "\n",
       "\n"
      ],
      "text/plain": [
       "[1]  708 4872"
      ]
     },
     "metadata": {},
     "output_type": "display_data"
    },
    {
     "data": {
      "text/html": [
       "4872"
      ],
      "text/latex": [
       "4872"
      ],
      "text/markdown": [
       "4872"
      ],
      "text/plain": [
       "[1] 4872"
      ]
     },
     "metadata": {},
     "output_type": "display_data"
    },
    {
     "data": {
      "text/html": [
       "708"
      ],
      "text/latex": [
       "708"
      ],
      "text/markdown": [
       "708"
      ],
      "text/plain": [
       "[1] 708"
      ]
     },
     "metadata": {},
     "output_type": "display_data"
    }
   ],
   "source": [
    "head(train)\n",
    "dim(train)\n",
    "ncol(train)\n",
    "nrow(train)"
   ]
  },
  {
   "cell_type": "markdown",
   "metadata": {},
   "source": [
    "BCP plus de prédicteurs que de données !"
   ]
  },
  {
   "cell_type": "code",
   "execution_count": null,
   "metadata": {},
   "outputs": [],
   "source": []
  }
 ],
 "metadata": {
  "kernelspec": {
   "display_name": "R",
   "language": "R",
   "name": "ir"
  },
  "language_info": {
   "codemirror_mode": "r",
   "file_extension": ".r",
   "mimetype": "text/x-r-source",
   "name": "R",
   "pygments_lexer": "r",
   "version": "3.6.1"
  }
 },
 "nbformat": 4,
 "nbformat_minor": 4
}
