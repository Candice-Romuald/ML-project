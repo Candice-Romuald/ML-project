{
 "cells": [
  {
   "cell_type": "code",
   "execution_count": 8,
   "metadata": {},
   "outputs": [],
   "source": [
    "#Libraries\n",
    "library(glmnet)"
   ]
  },
  {
   "cell_type": "markdown",
   "metadata": {},
   "source": [
    "# Code for submission test with lasso regularization"
   ]
  },
  {
   "cell_type": "code",
   "execution_count": 38,
   "metadata": {},
   "outputs": [],
   "source": [
    "#Training data initialiation\n",
    "train <- read.csv(file = '../../Data/training_data.csv')\n",
    "train <- na.omit(train)\n",
    "train.regr <- train[,-3]\n",
    "train.regr$Intensity <- as.numeric(train.regr$Intensity)\n",
    "\n",
    "#A DECOMENTER POUR LA SUBMISSION\n",
    "#y.train <- train.regr$\"VALENCE.PLEASANTNESS\"\n",
    "#train.regr <- train.regr[,-2]\n",
    "#x.train <- as.matrix(train.regr)\n",
    "\n",
    "#Test data initialisation\n",
    "test <- read.csv(file = '../../Data/test_data.csv')\n",
    "test <- na.omit(test)\n",
    "test <- test[,-1]\n",
    "test$Intensity <- as.numeric(test$Intensity)\n",
    "x.test <- as.matrix(test)\n",
    "\n",
    "#Validation set temporaraire le temps d'optimiser 2-3 hyperparametres A COMMENTER POUR LA SUBMISSION\n",
    "idx.train <- sample(nrow(train.regr), nrow(train.regr)*1/2)\n",
    "train.regr <- train.regr[idx.train,]\n",
    "validation <- train.regr[-idx.train,]\n",
    "\n",
    "y.train <- train.regr$\"VALENCE.PLEASANTNESS\"\n",
    "train.regr <- train.regr[,-2]\n",
    "x.train <- as.matrix(train.regr)\n",
    "\n",
    "y.val <- validation$\"VALENCE.PLEASANTNESS\"\n",
    "validation <- validation[,-2]\n",
    "x.val <- as.matrix(validation)\n"
   ]
  },
  {
   "cell_type": "code",
   "execution_count": 39,
   "metadata": {},
   "outputs": [],
   "source": [
    "#Pas utilisé pour le moment, à tester aussi\n",
    "##Declaring a function to remove predictors with 0 variance. This function returns the indices of the predicors with 0 variance.\n",
    "#ZeroVar <- function(data) {\n",
    "#    out <- lapply(data, function(x) length(unique(x)))\n",
    "#    want <- which(!out > 1)\n",
    "#    unlist(want)\n",
    "#}\n",
    "#\n",
    "##Applying the ZeroVar function\n",
    "#train.zeroVar <- train.regr[,-ZeroVar(train.regr)]"
   ]
  },
  {
   "cell_type": "code",
   "execution_count": 40,
   "metadata": {},
   "outputs": [
    {
     "data": {
      "text/html": [
       "1.37769666895361"
      ],
      "text/latex": [
       "1.37769666895361"
      ],
      "text/markdown": [
       "1.37769666895361"
      ],
      "text/plain": [
       "[1] 1.377697"
      ]
     },
     "metadata": {},
     "output_type": "display_data"
    }
   ],
   "source": [
    "#Finding best lambda value through cross-validation\n",
    "L2.cv <- cv.glmnet(x.train, y.train, alpha = 1, nfold = 10)\n",
    "lambda_best <- L2.cv$lambda.min \n",
    "lambda_best\n"
   ]
  },
  {
   "cell_type": "code",
   "execution_count": 41,
   "metadata": {},
   "outputs": [
    {
     "data": {
      "text/plain": [
       "          Length Class     Mode   \n",
       "a0           1   -none-    numeric\n",
       "beta      4870   dgCMatrix S4     \n",
       "df           1   -none-    numeric\n",
       "dim          2   -none-    numeric\n",
       "lambda       1   -none-    numeric\n",
       "dev.ratio    1   -none-    numeric\n",
       "nulldev      1   -none-    numeric\n",
       "npasses      1   -none-    numeric\n",
       "jerr         1   -none-    numeric\n",
       "offset       1   -none-    logical\n",
       "call         5   -none-    call   \n",
       "nobs         1   -none-    numeric"
      ]
     },
     "metadata": {},
     "output_type": "display_data"
    },
    {
     "data": {
      "text/html": [
       "18.7319545257243"
      ],
      "text/latex": [
       "18.7319545257243"
      ],
      "text/markdown": [
       "18.7319545257243"
      ],
      "text/plain": [
       "[1] 18.73195"
      ]
     },
     "metadata": {},
     "output_type": "display_data"
    }
   ],
   "source": [
    "#Training the model with the best lambda (1.38727064964386)\n",
    "Lasso_model <- glmnet(x.train, y.train, alpha = 1, lambda = lambda_best)\n",
    "\n",
    "summary(Lasso_model)\n",
    "\n",
    "#rmse avec les validations splits\n",
    "sqrt(mean((y.val - predict(Lasso_model, x.val))^2))"
   ]
  },
  {
   "cell_type": "code",
   "execution_count": 42,
   "metadata": {},
   "outputs": [],
   "source": [
    "result <- predict(Lasso_model,x.test)"
   ]
  },
  {
   "cell_type": "code",
   "execution_count": 85,
   "metadata": {},
   "outputs": [],
   "source": [
    "id <- 1:68\n",
    "final.data <- data.frame(Id = id,VALENCE.PLEASANTNESS = result)\n",
    "write.csv(final.data,\"../../Submission/Lasso.csv\",row.names = FALSE)"
   ]
  }
 ],
 "metadata": {
  "kernelspec": {
   "display_name": "R",
   "language": "R",
   "name": "ir"
  },
  "language_info": {
   "codemirror_mode": "r",
   "file_extension": ".r",
   "mimetype": "text/x-r-source",
   "name": "R",
   "pygments_lexer": "r",
   "version": "3.6.1"
  }
 },
 "nbformat": 4,
 "nbformat_minor": 4
}
