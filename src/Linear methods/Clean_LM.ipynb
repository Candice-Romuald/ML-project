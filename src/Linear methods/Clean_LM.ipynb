{
 "cells": [
  {
   "cell_type": "code",
   "execution_count": null,
   "metadata": {},
   "outputs": [],
   "source": [
    "#Libraries\n",
    "library(leaps)\n",
    "library(glmnet)\n",
    "library(tidymodels)"
   ]
  },
  {
   "cell_type": "markdown",
   "metadata": {},
   "source": [
    "# Commentaire pour nate: j'avais commencé ici, mais vu que j'ai pas osé run certain des big trucs j'ai arreté et je suis passé à LM.ipynb\n",
    "# Linear Methods\n",
    "\n",
    "In this notebook, we explore linear methods, or methods that are even less flexible\n",
    "\n",
    "## 1. Data preparation"
   ]
  },
  {
   "cell_type": "code",
   "execution_count": null,
   "metadata": {},
   "outputs": [],
   "source": [
    "train <- read.csv(file = '../../Data/training_data.csv')\n",
    "test <-  read.csv(file = '../../Data/test_data.csv')\n",
    "train.regr <- train[,-3]\n",
    "\n",
    "#Declaring a function to remove predictors with 0 variance. This function returns the indices of the predicors with 0 variance.\n",
    "ZeroVar <- function(data) {\n",
    "    out <- lapply(data, function(x) length(unique(x)))\n",
    "    want <- which(!out > 1)\n",
    "    unlist(want)\n",
    "}\n",
    "\n",
    "#Applying the ZeroVar function\n",
    "train.zeroVar <- train.regr[,-ZeroVar(train.regr)]"
   ]
  },
  {
   "cell_type": "markdown",
   "metadata": {},
   "source": [
    "### Basic linear fit"
   ]
  },
  {
   "cell_type": "code",
   "execution_count": null,
   "metadata": {},
   "outputs": [],
   "source": [
    "linear.fit1 <- lm(VALENCE.PLEASANTNESS ~ .,train.regr)\n",
    "linear.fit2 <- lm(VALENCE.PLEASANTNESS ~ .,train.zeroVar)"
   ]
  },
  {
   "cell_type": "code",
   "execution_count": null,
   "metadata": {},
   "outputs": [],
   "source": [
    "#summary(linear.fit1)\n",
    "#summary(linear.fit2)"
   ]
  },
  {
   "cell_type": "markdown",
   "metadata": {},
   "source": [
    "We do not show the entire results for these fits as it unnecessarily polluts this file, the respective $adusted-R^2$ values are:\n",
    "- 0.3205 for linear.fit1\n",
    "- 0.532 for linear.fit2"
   ]
  },
  {
   "cell_type": "code",
   "execution_count": null,
   "metadata": {},
   "outputs": [],
   "source": []
  },
  {
   "cell_type": "code",
   "execution_count": null,
   "metadata": {},
   "outputs": [],
   "source": []
  }
 ],
 "metadata": {
  "kernelspec": {
   "display_name": "R",
   "language": "R",
   "name": "ir"
  },
  "language_info": {
   "codemirror_mode": "r",
   "file_extension": ".r",
   "mimetype": "text/x-r-source",
   "name": "R",
   "pygments_lexer": "r",
   "version": "3.6.1"
  }
 },
 "nbformat": 4,
 "nbformat_minor": 4
}
