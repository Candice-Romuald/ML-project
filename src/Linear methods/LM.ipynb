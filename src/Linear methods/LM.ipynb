{
 "cells": [
  {
   "cell_type": "code",
   "execution_count": 24,
   "metadata": {},
   "outputs": [],
   "source": [
    "#Libraries\n",
    "library(leaps)\n",
    "library(glmnet)\n",
    "library(tidymodels)"
   ]
  },
  {
   "cell_type": "markdown",
   "metadata": {},
   "source": [
    "# Linear Methods\n",
    "\n",
    "In this notebook, we explore linear methods: simple linear regression and regsubset\n",
    "\n",
    "## 1. Data preparation"
   ]
  },
  {
   "cell_type": "code",
   "execution_count": 1,
   "metadata": {},
   "outputs": [],
   "source": [
    "train <- read.csv(file = '../../Data/training_data.csv')\n",
    "test <-  read.csv(file = '../../Data/test_data.csv')\n",
    "train.regr <- train[,-3]\n",
    "train.regr <- na.omit(train.regr)\n",
    "\n",
    "#Declaring a function to remove predictors with 0 variance. This function returns the indices of the predicors with 0 variance.\n",
    "ZeroVar <- function(data) {\n",
    "    out <- lapply(data, function(x) length(unique(x)))\n",
    "    want <- which(!out > 1)\n",
    "    unlist(want)\n",
    "}\n",
    "\n",
    "#Applying the ZeroVar function\n",
    "train.zeroVar <- train.regr[,-ZeroVar(train.regr)]"
   ]
  },
  {
   "cell_type": "markdown",
   "metadata": {},
   "source": [
    "## 2. Basic linear fit"
   ]
  },
  {
   "cell_type": "code",
   "execution_count": null,
   "metadata": {},
   "outputs": [],
   "source": [
    "linear.fit1 <- lm(VALENCE.PLEASANTNESS ~ .,train.regr)\n",
    "linear.fit2 <- lm(VALENCE.PLEASANTNESS ~ .,train.zeroVar)\n",
    "#summary(linear.fit1)\n",
    "#summary(linear.fit2)"
   ]
  },
  {
   "cell_type": "markdown",
   "metadata": {},
   "source": [
    "We do not show the entire results for these fits as it unnecessarily polluts this file, the respective $adusted-R^2$ values are:\n",
    "- 0.3205 for linear.fit1\n",
    "- 0.532 for linear.fit2"
   ]
  },
  {
   "cell_type": "markdown",
   "metadata": {},
   "source": [
    "## 3. Subset Selection\n",
    "### Foward selection"
   ]
  },
  {
   "cell_type": "code",
   "execution_count": 33,
   "metadata": {},
   "outputs": [
    {
     "name": "stderr",
     "output_type": "stream",
     "text": [
      "Warning message in leaps.setup(x, y, wt = wt, nbest = nbest, nvmax = nvmax, force.in = force.in, :\n",
      "\"4538  linear dependencies found\""
     ]
    },
    {
     "name": "stdout",
     "output_type": "stream",
     "text": [
      "Reordering variables and trying again:\n"
     ]
    }
   ],
   "source": [
    "less_variable.study.fw <- regsubsets(VALENCE.PLEASANTNESS ~ ., train.regr,nvmax = 150,really.big=T,method=\"forward\")"
   ]
  },
  {
   "cell_type": "code",
   "execution_count": 10,
   "metadata": {},
   "outputs": [
    {
     "data": {
      "text/html": [
       "<dl class=dl-horizontal>\n",
       "\t<dt>(Intercept)</dt>\n",
       "\t\t<dd>43.9192930766031</dd>\n",
       "\t<dt>MATS6i</dt>\n",
       "\t\t<dd>13.4428891853665</dd>\n",
       "\t<dt>JGI6</dt>\n",
       "\t\t<dd>359.261036030563</dd>\n",
       "\t<dt>P_VSA_MR_2</dt>\n",
       "\t\t<dd>0.140727071495987</dd>\n",
       "\t<dt>Eig05_EA.dm.</dt>\n",
       "\t\t<dd>8.9144290985427</dd>\n",
       "\t<dt>RDF120m</dt>\n",
       "\t\t<dd>-12.2158196470044</dd>\n",
       "\t<dt>HATS5v</dt>\n",
       "\t\t<dd>-63.6578171629438</dd>\n",
       "\t<dt>nRNHR</dt>\n",
       "\t\t<dd>-24.2947635185134</dd>\n",
       "\t<dt>CATS2D_03_NL</dt>\n",
       "\t\t<dd>-13.4447987684589</dd>\n",
       "\t<dt>F01.C.S.</dt>\n",
       "\t\t<dd>-6.6393970738813</dd>\n",
       "\t<dt>Depressant.50</dt>\n",
       "\t\t<dd>-37.4410700691006</dd>\n",
       "</dl>\n"
      ],
      "text/latex": [
       "\\begin{description*}\n",
       "\\item[(Intercept)] 43.9192930766031\n",
       "\\item[MATS6i] 13.4428891853665\n",
       "\\item[JGI6] 359.261036030563\n",
       "\\item[P\\textbackslash{}\\_VSA\\textbackslash{}\\_MR\\textbackslash{}\\_2] 0.140727071495987\n",
       "\\item[Eig05\\textbackslash{}\\_EA.dm.] 8.9144290985427\n",
       "\\item[RDF120m] -12.2158196470044\n",
       "\\item[HATS5v] -63.6578171629438\n",
       "\\item[nRNHR] -24.2947635185134\n",
       "\\item[CATS2D\\textbackslash{}\\_03\\textbackslash{}\\_NL] -13.4447987684589\n",
       "\\item[F01.C.S.] -6.6393970738813\n",
       "\\item[Depressant.50] -37.4410700691006\n",
       "\\end{description*}\n"
      ],
      "text/markdown": [
       "(Intercept)\n",
       ":   43.9192930766031MATS6i\n",
       ":   13.4428891853665JGI6\n",
       ":   359.261036030563P_VSA_MR_2\n",
       ":   0.140727071495987Eig05_EA.dm.\n",
       ":   8.9144290985427RDF120m\n",
       ":   -12.2158196470044HATS5v\n",
       ":   -63.6578171629438nRNHR\n",
       ":   -24.2947635185134CATS2D_03_NL\n",
       ":   -13.4447987684589F01.C.S.\n",
       ":   -6.6393970738813Depressant.50\n",
       ":   -37.4410700691006\n",
       "\n"
      ],
      "text/plain": [
       "  (Intercept)        MATS6i          JGI6    P_VSA_MR_2  Eig05_EA.dm. \n",
       "   43.9192931    13.4428892   359.2610360     0.1407271     8.9144291 \n",
       "      RDF120m        HATS5v         nRNHR  CATS2D_03_NL      F01.C.S. \n",
       "  -12.2158196   -63.6578172   -24.2947635   -13.4447988    -6.6393971 \n",
       "Depressant.50 \n",
       "  -37.4410701 "
      ]
     },
     "metadata": {},
     "output_type": "display_data"
    }
   ],
   "source": [
    "#summary(less_variable.study)\n",
    "#Printing the 10 most influent variables\n",
    "coef(less_variable.study.fw,id = 10) "
   ]
  },
  {
   "cell_type": "markdown",
   "metadata": {},
   "source": [
    "We do the same again with the data that has no zero variance predictors"
   ]
  },
  {
   "cell_type": "code",
   "execution_count": 19,
   "metadata": {},
   "outputs": [
    {
     "name": "stderr",
     "output_type": "stream",
     "text": [
      "Warning message in leaps.setup(x, y, wt = wt, nbest = nbest, nvmax = nvmax, force.in = force.in, :\n",
      "\"2696  linear dependencies found\""
     ]
    },
    {
     "name": "stdout",
     "output_type": "stream",
     "text": [
      "Reordering variables and trying again:\n"
     ]
    },
    {
     "name": "stderr",
     "output_type": "stream",
     "text": [
      "Warning message in rval$lopt[] <- rval$vorder[rval$lopt]:\n",
      "\"number of items to replace is not a multiple of replacement length\""
     ]
    },
    {
     "data": {
      "text/html": [
       "<dl class=dl-horizontal>\n",
       "\t<dt>(Intercept)</dt>\n",
       "\t\t<dd>43.9192930766031</dd>\n",
       "\t<dt>MATS6i</dt>\n",
       "\t\t<dd>13.4428891853665</dd>\n",
       "\t<dt>JGI6</dt>\n",
       "\t\t<dd>359.261036030563</dd>\n",
       "\t<dt>P_VSA_MR_2</dt>\n",
       "\t\t<dd>0.140727071495987</dd>\n",
       "\t<dt>Eig05_EA.dm.</dt>\n",
       "\t\t<dd>8.9144290985427</dd>\n",
       "\t<dt>RDF120m</dt>\n",
       "\t\t<dd>-12.2158196470044</dd>\n",
       "\t<dt>HATS5v</dt>\n",
       "\t\t<dd>-63.6578171629438</dd>\n",
       "\t<dt>nRNHR</dt>\n",
       "\t\t<dd>-24.2947635185134</dd>\n",
       "\t<dt>CATS2D_03_NL</dt>\n",
       "\t\t<dd>-13.4447987684589</dd>\n",
       "\t<dt>F01.C.S.</dt>\n",
       "\t\t<dd>-6.6393970738813</dd>\n",
       "\t<dt>Depressant.50</dt>\n",
       "\t\t<dd>-37.4410700691006</dd>\n",
       "</dl>\n"
      ],
      "text/latex": [
       "\\begin{description*}\n",
       "\\item[(Intercept)] 43.9192930766031\n",
       "\\item[MATS6i] 13.4428891853665\n",
       "\\item[JGI6] 359.261036030563\n",
       "\\item[P\\textbackslash{}\\_VSA\\textbackslash{}\\_MR\\textbackslash{}\\_2] 0.140727071495987\n",
       "\\item[Eig05\\textbackslash{}\\_EA.dm.] 8.9144290985427\n",
       "\\item[RDF120m] -12.2158196470044\n",
       "\\item[HATS5v] -63.6578171629438\n",
       "\\item[nRNHR] -24.2947635185134\n",
       "\\item[CATS2D\\textbackslash{}\\_03\\textbackslash{}\\_NL] -13.4447987684589\n",
       "\\item[F01.C.S.] -6.6393970738813\n",
       "\\item[Depressant.50] -37.4410700691006\n",
       "\\end{description*}\n"
      ],
      "text/markdown": [
       "(Intercept)\n",
       ":   43.9192930766031MATS6i\n",
       ":   13.4428891853665JGI6\n",
       ":   359.261036030563P_VSA_MR_2\n",
       ":   0.140727071495987Eig05_EA.dm.\n",
       ":   8.9144290985427RDF120m\n",
       ":   -12.2158196470044HATS5v\n",
       ":   -63.6578171629438nRNHR\n",
       ":   -24.2947635185134CATS2D_03_NL\n",
       ":   -13.4447987684589F01.C.S.\n",
       ":   -6.6393970738813Depressant.50\n",
       ":   -37.4410700691006\n",
       "\n"
      ],
      "text/plain": [
       "  (Intercept)        MATS6i          JGI6    P_VSA_MR_2  Eig05_EA.dm. \n",
       "   43.9192931    13.4428892   359.2610360     0.1407271     8.9144291 \n",
       "      RDF120m        HATS5v         nRNHR  CATS2D_03_NL      F01.C.S. \n",
       "  -12.2158196   -63.6578172   -24.2947635   -13.4447988    -6.6393971 \n",
       "Depressant.50 \n",
       "  -37.4410701 "
      ]
     },
     "metadata": {},
     "output_type": "display_data"
    }
   ],
   "source": [
    "less_variable.study.fw2 <- regsubsets(VALENCE.PLEASANTNESS ~ ., train.zeroVar,nvmax = 500,really.big=T,method=\"forward\")\n",
    "coef(less_variable.study.fw2,id = 10)                   \n"
   ]
  },
  {
   "cell_type": "markdown",
   "metadata": {},
   "source": [
    "### Backward Selection\n",
    "\n",
    "it was finally too long to run"
   ]
  },
  {
   "cell_type": "code",
   "execution_count": null,
   "metadata": {},
   "outputs": [],
   "source": [
    "#do not run (too long)\n",
    "less_variable.study.bc <- regsubsets(VALENCE.PLEASANTNESS ~ ., train.regr,nvmax = 100,really.big=T,method=\"backward\")\n"
   ]
  },
  {
   "cell_type": "code",
   "execution_count": 34,
   "metadata": {},
   "outputs": [],
   "source": [
    "C <- coef(less_variable.study.fw,id = 150) \n"
   ]
  },
  {
   "cell_type": "code",
   "execution_count": 13,
   "metadata": {},
   "outputs": [],
   "source": [
    "predict.regsubsets <- function(object, newdata, id, form = as.formula(object$call[[2]])) {\n",
    "    mat = model.matrix(form, newdata)\n",
    "    coefi = coef(object, id=id)\n",
    "    xvars = names(coefi)\n",
    "    mat[,xvars]%*%coefi\n",
    "}"
   ]
  },
  {
   "cell_type": "code",
   "execution_count": 35,
   "metadata": {},
   "outputs": [],
   "source": [
    "Id.best.variables <- names(C)\n",
    "Id.best.variables <- Id.best.variables[-1]"
   ]
  },
  {
   "cell_type": "code",
   "execution_count": 20,
   "metadata": {},
   "outputs": [],
   "source": [
    "Id.process <- names(coef(less_variable.study.fw2,id = 325))[-1]"
   ]
  },
  {
   "cell_type": "markdown",
   "metadata": {},
   "source": [
    "## K fold Validation (for subset selection) "
   ]
  },
  {
   "cell_type": "code",
   "execution_count": 25,
   "metadata": {},
   "outputs": [
    {
     "data": {
      "text/html": [
       "<ol class=list-inline>\n",
       "\t<li>708</li>\n",
       "\t<li>101</li>\n",
       "</ol>\n"
      ],
      "text/latex": [
       "\\begin{enumerate*}\n",
       "\\item 708\n",
       "\\item 101\n",
       "\\end{enumerate*}\n"
      ],
      "text/markdown": [
       "1. 708\n",
       "2. 101\n",
       "\n",
       "\n"
      ],
      "text/plain": [
       "[1] 708 101"
      ]
     },
     "metadata": {},
     "output_type": "display_data"
    }
   ],
   "source": [
    "#keep only the 100 most important variables.\n",
    "m <- model.matrix(VALENCE.PLEASANTNESS ~ .,train.regr)\n",
    "data.for.validation <- m[,Id.best.variables]\n",
    "data.for.validation <- data.frame(data.for.validation)\n",
    "data.for.validation$VALENCE.PLEASANTNESS <- train.regr[,\"VALENCE.PLEASANTNESS\"]\n",
    "dim(data.for.validation)"
   ]
  },
  {
   "cell_type": "code",
   "execution_count": 41,
   "metadata": {},
   "outputs": [],
   "source": [
    "validation_data <- vfold_cv(data.for.validation, v = 10) #v = nbr of fold !\n",
    "\n",
    "fit_and_evaluate <- function(fold, formula) {\n",
    "    best.fit.id <- regsubsets(formula, analysis(fold),really.big=T,method=\"forward\",nvmax = 150)\n",
    "    valid.set <- assessment(fold)\n",
    "    sapply(seq(1, best.fit.id$nvmax - 1), function(id) mean((valid.set$VALENCE.PLEASANTNESS - predict.regsubsets(best.fit.id, valid.set, id, formula))^2))\n",
    "}\n",
    "v.errors <- sapply(validation_data$splits, fit_and_evaluate,VALENCE.PLEASANTNESS ~ .)\n",
    "v.errors.id <- rowMeans(v.errors)"
   ]
  },
  {
   "cell_type": "code",
   "execution_count": 42,
   "metadata": {},
   "outputs": [
    {
     "data": {
      "image/png": "[encoded data removed]",
      "text/plain": [
       "plot without title"
      ]
     },
     "metadata": {},
     "output_type": "display_data"
    }
   ],
   "source": [
    "plot(1:150,v.errors.id)"
   ]
  },
  {
   "cell_type": "markdown",
   "metadata": {},
   "source": [
    "Based on this graph we should do regression with only 30 variables. "
   ]
  },
  {
   "cell_type": "code",
   "execution_count": 31,
   "metadata": {},
   "outputs": [],
   "source": [
    "m <- model.matrix(VALENCE.PLEASANTNESS ~ .,train.zeroVar)\n",
    "data.for.validation <- m[,Id.process]\n",
    "data.for.validation <- data.frame(data.for.validation)\n",
    "data.for.validation$VALENCE.PLEASANTNESS <- train.regr[,\"VALENCE.PLEASANTNESS\"]\n",
    "\n",
    "fit_and_evaluate <- function(fold, formula) {\n",
    "    best.fit.id <- regsubsets(formula, analysis(fold),really.big=T,method=\"forward\",nvmax = 300)\n",
    "    valid.set <- assessment(fold)\n",
    "    sapply(seq(1, best.fit.id$nvmax - 1), function(id) mean((valid.set$VALENCE.PLEASANTNESS - predict.regsubsets(best.fit.id, valid.set, id, formula))^2))\n",
    "}\n",
    "\n",
    "validation_data <- vfold_cv(data.for.validation, v = 12) #v = nbr of fold !\n",
    "\n",
    "v.errors <- sapply(validation_data$splits, fit_and_evaluate,VALENCE.PLEASANTNESS ~ .)\n",
    "v.errors.id <- rowMeans(v.errors)"
   ]
  },
  {
   "cell_type": "code",
   "execution_count": 32,
   "metadata": {},
   "outputs": [
    {
     "data": {
      "image/png": "[encoded data removed]",
      "text/plain": [
       "plot without title"
      ]
     },
     "metadata": {},
     "output_type": "display_data"
    }
   ],
   "source": [
    "plot(1:300,v.errors.id)"
   ]
  },
  {
   "cell_type": "markdown",
   "metadata": {},
   "source": [
    "Here the optimum choice is also with about 30 variables."
   ]
  },
  {
   "cell_type": "code",
   "execution_count": null,
   "metadata": {},
   "outputs": [],
   "source": []
  }
 ],
 "metadata": {
  "kernelspec": {
   "display_name": "R",
   "language": "R",
   "name": "ir"
  },
  "language_info": {
   "codemirror_mode": "r",
   "file_extension": ".r",
   "mimetype": "text/x-r-source",
   "name": "R",
   "pygments_lexer": "r",
   "version": "3.6.1"
  }
 },
 "nbformat": 4,
 "nbformat_minor": 4
}