{
 "cells": [
  {
   "cell_type": "code",
   "execution_count": 24,
   "metadata": {},
   "outputs": [],
   "source": [
    "#Libraries\n",
    "library(leaps)\n",
    "library(glmnet)\n",
    "library(tidymodels)"
   ]
  },
  {
   "cell_type": "markdown",
   "metadata": {},
   "source": [
    "# Linear Methods\n",
    "\n",
    "In this notebook, we explore linear methods: simple linear regression and regsubset\n",
    "\n",
    "## 1. Data preparation"
   ]
  },
  {
   "cell_type": "code",
   "execution_count": 1,
   "metadata": {},
   "outputs": [],
   "source": [
    "train <- read.csv(file = '../../Data/training_data.csv')\n",
    "test <-  read.csv(file = '../../Data/test_data.csv')\n",
    "train.regr <- train[,-3]\n",
    "train.regr <- na.omit(train.regr)\n",
    "\n",
    "#Declaring a function to remove predictors with 0 variance. This function returns the indices of the predicors with 0 variance.\n",
    "ZeroVar <- function(data) {\n",
    "    out <- lapply(data, function(x) length(unique(x)))\n",
    "    want <- which(!out > 1)\n",
    "    unlist(want)\n",
    "}\n",
    "\n",
    "#Applying the ZeroVar function\n",
    "train.zeroVar <- train.regr[,-ZeroVar(train.regr)]"
   ]
  },
  {
   "cell_type": "markdown",
   "metadata": {},
   "source": [
    "## 2. Basic linear fit"
   ]
  },
  {
   "cell_type": "code",
   "execution_count": null,
   "metadata": {},
   "outputs": [],
   "source": [
    "linear.fit1 <- lm(VALENCE.PLEASANTNESS ~ .,train.regr)\n",
    "linear.fit2 <- lm(VALENCE.PLEASANTNESS ~ .,train.zeroVar)\n",
    "#summary(linear.fit1)\n",
    "#summary(linear.fit2)"
   ]
  },
  {
   "cell_type": "markdown",
   "metadata": {},
   "source": [
    "We do not show the entire results for these fits as it unnecessarily polluts this file, the respective $adusted-R^2$ values are:\n",
    "- 0.3205 for linear.fit1\n",
    "- 0.532 for linear.fit2"
   ]
  },
  {
   "cell_type": "markdown",
   "metadata": {},
   "source": [
    "## 3. Subset Selection\n",
    "### Foward selection"
   ]
  },
  {
   "cell_type": "code",
   "execution_count": 33,
   "metadata": {},
   "outputs": [
    {
     "name": "stderr",
     "output_type": "stream",
     "text": [
      "Warning message in leaps.setup(x, y, wt = wt, nbest = nbest, nvmax = nvmax, force.in = force.in, :\n",
      "\"4538  linear dependencies found\""
     ]
    },
    {
     "name": "stdout",
     "output_type": "stream",
     "text": [
      "Reordering variables and trying again:\n"
     ]
    }
   ],
   "source": [
    "less_variable.study.fw <- regsubsets(VALENCE.PLEASANTNESS ~ ., train.regr,nvmax = 150,really.big=T,method=\"forward\")"
   ]
  },
  {
   "cell_type": "code",
   "execution_count": 10,
   "metadata": {},
   "outputs": [
    {
     "data": {
      "text/html": [
       "<dl class=dl-horizontal>\n",
       "\t<dt>(Intercept)</dt>\n",
       "\t\t<dd>43.9192930766031</dd>\n",
       "\t<dt>MATS6i</dt>\n",
       "\t\t<dd>13.4428891853665</dd>\n",
       "\t<dt>JGI6</dt>\n",
       "\t\t<dd>359.261036030563</dd>\n",
       "\t<dt>P_VSA_MR_2</dt>\n",
       "\t\t<dd>0.140727071495987</dd>\n",
       "\t<dt>Eig05_EA.dm.</dt>\n",
       "\t\t<dd>8.9144290985427</dd>\n",
       "\t<dt>RDF120m</dt>\n",
       "\t\t<dd>-12.2158196470044</dd>\n",
       "\t<dt>HATS5v</dt>\n",
       "\t\t<dd>-63.6578171629438</dd>\n",
       "\t<dt>nRNHR</dt>\n",
       "\t\t<dd>-24.2947635185134</dd>\n",
       "\t<dt>CATS2D_03_NL</dt>\n",
       "\t\t<dd>-13.4447987684589</dd>\n",
       "\t<dt>F01.C.S.</dt>\n",
       "\t\t<dd>-6.6393970738813</dd>\n",
       "\t<dt>Depressant.50</dt>\n",
       "\t\t<dd>-37.4410700691006</dd>\n",
       "</dl>\n"
      ],
      "text/latex": [
       "\\begin{description*}\n",
       "\\item[(Intercept)] 43.9192930766031\n",
       "\\item[MATS6i] 13.4428891853665\n",
       "\\item[JGI6] 359.261036030563\n",
       "\\item[P\\textbackslash{}\\_VSA\\textbackslash{}\\_MR\\textbackslash{}\\_2] 0.140727071495987\n",
       "\\item[Eig05\\textbackslash{}\\_EA.dm.] 8.9144290985427\n",
       "\\item[RDF120m] -12.2158196470044\n",
       "\\item[HATS5v] -63.6578171629438\n",
       "\\item[nRNHR] -24.2947635185134\n",
       "\\item[CATS2D\\textbackslash{}\\_03\\textbackslash{}\\_NL] -13.4447987684589\n",
       "\\item[F01.C.S.] -6.6393970738813\n",
       "\\item[Depressant.50] -37.4410700691006\n",
       "\\end{description*}\n"
      ],
      "text/markdown": [
       "(Intercept)\n",
       ":   43.9192930766031MATS6i\n",
       ":   13.4428891853665JGI6\n",
       ":   359.261036030563P_VSA_MR_2\n",
       ":   0.140727071495987Eig05_EA.dm.\n",
       ":   8.9144290985427RDF120m\n",
       ":   -12.2158196470044HATS5v\n",
       ":   -63.6578171629438nRNHR\n",
       ":   -24.2947635185134CATS2D_03_NL\n",
       ":   -13.4447987684589F01.C.S.\n",
       ":   -6.6393970738813Depressant.50\n",
       ":   -37.4410700691006\n",
       "\n"
      ],
      "text/plain": [
       "  (Intercept)        MATS6i          JGI6    P_VSA_MR_2  Eig05_EA.dm. \n",
       "   43.9192931    13.4428892   359.2610360     0.1407271     8.9144291 \n",
       "      RDF120m        HATS5v         nRNHR  CATS2D_03_NL      F01.C.S. \n",
       "  -12.2158196   -63.6578172   -24.2947635   -13.4447988    -6.6393971 \n",
       "Depressant.50 \n",
       "  -37.4410701 "
      ]
     },
     "metadata": {},
     "output_type": "display_data"
    }
   ],
   "source": [
    "#summary(less_variable.study)\n",
    "#Printing the 10 most influent variables\n",
    "coef(less_variable.study.fw,id = 10) "
   ]
  },
  {
   "cell_type": "markdown",
   "metadata": {},
   "source": [
    "We do the same again with the data that has no zero variance predictors"
   ]
  },
  {
   "cell_type": "code",
   "execution_count": 19,
   "metadata": {},
   "outputs": [
    {
     "name": "stderr",
     "output_type": "stream",
     "text": [
      "Warning message in leaps.setup(x, y, wt = wt, nbest = nbest, nvmax = nvmax, force.in = force.in, :\n",
      "\"2696  linear dependencies found\""
     ]
    },
    {
     "name": "stdout",
     "output_type": "stream",
     "text": [
      "Reordering variables and trying again:\n"
     ]
    },
    {
     "name": "stderr",
     "output_type": "stream",
     "text": [
      "Warning message in rval$lopt[] <- rval$vorder[rval$lopt]:\n",
      "\"number of items to replace is not a multiple of replacement length\""
     ]
    },
    {
     "data": {
      "text/html": [
       "<dl class=dl-horizontal>\n",
       "\t<dt>(Intercept)</dt>\n",
       "\t\t<dd>43.9192930766031</dd>\n",
       "\t<dt>MATS6i</dt>\n",
       "\t\t<dd>13.4428891853665</dd>\n",
       "\t<dt>JGI6</dt>\n",
       "\t\t<dd>359.261036030563</dd>\n",
       "\t<dt>P_VSA_MR_2</dt>\n",
       "\t\t<dd>0.140727071495987</dd>\n",
       "\t<dt>Eig05_EA.dm.</dt>\n",
       "\t\t<dd>8.9144290985427</dd>\n",
       "\t<dt>RDF120m</dt>\n",
       "\t\t<dd>-12.2158196470044</dd>\n",
       "\t<dt>HATS5v</dt>\n",
       "\t\t<dd>-63.6578171629438</dd>\n",
       "\t<dt>nRNHR</dt>\n",
       "\t\t<dd>-24.2947635185134</dd>\n",
       "\t<dt>CATS2D_03_NL</dt>\n",
       "\t\t<dd>-13.4447987684589</dd>\n",
       "\t<dt>F01.C.S.</dt>\n",
       "\t\t<dd>-6.6393970738813</dd>\n",
       "\t<dt>Depressant.50</dt>\n",
       "\t\t<dd>-37.4410700691006</dd>\n",
       "</dl>\n"
      ],
      "text/latex": [
       "\\begin{description*}\n",
       "\\item[(Intercept)] 43.9192930766031\n",
       "\\item[MATS6i] 13.4428891853665\n",
       "\\item[JGI6] 359.261036030563\n",
       "\\item[P\\textbackslash{}\\_VSA\\textbackslash{}\\_MR\\textbackslash{}\\_2] 0.140727071495987\n",
       "\\item[Eig05\\textbackslash{}\\_EA.dm.] 8.9144290985427\n",
       "\\item[RDF120m] -12.2158196470044\n",
       "\\item[HATS5v] -63.6578171629438\n",
       "\\item[nRNHR] -24.2947635185134\n",
       "\\item[CATS2D\\textbackslash{}\\_03\\textbackslash{}\\_NL] -13.4447987684589\n",
       "\\item[F01.C.S.] -6.6393970738813\n",
       "\\item[Depressant.50] -37.4410700691006\n",
       "\\end{description*}\n"
      ],
      "text/markdown": [
       "(Intercept)\n",
       ":   43.9192930766031MATS6i\n",
       ":   13.4428891853665JGI6\n",
       ":   359.261036030563P_VSA_MR_2\n",
       ":   0.140727071495987Eig05_EA.dm.\n",
       ":   8.9144290985427RDF120m\n",
       ":   -12.2158196470044HATS5v\n",
       ":   -63.6578171629438nRNHR\n",
       ":   -24.2947635185134CATS2D_03_NL\n",
       ":   -13.4447987684589F01.C.S.\n",
       ":   -6.6393970738813Depressant.50\n",
       ":   -37.4410700691006\n",
       "\n"
      ],
      "text/plain": [
       "  (Intercept)        MATS6i          JGI6    P_VSA_MR_2  Eig05_EA.dm. \n",
       "   43.9192931    13.4428892   359.2610360     0.1407271     8.9144291 \n",
       "      RDF120m        HATS5v         nRNHR  CATS2D_03_NL      F01.C.S. \n",
       "  -12.2158196   -63.6578172   -24.2947635   -13.4447988    -6.6393971 \n",
       "Depressant.50 \n",
       "  -37.4410701 "
      ]
     },
     "metadata": {},
     "output_type": "display_data"
    }
   ],
   "source": [
    "less_variable.study.fw2 <- regsubsets(VALENCE.PLEASANTNESS ~ ., train.zeroVar,nvmax = 500,really.big=T,method=\"forward\")\n",
    "coef(less_variable.study.fw2,id = 10)                   \n"
   ]
  },
  {
   "cell_type": "markdown",
   "metadata": {},
   "source": [
    "### Backward Selection\n",
    "\n",
    "it was finally too long to run"
   ]
  },
  {
   "cell_type": "code",
   "execution_count": null,
   "metadata": {},
   "outputs": [],
   "source": [
    "#do not run (too long)\n",
    "less_variable.study.bc <- regsubsets(VALENCE.PLEASANTNESS ~ ., train.regr,nvmax = 100,really.big=T,method=\"backward\")\n"
   ]
  },
  {
   "cell_type": "code",
   "execution_count": 34,
   "metadata": {},
   "outputs": [],
   "source": [
    "C <- coef(less_variable.study.fw,id = 150) \n"
   ]
  },
  {
   "cell_type": "code",
   "execution_count": 13,
   "metadata": {},
   "outputs": [],
   "source": [
    "predict.regsubsets <- function(object, newdata, id, form = as.formula(object$call[[2]])) {\n",
    "    mat = model.matrix(form, newdata)\n",
    "    coefi = coef(object, id=id)\n",
    "    xvars = names(coefi)\n",
    "    mat[,xvars]%*%coefi\n",
    "}"
   ]
  },
  {
   "cell_type": "code",
   "execution_count": 35,
   "metadata": {},
   "outputs": [],
   "source": [
    "Id.best.variables <- names(C)\n",
    "Id.best.variables <- Id.best.variables[-1]"
   ]
  },
  {
   "cell_type": "code",
   "execution_count": 20,
   "metadata": {},
   "outputs": [],
   "source": [
    "Id.process <- names(coef(less_variable.study.fw2,id = 325))[-1]"
   ]
  },
  {
   "cell_type": "markdown",
   "metadata": {},
   "source": [
    "## K fold Validation (for subset selection) "
   ]
  },
  {
   "cell_type": "code",
   "execution_count": 25,
   "metadata": {},
   "outputs": [
    {
     "data": {
      "text/html": [
       "<ol class=list-inline>\n",
       "\t<li>708</li>\n",
       "\t<li>101</li>\n",
       "</ol>\n"
      ],
      "text/latex": [
       "\\begin{enumerate*}\n",
       "\\item 708\n",
       "\\item 101\n",
       "\\end{enumerate*}\n"
      ],
      "text/markdown": [
       "1. 708\n",
       "2. 101\n",
       "\n",
       "\n"
      ],
      "text/plain": [
       "[1] 708 101"
      ]
     },
     "metadata": {},
     "output_type": "display_data"
    }
   ],
   "source": [
    "#keep only the 100 most important variables.\n",
    "m <- model.matrix(VALENCE.PLEASANTNESS ~ .,train.regr)\n",
    "data.for.validation <- m[,Id.best.variables]\n",
    "data.for.validation <- data.frame(data.for.validation)\n",
    "data.for.validation$VALENCE.PLEASANTNESS <- train.regr[,\"VALENCE.PLEASANTNESS\"]\n",
    "dim(data.for.validation)"
   ]
  },
  {
   "cell_type": "code",
   "execution_count": 41,
   "metadata": {},
   "outputs": [],
   "source": [
    "validation_data <- vfold_cv(data.for.validation, v = 10) #v = nbr of fold !\n",
    "\n",
    "fit_and_evaluate <- function(fold, formula) {\n",
    "    best.fit.id <- regsubsets(formula, analysis(fold),really.big=T,method=\"forward\",nvmax = 150)\n",
    "    valid.set <- assessment(fold)\n",
    "    sapply(seq(1, best.fit.id$nvmax - 1), function(id) mean((valid.set$VALENCE.PLEASANTNESS - predict.regsubsets(best.fit.id, valid.set, id, formula))^2))\n",
    "}\n",
    "v.errors <- sapply(validation_data$splits, fit_and_evaluate,VALENCE.PLEASANTNESS ~ .)\n",
    "v.errors.id <- rowMeans(v.errors)"
   ]
  },
  {
   "cell_type": "code",
   "execution_count": 42,
   "metadata": {},
   "outputs": [
    {
<<<<<<< HEAD
     "data": {
      "image/png": "iVBORw0KGgoAAAANSUhEUgAAA0gAAANICAMAAADKOT/pAAAAMFBMVEUAAABNTU1oaGh8fHyM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\nYII=",
=======
     "name": "stderr",
     "output_type": "stream",
     "text": [
      "Warning message in leaps.setup(x, y, wt = wt, nbest = nbest, nvmax = nvmax, force.in = force.in, :\n",
      "\"1  linear dependencies found\""
     ]
    },
    {
     "name": "stdout",
     "output_type": "stream",
     "text": [
      "Reordering variables and trying again:\n"
     ]
    },
    {
     "name": "stderr",
     "output_type": "stream",
     "text": [
      "Warning message in leaps.setup(x, y, wt = wt, nbest = nbest, nvmax = nvmax, force.in = force.in, :\n",
      "\"1  linear dependencies found\""
     ]
    },
    {
     "name": "stdout",
     "output_type": "stream",
     "text": [
      "Reordering variables and trying again:\n"
     ]
    },
    {
     "name": "stderr",
     "output_type": "stream",
     "text": [
      "Warning message in leaps.setup(x, y, wt = wt, nbest = nbest, nvmax = nvmax, force.in = force.in, :\n",
      "\"1  linear dependencies found\""
     ]
    },
    {
     "name": "stdout",
     "output_type": "stream",
     "text": [
      "Reordering variables and trying again:\n"
     ]
    },
    {
     "name": "stderr",
     "output_type": "stream",
     "text": [
      "Warning message in leaps.setup(x, y, wt = wt, nbest = nbest, nvmax = nvmax, force.in = force.in, :\n",
      "\"1  linear dependencies found\""
     ]
    },
    {
     "name": "stdout",
     "output_type": "stream",
     "text": [
      "Reordering variables and trying again:\n"
     ]
    },
    {
     "name": "stderr",
     "output_type": "stream",
     "text": [
      "Warning message in leaps.setup(x, y, wt = wt, nbest = nbest, nvmax = nvmax, force.in = force.in, :\n",
      "\"1  linear dependencies found\""
     ]
    },
    {
     "name": "stdout",
     "output_type": "stream",
     "text": [
      "Reordering variables and trying again:\n"
     ]
    },
    {
     "name": "stderr",
     "output_type": "stream",
     "text": [
      "Warning message in leaps.setup(x, y, wt = wt, nbest = nbest, nvmax = nvmax, force.in = force.in, :\n",
      "\"1  linear dependencies found\""
     ]
    },
    {
     "name": "stdout",
     "output_type": "stream",
     "text": [
      "Reordering variables and trying again:\n"
     ]
    },
    {
     "name": "stderr",
     "output_type": "stream",
     "text": [
      "Warning message in leaps.setup(x, y, wt = wt, nbest = nbest, nvmax = nvmax, force.in = force.in, :\n",
      "\"1  linear dependencies found\""
     ]
    },
    {
     "name": "stdout",
     "output_type": "stream",
     "text": [
      "Reordering variables and trying again:\n"
     ]
    },
    {
     "name": "stderr",
     "output_type": "stream",
     "text": [
      "Warning message in leaps.setup(x, y, wt = wt, nbest = nbest, nvmax = nvmax, force.in = force.in, :\n",
      "\"1  linear dependencies found\""
     ]
    },
    {
     "name": "stdout",
     "output_type": "stream",
     "text": [
      "Reordering variables and trying again:\n"
     ]
    },
    {
     "name": "stderr",
     "output_type": "stream",
     "text": [
      "Warning message in leaps.setup(x, y, wt = wt, nbest = nbest, nvmax = nvmax, force.in = force.in, :\n",
      "\"1  linear dependencies found\""
     ]
    },
    {
     "name": "stdout",
     "output_type": "stream",
     "text": [
      "Reordering variables and trying again:\n"
     ]
    },
    {
     "name": "stderr",
     "output_type": "stream",
     "text": [
      "Warning message in leaps.setup(x, y, wt = wt, nbest = nbest, nvmax = nvmax, force.in = force.in, :\n",
      "\"1  linear dependencies found\""
     ]
    },
    {
     "name": "stdout",
     "output_type": "stream",
     "text": [
      "Reordering variables and trying again:\n"
     ]
    },
    {
     "name": "stderr",
     "output_type": "stream",
     "text": [
      "Warning message in leaps.setup(x, y, wt = wt, nbest = nbest, nvmax = nvmax, force.in = force.in, :\n",
      "\"1  linear dependencies found\""
     ]
    },
    {
     "name": "stdout",
     "output_type": "stream",
     "text": [
      "Reordering variables and trying again:\n"
     ]
    },
    {
     "name": "stderr",
     "output_type": "stream",
     "text": [
      "Warning message in leaps.setup(x, y, wt = wt, nbest = nbest, nvmax = nvmax, force.in = force.in, :\n",
      "\"1  linear dependencies found\""
     ]
    },
    {
     "name": "stdout",
     "output_type": "stream",
     "text": [
      "Reordering variables and trying again:\n"
     ]
    },
    {
     "name": "stderr",
     "output_type": "stream",
     "text": [
      "Warning message in leaps.setup(x, y, wt = wt, nbest = nbest, nvmax = nvmax, force.in = force.in, :\n",
      "\"1  linear dependencies found\""
     ]
    },
    {
     "name": "stdout",
     "output_type": "stream",
     "text": [
      "Reordering variables and trying again:\n"
     ]
    },
    {
     "name": "stderr",
     "output_type": "stream",
     "text": [
      "Warning message in leaps.setup(x, y, wt = wt, nbest = nbest, nvmax = nvmax, force.in = force.in, :\n",
      "\"1  linear dependencies found\""
     ]
    },
    {
     "name": "stdout",
     "output_type": "stream",
     "text": [
      "Reordering variables and trying again:\n"
     ]
    },
    {
     "name": "stderr",
     "output_type": "stream",
     "text": [
      "Warning message in leaps.setup(x, y, wt = wt, nbest = nbest, nvmax = nvmax, force.in = force.in, :\n",
      "\"1  linear dependencies found\""
     ]
    },
    {
     "name": "stdout",
     "output_type": "stream",
     "text": [
      "Reordering variables and trying again:\n"
     ]
    },
    {
     "name": "stderr",
     "output_type": "stream",
     "text": [
      "Warning message in leaps.setup(x, y, wt = wt, nbest = nbest, nvmax = nvmax, force.in = force.in, :\n",
      "\"1  linear dependencies found\""
     ]
    },
    {
     "name": "stdout",
     "output_type": "stream",
     "text": [
      "Reordering variables and trying again:\n"
     ]
    },
    {
     "name": "stderr",
     "output_type": "stream",
     "text": [
      "Warning message in leaps.setup(x, y, wt = wt, nbest = nbest, nvmax = nvmax, force.in = force.in, :\n",
      "\"1  linear dependencies found\""
     ]
    },
    {
     "name": "stdout",
     "output_type": "stream",
     "text": [
      "Reordering variables and trying again:\n"
     ]
    },
    {
     "name": "stderr",
     "output_type": "stream",
     "text": [
      "Warning message in leaps.setup(x, y, wt = wt, nbest = nbest, nvmax = nvmax, force.in = force.in, :\n",
      "\"1  linear dependencies found\""
     ]
    },
    {
     "name": "stdout",
     "output_type": "stream",
     "text": [
      "Reordering variables and trying again:\n"
     ]
    },
    {
     "name": "stderr",
     "output_type": "stream",
     "text": [
      "Warning message in leaps.setup(x, y, wt = wt, nbest = nbest, nvmax = nvmax, force.in = force.in, :\n",
      "\"1  linear dependencies found\""
     ]
    },
    {
     "name": "stdout",
     "output_type": "stream",
     "text": [
      "Reordering variables and trying again:\n"
     ]
    },
    {
     "name": "stderr",
     "output_type": "stream",
     "text": [
      "Warning message in leaps.setup(x, y, wt = wt, nbest = nbest, nvmax = nvmax, force.in = force.in, :\n",
      "\"1  linear dependencies found\""
     ]
    },
    {
     "name": "stdout",
     "output_type": "stream",
     "text": [
      "Reordering variables and trying again:\n"
     ]
    }
   ],
   "source": [
    "validation_data <- vfold_cv(data.for.validation, v = 20) #v = nbr of fold !\n",
    "\n",
    "fit_and_evaluate <- function(fold, formula) {\n",
    "    best.fit.id <- regsubsets(formula, analysis(fold),really.big=T,method=\"forward\",nvmax = 96)\n",
    "    valid.set <- assessment(fold)\n",
    "    sapply(seq(1, best.fit.id$nvmax - 1), function(id) mean((valid.set$VALENCE.PLEASANTNESS - predict.regsubsets(best.fit.id, valid.set, id, formula))^2))\n",
    "}\n",
    "v.errors <- sapply(validation_data$splits, fit_and_evaluate,VALENCE.PLEASANTNESS ~ .)\n",
    "v.errors.id <- rowMeans(v.errors)"
   ]
  },
  {
   "cell_type": "code",
   "execution_count": 19,
   "metadata": {},
   "outputs": [
    {
     "data": {
      "image/png": "iVBORw0KGgoAAAANSUhEUgAAA0gAAANICAMAAADKOT/pAAAAMFBMVEUAAABNTU1oaGh8fHyM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\nEBIEEBIEEBIE+A9xCvgZzf5W0wAAAABJRU5ErkJggg==",
>>>>>>> e521cc5607692e5bbbeeeae5b8c22146e650ee83
      "text/plain": [
       "plot without title"
      ]
     },
     "metadata": {},
     "output_type": "display_data"
    }
   ],
   "source": [
<<<<<<< HEAD
    "plot(1:150,v.errors.id)"
   ]
  },
  {
   "cell_type": "markdown",
   "metadata": {},
   "source": [
    "Based on this graph we should do regression with only 30 variables. "
=======
    "#v.errors.id\n",
    "plot(1:97,v.errors.id)"
>>>>>>> e521cc5607692e5bbbeeeae5b8c22146e650ee83
   ]
  },
  {
   "cell_type": "code",
<<<<<<< HEAD
   "execution_count": 31,
   "metadata": {},
   "outputs": [],
   "source": [
    "m <- model.matrix(VALENCE.PLEASANTNESS ~ .,train.zeroVar)\n",
=======
   "execution_count": 21,
   "metadata": {},
   "outputs": [],
   "source": [
    "m <- model.matrix(VALENCE.PLEASANTNESS ~ .,data.train.process)\n",
>>>>>>> e521cc5607692e5bbbeeeae5b8c22146e650ee83
    "data.for.validation <- m[,Id.process]\n",
    "data.for.validation <- data.frame(data.for.validation)\n",
    "data.for.validation$VALENCE.PLEASANTNESS <- train.regr[,\"VALENCE.PLEASANTNESS\"]\n",
    "\n",
<<<<<<< HEAD
    "fit_and_evaluate <- function(fold, formula) {\n",
    "    best.fit.id <- regsubsets(formula, analysis(fold),really.big=T,method=\"forward\",nvmax = 300)\n",
    "    valid.set <- assessment(fold)\n",
    "    sapply(seq(1, best.fit.id$nvmax - 1), function(id) mean((valid.set$VALENCE.PLEASANTNESS - predict.regsubsets(best.fit.id, valid.set, id, formula))^2))\n",
    "}\n",
    "\n",
    "validation_data <- vfold_cv(data.for.validation, v = 12) #v = nbr of fold !\n",
    "\n",
=======
    "\n",
    "validation_data <- vfold_cv(data.for.validation, v = 25) #v = nbr of fold !\n",
    "\n",
    "fit_and_evaluate <- function(fold, formula) {\n",
    "    best.fit.id <- regsubsets(formula, analysis(fold),really.big=T,method=\"forward\",nvmax = 200)\n",
    "    valid.set <- assessment(fold)\n",
    "    sapply(seq(1, best.fit.id$nvmax - 1), function(id) mean((valid.set$VALENCE.PLEASANTNESS - predict.regsubsets(best.fit.id, valid.set, id, formula))^2))\n",
    "}\n",
>>>>>>> e521cc5607692e5bbbeeeae5b8c22146e650ee83
    "v.errors <- sapply(validation_data$splits, fit_and_evaluate,VALENCE.PLEASANTNESS ~ .)\n",
    "v.errors.id <- rowMeans(v.errors)"
   ]
  },
  {
   "cell_type": "code",
<<<<<<< HEAD
   "execution_count": 32,
=======
   "execution_count": 22,
>>>>>>> e521cc5607692e5bbbeeeae5b8c22146e650ee83
   "metadata": {},
   "outputs": [
    {
     "data": {
<<<<<<< HEAD
      "image/png": "iVBORw0KGgoAAAANSUhEUgAAA0gAAANICAMAAADKOT/pAAAAMFBMVEUAAABNTU1oaGh8fHyM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\nAQoIEqCAIAEKCBKg4D9zqNkCgAnlogAAAABJRU5ErkJggg==",
=======
      "image/png": "iVBORw0KGgoAAAANSUhEUgAAA0gAAANICAMAAADKOT/pAAAAMFBMVEUAAABNTU1oaGh8fHyM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\nAhQQJEABQQIUECRAAUECFPwHdWtSGXQOx3AAAAAASUVORK5CYII=",
>>>>>>> e521cc5607692e5bbbeeeae5b8c22146e650ee83
      "text/plain": [
       "plot without title"
      ]
     },
     "metadata": {},
     "output_type": "display_data"
    }
   ],
<<<<<<< HEAD
   "source": [
    "plot(1:300,v.errors.id)"
=======
   "source": [
    "plot(1:200,v.errors.id)"
   ]
  },
  {
   "cell_type": "code",
   "execution_count": 69,
   "metadata": {},
   "outputs": [
    {
     "data": {
      "image/png": "iVBORw0KGgoAAAANSUhEUgAAA0gAAANICAMAAADKOT/pAAAAMFBMVEUAAABNTU1oaGh8fHyM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\n",
      "text/plain": [
       "plot without title"
      ]
     },
     "metadata": {},
     "output_type": "display_data"
    }
   ],
   "source": [
    "plot(1:200,v.errors.id)"
   ]
  },
  {
   "cell_type": "markdown",
   "metadata": {},
   "source": [
    "## Regularization"
   ]
  },
  {
   "cell_type": "code",
   "execution_count": 24,
   "metadata": {},
   "outputs": [],
   "source": [
    "data.train.process$Intensity <- as.numeric(data.train.process[,'Intensity'])"
   ]
  },
  {
   "cell_type": "code",
   "execution_count": 43,
   "metadata": {},
   "outputs": [],
   "source": [
    "y <- data.train.process$VALENCE.PLEASANTNESS\n",
    "x <- as.matrix(data.train.process)\n",
    "L2 <- glmnet(x, y, alpha = 0, lambda = 10^seq(100,80, length = 100))\n",
    "plot(L2, \"lambda\", xlab = parse(text = \"Log(lambda)\"))\n",
    "L2.cv <- cv.glmnet(x, y, alpha = 0, nfold = 20)\n",
    "plot(L2.cv)\n",
    "\n",
    "T <- train.regr\n",
    "T$Intensity <- as.numeric(train.regr[,'Intensity'])"
   ]
  },
  {
   "cell_type": "code",
   "execution_count": 8,
   "metadata": {},
   "outputs": [],
   "source": [
    "y <- T$VALENCE.PLEASANTNESS\n",
    "x <- as.matrix(T)"
   ]
  },
  {
   "cell_type": "code",
   "execution_count": 10,
   "metadata": {},
   "outputs": [
    {
     "data": {
      "image/png": "iVBORw0KGgoAAAANSUhEUgAAA0gAAANICAMAAADKOT/pAAAAP1BMVEUAAAAAAP8AzQAA//9N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\nwMB/qDA4TqDIWpQAAAAASUVORK5CYII=",
      "text/plain": [
       "plot without title"
      ]
     },
     "metadata": {},
     "output_type": "display_data"
    },
    {
     "data": {
      "image/png": "iVBORw0KGgoAAAANSUhEUgAAA0gAAANICAMAAADKOT/pAAAANlBMVEUAAABNTU1oaGh8fHyM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\nBEAkAAH+B/4zR18lW5xfAAAAAElFTkSuQmCC",
      "text/plain": [
       "plot without title"
      ]
     },
     "metadata": {},
     "output_type": "display_data"
    }
   ],
   "source": [
    "\n",
    "L2 <- glmnet(x, y, alpha = 0, lambda = 10^seq(2,-3, length = 100))\n",
    "plot(L2, \"lambda\", xlab = parse(text = \"Log(lambda)\"))\n",
    "L2.cv <- cv.glmnet(x, y, alpha = 0, nfold = 10)\n",
    "plot(L2.cv)"
>>>>>>> e521cc5607692e5bbbeeeae5b8c22146e650ee83
   ]
  },
  {
   "cell_type": "markdown",
   "metadata": {},
   "source": [
    "Here the optimum choice is also with about 30 variables."
   ]
  },
  {
   "cell_type": "code",
   "execution_count": null,
   "metadata": {},
   "outputs": [],
   "source": []
  }
 ],
 "metadata": {
  "kernelspec": {
   "display_name": "R",
   "language": "R",
   "name": "ir"
  },
  "language_info": {
   "codemirror_mode": "r",
   "file_extension": ".r",
   "mimetype": "text/x-r-source",
   "name": "R",
   "pygments_lexer": "r",
   "version": "3.6.1"
  }
 },
 "nbformat": 4,
 "nbformat_minor": 4
}
