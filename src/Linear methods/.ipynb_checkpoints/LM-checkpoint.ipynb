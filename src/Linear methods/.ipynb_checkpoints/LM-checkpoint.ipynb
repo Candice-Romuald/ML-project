{
 "cells": [
  {
   "cell_type": "code",
   "execution_count": 1,
   "metadata": {},
   "outputs": [
    {
     "name": "stderr",
     "output_type": "stream",
     "text": [
      "Warning message:\n",
      "\"package 'leaps' was built under R version 3.6.3\"Loading required package: Matrix\n",
      "Loading required package: foreach\n",
      "Loaded glmnet 2.0-16\n",
      "\n",
      "Warning message:\n",
      "\"package 'tidymodels' was built under R version 3.6.3\"-- Attaching packages --------------------------------------------------------------------------------------------------------------------------------------------------------------------------------------------------- tidymodels 0.1.2 --\n",
      "v broom     0.7.2      v recipes   0.1.15\n",
      "v dials     0.0.9      v rsample   0.0.8 \n",
      "v dplyr     1.0.2      v tibble    3.0.4 \n",
      "v ggplot2   3.3.2      v tidyr     1.1.2 \n",
      "v infer     0.5.3      v tune      0.1.2 \n",
      "v modeldata 0.1.0      v workflows 0.2.1 \n",
      "v parsnip   0.1.4      v yardstick 0.0.7 \n",
      "v purrr     0.3.4      \n",
      "Warning message:\n",
      "\"package 'broom' was built under R version 3.6.3\"Warning message:\n",
      "\"package 'dials' was built under R version 3.6.3\"Warning message:\n",
      "\"package 'dplyr' was built under R version 3.6.3\"Warning message:\n",
      "\"package 'ggplot2' was built under R version 3.6.3\"Warning message:\n",
      "\"package 'infer' was built under R version 3.6.3\"Warning message:\n",
      "\"package 'modeldata' was built under R version 3.6.3\"Warning message:\n",
      "\"package 'parsnip' was built under R version 3.6.3\"Warning message:\n",
      "\"package 'purrr' was built under R version 3.6.3\"Warning message:\n",
      "\"package 'recipes' was built under R version 3.6.3\"Warning message:\n",
      "\"package 'rsample' was built under R version 3.6.3\"Warning message:\n",
      "\"package 'tibble' was built under R version 3.6.3\"Warning message:\n",
      "\"package 'tidyr' was built under R version 3.6.3\"Warning message:\n",
      "\"package 'tune' was built under R version 3.6.3\"Warning message:\n",
      "\"package 'workflows' was built under R version 3.6.3\"Warning message:\n",
      "\"package 'yardstick' was built under R version 3.6.3\"-- Conflicts ------------------------------------------------------------------------------------------------------------------------------------------------------------------------------------------------------ tidymodels_conflicts() --\n",
      "x purrr::accumulate() masks foreach::accumulate()\n",
      "x purrr::discard()    masks scales::discard()\n",
      "x tidyr::expand()     masks Matrix::expand()\n",
      "x dplyr::filter()     masks stats::filter()\n",
      "x dplyr::lag()        masks stats::lag()\n",
      "x tidyr::pack()       masks Matrix::pack()\n",
      "x recipes::step()     masks stats::step()\n",
      "x tidyr::unpack()     masks Matrix::unpack()\n",
      "x recipes::update()   masks Matrix::update(), stats::update()\n",
      "x purrr::when()       masks foreach::when()\n"
     ]
    }
   ],
   "source": [
    "train <- read.csv(file = '../../Data/training_data.csv')\n",
    "test <-  read.csv(file = '../../Data/test_data.csv')\n",
    "train.regr <- train[,-3]\n",
    "library(leaps)\n",
    "library(glmnet)\n",
    "library(tidymodels)"
   ]
  },
  {
   "cell_type": "code",
   "execution_count": 3,
   "metadata": {},
   "outputs": [
    {
     "data": {
      "text/html": [
       "<table>\n",
       "<thead><tr><th scope=col>Intensity</th><th scope=col>VALENCE.PLEASANTNESS</th><th scope=col>complexity.from.pubmed</th><th scope=col>MW</th><th scope=col>AMW</th><th scope=col>Sv</th><th scope=col>Se</th><th scope=col>Sp</th><th scope=col>Si</th><th scope=col>Mv</th><th scope=col>...</th><th scope=col>Psychotic.80</th><th scope=col>Psychotic.50</th><th scope=col>Hypertens.80</th><th scope=col>Hypertens.50</th><th scope=col>Hypnotic.80</th><th scope=col>Hypnotic.50</th><th scope=col>Neoplastic.80</th><th scope=col>Neoplastic.50</th><th scope=col>Infective.80</th><th scope=col>Infective.50</th></tr></thead>\n",
       "<tbody>\n",
       "\t<tr><td>low   </td><td>45    </td><td>302.0 </td><td>208.33</td><td>5.952 </td><td>19.698</td><td>34.491</td><td>21.523</td><td>39.571</td><td>0.563 </td><td>...   </td><td>0     </td><td>0     </td><td>1     </td><td>0     </td><td>1     </td><td>0     </td><td>1     </td><td>0     </td><td>1     </td><td>0     </td></tr>\n",
       "\t<tr><td>high  </td><td>49    </td><td> 72.6 </td><td>122.18</td><td>6.431 </td><td>11.349</td><td>18.745</td><td>12.261</td><td>21.285</td><td>0.597 </td><td>...   </td><td>0     </td><td>0     </td><td>0     </td><td>0     </td><td>0     </td><td>0     </td><td>0     </td><td>0     </td><td>0     </td><td>0     </td></tr>\n",
       "\t<tr><td>high  </td><td>56    </td><td>259.0 </td><td>242.29</td><td>7.572 </td><td>20.832</td><td>32.167</td><td>21.693</td><td>35.535</td><td>0.651 </td><td>...   </td><td>0     </td><td>0     </td><td>1     </td><td>0     </td><td>1     </td><td>1     </td><td>1     </td><td>0     </td><td>1     </td><td>1     </td></tr>\n",
       "\t<tr><td>high  </td><td> 7    </td><td> 56.6 </td><td> 88.12</td><td>6.294 </td><td> 7.537</td><td>14.189</td><td> 7.955</td><td>16.080</td><td>0.538 </td><td>...   </td><td>0     </td><td>0     </td><td>0     </td><td>0     </td><td>0     </td><td>0     </td><td>0     </td><td>0     </td><td>0     </td><td>0     </td></tr>\n",
       "\t<tr><td>low   </td><td>51    </td><td> 84.7 </td><td>136.21</td><td>6.191 </td><td>12.876</td><td>21.629</td><td>14.023</td><td>24.701</td><td>0.585 </td><td>...   </td><td>0     </td><td>0     </td><td>0     </td><td>0     </td><td>0     </td><td>0     </td><td>0     </td><td>0     </td><td>0     </td><td>0     </td></tr>\n",
       "\t<tr><td>high  </td><td>21    </td><td>160.0 </td><td>192.28</td><td>6.409 </td><td>17.644</td><td>29.723</td><td>19.000</td><td>33.740</td><td>0.588 </td><td>...   </td><td>0     </td><td>0     </td><td>0     </td><td>0     </td><td>1     </td><td>0     </td><td>1     </td><td>0     </td><td>1     </td><td>0     </td></tr>\n",
       "</tbody>\n",
       "</table>\n"
      ],
      "text/latex": [
       "\\begin{tabular}{r|lllllllllllllllllllllllllllllllllllllllllllllllllllllllllllllllllllllllllllllllllllllllllllllllllllllllllllllllllllllllllllllllllllllllllllllllllllllllllllllllllllllllllllllllllllllllllllllllllllllllllllllllllllllllllllllllllllllllllllllllllllllllllllllllllllllllllllllllllllllllllllllllllllllllllllllllllllllllllllllllllllllllllllllllllllllllllllllllllllllllllllllllllllllllllllllllllllllllllllllllllllllllllllllllllllllllllllllllllllllllllllllllllllllllllllllllllllllllllllllllllllllllllllllllllllllllllllllllllllllllllllllllllllllllllllllllllllllllllllllllllllllllllllllllllllllllllllllllllllllllllllllllllllllllllllllllllllllllllllllllllllllllllllllllllllllllllllllllllllllllllllllllllllllllllllllllllllllllllllllllllllllllllllllllllllllllllllllllllllllllllllllllllllllllllllllllllllllllllllllllllllllllllllllllllllllllllllllllllllllllllllllllllllllllllllllllllllllllllllllllllllllllllllllllllllllllllllllllllllllllllllllllllllllllllllllllllllllllllllllllllllllllllllllllllllllllllllllllllllllllllllllllllllllllllllllllllllllllllllllllllllllllllllllllllllllllllllllllllllllllllllllllllllllllllllllllllllllllllllllllllllllllllllllllllllllllllllllllllllllllllllllllllllllllllllllllllllllllllllllllllllllllllllllllllllllllllllllllllllllllllllllllllllllllllllllllllllllllllllllllllllllllllllllllllllllllllllllllllllllllllllllllllllllllllllllllllllllllllllllllllllllllllllllllllllllllllllllllllllllllllllllllllllllllllllllllllllllllllllllllllllllllllllllllllllllllllllllllllllllllllllllllllllllllllllllllllllllllllllllllllllllllllllllllllllllllllllllllllllllllllllllllllllllllllllllllllllllllllllllllllllllllllllllllllllllllllllllllllllllllllllllllllllllllllllllllllllllllllllllllllllllllllllllllllllllllllllllllllllllllllllllllllllllllllllllllllllllllllllllllllllllllllllllllllllllllllllllllllllllllllllllllllllllllllllllllllllllllllllllllllllllllllllllllllllllllllllllllllllllllllllllllllllllllllllllllllllllllllllllllllllllllllllllllllllllllllllllllllllllllllllllllllllllllllllllllllllllllllllllllllllllllllllllllllllllllllllllllllllllllllllllllllllllllllllllllllllllllllllllllllllllllllllllllllllllllllllllllllllllllllllllllllllllllllllllllllllllllllllllllllllllllllllllllllllllllllllllllllllllllllllllllllllllllllllllllllllllllllllllllllllllllllllllllllllllllllllllllllllllllllllllllllllllllllllllllllllllllllllllllllllllllllllllllllllllllllllllllllllllllllllllllllllllllllllllllllllllllllllllllllllllllllllllllllllllllllllllllllllllllllllllllllllllllllllllllllllllllllllllllllllllllllllllllllllllllllllllllllllllllllllllllllllllllllllllllllllllllllllllllllllllllllllllllllllllllllllllllllllllllllllllllllllllllllllllllllllllllllllllllllllllllllllllllllllllllllllllllllllllllllllllllllllllllllllllllllllllllllllllllllllllllllllllllllllllllllllllllllllllllllllllllllllllllllllllllllllllllllllllllllllllllllllllllllllllllllllllllllllllllllllllllllllllllllllllllllllllllllllllllllllllllllllllllllllllllllllllllllllllllllllllllllllllllllllllllllllllllllllllllllllllllllllllllllllllllllllllllllllllllllllllllllllllllllllllllllllllllllllllllllllllllllllllllllllllllllllllllllllllllllllllllllllllllllllllllllllllllllllllllllllllllllllllllllllllllllllllllllllllllllllllllllllllllllllllllllllllllllllllllllllllllllllllllllllllllllllllllllllllllllllllllllllllllllllllllllllllllllllllllllllllllllllllllllllllllllllllllllllllllllllllllllllllllllllllllllllllllllllllllllllllllllllllllllllllllllllllllllllllllllllllllllllllllllllllllllllllllllllllllllllllllllllllllllllllllllllllllllllllllllllllllllllllllllllllllllllllllllllllllllllllllllllllllllllllllllllllllllllllllllllllllllllllllllllllllllllllllllllllllllllllllllllllllllllllllllllllllllllllllllllllllllllllllllllllllllllllllllllllllllllllllllllllllllllllllllllllllllllllllllllllllllllllllllllllllllllllllllllllllllllllllllllllllllllllllllllllllllllllllllllllllllllllllllllllllllllllllllllllllllllllllllllllllllllllllllllllllllllllllllllllllllllllllllllllllllllllllllllllllllllllllllllllllllllllllllllllllllllllllllllllllllllllllllllllllllllllllllllllllllllllllllllllllllllllllllllllllllllllllllllllllllllllllllllllllllllllllllllllllllllllllllllllllllllllllllllllllllllllllllllllllllllllllllllllllllllllllllllllllllllllllllllllllllllllllllllllllllllllllllllllllllllllllllllllllllllllllllllllllllllllllllllllllllllllllllllllllllllllllllllllllllllllllllllllllllllllllllllllllllllllllllllllllllllllllllllllllllllllllllllllllllllllllllllllllllllllllllllllllllllllllllllllllllllllllllllllllllllllllllllllllllllllllllllllllllllllllllllllllllllllllllllllllllllllllllllllllllllllllllllllllllllllllllllllllllllllllllllllllllllllllllllllllllllllllllllllllllllllllllllllllllllllllllllllllllllllllllllllllllllllllllllllllllllllllllllllllllllllllllllllllllllllllllllllllllllllllllllllllllllllllllllllllllllllllllllllllllllllllllllllllllllllllllllllllllllllllllllllllllllllllllllllllllllllllllllllllllllllllllllllllllllllllllllllllllllllll}\n",
       " Intensity & VALENCE.PLEASANTNESS & complexity.from.pubmed & MW & AMW & Sv & Se & Sp & Si & Mv & ... & Psychotic.80 & Psychotic.50 & Hypertens.80 & Hypertens.50 & Hypnotic.80 & Hypnotic.50 & Neoplastic.80 & Neoplastic.50 & Infective.80 & Infective.50\\\\\n",
       "\\hline\n",
       "\t low    & 45     & 302.0  & 208.33 & 5.952  & 19.698 & 34.491 & 21.523 & 39.571 & 0.563  & ...    & 0      & 0      & 1      & 0      & 1      & 0      & 1      & 0      & 1      & 0     \\\\\n",
       "\t high   & 49     &  72.6  & 122.18 & 6.431  & 11.349 & 18.745 & 12.261 & 21.285 & 0.597  & ...    & 0      & 0      & 0      & 0      & 0      & 0      & 0      & 0      & 0      & 0     \\\\\n",
       "\t high   & 56     & 259.0  & 242.29 & 7.572  & 20.832 & 32.167 & 21.693 & 35.535 & 0.651  & ...    & 0      & 0      & 1      & 0      & 1      & 1      & 1      & 0      & 1      & 1     \\\\\n",
       "\t high   &  7     &  56.6  &  88.12 & 6.294  &  7.537 & 14.189 &  7.955 & 16.080 & 0.538  & ...    & 0      & 0      & 0      & 0      & 0      & 0      & 0      & 0      & 0      & 0     \\\\\n",
       "\t low    & 51     &  84.7  & 136.21 & 6.191  & 12.876 & 21.629 & 14.023 & 24.701 & 0.585  & ...    & 0      & 0      & 0      & 0      & 0      & 0      & 0      & 0      & 0      & 0     \\\\\n",
       "\t high   & 21     & 160.0  & 192.28 & 6.409  & 17.644 & 29.723 & 19.000 & 33.740 & 0.588  & ...    & 0      & 0      & 0      & 0      & 1      & 0      & 1      & 0      & 1      & 0     \\\\\n",
       "\\end{tabular}\n"
      ],
      "text/markdown": [
       "\n",
       "| Intensity | VALENCE.PLEASANTNESS | complexity.from.pubmed | MW | AMW | Sv | Se | Sp | Si | Mv | ... | Psychotic.80 | Psychotic.50 | Hypertens.80 | Hypertens.50 | Hypnotic.80 | Hypnotic.50 | Neoplastic.80 | Neoplastic.50 | Infective.80 | Infective.50 |\n",
       "|---|---|---|---|---|---|---|---|---|---|---|---|---|---|---|---|---|---|---|---|---|\n",
       "| low    | 45     | 302.0  | 208.33 | 5.952  | 19.698 | 34.491 | 21.523 | 39.571 | 0.563  | ...    | 0      | 0      | 1      | 0      | 1      | 0      | 1      | 0      | 1      | 0      |\n",
       "| high   | 49     |  72.6  | 122.18 | 6.431  | 11.349 | 18.745 | 12.261 | 21.285 | 0.597  | ...    | 0      | 0      | 0      | 0      | 0      | 0      | 0      | 0      | 0      | 0      |\n",
       "| high   | 56     | 259.0  | 242.29 | 7.572  | 20.832 | 32.167 | 21.693 | 35.535 | 0.651  | ...    | 0      | 0      | 1      | 0      | 1      | 1      | 1      | 0      | 1      | 1      |\n",
       "| high   |  7     |  56.6  |  88.12 | 6.294  |  7.537 | 14.189 |  7.955 | 16.080 | 0.538  | ...    | 0      | 0      | 0      | 0      | 0      | 0      | 0      | 0      | 0      | 0      |\n",
       "| low    | 51     |  84.7  | 136.21 | 6.191  | 12.876 | 21.629 | 14.023 | 24.701 | 0.585  | ...    | 0      | 0      | 0      | 0      | 0      | 0      | 0      | 0      | 0      | 0      |\n",
       "| high   | 21     | 160.0  | 192.28 | 6.409  | 17.644 | 29.723 | 19.000 | 33.740 | 0.588  | ...    | 0      | 0      | 0      | 0      | 1      | 0      | 1      | 0      | 1      | 0      |\n",
       "\n"
      ],
      "text/plain": [
       "  Intensity VALENCE.PLEASANTNESS complexity.from.pubmed MW     AMW   Sv    \n",
       "1 low       45                   302.0                  208.33 5.952 19.698\n",
       "2 high      49                    72.6                  122.18 6.431 11.349\n",
       "3 high      56                   259.0                  242.29 7.572 20.832\n",
       "4 high       7                    56.6                   88.12 6.294  7.537\n",
       "5 low       51                    84.7                  136.21 6.191 12.876\n",
       "6 high      21                   160.0                  192.28 6.409 17.644\n",
       "  Se     Sp     Si     Mv    ... Psychotic.80 Psychotic.50 Hypertens.80\n",
       "1 34.491 21.523 39.571 0.563 ... 0            0            1           \n",
       "2 18.745 12.261 21.285 0.597 ... 0            0            0           \n",
       "3 32.167 21.693 35.535 0.651 ... 0            0            1           \n",
       "4 14.189  7.955 16.080 0.538 ... 0            0            0           \n",
       "5 21.629 14.023 24.701 0.585 ... 0            0            0           \n",
       "6 29.723 19.000 33.740 0.588 ... 0            0            0           \n",
       "  Hypertens.50 Hypnotic.80 Hypnotic.50 Neoplastic.80 Neoplastic.50 Infective.80\n",
       "1 0            1           0           1             0             1           \n",
       "2 0            0           0           0             0             0           \n",
       "3 0            1           1           1             0             1           \n",
       "4 0            0           0           0             0             0           \n",
       "5 0            0           0           0             0             0           \n",
       "6 0            1           0           1             0             1           \n",
       "  Infective.50\n",
       "1 0           \n",
       "2 0           \n",
       "3 1           \n",
       "4 0           \n",
       "5 0           \n",
       "6 0           "
      ]
     },
     "metadata": {},
     "output_type": "display_data"
    }
   ],
   "source": [
    "head(train.regr)\n",
    "linear.fit <- lm(VALENCE.PLEASANTNESS ~ .,train.regr)"
   ]
  },
  {
   "cell_type": "markdown",
   "metadata": {},
   "source": [
    "## Subset Selection:"
   ]
  },
  {
   "cell_type": "markdown",
   "metadata": {},
   "source": [
    "foward selection"
   ]
  },
  {
   "cell_type": "code",
   "execution_count": 2,
   "metadata": {},
   "outputs": [
    {
     "name": "stderr",
     "output_type": "stream",
     "text": [
      "Warning message in leaps.setup(x, y, wt = wt, nbest = nbest, nvmax = nvmax, force.in = force.in, :\n",
      "\"4538  linear dependencies found\""
     ]
    },
    {
     "name": "stdout",
     "output_type": "stream",
     "text": [
      "Reordering variables and trying again:\n"
     ]
    }
   ],
   "source": [
    "less_variable.study.fw <- regsubsets(VALENCE.PLEASANTNESS ~ ., train.regr,nvmax = 100,really.big=T,method=\"forward\")\n",
    "#summary(reg.fit)\n"
   ]
  },
  {
   "cell_type": "code",
   "execution_count": 7,
   "metadata": {},
   "outputs": [
    {
     "data": {
      "text/html": [
       "<dl class=dl-horizontal>\n",
       "\t<dt>(Intercept)</dt>\n",
       "\t\t<dd>43.9192930766031</dd>\n",
       "\t<dt>MATS6i</dt>\n",
       "\t\t<dd>13.4428891853665</dd>\n",
       "\t<dt>JGI6</dt>\n",
       "\t\t<dd>359.261036030563</dd>\n",
       "\t<dt>P_VSA_MR_2</dt>\n",
       "\t\t<dd>0.140727071495987</dd>\n",
       "\t<dt>Eig05_EA.dm.</dt>\n",
       "\t\t<dd>8.9144290985427</dd>\n",
       "\t<dt>RDF120m</dt>\n",
       "\t\t<dd>-12.2158196470044</dd>\n",
       "\t<dt>HATS5v</dt>\n",
       "\t\t<dd>-63.6578171629438</dd>\n",
       "\t<dt>nRNHR</dt>\n",
       "\t\t<dd>-24.2947635185134</dd>\n",
       "\t<dt>CATS2D_03_NL</dt>\n",
       "\t\t<dd>-13.4447987684589</dd>\n",
       "\t<dt>F01.C.S.</dt>\n",
       "\t\t<dd>-6.6393970738813</dd>\n",
       "\t<dt>Depressant.50</dt>\n",
       "\t\t<dd>-37.4410700691006</dd>\n",
       "</dl>\n"
      ],
      "text/latex": [
       "\\begin{description*}\n",
       "\\item[(Intercept)] 43.9192930766031\n",
       "\\item[MATS6i] 13.4428891853665\n",
       "\\item[JGI6] 359.261036030563\n",
       "\\item[P\\textbackslash{}\\_VSA\\textbackslash{}\\_MR\\textbackslash{}\\_2] 0.140727071495987\n",
       "\\item[Eig05\\textbackslash{}\\_EA.dm.] 8.9144290985427\n",
       "\\item[RDF120m] -12.2158196470044\n",
       "\\item[HATS5v] -63.6578171629438\n",
       "\\item[nRNHR] -24.2947635185134\n",
       "\\item[CATS2D\\textbackslash{}\\_03\\textbackslash{}\\_NL] -13.4447987684589\n",
       "\\item[F01.C.S.] -6.6393970738813\n",
       "\\item[Depressant.50] -37.4410700691006\n",
       "\\end{description*}\n"
      ],
      "text/markdown": [
       "(Intercept)\n",
       ":   43.9192930766031MATS6i\n",
       ":   13.4428891853665JGI6\n",
       ":   359.261036030563P_VSA_MR_2\n",
       ":   0.140727071495987Eig05_EA.dm.\n",
       ":   8.9144290985427RDF120m\n",
       ":   -12.2158196470044HATS5v\n",
       ":   -63.6578171629438nRNHR\n",
       ":   -24.2947635185134CATS2D_03_NL\n",
       ":   -13.4447987684589F01.C.S.\n",
       ":   -6.6393970738813Depressant.50\n",
       ":   -37.4410700691006\n",
       "\n"
      ],
      "text/plain": [
       "  (Intercept)        MATS6i          JGI6    P_VSA_MR_2  Eig05_EA.dm. \n",
       "   43.9192931    13.4428892   359.2610360     0.1407271     8.9144291 \n",
       "      RDF120m        HATS5v         nRNHR  CATS2D_03_NL      F01.C.S. \n",
       "  -12.2158196   -63.6578172   -24.2947635   -13.4447988    -6.6393971 \n",
       "Depressant.50 \n",
       "  -37.4410701 "
      ]
     },
     "metadata": {},
     "output_type": "display_data"
    }
   ],
   "source": [
    "#summary(less_variable.study)\n",
    "coef(less_variable.study.fw,id = 10) "
   ]
  },
  {
   "cell_type": "code",
   "execution_count": 3,
   "metadata": {},
   "outputs": [
    {
     "name": "stderr",
     "output_type": "stream",
     "text": [
      "Warning message in leaps.setup(x, y, wt = wt, nbest = nbest, nvmax = nvmax, force.in = force.in, :\n",
      "\"2696  linear dependencies found\""
     ]
    },
    {
     "name": "stdout",
     "output_type": "stream",
     "text": [
      "Reordering variables and trying again:\n"
     ]
    },
    {
     "name": "stderr",
     "output_type": "stream",
     "text": [
      "Warning message in rval$lopt[] <- rval$vorder[rval$lopt]:\n",
      "\"le nombre d'objets à remplacer n'est pas multiple de la taille du remplacement\""
     ]
    },
    {
     "data": {
      "text/html": [
       "<dl class=dl-horizontal>\n",
       "\t<dt>(Intercept)</dt>\n",
       "\t\t<dd>43.9192930766031</dd>\n",
       "\t<dt>MATS6i</dt>\n",
       "\t\t<dd>13.4428891853665</dd>\n",
       "\t<dt>JGI6</dt>\n",
       "\t\t<dd>359.261036030563</dd>\n",
       "\t<dt>P_VSA_MR_2</dt>\n",
       "\t\t<dd>0.140727071495987</dd>\n",
       "\t<dt>Eig05_EA.dm.</dt>\n",
       "\t\t<dd>8.9144290985427</dd>\n",
       "\t<dt>RDF120m</dt>\n",
       "\t\t<dd>-12.2158196470044</dd>\n",
       "\t<dt>HATS5v</dt>\n",
       "\t\t<dd>-63.6578171629438</dd>\n",
       "\t<dt>nRNHR</dt>\n",
       "\t\t<dd>-24.2947635185134</dd>\n",
       "\t<dt>CATS2D_03_NL</dt>\n",
       "\t\t<dd>-13.4447987684589</dd>\n",
       "\t<dt>F01.C.S.</dt>\n",
       "\t\t<dd>-6.6393970738813</dd>\n",
       "\t<dt>Depressant.50</dt>\n",
       "\t\t<dd>-37.4410700691006</dd>\n",
       "</dl>\n"
      ],
      "text/latex": [
       "\\begin{description*}\n",
       "\\item[(Intercept)] 43.9192930766031\n",
       "\\item[MATS6i] 13.4428891853665\n",
       "\\item[JGI6] 359.261036030563\n",
       "\\item[P\\textbackslash{}\\_VSA\\textbackslash{}\\_MR\\textbackslash{}\\_2] 0.140727071495987\n",
       "\\item[Eig05\\textbackslash{}\\_EA.dm.] 8.9144290985427\n",
       "\\item[RDF120m] -12.2158196470044\n",
       "\\item[HATS5v] -63.6578171629438\n",
       "\\item[nRNHR] -24.2947635185134\n",
       "\\item[CATS2D\\textbackslash{}\\_03\\textbackslash{}\\_NL] -13.4447987684589\n",
       "\\item[F01.C.S.] -6.6393970738813\n",
       "\\item[Depressant.50] -37.4410700691006\n",
       "\\end{description*}\n"
      ],
      "text/markdown": [
       "(Intercept)\n",
       ":   43.9192930766031MATS6i\n",
       ":   13.4428891853665JGI6\n",
       ":   359.261036030563P_VSA_MR_2\n",
       ":   0.140727071495987Eig05_EA.dm.\n",
       ":   8.9144290985427RDF120m\n",
       ":   -12.2158196470044HATS5v\n",
       ":   -63.6578171629438nRNHR\n",
       ":   -24.2947635185134CATS2D_03_NL\n",
       ":   -13.4447987684589F01.C.S.\n",
       ":   -6.6393970738813Depressant.50\n",
       ":   -37.4410700691006\n",
       "\n"
      ],
      "text/plain": [
       "  (Intercept)        MATS6i          JGI6    P_VSA_MR_2  Eig05_EA.dm. \n",
       "   43.9192931    13.4428892   359.2610360     0.1407271     8.9144291 \n",
       "      RDF120m        HATS5v         nRNHR  CATS2D_03_NL      F01.C.S. \n",
       "  -12.2158196   -63.6578172   -24.2947635   -13.4447988    -6.6393971 \n",
       "Depressant.50 \n",
       "  -37.4410701 "
      ]
     },
     "metadata": {},
     "output_type": "display_data"
    }
   ],
   "source": [
    "data.train <- train[,c(-3)]\n",
    "\n",
    "foo <- function(dat) {\n",
    "    out <- lapply(dat, function(x) length(unique(x)))\n",
    "    want <- which(!out > 1)\n",
    "    unlist(want)\n",
    "}                \n",
    "data.train.process <- data.train[,-foo(data.train)]\n",
    " \n",
    "less_variable.study.fw2 <- regsubsets(VALENCE.PLEASANTNESS ~ ., data.train.process,nvmax = 500,really.big=T,method=\"forward\")\n",
    "coef(less_variable.study.fw2,id = 10)                   \n"
   ]
  },
  {
   "cell_type": "markdown",
   "metadata": {},
   "source": [
    "Backward"
   ]
  },
  {
   "cell_type": "code",
   "execution_count": null,
   "metadata": {},
   "outputs": [
    {
     "name": "stderr",
     "output_type": "stream",
     "text": [
      "Warning message in leaps.setup(x, y, wt = wt, nbest = nbest, nvmax = nvmax, force.in = force.in, :\n",
      "\"4538  linear dependencies found\""
     ]
    }
   ],
   "source": [
    "#do not run\n",
    "less_variable.study.bc <- regsubsets(VALENCE.PLEASANTNESS ~ ., train.regr,nvmax = 100,really.big=T,method=\"backward\")\n"
   ]
  },
  {
   "cell_type": "code",
   "execution_count": 4,
   "metadata": {},
   "outputs": [
    {
     "data": {
      "text/html": [
       "<dl class=dl-horizontal>\n",
       "\t<dt>(Intercept)</dt>\n",
       "\t\t<dd>43.9192930766031</dd>\n",
       "\t<dt>MATS6i</dt>\n",
       "\t\t<dd>13.4428891853665</dd>\n",
       "\t<dt>JGI6</dt>\n",
       "\t\t<dd>359.261036030563</dd>\n",
       "\t<dt>P_VSA_MR_2</dt>\n",
       "\t\t<dd>0.140727071495987</dd>\n",
       "\t<dt>Eig05_EA.dm.</dt>\n",
       "\t\t<dd>8.9144290985427</dd>\n",
       "\t<dt>RDF120m</dt>\n",
       "\t\t<dd>-12.2158196470044</dd>\n",
       "\t<dt>HATS5v</dt>\n",
       "\t\t<dd>-63.6578171629438</dd>\n",
       "\t<dt>nRNHR</dt>\n",
       "\t\t<dd>-24.2947635185134</dd>\n",
       "\t<dt>CATS2D_03_NL</dt>\n",
       "\t\t<dd>-13.4447987684589</dd>\n",
       "\t<dt>F01.C.S.</dt>\n",
       "\t\t<dd>-6.6393970738813</dd>\n",
       "\t<dt>Depressant.50</dt>\n",
       "\t\t<dd>-37.4410700691006</dd>\n",
       "</dl>\n"
      ],
      "text/latex": [
       "\\begin{description*}\n",
       "\\item[(Intercept)] 43.9192930766031\n",
       "\\item[MATS6i] 13.4428891853665\n",
       "\\item[JGI6] 359.261036030563\n",
       "\\item[P\\textbackslash{}\\_VSA\\textbackslash{}\\_MR\\textbackslash{}\\_2] 0.140727071495987\n",
       "\\item[Eig05\\textbackslash{}\\_EA.dm.] 8.9144290985427\n",
       "\\item[RDF120m] -12.2158196470044\n",
       "\\item[HATS5v] -63.6578171629438\n",
       "\\item[nRNHR] -24.2947635185134\n",
       "\\item[CATS2D\\textbackslash{}\\_03\\textbackslash{}\\_NL] -13.4447987684589\n",
       "\\item[F01.C.S.] -6.6393970738813\n",
       "\\item[Depressant.50] -37.4410700691006\n",
       "\\end{description*}\n"
      ],
      "text/markdown": [
       "(Intercept)\n",
       ":   43.9192930766031MATS6i\n",
       ":   13.4428891853665JGI6\n",
       ":   359.261036030563P_VSA_MR_2\n",
       ":   0.140727071495987Eig05_EA.dm.\n",
       ":   8.9144290985427RDF120m\n",
       ":   -12.2158196470044HATS5v\n",
       ":   -63.6578171629438nRNHR\n",
       ":   -24.2947635185134CATS2D_03_NL\n",
       ":   -13.4447987684589F01.C.S.\n",
       ":   -6.6393970738813Depressant.50\n",
       ":   -37.4410700691006\n",
       "\n"
      ],
      "text/plain": [
       "  (Intercept)        MATS6i          JGI6    P_VSA_MR_2  Eig05_EA.dm. \n",
       "   43.9192931    13.4428892   359.2610360     0.1407271     8.9144291 \n",
       "      RDF120m        HATS5v         nRNHR  CATS2D_03_NL      F01.C.S. \n",
       "  -12.2158196   -63.6578172   -24.2947635   -13.4447988    -6.6393971 \n",
       "Depressant.50 \n",
       "  -37.4410701 "
      ]
     },
     "metadata": {},
     "output_type": "display_data"
    }
   ],
   "source": [
    "C <- coef(less_variable.study.fw,id = 100) \n",
    "coef(less_variable.study.fw,id = 10) "
   ]
  },
  {
   "cell_type": "code",
   "execution_count": 5,
   "metadata": {},
   "outputs": [],
   "source": [
    "predict.regsubsets <- function(object, newdata, id, form = as.formula(object$call[[2]])) {\n",
    "    mat = model.matrix(form, newdata)\n",
    "    coefi = coef(object, id=id)\n",
    "    xvars = names(coefi)\n",
    "    mat[,xvars]%*%coefi\n",
    "}"
   ]
  },
  {
   "cell_type": "code",
   "execution_count": 13,
   "metadata": {},
   "outputs": [],
   "source": [
    "Id.best.variables <- names(C)\n",
    "Id.best.variables <- Id.best.variables[-1]\n",
    "## !!!! Certaine variable enlevée sont en fait importante pour !!"
   ]
  },
  {
   "cell_type": "code",
   "execution_count": 20,
   "metadata": {},
   "outputs": [],
   "source": [
    "Id.process <- names(coef(less_variable.study.fw2,id = 325))[-1]"
   ]
  },
  {
   "cell_type": "markdown",
   "metadata": {},
   "source": [
    "## K fold Validation (for subset selection) "
   ]
  },
  {
   "cell_type": "code",
   "execution_count": 14,
   "metadata": {},
   "outputs": [
    {
     "data": {
      "text/html": [
       "<ol class=list-inline>\n",
       "\t<li>708</li>\n",
       "\t<li>101</li>\n",
       "</ol>\n"
      ],
      "text/latex": [
       "\\begin{enumerate*}\n",
       "\\item 708\n",
       "\\item 101\n",
       "\\end{enumerate*}\n"
      ],
      "text/markdown": [
       "1. 708\n",
       "2. 101\n",
       "\n",
       "\n"
      ],
      "text/plain": [
       "[1] 708 101"
      ]
     },
     "metadata": {},
     "output_type": "display_data"
    }
   ],
   "source": [
    "#keep only the 100 most important variables.\n",
    "m <- model.matrix(VALENCE.PLEASANTNESS ~ .,train.regr)\n",
    "data.for.validation <- m[,Id.best.variables]\n",
    "data.for.validation <- data.frame(data.for.validation)\n",
    "data.for.validation$VALENCE.PLEASANTNESS <- train.regr[,\"VALENCE.PLEASANTNESS\"]\n",
    "dim(data.for.validation)"
   ]
  },
  {
   "cell_type": "code",
   "execution_count": 18,
   "metadata": {},
   "outputs": [
    {
     "name": "stderr",
     "output_type": "stream",
     "text": [
      "Warning message in leaps.setup(x, y, wt = wt, nbest = nbest, nvmax = nvmax, force.in = force.in, :\n",
      "\"1  linear dependencies found\""
     ]
    },
    {
     "name": "stdout",
     "output_type": "stream",
     "text": [
      "Reordering variables and trying again:\n"
     ]
    },
    {
     "name": "stderr",
     "output_type": "stream",
     "text": [
      "Warning message in leaps.setup(x, y, wt = wt, nbest = nbest, nvmax = nvmax, force.in = force.in, :\n",
      "\"1  linear dependencies found\""
     ]
    },
    {
     "name": "stdout",
     "output_type": "stream",
     "text": [
      "Reordering variables and trying again:\n"
     ]
    },
    {
     "name": "stderr",
     "output_type": "stream",
     "text": [
      "Warning message in leaps.setup(x, y, wt = wt, nbest = nbest, nvmax = nvmax, force.in = force.in, :\n",
      "\"1  linear dependencies found\""
     ]
    },
    {
     "name": "stdout",
     "output_type": "stream",
     "text": [
      "Reordering variables and trying again:\n"
     ]
    },
    {
     "name": "stderr",
     "output_type": "stream",
     "text": [
      "Warning message in leaps.setup(x, y, wt = wt, nbest = nbest, nvmax = nvmax, force.in = force.in, :\n",
      "\"1  linear dependencies found\""
     ]
    },
    {
     "name": "stdout",
     "output_type": "stream",
     "text": [
      "Reordering variables and trying again:\n"
     ]
    },
    {
     "name": "stderr",
     "output_type": "stream",
     "text": [
      "Warning message in leaps.setup(x, y, wt = wt, nbest = nbest, nvmax = nvmax, force.in = force.in, :\n",
      "\"1  linear dependencies found\""
     ]
    },
    {
     "name": "stdout",
     "output_type": "stream",
     "text": [
      "Reordering variables and trying again:\n"
     ]
    },
    {
     "name": "stderr",
     "output_type": "stream",
     "text": [
      "Warning message in leaps.setup(x, y, wt = wt, nbest = nbest, nvmax = nvmax, force.in = force.in, :\n",
      "\"1  linear dependencies found\""
     ]
    },
    {
     "name": "stdout",
     "output_type": "stream",
     "text": [
      "Reordering variables and trying again:\n"
     ]
    },
    {
     "name": "stderr",
     "output_type": "stream",
     "text": [
      "Warning message in leaps.setup(x, y, wt = wt, nbest = nbest, nvmax = nvmax, force.in = force.in, :\n",
      "\"1  linear dependencies found\""
     ]
    },
    {
     "name": "stdout",
     "output_type": "stream",
     "text": [
      "Reordering variables and trying again:\n"
     ]
    },
    {
     "name": "stderr",
     "output_type": "stream",
     "text": [
      "Warning message in leaps.setup(x, y, wt = wt, nbest = nbest, nvmax = nvmax, force.in = force.in, :\n",
      "\"1  linear dependencies found\""
     ]
    },
    {
     "name": "stdout",
     "output_type": "stream",
     "text": [
      "Reordering variables and trying again:\n"
     ]
    },
    {
     "name": "stderr",
     "output_type": "stream",
     "text": [
      "Warning message in leaps.setup(x, y, wt = wt, nbest = nbest, nvmax = nvmax, force.in = force.in, :\n",
      "\"1  linear dependencies found\""
     ]
    },
    {
     "name": "stdout",
     "output_type": "stream",
     "text": [
      "Reordering variables and trying again:\n"
     ]
    },
    {
     "name": "stderr",
     "output_type": "stream",
     "text": [
      "Warning message in leaps.setup(x, y, wt = wt, nbest = nbest, nvmax = nvmax, force.in = force.in, :\n",
      "\"1  linear dependencies found\""
     ]
    },
    {
     "name": "stdout",
     "output_type": "stream",
     "text": [
      "Reordering variables and trying again:\n"
     ]
    },
    {
     "name": "stderr",
     "output_type": "stream",
     "text": [
      "Warning message in leaps.setup(x, y, wt = wt, nbest = nbest, nvmax = nvmax, force.in = force.in, :\n",
      "\"1  linear dependencies found\""
     ]
    },
    {
     "name": "stdout",
     "output_type": "stream",
     "text": [
      "Reordering variables and trying again:\n"
     ]
    },
    {
     "name": "stderr",
     "output_type": "stream",
     "text": [
      "Warning message in leaps.setup(x, y, wt = wt, nbest = nbest, nvmax = nvmax, force.in = force.in, :\n",
      "\"1  linear dependencies found\""
     ]
    },
    {
     "name": "stdout",
     "output_type": "stream",
     "text": [
      "Reordering variables and trying again:\n"
     ]
    },
    {
     "name": "stderr",
     "output_type": "stream",
     "text": [
      "Warning message in leaps.setup(x, y, wt = wt, nbest = nbest, nvmax = nvmax, force.in = force.in, :\n",
      "\"1  linear dependencies found\""
     ]
    },
    {
     "name": "stdout",
     "output_type": "stream",
     "text": [
      "Reordering variables and trying again:\n"
     ]
    },
    {
     "name": "stderr",
     "output_type": "stream",
     "text": [
      "Warning message in leaps.setup(x, y, wt = wt, nbest = nbest, nvmax = nvmax, force.in = force.in, :\n",
      "\"1  linear dependencies found\""
     ]
    },
    {
     "name": "stdout",
     "output_type": "stream",
     "text": [
      "Reordering variables and trying again:\n"
     ]
    },
    {
     "name": "stderr",
     "output_type": "stream",
     "text": [
      "Warning message in leaps.setup(x, y, wt = wt, nbest = nbest, nvmax = nvmax, force.in = force.in, :\n",
      "\"1  linear dependencies found\""
     ]
    },
    {
     "name": "stdout",
     "output_type": "stream",
     "text": [
      "Reordering variables and trying again:\n"
     ]
    },
    {
     "name": "stderr",
     "output_type": "stream",
     "text": [
      "Warning message in leaps.setup(x, y, wt = wt, nbest = nbest, nvmax = nvmax, force.in = force.in, :\n",
      "\"1  linear dependencies found\""
     ]
    },
    {
     "name": "stdout",
     "output_type": "stream",
     "text": [
      "Reordering variables and trying again:\n"
     ]
    },
    {
     "name": "stderr",
     "output_type": "stream",
     "text": [
      "Warning message in leaps.setup(x, y, wt = wt, nbest = nbest, nvmax = nvmax, force.in = force.in, :\n",
      "\"1  linear dependencies found\""
     ]
    },
    {
     "name": "stdout",
     "output_type": "stream",
     "text": [
      "Reordering variables and trying again:\n"
     ]
    },
    {
     "name": "stderr",
     "output_type": "stream",
     "text": [
      "Warning message in leaps.setup(x, y, wt = wt, nbest = nbest, nvmax = nvmax, force.in = force.in, :\n",
      "\"1  linear dependencies found\""
     ]
    },
    {
     "name": "stdout",
     "output_type": "stream",
     "text": [
      "Reordering variables and trying again:\n"
     ]
    },
    {
     "name": "stderr",
     "output_type": "stream",
     "text": [
      "Warning message in leaps.setup(x, y, wt = wt, nbest = nbest, nvmax = nvmax, force.in = force.in, :\n",
      "\"1  linear dependencies found\""
     ]
    },
    {
     "name": "stdout",
     "output_type": "stream",
     "text": [
      "Reordering variables and trying again:\n"
     ]
    },
    {
     "name": "stderr",
     "output_type": "stream",
     "text": [
      "Warning message in leaps.setup(x, y, wt = wt, nbest = nbest, nvmax = nvmax, force.in = force.in, :\n",
      "\"1  linear dependencies found\""
     ]
    },
    {
     "name": "stdout",
     "output_type": "stream",
     "text": [
      "Reordering variables and trying again:\n"
     ]
    }
   ],
   "source": [
    "validation_data <- vfold_cv(data.for.validation, v = 20) #v = nbr of fold !\n",
    "\n",
    "fit_and_evaluate <- function(fold, formula) {\n",
    "    best.fit.id <- regsubsets(formula, analysis(fold),really.big=T,method=\"forward\",nvmax = 96)\n",
    "    valid.set <- assessment(fold)\n",
    "    sapply(seq(1, best.fit.id$nvmax - 1), function(id) mean((valid.set$VALENCE.PLEASANTNESS - predict.regsubsets(best.fit.id, valid.set, id, formula))^2))\n",
    "}\n",
    "v.errors <- sapply(validation_data$splits, fit_and_evaluate,VALENCE.PLEASANTNESS ~ .)\n",
    "v.errors.id <- rowMeans(v.errors)"
   ]
  },
  {
   "cell_type": "code",
   "execution_count": 19,
   "metadata": {},
   "outputs": [
    {
     "data": {
      "image/png": "[encoded data removed]",
      "text/plain": [
       "plot without title"
      ]
     },
     "metadata": {},
     "output_type": "display_data"
    }
   ],
   "source": [
    "#v.errors.id\n",
    "plot(1:97,v.errors.id)\n"
   ]
  },
  {
   "cell_type": "code",
   "execution_count": 21,
   "metadata": {},
   "outputs": [],
   "source": [
    "\n",
    "\n",
    "m <- model.matrix(VALENCE.PLEASANTNESS ~ .,data.train.process)\n",
    "data.for.validation <- m[,Id.process]\n",
    "data.for.validation <- data.frame(data.for.validation)\n",
    "data.for.validation$VALENCE.PLEASANTNESS <- train.regr[,\"VALENCE.PLEASANTNESS\"]\n",
    "\n",
    "\n",
    "validation_data <- vfold_cv(data.for.validation, v = 25) #v = nbr of fold !\n",
    "\n",
    "fit_and_evaluate <- function(fold, formula) {\n",
    "    best.fit.id <- regsubsets(formula, analysis(fold),really.big=T,method=\"forward\",nvmax = 200)\n",
    "    valid.set <- assessment(fold)\n",
    "    sapply(seq(1, best.fit.id$nvmax - 1), function(id) mean((valid.set$VALENCE.PLEASANTNESS - predict.regsubsets(best.fit.id, valid.set, id, formula))^2))\n",
    "}\n",
    "v.errors <- sapply(validation_data$splits, fit_and_evaluate,VALENCE.PLEASANTNESS ~ .)\n",
    "v.errors.id <- rowMeans(v.errors)"
   ]
  },
  {
   "cell_type": "code",
   "execution_count": 22,
   "metadata": {},
   "outputs": [
    {
     "data": {
      "image/png": "[encoded data removed]",
      "text/plain": [
       "plot without title"
      ]
     },
     "metadata": {},
     "output_type": "display_data"
    }
   ],
   "source": [
    "plot(1:200,v.errors.id)"
   ]
  },
  {
   "cell_type": "code",
   "execution_count": 69,
   "metadata": {},
   "outputs": [
    {
     "data": {
      "image/png": "[encoded data removed]",
      "text/plain": [
       "plot without title"
      ]
     },
     "metadata": {},
     "output_type": "display_data"
    }
   ],
   "source": [
    "plot(1:200,v.errors.id)"
   ]
  },
  {
   "cell_type": "markdown",
   "metadata": {},
   "source": [
    "## Regularization"
   ]
  },
  {
   "cell_type": "code",
   "execution_count": 24,
   "metadata": {},
   "outputs": [],
   "source": [
    "data.train.process$Intensity <- as.numeric(data.train.process[,'Intensity'])"
   ]
  },
  {
   "cell_type": "code",
   "execution_count": 43,
   "metadata": {},
   "outputs": [
    {
     "data": {
      "image/png": "[encoded data removed]",
      "text/plain": [
       "plot without title"
      ]
     },
     "metadata": {},
     "output_type": "display_data"
    },
    {
     "data": {
      "image/png": "[encoded data removed]",
      "text/plain": [
       "plot without title"
      ]
     },
     "metadata": {},
     "output_type": "display_data"
    }
   ],
   "source": [
    "y <- data.train.process$VALENCE.PLEASANTNESS\n",
    "x <- as.matrix(data.train.process)\n",
    "L2 <- glmnet(x, y, alpha = 0, lambda = 10^seq(100,80, length = 100))\n",
    "plot(L2, \"lambda\", xlab = parse(text = \"Log(lambda)\"))\n",
    "L2.cv <- cv.glmnet(x, y, alpha = 0, nfold = 20)\n",
    "plot(L2.cv)"
   ]
  },
  {
   "cell_type": "code",
   "execution_count": 75,
   "metadata": {},
   "outputs": [
    {
     "data": {
      "text/html": [
       "<ol class=list-inline>\n",
       "\t<li>708</li>\n",
       "\t<li>4871</li>\n",
       "</ol>\n"
      ],
      "text/latex": [
       "\\begin{enumerate*}\n",
       "\\item 708\n",
       "\\item 4871\n",
       "\\end{enumerate*}\n"
      ],
      "text/markdown": [
       "1. 708\n",
       "2. 4871\n",
       "\n",
       "\n"
      ],
      "text/plain": [
       "[1]  708 4871"
      ]
     },
     "metadata": {},
     "output_type": "display_data"
    }
   ],
   "source": [
    "T <- train.regr\n",
    "T$Intensity <- as.numeric(train.regr[,'Intensity'])\n",
    "dim(train.regr)"
   ]
  },
  {
   "cell_type": "code",
   "execution_count": 76,
   "metadata": {},
   "outputs": [
    {
     "data": {
      "image/png": "[encoded data removed]",
      "text/plain": [
       "plot without title"
      ]
     },
     "metadata": {},
     "output_type": "display_data"
    },
    {
     "data": {
      "image/png": "[encoded data removed]",
      "text/plain": [
       "plot without title"
      ]
     },
     "metadata": {},
     "output_type": "display_data"
    }
   ],
   "source": [
    "y <- T$VALENCE.PLEASANTNESS\n",
    "x <- as.matrix(T)\n",
    "L2 <- glmnet(x, y, alpha = 0, lambda = 10^seq(2,-3, length = 100))\n",
    "plot(L2, \"lambda\", xlab = parse(text = \"Log(lambda)\"))\n",
    "L2.cv <- cv.glmnet(x, y, alpha = 0, nfold = 25)\n",
    "plot(L2.cv)"
   ]
  },
  {
   "cell_type": "markdown",
   "metadata": {},
   "source": [
    "LASSO"
   ]
  },
  {
   "cell_type": "code",
   "execution_count": 78,
   "metadata": {},
   "outputs": [
    {
     "name": "stderr",
     "output_type": "stream",
     "text": [
      "Warning message in regularize.values(x, y, ties, missing(ties)):\n",
      "\"collapsing to unique 'x' values\""
     ]
    },
    {
     "data": {
      "image/png": "[encoded data removed]",
      "text/plain": [
       "plot without title"
      ]
     },
     "metadata": {},
     "output_type": "display_data"
    },
    {
     "data": {
      "image/png": "[encoded data removed]",
      "text/plain": [
       "plot without title"
      ]
     },
     "metadata": {},
     "output_type": "display_data"
    }
   ],
   "source": [
    "#train$Intensity <- as.numeric(train[,'Intensity'])\n",
    "x <- as.matrix(T)\n",
    "\n",
    "L1 <- glmnet(x, y, alpha = 1, lambda = 10^seq(-100, -1000, length = 100))\n",
    "plot(L1, \"lambda\", xlab = parse(text = \"Log(lambda)\"))\n",
    "L1.cv <- cv.glmnet(x, y, alpha = 1, nfold = 20)\n",
    "plot(L1.cv)"
   ]
  },
  {
   "cell_type": "code",
   "execution_count": null,
   "metadata": {},
   "outputs": [],
   "source": [
    "summary(linear.fit)"
   ]
  },
  {
   "cell_type": "code",
   "execution_count": null,
   "metadata": {},
   "outputs": [],
   "source": []
  }
 ],
 "metadata": {
  "kernelspec": {
   "display_name": "R",
   "language": "R",
   "name": "ir"
  },
  "language_info": {
   "codemirror_mode": "r",
   "file_extension": ".r",
   "mimetype": "text/x-r-source",
   "name": "R",
   "pygments_lexer": "r",
   "version": "3.6.1"
  }
 },
 "nbformat": 4,
 "nbformat_minor": 4
}
