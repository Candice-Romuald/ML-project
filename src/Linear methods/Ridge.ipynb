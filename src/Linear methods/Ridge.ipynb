{
 "cells": [
  {
   "cell_type": "code",
   "execution_count": 3,
   "metadata": {},
   "outputs": [
    {
     "name": "stderr",
     "output_type": "stream",
     "text": [
      "Loading required package: Matrix\n",
      "Warning message:\n",
      "\"package 'Matrix' was built under R version 3.6.3\"Loading required package: foreach\n",
      "Loaded glmnet 2.0-16\n",
      "\n"
     ]
    }
   ],
   "source": [
    "#Libraries\n",
    "library(glmnet)"
   ]
  },
  {
   "cell_type": "code",
   "execution_count": 4,
   "metadata": {},
   "outputs": [],
   "source": [
    "#Training data initialiation\n",
    "train <- read.csv(file = '../../Data/training_data.csv')\n",
    "train <- na.omit(train)\n",
    "train.regr <- train[,-3]\n",
    "train.regr$Intensity <- as.numeric(train.regr$Intensity)\n",
    "#y.train <- train.regr$\"VALENCE.PLEASANTNESS\"\n",
    "#train.regr <- train.regr[,-2]\n",
    "#x.train <- as.matrix(train.regr)\n",
    "\n",
    "#Test data initialisation\n",
    "test <- read.csv(file = '../../Data/test_data.csv')\n",
    "test <- na.omit(test)\n",
    "test <- test[,-1]\n",
    "test$Intensity <- as.numeric(test$Intensity)\n",
    "x.test <- as.matrix(test)\n",
    "\n",
    "#Validation set temporaraire le temps d'optimiser 2-3 hyperparametres\n",
    "idx.train <- sample(nrow(train.regr), nrow(train.regr)*2/3)\n",
    "train.regr <- train.regr[idx.train,]\n",
    "validation <- train.regr[-idx.train,]\n",
    "\n",
    "y.train <- train.regr$\"VALENCE.PLEASANTNESS\"\n",
    "train.regr <- train.regr[,-2]\n",
    "x.train <- as.matrix(train.regr)\n",
    "\n",
    "y.val <- validation$\"VALENCE.PLEASANTNESS\"\n",
    "validation <- validation[,-2]\n",
    "x.val <- as.matrix(validation)\n",
    "\n",
    "#dim(x.train)\n",
    "#dim(x.val)"
   ]
  },
  {
   "cell_type": "code",
   "execution_count": 9,
   "metadata": {},
   "outputs": [
    {
     "data": {
      "text/html": [
       "351.701917662783"
      ],
      "text/latex": [
       "351.701917662783"
      ],
      "text/markdown": [
       "351.701917662783"
      ],
      "text/plain": [
       "[1] 351.7019"
      ]
     },
     "metadata": {},
     "output_type": "display_data"
    }
   ],
   "source": [
    "#Finding best lambda value through cross-validation\n",
    "L2.cv <- cv.glmnet(x.train, y.train, alpha = 0, nfold = 10)\n",
    "lambda_best <- L2.cv$lambda.min \n",
    "lambda_best"
   ]
  },
  {
   "cell_type": "code",
   "execution_count": 10,
   "metadata": {},
   "outputs": [
    {
     "data": {
      "text/plain": [
       "          Length Class     Mode   \n",
       "a0           1   -none-    numeric\n",
       "beta      4870   dgCMatrix S4     \n",
       "df           1   -none-    numeric\n",
       "dim          2   -none-    numeric\n",
       "lambda       1   -none-    numeric\n",
       "dev.ratio    1   -none-    numeric\n",
       "nulldev      1   -none-    numeric\n",
       "npasses      1   -none-    numeric\n",
       "jerr         1   -none-    numeric\n",
       "offset       1   -none-    logical\n",
       "call         5   -none-    call   \n",
       "nobs         1   -none-    numeric"
      ]
     },
     "metadata": {},
     "output_type": "display_data"
    },
    {
     "data": {
      "text/html": [
       "21.8036951632358"
      ],
      "text/latex": [
       "21.8036951632358"
      ],
      "text/markdown": [
       "21.8036951632358"
      ],
      "text/plain": [
       "[1] 21.8037"
      ]
     },
     "metadata": {},
     "output_type": "display_data"
    }
   ],
   "source": [
    "#Training the model with the best lambda\n",
    "Lasso_model <- glmnet(x.train, y.train, alpha = 1, lambda = lambda_best)\n",
    "\n",
    "summary(Lasso_model)\n",
    "\n",
    "#rmse avec les validations splits\n",
    "sqrt(mean((y.val - predict(Lasso_model, x.val))^2))"
   ]
  },
  {
   "cell_type": "code",
   "execution_count": null,
   "metadata": {},
   "outputs": [],
   "source": []
  }
 ],
 "metadata": {
  "kernelspec": {
   "display_name": "R",
   "language": "R",
   "name": "ir"
  },
  "language_info": {
   "codemirror_mode": "r",
   "file_extension": ".r",
   "mimetype": "text/x-r-source",
   "name": "R",
   "pygments_lexer": "r",
   "version": "3.6.1"
  }
 },
 "nbformat": 4,
 "nbformat_minor": 4
}
