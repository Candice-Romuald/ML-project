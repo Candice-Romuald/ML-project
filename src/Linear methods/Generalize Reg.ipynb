{
 "cells": [
  {
   "cell_type": "code",
   "execution_count": 1,
   "metadata": {},
   "outputs": [
    {
     "name": "stderr",
     "output_type": "stream",
     "text": [
      "Loading required package: Matrix\n",
      "Loading required package: foreach\n",
      "Loaded glmnet 2.0-16\n",
      "\n",
      "Warning message:\n",
      "\"package 'leaps' was built under R version 3.6.3\""
     ]
    }
   ],
   "source": [
    "library(glmnet)\n",
    "library(leaps)"
   ]
  },
  {
   "cell_type": "code",
   "execution_count": 2,
   "metadata": {},
   "outputs": [],
   "source": [
    "train <- read.csv(file = '../../Data/training_data.csv')\n",
    "train <- na.omit(train)\n",
    "train.regr <- train[,-3]\n",
    "train.regr$Intensity <- as.numeric(train.regr$Intensity)\n",
    "\n",
    "test <- read.csv(file = '../../Data/test_data.csv')\n",
    "test <- na.omit(test)\n",
    "test <- test[,-1]\n",
    "test$Intensity <- as.numeric(test$Intensity)\n",
    "\n",
    "ZeroVar <- function(data) {\n",
    "   out <- lapply(data, function(x) length(unique(x)))\n",
    "   want <- which(!out > 1)\n",
    "   unlist(want)\n",
    "}\n",
    "\n",
    "#Applying the ZeroVar function\n",
    "train.zeroVar <- train.regr[,-ZeroVar(train.regr)]\n",
    "x.full.ZV <- as.matrix(train.zeroVar[,-2])\n",
    "x.test <- test[,-(ZeroVar(train.regr)-1)]\n",
    "x.test <- as.matrix (x.test)\n"
   ]
  },
  {
   "cell_type": "code",
   "execution_count": 4,
   "metadata": {},
   "outputs": [
    {
     "data": {
      "text/html": [
       "<table>\n",
       "<thead><tr><th scope=col>Intensity</th><th scope=col>complexity.from.pubmed</th><th scope=col>MW</th><th scope=col>AMW</th><th scope=col>Sv</th><th scope=col>Se</th><th scope=col>Sp</th><th scope=col>Si</th><th scope=col>Mv</th><th scope=col>Me</th><th scope=col>...</th><th scope=col>Depressant.80</th><th scope=col>Depressant.50</th><th scope=col>Hypertens.80</th><th scope=col>Hypertens.50</th><th scope=col>Hypnotic.80</th><th scope=col>Hypnotic.50</th><th scope=col>Neoplastic.80</th><th scope=col>Neoplastic.50</th><th scope=col>Infective.80</th><th scope=col>Infective.50</th></tr></thead>\n",
       "<tbody>\n",
       "\t<tr><td>1     </td><td> 31.5 </td><td>150.34</td><td>6.834 </td><td>12.062</td><td>21.338</td><td>14.625</td><td>24.746</td><td>0.548 </td><td>0.970 </td><td>...   </td><td>0     </td><td>0     </td><td>0     </td><td>0     </td><td>0     </td><td>0     </td><td>0     </td><td>0     </td><td>0     </td><td>0     </td></tr>\n",
       "\t<tr><td>1     </td><td>196.0 </td><td>146.15</td><td>8.597 </td><td>12.010</td><td>17.305</td><td>12.193</td><td>18.664</td><td>0.706 </td><td>1.018 </td><td>...   </td><td>0     </td><td>0     </td><td>0     </td><td>0     </td><td>0     </td><td>0     </td><td>0     </td><td>0     </td><td>0     </td><td>0     </td></tr>\n",
       "\t<tr><td>1     </td><td> 79.0 </td><td>130.21</td><td>5.661 </td><td>12.117</td><td>22.840</td><td>13.239</td><td>26.325</td><td>0.527 </td><td>0.993 </td><td>...   </td><td>0     </td><td>0     </td><td>0     </td><td>0     </td><td>0     </td><td>0     </td><td>0     </td><td>0     </td><td>0     </td><td>0     </td></tr>\n",
       "\t<tr><td>1     </td><td> 95.2 </td><td>164.27</td><td>5.867 </td><td>15.929</td><td>27.396</td><td>17.546</td><td>31.531</td><td>0.569 </td><td>0.978 </td><td>...   </td><td>0     </td><td>0     </td><td>0     </td><td>0     </td><td>1     </td><td>0     </td><td>0     </td><td>0     </td><td>1     </td><td>0     </td></tr>\n",
       "\t<tr><td>1     </td><td> 48.1 </td><td>100.18</td><td>5.273 </td><td> 9.876</td><td>18.629</td><td>11.023</td><td>21.701</td><td>0.520 </td><td>0.980 </td><td>...   </td><td>0     </td><td>0     </td><td>0     </td><td>0     </td><td>0     </td><td>0     </td><td>0     </td><td>0     </td><td>0     </td><td>0     </td></tr>\n",
       "\t<tr><td>1     </td><td>137.0 </td><td>164.22</td><td>6.842 </td><td>14.590</td><td>23.956</td><td>15.477</td><td>26.910</td><td>0.608 </td><td>0.998 </td><td>...   </td><td>0     </td><td>0     </td><td>0     </td><td>0     </td><td>1     </td><td>0     </td><td>0     </td><td>0     </td><td>1     </td><td>0     </td></tr>\n",
       "</tbody>\n",
       "</table>\n"
      ],
      "text/latex": [
       "\\begin{tabular}{r|llllllllllllllllllllllllllllllllllllllllllllllllllllllllllllllllllllllllllllllllllllllllllllllllllllllllllllllllllllllllllllllllllllllllllllllllllllllllllllllllllllllllllllllllllllllllllllllllllllllllllllllllllllllllllllllllllllllllllllllllllllllllllllllllllllllllllllllllllllllllllllllllllllllllllllllllllllllllllllllllllllllllllllllllllllllllllllllllllllllllllllllllllllllllllllllllllllllllllllllllllllllllllllllllllllllllllllllllllllllllllllllllllllllllllllllllllllllllllllllllllllllllllllllllllllllllllllllllllllllllllllllllllllllllllllllllllllllllllllllllllllllllllllllllllllllllllllllllllllllllllllllllllllllllllllllllllllllllllllllllllllllllllllllllllllllllllllllllllllllllllllllllllllllllllllllllllllllllllllllllllllllllllllllllllllllllllllllllllllllllllllllllllllllllllllllllllllllllllllllllllllllllllllllllllllllllllllllllllllllllllllllllllllllllllllllllllllllllllllllllllllllllllllllllllllllllllllllllllllllllllllllllllllllllllllllllllllllllllllllllllllllllllllllllllllllllllllllllllllllllllllllllllllllllllllllllllllllllllllllllllllllllllllllllllllllllllllllllllllllllllllllllllllllllllllllllllllllllllllllllllllllllllllllllllllllllllllllllllllllllllllllllllllllllllllllllllllllllllllllllllllllllllllllllllllllllllllllllllllllllllllllllllllllllllllllllllllllllllllllllllllllllllllllllllllllllllllllllllllllllllllllllllllllllllllllllllllllllllllllllllllllllllllllllllllllllllllllllllllllllllllllllllllllllllllllllllllllllllllllllllllllllllllllllllllllllllllllllllllllllllllllllllllllllllllllllllllllllllllllllllllllllllllllllllllllllllllllllllllllllllllllllllllllllllllllllllllllllllllllllllllllllllllllllllllllllllllllllllllllllllllllllllllllllllllllllllllllllllllllllllllllllllllllllllllllllllllllllllllllllllllllllllllllllllllllllllllllllllllllllllllllllllllllllllllllllllllllllllllllllllllllllllllllllllllllllllllllllllllllllllllllllllllllllllllllllllllllllllllllllllllllllllllllllllllllllllllllllllllllllllllllllllllllllllllllllllllllllllllllllllllllllllllllllllllllllllllllllllllllllllllllllllllllllllllllllllllllllllllllllllllllllllllllllllllllllllllllllllllllllllllllllllllllllllllllllllllllllllllllllllllllllllllllllllllllllllllllllllllllllllllllllllllllllllllllllllllllllllllllllllllllllllllllllllllllllllllllllllllllllllllllllllllllllllllllllllllllllllllllllllllllllllllllllllllllllllllllllllllllllllllllllllllllllllllllllllllllllllllllllllllllllllllllllllllllllllllllllllllllllllllllllllllllllllllllllllllllllllllllllllllllllllllllllllllllllllllllllllllllllllllllllllllllllllllllllllllllllllllllllllllllllllllllllllllllllllllllllllllllllllllllllllllllllllllllllllllllllllllllllllllllllllllllllllllllllllllllllllllllllllllllllllllllllllllllllllllllllllllllllllllllllllllllllllllllllllllllllllllllllllllllllllllllllllllllllllllllllllllllllllllllllllllllllllllllllllllllllllllllllllllllllllllllllllllllllllllllllllllllllllllllllllllllllllllllllllllllllllllllllllllllllllllllllllllllllllllllllllllllllllllllllllllllllllllllllllllllllllllllllllllllllllllllllllllllllllllllllllllllllllllllllllllllllllllllllllll}\n",
       " Intensity & complexity.from.pubmed & MW & AMW & Sv & Se & Sp & Si & Mv & Me & ... & Depressant.80 & Depressant.50 & Hypertens.80 & Hypertens.50 & Hypnotic.80 & Hypnotic.50 & Neoplastic.80 & Neoplastic.50 & Infective.80 & Infective.50\\\\\n",
       "\\hline\n",
       "\t 1      &  31.5  & 150.34 & 6.834  & 12.062 & 21.338 & 14.625 & 24.746 & 0.548  & 0.970  & ...    & 0      & 0      & 0      & 0      & 0      & 0      & 0      & 0      & 0      & 0     \\\\\n",
       "\t 1      & 196.0  & 146.15 & 8.597  & 12.010 & 17.305 & 12.193 & 18.664 & 0.706  & 1.018  & ...    & 0      & 0      & 0      & 0      & 0      & 0      & 0      & 0      & 0      & 0     \\\\\n",
       "\t 1      &  79.0  & 130.21 & 5.661  & 12.117 & 22.840 & 13.239 & 26.325 & 0.527  & 0.993  & ...    & 0      & 0      & 0      & 0      & 0      & 0      & 0      & 0      & 0      & 0     \\\\\n",
       "\t 1      &  95.2  & 164.27 & 5.867  & 15.929 & 27.396 & 17.546 & 31.531 & 0.569  & 0.978  & ...    & 0      & 0      & 0      & 0      & 1      & 0      & 0      & 0      & 1      & 0     \\\\\n",
       "\t 1      &  48.1  & 100.18 & 5.273  &  9.876 & 18.629 & 11.023 & 21.701 & 0.520  & 0.980  & ...    & 0      & 0      & 0      & 0      & 0      & 0      & 0      & 0      & 0      & 0     \\\\\n",
       "\t 1      & 137.0  & 164.22 & 6.842  & 14.590 & 23.956 & 15.477 & 26.910 & 0.608  & 0.998  & ...    & 0      & 0      & 0      & 0      & 1      & 0      & 0      & 0      & 1      & 0     \\\\\n",
       "\\end{tabular}\n"
      ],
      "text/markdown": [
       "\n",
       "| Intensity | complexity.from.pubmed | MW | AMW | Sv | Se | Sp | Si | Mv | Me | ... | Depressant.80 | Depressant.50 | Hypertens.80 | Hypertens.50 | Hypnotic.80 | Hypnotic.50 | Neoplastic.80 | Neoplastic.50 | Infective.80 | Infective.50 |\n",
       "|---|---|---|---|---|---|---|---|---|---|---|---|---|---|---|---|---|---|---|---|---|\n",
       "| 1      |  31.5  | 150.34 | 6.834  | 12.062 | 21.338 | 14.625 | 24.746 | 0.548  | 0.970  | ...    | 0      | 0      | 0      | 0      | 0      | 0      | 0      | 0      | 0      | 0      |\n",
       "| 1      | 196.0  | 146.15 | 8.597  | 12.010 | 17.305 | 12.193 | 18.664 | 0.706  | 1.018  | ...    | 0      | 0      | 0      | 0      | 0      | 0      | 0      | 0      | 0      | 0      |\n",
       "| 1      |  79.0  | 130.21 | 5.661  | 12.117 | 22.840 | 13.239 | 26.325 | 0.527  | 0.993  | ...    | 0      | 0      | 0      | 0      | 0      | 0      | 0      | 0      | 0      | 0      |\n",
       "| 1      |  95.2  | 164.27 | 5.867  | 15.929 | 27.396 | 17.546 | 31.531 | 0.569  | 0.978  | ...    | 0      | 0      | 0      | 0      | 1      | 0      | 0      | 0      | 1      | 0      |\n",
       "| 1      |  48.1  | 100.18 | 5.273  |  9.876 | 18.629 | 11.023 | 21.701 | 0.520  | 0.980  | ...    | 0      | 0      | 0      | 0      | 0      | 0      | 0      | 0      | 0      | 0      |\n",
       "| 1      | 137.0  | 164.22 | 6.842  | 14.590 | 23.956 | 15.477 | 26.910 | 0.608  | 0.998  | ...    | 0      | 0      | 0      | 0      | 1      | 0      | 0      | 0      | 1      | 0      |\n",
       "\n"
      ],
      "text/plain": [
       "  Intensity complexity.from.pubmed MW     AMW   Sv     Se     Sp     Si    \n",
       "1 1          31.5                  150.34 6.834 12.062 21.338 14.625 24.746\n",
       "2 1         196.0                  146.15 8.597 12.010 17.305 12.193 18.664\n",
       "3 1          79.0                  130.21 5.661 12.117 22.840 13.239 26.325\n",
       "4 1          95.2                  164.27 5.867 15.929 27.396 17.546 31.531\n",
       "5 1          48.1                  100.18 5.273  9.876 18.629 11.023 21.701\n",
       "6 1         137.0                  164.22 6.842 14.590 23.956 15.477 26.910\n",
       "  Mv    Me    ... Depressant.80 Depressant.50 Hypertens.80 Hypertens.50\n",
       "1 0.548 0.970 ... 0             0             0            0           \n",
       "2 0.706 1.018 ... 0             0             0            0           \n",
       "3 0.527 0.993 ... 0             0             0            0           \n",
       "4 0.569 0.978 ... 0             0             0            0           \n",
       "5 0.520 0.980 ... 0             0             0            0           \n",
       "6 0.608 0.998 ... 0             0             0            0           \n",
       "  Hypnotic.80 Hypnotic.50 Neoplastic.80 Neoplastic.50 Infective.80 Infective.50\n",
       "1 0           0           0             0             0            0           \n",
       "2 0           0           0             0             0            0           \n",
       "3 0           0           0             0             0            0           \n",
       "4 1           0           0             0             1            0           \n",
       "5 0           0           0             0             0            0           \n",
       "6 1           0           0             0             1            0           "
      ]
     },
     "metadata": {},
     "output_type": "display_data"
    },
    {
     "data": {
      "text/html": [
       "<table>\n",
       "<thead><tr><th scope=col>Intensity</th><th scope=col>complexity.from.pubmed</th><th scope=col>MW</th><th scope=col>AMW</th><th scope=col>Sv</th><th scope=col>Se</th><th scope=col>Sp</th><th scope=col>Si</th><th scope=col>Mv</th><th scope=col>Me</th><th scope=col>...</th><th scope=col>Depressant.80</th><th scope=col>Depressant.50</th><th scope=col>Hypertens.80</th><th scope=col>Hypertens.50</th><th scope=col>Hypnotic.80</th><th scope=col>Hypnotic.50</th><th scope=col>Neoplastic.80</th><th scope=col>Neoplastic.50</th><th scope=col>Infective.80</th><th scope=col>Infective.50</th></tr></thead>\n",
       "<tbody>\n",
       "\t<tr><td>2     </td><td>302.0 </td><td>208.33</td><td>5.952 </td><td>19.698</td><td>34.491</td><td>21.523</td><td>39.571</td><td>0.563 </td><td>0.985 </td><td>...   </td><td>0     </td><td>0     </td><td>1     </td><td>0     </td><td>1     </td><td>0     </td><td>1     </td><td>0     </td><td>1     </td><td>0     </td></tr>\n",
       "\t<tr><td>1     </td><td> 72.6 </td><td>122.18</td><td>6.431 </td><td>11.349</td><td>18.745</td><td>12.261</td><td>21.285</td><td>0.597 </td><td>0.987 </td><td>...   </td><td>0     </td><td>0     </td><td>0     </td><td>0     </td><td>0     </td><td>0     </td><td>0     </td><td>0     </td><td>0     </td><td>0     </td></tr>\n",
       "\t<tr><td>1     </td><td>259.0 </td><td>242.29</td><td>7.572 </td><td>20.832</td><td>32.167</td><td>21.693</td><td>35.535</td><td>0.651 </td><td>1.005 </td><td>...   </td><td>1     </td><td>0     </td><td>1     </td><td>0     </td><td>1     </td><td>1     </td><td>1     </td><td>0     </td><td>1     </td><td>1     </td></tr>\n",
       "\t<tr><td>1     </td><td> 56.6 </td><td> 88.12</td><td>6.294 </td><td> 7.537</td><td>14.189</td><td> 7.955</td><td>16.080</td><td>0.538 </td><td>1.014 </td><td>...   </td><td>0     </td><td>0     </td><td>0     </td><td>0     </td><td>0     </td><td>0     </td><td>0     </td><td>0     </td><td>0     </td><td>0     </td></tr>\n",
       "\t<tr><td>2     </td><td> 84.7 </td><td>136.21</td><td>6.191 </td><td>12.876</td><td>21.629</td><td>14.023</td><td>24.701</td><td>0.585 </td><td>0.983 </td><td>...   </td><td>0     </td><td>0     </td><td>0     </td><td>0     </td><td>0     </td><td>0     </td><td>0     </td><td>0     </td><td>0     </td><td>0     </td></tr>\n",
       "\t<tr><td>1     </td><td>160.0 </td><td>192.28</td><td>6.409 </td><td>17.644</td><td>29.723</td><td>19.000</td><td>33.740</td><td>0.588 </td><td>0.991 </td><td>...   </td><td>0     </td><td>0     </td><td>0     </td><td>0     </td><td>1     </td><td>0     </td><td>1     </td><td>0     </td><td>1     </td><td>0     </td></tr>\n",
       "</tbody>\n",
       "</table>\n"
      ],
      "text/latex": [
       "\\begin{tabular}{r|llllllllllllllllllllllllllllllllllllllllllllllllllllllllllllllllllllllllllllllllllllllllllllllllllllllllllllllllllllllllllllllllllllllllllllllllllllllllllllllllllllllllllllllllllllllllllllllllllllllllllllllllllllllllllllllllllllllllllllllllllllllllllllllllllllllllllllllllllllllllllllllllllllllllllllllllllllllllllllllllllllllllllllllllllllllllllllllllllllllllllllllllllllllllllllllllllllllllllllllllllllllllllllllllllllllllllllllllllllllllllllllllllllllllllllllllllllllllllllllllllllllllllllllllllllllllllllllllllllllllllllllllllllllllllllllllllllllllllllllllllllllllllllllllllllllllllllllllllllllllllllllllllllllllllllllllllllllllllllllllllllllllllllllllllllllllllllllllllllllllllllllllllllllllllllllllllllllllllllllllllllllllllllllllllllllllllllllllllllllllllllllllllllllllllllllllllllllllllllllllllllllllllllllllllllllllllllllllllllllllllllllllllllllllllllllllllllllllllllllllllllllllllllllllllllllllllllllllllllllllllllllllllllllllllllllllllllllllllllllllllllllllllllllllllllllllllllllllllllllllllllllllllllllllllllllllllllllllllllllllllllllllllllllllllllllllllllllllllllllllllllllllllllllllllllllllllllllllllllllllllllllllllllllllllllllllllllllllllllllllllllllllllllllllllllllllllllllllllllllllllllllllllllllllllllllllllllllllllllllllllllllllllllllllllllllllllllllllllllllllllllllllllllllllllllllllllllllllllllllllllllllllllllllllllllllllllllllllllllllllllllllllllllllllllllllllllllllllllllllllllllllllllllllllllllllllllllllllllllllllllllllllllllllllllllllllllllllllllllllllllllllllllllllllllllllllllllllllllllllllllllllllllllllllllllllllllllllllllllllllllllllllllllllllllllllllllllllllllllllllllllllllllllllllllllllllllllllllllllllllllllllllllllllllllllllllllllllllllllllllllllllllllllllllllllllllllllllllllllllllllllllllllllllllllllllllllllllllllllllllllllllllllllllllllllllllllllllllllllllllllllllllllllllllllllllllllllllllllllllllllllllllllllllllllllllllllllllllllllllllllllllllllllllllllllllllllllllllllllllllllllllllllllllllllllllllllllllllllllllllllllllllllllllllllllllllllllllllllllllllllllllllllllllllllllllllllllllllllllllllllllllllllllllllllllllllllllllllllllllllllllllllllllllllllllllllllllllllllllllllllllllllllllllllllllllllllllllllllllllllllllllllllllllllllllllllllllllllllllllllllllllllllllllllllllllllllllllllllllllllllllllllllllllllllllllllllllllllllllllllllllllllllllllllllllllllllllllllllllllllllllllllllllllllllllllllllllllllllllllllllllllllllllllllllllllllllllllllllllllllllllllllllllllllllllllllllllllllllllllllllllllllllllllllllllllllllllllllllllllllllllllllllllllllllllllllllllllllllllllllllllllllllllllllllllllllllllllllllllllllllllllllllllllllllllllllllllllllllllllllllllllllllllllllllllllllllllllllllllllllllllllllllllllllllllllllllllllllllllllllllllllllllllllllllllllllllllllllllllllllllllllllllllllllllllllllllllllllllllllllllllllllllllllllllllllllllllllllllllllllllllllllllllllllllllllllllllllllllllllllllllllllllllllllllllllllllllllllllllllllllllllllllllllllllllllllllllllllllllllllllllllllllllllllllllllllllllllllllllllllllllllllllllllllllllllllllllllllllllllllllllllllllllllllllllllllllll}\n",
       " Intensity & complexity.from.pubmed & MW & AMW & Sv & Se & Sp & Si & Mv & Me & ... & Depressant.80 & Depressant.50 & Hypertens.80 & Hypertens.50 & Hypnotic.80 & Hypnotic.50 & Neoplastic.80 & Neoplastic.50 & Infective.80 & Infective.50\\\\\n",
       "\\hline\n",
       "\t 2      & 302.0  & 208.33 & 5.952  & 19.698 & 34.491 & 21.523 & 39.571 & 0.563  & 0.985  & ...    & 0      & 0      & 1      & 0      & 1      & 0      & 1      & 0      & 1      & 0     \\\\\n",
       "\t 1      &  72.6  & 122.18 & 6.431  & 11.349 & 18.745 & 12.261 & 21.285 & 0.597  & 0.987  & ...    & 0      & 0      & 0      & 0      & 0      & 0      & 0      & 0      & 0      & 0     \\\\\n",
       "\t 1      & 259.0  & 242.29 & 7.572  & 20.832 & 32.167 & 21.693 & 35.535 & 0.651  & 1.005  & ...    & 1      & 0      & 1      & 0      & 1      & 1      & 1      & 0      & 1      & 1     \\\\\n",
       "\t 1      &  56.6  &  88.12 & 6.294  &  7.537 & 14.189 &  7.955 & 16.080 & 0.538  & 1.014  & ...    & 0      & 0      & 0      & 0      & 0      & 0      & 0      & 0      & 0      & 0     \\\\\n",
       "\t 2      &  84.7  & 136.21 & 6.191  & 12.876 & 21.629 & 14.023 & 24.701 & 0.585  & 0.983  & ...    & 0      & 0      & 0      & 0      & 0      & 0      & 0      & 0      & 0      & 0     \\\\\n",
       "\t 1      & 160.0  & 192.28 & 6.409  & 17.644 & 29.723 & 19.000 & 33.740 & 0.588  & 0.991  & ...    & 0      & 0      & 0      & 0      & 1      & 0      & 1      & 0      & 1      & 0     \\\\\n",
       "\\end{tabular}\n"
      ],
      "text/markdown": [
       "\n",
       "| Intensity | complexity.from.pubmed | MW | AMW | Sv | Se | Sp | Si | Mv | Me | ... | Depressant.80 | Depressant.50 | Hypertens.80 | Hypertens.50 | Hypnotic.80 | Hypnotic.50 | Neoplastic.80 | Neoplastic.50 | Infective.80 | Infective.50 |\n",
       "|---|---|---|---|---|---|---|---|---|---|---|---|---|---|---|---|---|---|---|---|---|\n",
       "| 2      | 302.0  | 208.33 | 5.952  | 19.698 | 34.491 | 21.523 | 39.571 | 0.563  | 0.985  | ...    | 0      | 0      | 1      | 0      | 1      | 0      | 1      | 0      | 1      | 0      |\n",
       "| 1      |  72.6  | 122.18 | 6.431  | 11.349 | 18.745 | 12.261 | 21.285 | 0.597  | 0.987  | ...    | 0      | 0      | 0      | 0      | 0      | 0      | 0      | 0      | 0      | 0      |\n",
       "| 1      | 259.0  | 242.29 | 7.572  | 20.832 | 32.167 | 21.693 | 35.535 | 0.651  | 1.005  | ...    | 1      | 0      | 1      | 0      | 1      | 1      | 1      | 0      | 1      | 1      |\n",
       "| 1      |  56.6  |  88.12 | 6.294  |  7.537 | 14.189 |  7.955 | 16.080 | 0.538  | 1.014  | ...    | 0      | 0      | 0      | 0      | 0      | 0      | 0      | 0      | 0      | 0      |\n",
       "| 2      |  84.7  | 136.21 | 6.191  | 12.876 | 21.629 | 14.023 | 24.701 | 0.585  | 0.983  | ...    | 0      | 0      | 0      | 0      | 0      | 0      | 0      | 0      | 0      | 0      |\n",
       "| 1      | 160.0  | 192.28 | 6.409  | 17.644 | 29.723 | 19.000 | 33.740 | 0.588  | 0.991  | ...    | 0      | 0      | 0      | 0      | 1      | 0      | 1      | 0      | 1      | 0      |\n",
       "\n"
      ],
      "text/plain": [
       "  Intensity complexity.from.pubmed MW     AMW   Sv     Se     Sp     Si    \n",
       "1 2         302.0                  208.33 5.952 19.698 34.491 21.523 39.571\n",
       "2 1          72.6                  122.18 6.431 11.349 18.745 12.261 21.285\n",
       "3 1         259.0                  242.29 7.572 20.832 32.167 21.693 35.535\n",
       "4 1          56.6                   88.12 6.294  7.537 14.189  7.955 16.080\n",
       "5 2          84.7                  136.21 6.191 12.876 21.629 14.023 24.701\n",
       "6 1         160.0                  192.28 6.409 17.644 29.723 19.000 33.740\n",
       "  Mv    Me    ... Depressant.80 Depressant.50 Hypertens.80 Hypertens.50\n",
       "1 0.563 0.985 ... 0             0             1            0           \n",
       "2 0.597 0.987 ... 0             0             0            0           \n",
       "3 0.651 1.005 ... 1             0             1            0           \n",
       "4 0.538 1.014 ... 0             0             0            0           \n",
       "5 0.585 0.983 ... 0             0             0            0           \n",
       "6 0.588 0.991 ... 0             0             0            0           \n",
       "  Hypnotic.80 Hypnotic.50 Neoplastic.80 Neoplastic.50 Infective.80 Infective.50\n",
       "1 1           0           1             0             1            0           \n",
       "2 0           0           0             0             0            0           \n",
       "3 1           1           1             0             1            1           \n",
       "4 0           0           0             0             0            0           \n",
       "5 0           0           0             0             0            0           \n",
       "6 1           0           1             0             1            0           "
      ]
     },
     "metadata": {},
     "output_type": "display_data"
    }
   ],
   "source": [
    "head(x.test)\n",
    "head(x.full.ZV)"
   ]
  },
  {
   "cell_type": "code",
   "execution_count": null,
   "metadata": {},
   "outputs": [],
   "source": []
  },
  {
   "cell_type": "markdown",
   "metadata": {},
   "source": [
    "Here we want to CV the alpha parameter"
   ]
  },
  {
   "cell_type": "code",
   "execution_count": 21,
   "metadata": {},
   "outputs": [],
   "source": [
    "A <- seq(0,1,by = 0.1)\n",
    "CVM <- c()\n",
    "for (alpha in A){ \n",
    "    est <- c()\n",
    "    for (i in 1:5) {    \n",
    "        L2.cv <- cv.glmnet(x.full.ZV, train[,2], alpha = alpha, nfolds = 10)\n",
    "        #plot(L2.cv, main = paste(\"alpha = \",alpha))\n",
    "        est <- append(est,min(L2.cv$cvm))\n",
    "    }\n",
    "    CVM <- append(CVM,mean(est))\n",
    "}"
   ]
  },
  {
   "cell_type": "code",
   "execution_count": 22,
   "metadata": {},
   "outputs": [
    {
     "data": {
      "image/png": "[encoded data removed]",
      "text/plain": [
       "plot without title"
      ]
     },
     "metadata": {},
     "output_type": "display_data"
    }
   ],
   "source": [
    "plot(A,CVM,xlab = 'alpha', ylab = 'MSE')"
   ]
  },
  {
   "cell_type": "code",
   "execution_count": 6,
   "metadata": {},
   "outputs": [
    {
     "data": {
      "image/png": "[encoded data removed]",
      "text/plain": [
       "Plot with title \"alpha =  0.8\""
      ]
     },
     "metadata": {},
     "output_type": "display_data"
    }
   ],
   "source": [
    "a = A[which.min(CVM)]\n",
    "cv.best <- cv.glmnet(x.full.ZV, train[,2], alpha = a, nfolds = 10)\n",
    "plot(cv.best, main = paste(\"alpha = \",a))"
   ]
  },
  {
   "cell_type": "code",
   "execution_count": 8,
   "metadata": {},
   "outputs": [],
   "source": [
    "L.best <- glmnet(x.full.ZV,train.zeroVar[,2],alpha = 0.8, lambda = cv.best$lambda.min )\n",
    "y.pred <- predict (L.best,x.test)"
   ]
  },
  {
   "cell_type": "code",
   "execution_count": 10,
   "metadata": {},
   "outputs": [],
   "source": [
    "id <- 1:68\n",
    "temps <- data.frame(y.pred)\n",
    "final.data <- data.frame(Id = id,VALENCE.PLEASANTNESS = temps$s0)\n",
    "write.csv(final.data,\"../../Submission/GenR.csv\",row.names = FALSE)"
   ]
  },
  {
   "cell_type": "markdown",
   "metadata": {},
   "source": [
    "### Let s try something: first regsubset and a lambda reg"
   ]
  },
  {
   "cell_type": "code",
   "execution_count": 3,
   "metadata": {},
   "outputs": [
    {
     "name": "stderr",
     "output_type": "stream",
     "text": [
      "Warning message in leaps.setup(x, y, wt = wt, nbest = nbest, nvmax = nvmax, force.in = force.in, :\n",
      "\"2696  linear dependencies found\""
     ]
    },
    {
     "name": "stdout",
     "output_type": "stream",
     "text": [
      "Reordering variables and trying again:\n"
     ]
    }
   ],
   "source": [
    "forward <- regsubsets(VALENCE.PLEASANTNESS ~ ., train.zeroVar,nvmax = 200,really.big=T,method=\"forward\")"
   ]
  },
  {
   "cell_type": "code",
   "execution_count": 4,
   "metadata": {},
   "outputs": [
    {
     "data": {
      "text/html": [
       "<ol class=list-inline>\n",
       "\t<li>708</li>\n",
       "\t<li>200</li>\n",
       "</ol>\n"
      ],
      "text/latex": [
       "\\begin{enumerate*}\n",
       "\\item 708\n",
       "\\item 200\n",
       "\\end{enumerate*}\n"
      ],
      "text/markdown": [
       "1. 708\n",
       "2. 200\n",
       "\n",
       "\n"
      ],
      "text/plain": [
       "[1] 708 200"
      ]
     },
     "metadata": {},
     "output_type": "display_data"
    }
   ],
   "source": [
    "name <- names(coef(forward,id = 200)[-1])\n",
    "data.clean <- train.zeroVar[name]\n",
    "dim(data.clean)\n"
   ]
  },
  {
   "cell_type": "markdown",
   "metadata": {},
   "source": [
    "let's try again to cv alpha"
   ]
  },
  {
   "cell_type": "code",
   "execution_count": 23,
   "metadata": {},
   "outputs": [],
   "source": [
    "A <- seq(0,1,by = 0.05)\n",
    "CVM <- c()\n",
    "for (alpha in A){ \n",
    "    est <- c()\n",
    "    for (i in 1:5) {    \n",
    "        L2.cv <- cv.glmnet(as.matrix(data.clean), train[,2], alpha = alpha, nfolds = 10)\n",
    "        #plot(L2.cv, main = paste(\"alpha = \",alpha))\n",
    "        est <- append(est,min(L2.cv$cvm))\n",
    "    }\n",
    "    CVM <- append(CVM,mean(est))\n",
    "}"
   ]
  },
  {
   "cell_type": "code",
   "execution_count": 24,
   "metadata": {},
   "outputs": [
    {
     "data": {
      "image/png": "[encoded data removed]",
      "text/plain": [
       "plot without title"
      ]
     },
     "metadata": {},
     "output_type": "display_data"
    }
   ],
   "source": [
    "plot(A,CVM,xlab = 'alpha', ylab = 'MSE')"
   ]
  },
  {
   "cell_type": "code",
   "execution_count": 10,
   "metadata": {},
   "outputs": [
    {
     "data": {
      "image/png": "[encoded data removed]",
      "text/plain": [
       "plot without title"
      ]
     },
     "metadata": {},
     "output_type": "display_data"
    }
   ],
   "source": [
    "cv.L <- cv.glmnet(as.matrix(data.clean), train[,2], alpha = 0.8, nfolds = 50)\n",
    "plot(cv.L)"
   ]
  },
  {
   "cell_type": "code",
   "execution_count": 7,
   "metadata": {},
   "outputs": [
    {
     "data": {
      "text/html": [
       "<table>\n",
       "<thead><tr><th scope=col>Intensity</th><th scope=col>RBF</th><th scope=col>ZM1Kup</th><th scope=col>PW3</th><th scope=col>X1v</th><th scope=col>X3sol</th><th scope=col>X1Per</th><th scope=col>SpPos_L</th><th scope=col>VE2_Dt</th><th scope=col>VE2_Dz.v.</th><th scope=col>...</th><th scope=col>F02.O.S.</th><th scope=col>F03.C.O.</th><th scope=col>F04.O.O.</th><th scope=col>F04.O.S.</th><th scope=col>F05.C.N.</th><th scope=col>DLS_01</th><th scope=col>DLS_02</th><th scope=col>DLS_cons</th><th scope=col>CMC.80</th><th scope=col>Depressant.50</th></tr></thead>\n",
       "<tbody>\n",
       "\t<tr><td>1      </td><td>0.238  </td><td> 55.721</td><td>0.223  </td><td>5.646  </td><td>2.748  </td><td>2.597  </td><td>14     </td><td>0.320  </td><td>0.313  </td><td>...    </td><td>0      </td><td>0      </td><td>0      </td><td>0      </td><td>0      </td><td>1      </td><td>0.67   </td><td>0.79   </td><td>0      </td><td>0      </td></tr>\n",
       "\t<tr><td>1      </td><td>0.000  </td><td>197.471</td><td>0.325  </td><td>3.350  </td><td>3.802  </td><td>2.701  </td><td>24     </td><td>0.236  </td><td>0.274  </td><td>...    </td><td>0      </td><td>5      </td><td>0      </td><td>0      </td><td>0      </td><td>1      </td><td>0.67   </td><td>0.70   </td><td>0      </td><td>0      </td></tr>\n",
       "\t<tr><td>1      </td><td>0.227  </td><td>117.885</td><td>0.216  </td><td>3.488  </td><td>1.635  </td><td>2.889  </td><td>16     </td><td>0.303  </td><td>0.302  </td><td>...    </td><td>0      </td><td>2      </td><td>0      </td><td>0      </td><td>0      </td><td>1      </td><td>0.83   </td><td>0.95   </td><td>0      </td><td>0      </td></tr>\n",
       "\t<tr><td>1      </td><td>0.179  </td><td>114.150</td><td>0.270  </td><td>4.580  </td><td>3.191  </td><td>3.755  </td><td>24     </td><td>0.265  </td><td>0.265  </td><td>...    </td><td>0      </td><td>1      </td><td>0      </td><td>0      </td><td>0      </td><td>1      </td><td>0.83   </td><td>0.94   </td><td>1      </td><td>0      </td></tr>\n",
       "\t<tr><td>1      </td><td>0.167  </td><td> 64.150</td><td>0.219  </td><td>2.673  </td><td>1.207  </td><td>2.210  </td><td>12     </td><td>0.335  </td><td>0.337  </td><td>...    </td><td>0      </td><td>1      </td><td>0      </td><td>0      </td><td>0      </td><td>1      </td><td>0.83   </td><td>0.91   </td><td>0      </td><td>0      </td></tr>\n",
       "\t<tr><td>1      </td><td>0.167  </td><td>181.471</td><td>0.292  </td><td>4.022  </td><td>3.489  </td><td>3.254  </td><td>24     </td><td>0.268  </td><td>0.273  </td><td>...    </td><td>0      </td><td>5      </td><td>0      </td><td>0      </td><td>0      </td><td>1      </td><td>0.83   </td><td>0.85   </td><td>1      </td><td>0      </td></tr>\n",
       "</tbody>\n",
       "</table>\n"
      ],
      "text/latex": [
       "\\begin{tabular}{r|llllllllllllllllllllllllllllllllllllllllllllllllllllllllllllllllllllllllllllllllllllllllllllllllllllllllllllllllllllllllllllllllllllllllllllllllllllllllllllllllllllllllllllllllllllllllllllllllllllllll}\n",
       " Intensity & RBF & ZM1Kup & PW3 & X1v & X3sol & X1Per & SpPos\\_L & VE2\\_Dt & VE2\\_Dz.v. & ... & F02.O.S. & F03.C.O. & F04.O.O. & F04.O.S. & F05.C.N. & DLS\\_01 & DLS\\_02 & DLS\\_cons & CMC.80 & Depressant.50\\\\\n",
       "\\hline\n",
       "\t 1       & 0.238   &  55.721 & 0.223   & 5.646   & 2.748   & 2.597   & 14      & 0.320   & 0.313   & ...     & 0       & 0       & 0       & 0       & 0       & 1       & 0.67    & 0.79    & 0       & 0      \\\\\n",
       "\t 1       & 0.000   & 197.471 & 0.325   & 3.350   & 3.802   & 2.701   & 24      & 0.236   & 0.274   & ...     & 0       & 5       & 0       & 0       & 0       & 1       & 0.67    & 0.70    & 0       & 0      \\\\\n",
       "\t 1       & 0.227   & 117.885 & 0.216   & 3.488   & 1.635   & 2.889   & 16      & 0.303   & 0.302   & ...     & 0       & 2       & 0       & 0       & 0       & 1       & 0.83    & 0.95    & 0       & 0      \\\\\n",
       "\t 1       & 0.179   & 114.150 & 0.270   & 4.580   & 3.191   & 3.755   & 24      & 0.265   & 0.265   & ...     & 0       & 1       & 0       & 0       & 0       & 1       & 0.83    & 0.94    & 1       & 0      \\\\\n",
       "\t 1       & 0.167   &  64.150 & 0.219   & 2.673   & 1.207   & 2.210   & 12      & 0.335   & 0.337   & ...     & 0       & 1       & 0       & 0       & 0       & 1       & 0.83    & 0.91    & 0       & 0      \\\\\n",
       "\t 1       & 0.167   & 181.471 & 0.292   & 4.022   & 3.489   & 3.254   & 24      & 0.268   & 0.273   & ...     & 0       & 5       & 0       & 0       & 0       & 1       & 0.83    & 0.85    & 1       & 0      \\\\\n",
       "\\end{tabular}\n"
      ],
      "text/markdown": [
       "\n",
       "| Intensity | RBF | ZM1Kup | PW3 | X1v | X3sol | X1Per | SpPos_L | VE2_Dt | VE2_Dz.v. | ... | F02.O.S. | F03.C.O. | F04.O.O. | F04.O.S. | F05.C.N. | DLS_01 | DLS_02 | DLS_cons | CMC.80 | Depressant.50 |\n",
       "|---|---|---|---|---|---|---|---|---|---|---|---|---|---|---|---|---|---|---|---|---|\n",
       "| 1       | 0.238   |  55.721 | 0.223   | 5.646   | 2.748   | 2.597   | 14      | 0.320   | 0.313   | ...     | 0       | 0       | 0       | 0       | 0       | 1       | 0.67    | 0.79    | 0       | 0       |\n",
       "| 1       | 0.000   | 197.471 | 0.325   | 3.350   | 3.802   | 2.701   | 24      | 0.236   | 0.274   | ...     | 0       | 5       | 0       | 0       | 0       | 1       | 0.67    | 0.70    | 0       | 0       |\n",
       "| 1       | 0.227   | 117.885 | 0.216   | 3.488   | 1.635   | 2.889   | 16      | 0.303   | 0.302   | ...     | 0       | 2       | 0       | 0       | 0       | 1       | 0.83    | 0.95    | 0       | 0       |\n",
       "| 1       | 0.179   | 114.150 | 0.270   | 4.580   | 3.191   | 3.755   | 24      | 0.265   | 0.265   | ...     | 0       | 1       | 0       | 0       | 0       | 1       | 0.83    | 0.94    | 1       | 0       |\n",
       "| 1       | 0.167   |  64.150 | 0.219   | 2.673   | 1.207   | 2.210   | 12      | 0.335   | 0.337   | ...     | 0       | 1       | 0       | 0       | 0       | 1       | 0.83    | 0.91    | 0       | 0       |\n",
       "| 1       | 0.167   | 181.471 | 0.292   | 4.022   | 3.489   | 3.254   | 24      | 0.268   | 0.273   | ...     | 0       | 5       | 0       | 0       | 0       | 1       | 0.83    | 0.85    | 1       | 0       |\n",
       "\n"
      ],
      "text/plain": [
       "  Intensity RBF   ZM1Kup  PW3   X1v   X3sol X1Per SpPos_L VE2_Dt VE2_Dz.v. ...\n",
       "1 1         0.238  55.721 0.223 5.646 2.748 2.597 14      0.320  0.313     ...\n",
       "2 1         0.000 197.471 0.325 3.350 3.802 2.701 24      0.236  0.274     ...\n",
       "3 1         0.227 117.885 0.216 3.488 1.635 2.889 16      0.303  0.302     ...\n",
       "4 1         0.179 114.150 0.270 4.580 3.191 3.755 24      0.265  0.265     ...\n",
       "5 1         0.167  64.150 0.219 2.673 1.207 2.210 12      0.335  0.337     ...\n",
       "6 1         0.167 181.471 0.292 4.022 3.489 3.254 24      0.268  0.273     ...\n",
       "  F02.O.S. F03.C.O. F04.O.O. F04.O.S. F05.C.N. DLS_01 DLS_02 DLS_cons CMC.80\n",
       "1 0        0        0        0        0        1      0.67   0.79     0     \n",
       "2 0        5        0        0        0        1      0.67   0.70     0     \n",
       "3 0        2        0        0        0        1      0.83   0.95     0     \n",
       "4 0        1        0        0        0        1      0.83   0.94     1     \n",
       "5 0        1        0        0        0        1      0.83   0.91     0     \n",
       "6 0        5        0        0        0        1      0.83   0.85     1     \n",
       "  Depressant.50\n",
       "1 0            \n",
       "2 0            \n",
       "3 0            \n",
       "4 0            \n",
       "5 0            \n",
       "6 0            "
      ]
     },
     "metadata": {},
     "output_type": "display_data"
    },
    {
     "data": {
      "text/html": [
       "<table>\n",
       "<thead><tr><th scope=col>Intensity</th><th scope=col>RBF</th><th scope=col>ZM1Kup</th><th scope=col>PW3</th><th scope=col>X1v</th><th scope=col>X3sol</th><th scope=col>X1Per</th><th scope=col>SpPos_L</th><th scope=col>VE2_Dt</th><th scope=col>VE2_Dz.v.</th><th scope=col>...</th><th scope=col>F02.O.S.</th><th scope=col>F03.C.O.</th><th scope=col>F04.O.O.</th><th scope=col>F04.O.S.</th><th scope=col>F05.C.N.</th><th scope=col>DLS_01</th><th scope=col>DLS_02</th><th scope=col>DLS_cons</th><th scope=col>CMC.80</th><th scope=col>Depressant.50</th></tr></thead>\n",
       "<tbody>\n",
       "\t<tr><td>2      </td><td>0.111  </td><td>189.471</td><td>0.330  </td><td>5.838  </td><td>5.358  </td><td>4.570  </td><td>32     </td><td>0.239  </td><td>0.233  </td><td>...    </td><td>0      </td><td>2      </td><td>0      </td><td>0      </td><td>0      </td><td>1      </td><td>1.00   </td><td>1.00   </td><td>1      </td><td>0      </td></tr>\n",
       "\t<tr><td>1      </td><td>0.053  </td><td>117.736</td><td>0.308  </td><td>2.934  </td><td>2.713  </td><td>2.348  </td><td>18     </td><td>0.290  </td><td>0.279  </td><td>...    </td><td>0      </td><td>2      </td><td>0      </td><td>0      </td><td>0      </td><td>1      </td><td>0.83   </td><td>0.84   </td><td>0      </td><td>0      </td></tr>\n",
       "\t<tr><td>1      </td><td>0.152  </td><td>293.207</td><td>0.318  </td><td>5.670  </td><td>5.756  </td><td>4.556  </td><td>38     </td><td>0.211  </td><td>0.222  </td><td>...    </td><td>0      </td><td>7      </td><td>0      </td><td>0      </td><td>0      </td><td>1      </td><td>1.00   </td><td>0.87   </td><td>1      </td><td>0      </td></tr>\n",
       "\t<tr><td>1      </td><td>0.077  </td><td>107.885</td><td>0.267  </td><td>1.871  </td><td>1.333  </td><td>1.507  </td><td>10     </td><td>0.397  </td><td>0.385  </td><td>...    </td><td>0      </td><td>4      </td><td>0      </td><td>0      </td><td>0      </td><td>1      </td><td>0.83   </td><td>0.95   </td><td>0      </td><td>0      </td></tr>\n",
       "\t<tr><td>2      </td><td>0.091  </td><td>108.150</td><td>0.322  </td><td>3.573  </td><td>3.099  </td><td>2.919  </td><td>20     </td><td>0.302  </td><td>0.295  </td><td>...    </td><td>0      </td><td>3      </td><td>0      </td><td>0      </td><td>0      </td><td>1      </td><td>0.83   </td><td>0.84   </td><td>0      </td><td>0      </td></tr>\n",
       "\t<tr><td>1      </td><td>0.200  </td><td>189.471</td><td>0.288  </td><td>5.022  </td><td>3.981  </td><td>4.067  </td><td>28     </td><td>0.244  </td><td>0.248  </td><td>...    </td><td>0      </td><td>4      </td><td>0      </td><td>0      </td><td>0      </td><td>1      </td><td>0.83   </td><td>0.95   </td><td>1      </td><td>0      </td></tr>\n",
       "</tbody>\n",
       "</table>\n"
      ],
      "text/latex": [
       "\\begin{tabular}{r|llllllllllllllllllllllllllllllllllllllllllllllllllllllllllllllllllllllllllllllllllllllllllllllllllllllllllllllllllllllllllllllllllllllllllllllllllllllllllllllllllllllllllllllllllllllllllllllllllllllll}\n",
       " Intensity & RBF & ZM1Kup & PW3 & X1v & X3sol & X1Per & SpPos\\_L & VE2\\_Dt & VE2\\_Dz.v. & ... & F02.O.S. & F03.C.O. & F04.O.O. & F04.O.S. & F05.C.N. & DLS\\_01 & DLS\\_02 & DLS\\_cons & CMC.80 & Depressant.50\\\\\n",
       "\\hline\n",
       "\t 2       & 0.111   & 189.471 & 0.330   & 5.838   & 5.358   & 4.570   & 32      & 0.239   & 0.233   & ...     & 0       & 2       & 0       & 0       & 0       & 1       & 1.00    & 1.00    & 1       & 0      \\\\\n",
       "\t 1       & 0.053   & 117.736 & 0.308   & 2.934   & 2.713   & 2.348   & 18      & 0.290   & 0.279   & ...     & 0       & 2       & 0       & 0       & 0       & 1       & 0.83    & 0.84    & 0       & 0      \\\\\n",
       "\t 1       & 0.152   & 293.207 & 0.318   & 5.670   & 5.756   & 4.556   & 38      & 0.211   & 0.222   & ...     & 0       & 7       & 0       & 0       & 0       & 1       & 1.00    & 0.87    & 1       & 0      \\\\\n",
       "\t 1       & 0.077   & 107.885 & 0.267   & 1.871   & 1.333   & 1.507   & 10      & 0.397   & 0.385   & ...     & 0       & 4       & 0       & 0       & 0       & 1       & 0.83    & 0.95    & 0       & 0      \\\\\n",
       "\t 2       & 0.091   & 108.150 & 0.322   & 3.573   & 3.099   & 2.919   & 20      & 0.302   & 0.295   & ...     & 0       & 3       & 0       & 0       & 0       & 1       & 0.83    & 0.84    & 0       & 0      \\\\\n",
       "\t 1       & 0.200   & 189.471 & 0.288   & 5.022   & 3.981   & 4.067   & 28      & 0.244   & 0.248   & ...     & 0       & 4       & 0       & 0       & 0       & 1       & 0.83    & 0.95    & 1       & 0      \\\\\n",
       "\\end{tabular}\n"
      ],
      "text/markdown": [
       "\n",
       "| Intensity | RBF | ZM1Kup | PW3 | X1v | X3sol | X1Per | SpPos_L | VE2_Dt | VE2_Dz.v. | ... | F02.O.S. | F03.C.O. | F04.O.O. | F04.O.S. | F05.C.N. | DLS_01 | DLS_02 | DLS_cons | CMC.80 | Depressant.50 |\n",
       "|---|---|---|---|---|---|---|---|---|---|---|---|---|---|---|---|---|---|---|---|---|\n",
       "| 2       | 0.111   | 189.471 | 0.330   | 5.838   | 5.358   | 4.570   | 32      | 0.239   | 0.233   | ...     | 0       | 2       | 0       | 0       | 0       | 1       | 1.00    | 1.00    | 1       | 0       |\n",
       "| 1       | 0.053   | 117.736 | 0.308   | 2.934   | 2.713   | 2.348   | 18      | 0.290   | 0.279   | ...     | 0       | 2       | 0       | 0       | 0       | 1       | 0.83    | 0.84    | 0       | 0       |\n",
       "| 1       | 0.152   | 293.207 | 0.318   | 5.670   | 5.756   | 4.556   | 38      | 0.211   | 0.222   | ...     | 0       | 7       | 0       | 0       | 0       | 1       | 1.00    | 0.87    | 1       | 0       |\n",
       "| 1       | 0.077   | 107.885 | 0.267   | 1.871   | 1.333   | 1.507   | 10      | 0.397   | 0.385   | ...     | 0       | 4       | 0       | 0       | 0       | 1       | 0.83    | 0.95    | 0       | 0       |\n",
       "| 2       | 0.091   | 108.150 | 0.322   | 3.573   | 3.099   | 2.919   | 20      | 0.302   | 0.295   | ...     | 0       | 3       | 0       | 0       | 0       | 1       | 0.83    | 0.84    | 0       | 0       |\n",
       "| 1       | 0.200   | 189.471 | 0.288   | 5.022   | 3.981   | 4.067   | 28      | 0.244   | 0.248   | ...     | 0       | 4       | 0       | 0       | 0       | 1       | 0.83    | 0.95    | 1       | 0       |\n",
       "\n"
      ],
      "text/plain": [
       "  Intensity RBF   ZM1Kup  PW3   X1v   X3sol X1Per SpPos_L VE2_Dt VE2_Dz.v. ...\n",
       "1 2         0.111 189.471 0.330 5.838 5.358 4.570 32      0.239  0.233     ...\n",
       "2 1         0.053 117.736 0.308 2.934 2.713 2.348 18      0.290  0.279     ...\n",
       "3 1         0.152 293.207 0.318 5.670 5.756 4.556 38      0.211  0.222     ...\n",
       "4 1         0.077 107.885 0.267 1.871 1.333 1.507 10      0.397  0.385     ...\n",
       "5 2         0.091 108.150 0.322 3.573 3.099 2.919 20      0.302  0.295     ...\n",
       "6 1         0.200 189.471 0.288 5.022 3.981 4.067 28      0.244  0.248     ...\n",
       "  F02.O.S. F03.C.O. F04.O.O. F04.O.S. F05.C.N. DLS_01 DLS_02 DLS_cons CMC.80\n",
       "1 0        2        0        0        0        1      1.00   1.00     1     \n",
       "2 0        2        0        0        0        1      0.83   0.84     0     \n",
       "3 0        7        0        0        0        1      1.00   0.87     1     \n",
       "4 0        4        0        0        0        1      0.83   0.95     0     \n",
       "5 0        3        0        0        0        1      0.83   0.84     0     \n",
       "6 0        4        0        0        0        1      0.83   0.95     1     \n",
       "  Depressant.50\n",
       "1 0            \n",
       "2 0            \n",
       "3 0            \n",
       "4 0            \n",
       "5 0            \n",
       "6 0            "
      ]
     },
     "metadata": {},
     "output_type": "display_data"
    }
   ],
   "source": [
    "test <- x.test[,name]\n",
    "head(test)\n",
    "head(as.matrix(data.clean))"
   ]
  },
  {
   "cell_type": "code",
   "execution_count": 11,
   "metadata": {},
   "outputs": [],
   "source": [
    "L.reg <- glmnet(as.matrix(data.clean),train.zeroVar[,2],alpha = 0.8, lambda = cv.L$lambda.min )\n",
    "y.pred <- predict (L.reg,test)"
   ]
  },
  {
   "cell_type": "code",
   "execution_count": 12,
   "metadata": {},
   "outputs": [],
   "source": [
    "id <- 1:68\n",
    "temps <- data.frame(y.pred)\n",
    "final.data <- data.frame(Id = id,VALENCE.PLEASANTNESS = temps$s0)\n",
    "write.csv(final.data,\"../../Submission/FullReg.csv\",row.names = FALSE)"
   ]
  },
  {
   "cell_type": "markdown",
   "metadata": {},
   "source": [
    "It gave nothing on the test set, it is quite weird as it is one of the best validation error we got"
   ]
  },
  {
   "cell_type": "code",
   "execution_count": null,
   "metadata": {},
   "outputs": [],
   "source": []
  }
 ],
 "metadata": {
  "kernelspec": {
   "display_name": "R",
   "language": "R",
   "name": "ir"
  },
  "language_info": {
   "codemirror_mode": "r",
   "file_extension": ".r",
   "mimetype": "text/x-r-source",
   "name": "R",
   "pygments_lexer": "r",
   "version": "3.6.1"
  }
 },
 "nbformat": 4,
 "nbformat_minor": 4
}
