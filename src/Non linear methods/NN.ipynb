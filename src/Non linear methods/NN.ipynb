{
 "cells": [
  {
   "cell_type": "code",
   "execution_count": 1,
   "metadata": {},
   "outputs": [
    {
     "name": "stderr",
     "output_type": "stream",
     "text": [
      "also installing the dependencies 'pillar', 'glue', 'tibble', 'ellipsis', 'dplyr', 'vctrs', 'cpp11', 'generics', 'lifecycle', 'rlang', 'tidyr', 'tidyselect', 'ModelMetrics', 'recipes', 'pROC'\n",
      "\n"
     ]
    },
    {
     "name": "stdout",
     "output_type": "stream",
     "text": [
      "package 'pillar' successfully unpacked and MD5 sums checked\n",
      "package 'glue' successfully unpacked and MD5 sums checked\n",
      "package 'tibble' successfully unpacked and MD5 sums checked\n",
      "package 'ellipsis' successfully unpacked and MD5 sums checked\n",
      "package 'dplyr' successfully unpacked and MD5 sums checked\n",
      "package 'vctrs' successfully unpacked and MD5 sums checked\n",
      "package 'cpp11' successfully unpacked and MD5 sums checked\n",
      "package 'generics' successfully unpacked and MD5 sums checked\n",
      "package 'lifecycle' successfully unpacked and MD5 sums checked\n",
      "package 'rlang' successfully unpacked and MD5 sums checked\n",
      "package 'tidyr' successfully unpacked and MD5 sums checked\n",
      "package 'tidyselect' successfully unpacked and MD5 sums checked\n",
      "package 'ModelMetrics' successfully unpacked and MD5 sums checked\n",
      "package 'recipes' successfully unpacked and MD5 sums checked\n",
      "package 'pROC' successfully unpacked and MD5 sums checked\n",
      "package 'caret' successfully unpacked and MD5 sums checked\n",
      "\n",
      "The downloaded binary packages are in\n",
      "\tC:\\Users\\cpien\\AppData\\Local\\Temp\\RtmpW2YD8U\\downloaded_packages\n"
     ]
    }
   ],
   "source": [
    "install.packages(\"caret\")"
   ]
  },
  {
   "cell_type": "code",
   "execution_count": 1,
   "metadata": {},
   "outputs": [
    {
     "name": "stderr",
     "output_type": "stream",
     "text": [
      "Warning message:\n",
      "\"package 'caret' was built under R version 3.6.3\"Loading required package: lattice\n",
      "Loading required package: ggplot2\n",
      "Registered S3 methods overwritten by 'ggplot2':\n",
      "  method         from \n",
      "  [.quosures     rlang\n",
      "  c.quosures     rlang\n",
      "  print.quosures rlang\n"
     ]
    }
   ],
   "source": [
    "library(caret)\n",
    "library(keras)\n",
    "use_condaenv(\"r-tensorflow\")\n",
    "#library(randomForest)\n",
    "#library(tidymodels)\n",
    "#library(keras)"
   ]
  },
  {
   "cell_type": "code",
   "execution_count": 19,
   "metadata": {},
   "outputs": [
    {
     "data": {
      "text/html": [
       "<ol class=list-inline>\n",
       "\t<li>708</li>\n",
       "\t<li>4872</li>\n",
       "</ol>\n"
      ],
      "text/latex": [
       "\\begin{enumerate*}\n",
       "\\item 708\n",
       "\\item 4872\n",
       "\\end{enumerate*}\n"
      ],
      "text/markdown": [
       "1. 708\n",
       "2. 4872\n",
       "\n",
       "\n"
      ],
      "text/plain": [
       "[1]  708 4872"
      ]
     },
     "metadata": {},
     "output_type": "display_data"
    },
    {
     "data": {
      "text/html": [
       "<ol class=list-inline>\n",
       "\t<li>708</li>\n",
       "\t<li>4870</li>\n",
       "</ol>\n"
      ],
      "text/latex": [
       "\\begin{enumerate*}\n",
       "\\item 708\n",
       "\\item 4870\n",
       "\\end{enumerate*}\n"
      ],
      "text/markdown": [
       "1. 708\n",
       "2. 4870\n",
       "\n",
       "\n"
      ],
      "text/plain": [
       "[1]  708 4870"
      ]
     },
     "metadata": {},
     "output_type": "display_data"
    }
   ],
   "source": [
    "train <- read.csv(file = '../../Data/training_data.csv')\n",
    "library(keras)\n",
    "dim(train)\n",
    "train <- train[,-3]\n",
    "X <- train[,-2]\n",
    "X$Intensity <- as.numeric(X$Intensity)\n",
    "X <- as.matrix(X)\n",
    "Y <- train[,2]\n",
    "dim(X)"
   ]
  },
  {
   "cell_type": "code",
   "execution_count": 41,
   "metadata": {},
   "outputs": [
    {
     "name": "stdout",
     "output_type": "stream",
     "text": [
      "package 'MASS' successfully unpacked and MD5 sums checked\n"
     ]
    },
    {
     "name": "stderr",
     "output_type": "stream",
     "text": [
      "Warning message:\n",
      "\"cannot remove prior installation of package 'MASS'\"Warning message in file.copy(savedcopy, lib, recursive = TRUE):\n",
      "\"problème lors de la copie de C:\\Users\\cpien\\anaconda3\\envs\\bio322\\Lib\\R\\library\\00LOCK\\MASS\\libs\\x64\\MASS.dll vers C:\\Users\\cpien\\anaconda3\\envs\\bio322\\Lib\\R\\library\\MASS\\libs\\x64\\MASS.dll: Permission denied\"Warning message:\n",
      "\"restored 'MASS'\""
     ]
    },
    {
     "name": "stdout",
     "output_type": "stream",
     "text": [
      "\n",
      "The downloaded binary packages are in\n",
      "\tC:\\Users\\cpien\\AppData\\Local\\Temp\\RtmpSSaUg0\\downloaded_packages\n"
     ]
    }
   ],
   "source": [
    "install.packages(\"MASS\")"
   ]
  },
  {
   "cell_type": "code",
   "execution_count": 44,
   "metadata": {},
   "outputs": [],
   "source": []
  },
  {
   "cell_type": "code",
   "execution_count": 42,
   "metadata": {},
   "outputs": [],
   "source": [
    "ZeroVar <- function(data) {\n",
    "   out <- lapply(data, function(x) length(unique(x)))\n",
    "   want <- which(!out > 1)\n",
    "   unlist(want)\n",
    "}"
   ]
  },
  {
   "cell_type": "code",
   "execution_count": 3,
   "metadata": {},
   "outputs": [],
   "source": [
    "train <- read.csv(file = '../../Data/training_data.csv')\n",
    "train <- subset(train,select = -SWEETORSOUR)\n",
    "train$Intensity <- as.numeric(train$Intensity)\n",
    "Y <- train$VALENCE.PLEASANTNESS\n",
    "train <- subset(train,select = -VALENCE.PLEASANTNESS)\n",
    "train.Z <- subset(train,select = -nearZeroVar(train))\n",
    "correlation <- cor(train.Z)\n",
    "id <- sort(findCorrelation(correlation, cutoff=0.7))\n",
    "data.unC <- train.Z[,-id]\n",
    "X <- as.matrix(data.unC)"
   ]
  },
  {
   "cell_type": "code",
   "execution_count": 13,
   "metadata": {},
   "outputs": [
    {
     "data": {
      "text/html": [
       "<ol class=list-inline>\n",
       "\t<li>708</li>\n",
       "\t<li>196</li>\n",
       "</ol>\n"
      ],
      "text/latex": [
       "\\begin{enumerate*}\n",
       "\\item 708\n",
       "\\item 196\n",
       "\\end{enumerate*}\n"
      ],
      "text/markdown": [
       "1. 708\n",
       "2. 196\n",
       "\n",
       "\n"
      ],
      "text/plain": [
       "[1] 708 196"
      ]
     },
     "metadata": {},
     "output_type": "display_data"
    }
   ],
   "source": [
    "dim(X)"
   ]
  },
  {
   "cell_type": "code",
   "execution_count": 9,
   "metadata": {},
   "outputs": [
    {
     "data": {
      "image/png": "[encoded data removed]",
      "text/plain": [
       "plot without title"
      ]
     },
     "metadata": {},
     "output_type": "display_data"
    }
   ],
   "source": [
    "nn <- keras_model_sequential()\n",
    "\n",
    "nn %>%\n",
    " layer_dense(units = 20,  activation = 'relu', kernel_initializer = \"he_normal\", input_shape = 196)  %>%\n",
    " layer_dropout(0.05) %>%\n",
    " layer_dense(units = 1,activation = 'linear')\n",
    "\n",
    "nn %>% compile(\n",
    "  loss = 'mse',\n",
    "  optimizer = 'adam'\n",
    ")\n",
    "\n",
    "history <- nn %>% fit(\n",
    "  (X), Y, \n",
    "  epochs = 1000,\n",
    "  validation_split = 0.5,\n",
    "  callbacks = callback_early_stopping(monitor = \"val_loss\", patience = 50)\n",
    ")\n",
    "plot(history)"
   ]
  },
  {
   "cell_type": "code",
   "execution_count": 13,
   "metadata": {},
   "outputs": [],
   "source": [
    "library(caret)\n",
    "library(keras)\n",
    "use_condaenv(\"r-tensorflow\")"
   ]
  },
  {
   "cell_type": "code",
   "execution_count": 14,
   "metadata": {},
   "outputs": [
    {
     "data": {
      "text/html": [
       "66"
      ],
      "text/latex": [
       "66"
      ],
      "text/markdown": [
       "66"
      ],
      "text/plain": [
       "[1] 66"
      ]
     },
     "metadata": {},
     "output_type": "display_data"
    }
   ],
   "source": [
    "train <- read.csv(file = '../../Data/training_data.csv')\n",
    "train <- subset(train,select = -SWEETORSOUR)\n",
    "train$Intensity <- as.numeric(train$Intensity)\n",
    "#Y <- train$VALENCE.PLEASANTNESS\n",
    "#train <- subset(train,select = -VALENCE.PLEASANTNESS)\n",
    "train.Z <- subset(train,select = -nearZeroVar(train))\n",
    "correlation <- cor(train.Z)\n",
    "id <- sort(findCorrelation(correlation, cutoff=0.5))\n",
    "data.unC <- train.Z[,-id]\n",
    "\n",
    "idx.train <- sample(nrow(data.unC), nrow(data.unC)*0.5)\n",
    "Y <- train[idx.train,]$VALENCE.PLEASANTNESS\n",
    "Y_test <- train[-idx.train,]$VALENCE.PLEASANTNESS\n",
    "data.unC <- subset(data.unC,select = -VALENCE.PLEASANTNESS)\n",
    "Xi <- data.unC[idx.train,]\n",
    "X <- as.matrix(Xi)\n",
    "X_test <- data.unC[-idx.train,]\n",
    "X_test <- as.matrix(X_test)\n",
    "dim(X)[2]"
   ]
  },
  {
   "cell_type": "code",
   "execution_count": 15,
   "metadata": {},
   "outputs": [],
   "source": [
    "test <- read.csv(file = '../../Data/test_data.csv')\n",
    "test <- na.omit(test)\n",
    "test <- test[,-1]\n",
    "test$Intensity <- as.numeric(test$Intensity)\n",
    "test <- test[,names(Xi)]\n",
    "x.testa <- as.matrix(test)"
   ]
  },
  {
   "cell_type": "code",
   "execution_count": 16,
   "metadata": {},
   "outputs": [],
   "source": [
    "library(MASS)\n",
    "getdata <- function (seed = 1) {\n",
    "    set.seed(seed)\n",
    "    list(train = train,\n",
    "         boston.test = Y_test,\n",
    "         boston.train.x = X,\n",
    "         boston.test.x = X_test\n",
    "    )\n",
    "}"
   ]
  },
  {
   "cell_type": "code",
   "execution_count": 17,
   "metadata": {},
   "outputs": [],
   "source": [
    "library(ggfortify)\n",
    "get.scale <- function(scaled) {\n",
    "    if (\"scaled:center\" %in% names(attributes(scaled))) {\n",
    "        center <- attr(scaled, \"scaled:center\")\n",
    "    } else {\n",
    "        center <- rep(0, ncol(scaled))\n",
    "    }\n",
    "    if (\"scaled:scale\" %in% names(attributes(scaled))) {\n",
    "        list(center, attr(scaled, \"scaled:scale\"))\n",
    "    } else {\n",
    "        list(center, rep(1., length(center)))\n",
    "    }\n",
    "}\n",
    "boston.x.scale <- function(x, scaled) {\n",
    "    s <- get.scale(scaled)\n",
    "    centered <- sweep(x, 2, s[[1]])\n",
    "    sweep(centered, 2, s[[2]], FUN = \"/\")\n",
    "}\n",
    "boston.y.scale <- function(y, scaled) {\n",
    "    s <- get.scale(scaled)\n",
    "    (y - s[[1]])/s[[2]]\n",
    "}\n",
    "boston.y.unscale <- function(y, scaled) {\n",
    "    s <- get.scale(scaled)\n",
    "    y * s[[2]] + s[[1]]\n",
    "}\n",
    "keras.func <- function (seed = 1) {\n",
    "    with(getdata(seed), {\n",
    "        boston.train.x.prep <- scale(boston.train.x, center = T, scale = T)\n",
    "        boston.train.y.prep <- scale(Y, center = T, scale = T)\n",
    "        nn <- keras_model_sequential()\n",
    "        nn <- nn %>%\n",
    "            layer_dense(40,kernel_regularizer = regularizer_l2(l = 0.1), activation = \"relu\", input_shape = c(dim(X)[2])) %>%\n",
    "            layer_dropout(rate = .6) %>%\n",
    "            layer_dense(40, kernel_regularizer = regularizer_l2(l = 0.1), activation = \"relu\") %>%\n",
    "            layer_dropout(rate = .6) %>%\n",
    "            layer_dense(1, activation = \"linear\")\n",
    "        nn %>% compile(optimizer = \"adam\", loss = \"mean_squared_error\")\n",
    "        history <- nn %>% fit(boston.train.x.prep,\n",
    "                             boston.train.y.prep,\n",
    "                             verbose = 2,\n",
    "                             batch_size = length(boston.train.y.prep),\n",
    "                             validation_data = list(boston.x.scale(boston.test.x, boston.train.x.prep),\n",
    "                                                    boston.y.scale(boston.test, boston.train.y.prep)),\n",
    "                             epochs = 700,\n",
    "                             callbacks = callback_early_stopping(monitor = \"val_loss\", patience = 15)\n",
    ")\n",
    "     \n",
    "        nn.pred <- predict(nn, boston.x.scale(boston.test.x, boston.train.x.prep))\n",
    "        sqrt(mean((boston.y.unscale(nn.pred, boston.train.y.prep) - boston.test)^2))\n",
    "        \n",
    "        #results <- predict(nn, boston.x.scale(x.testa, boston.train.x.prep))\n",
    "        #results <- boston.y.unscale(results,boston.train.y.prep)\n",
    "        #id <- 1:68\n",
    "        #temps <- data.frame(results)\n",
    "        #final.data <- data.frame(Id = id, VALENCE.PLEASANTNESS = temps$results)\n",
    "        #write_csv(final.data, \"../../Submission/NNopti.csv\", row.names=FALSE)\n",
    "        \n",
    "   })\n",
    "}"
   ]
  },
  {
   "cell_type": "code",
   "execution_count": 18,
   "metadata": {},
   "outputs": [
    {
     "data": {
      "text/html": [
       "<ol class=list-inline>\n",
       "\t<li>21.6470499021903</li>\n",
       "\t<li>21.5921594415537</li>\n",
       "\t<li>21.5545612309885</li>\n",
       "\t<li>21.5163177015722</li>\n",
       "\t<li>21.7367450528455</li>\n",
       "</ol>\n"
      ],
      "text/latex": [
       "\\begin{enumerate*}\n",
       "\\item 21.6470499021903\n",
       "\\item 21.5921594415537\n",
       "\\item 21.5545612309885\n",
       "\\item 21.5163177015722\n",
       "\\item 21.7367450528455\n",
       "\\end{enumerate*}\n"
      ],
      "text/markdown": [
       "1. 21.6470499021903\n",
       "2. 21.5921594415537\n",
       "3. 21.5545612309885\n",
       "4. 21.5163177015722\n",
       "5. 21.7367450528455\n",
       "\n",
       "\n"
      ],
      "text/plain": [
       "[1] 21.64705 21.59216 21.55456 21.51632 21.73675"
      ]
     },
     "metadata": {},
     "output_type": "display_data"
    },
    {
     "data": {
      "text/html": [
       "21.60936666583"
      ],
      "text/latex": [
       "21.60936666583"
      ],
      "text/markdown": [
       "21.60936666583"
      ],
      "text/plain": [
       "[1] 21.60937"
      ]
     },
     "metadata": {},
     "output_type": "display_data"
    },
    {
     "data": {
      "text/html": [
       "0.0860277771800977"
      ],
      "text/latex": [
       "0.0860277771800977"
      ],
      "text/markdown": [
       "0.0860277771800977"
      ],
      "text/plain": [
       "[1] 0.08602778"
      ]
     },
     "metadata": {},
     "output_type": "display_data"
    }
   ],
   "source": [
    "keras.res <- sapply(1:5, keras.func)\n",
    "keras.res\n",
    "mean(keras.res)\n",
    "sqrt(var(keras.res))"
   ]
  },
  {
   "cell_type": "code",
   "execution_count": 12,
   "metadata": {},
   "outputs": [
    {
     "data": {
      "text/html": [
       "22.6635040661481"
      ],
      "text/latex": [
       "22.6635040661481"
      ],
      "text/markdown": [
       "22.6635040661481"
      ],
      "text/plain": [
       "[1] 22.6635"
      ]
     },
     "metadata": {},
     "output_type": "display_data"
    }
   ],
   "source": [
    "keras.func(1)"
   ]
  },
  {
   "cell_type": "code",
   "execution_count": 33,
   "metadata": {},
   "outputs": [
    {
     "data": {
      "text/html": [
       "66"
      ],
      "text/latex": [
       "66"
      ],
      "text/markdown": [
       "66"
      ],
      "text/plain": [
       "[1] 66"
      ]
     },
     "metadata": {},
     "output_type": "display_data"
    }
   ],
   "source": [
    "train <- read.csv(file = '../../Data/training_data.csv')\n",
    "train <- subset(train,select = -SWEETORSOUR)\n",
    "train$Intensity <- as.numeric(train$Intensity)\n",
    "train.Z <- subset(train,select = -nearZeroVar(train))\n",
    "correlation <- cor(train.Z)\n",
    "id <- sort(findCorrelation(correlation, cutoff=0.5))\n",
    "data.unC <- train.Z[,-id]\n",
    "\n",
    "idx.train <- sample(nrow(data.unC), nrow(data.unC)*0.6)\n",
    "Y <- train[idx.train,]$VALENCE.PLEASANTNESS\n",
    "y.valid <- train[-idx.train,]$VALENCE.PLEASANTNESS\n",
    "data.unC <- subset(data.unC,select = -VALENCE.PLEASANTNESS)\n",
    "X <- data.unC[idx.train,]\n",
    "X <- as.matrix(X)\n",
    "x.valid <- data.unC[-idx.train,]\n",
    "x.valid <- as.matrix(X_test)\n",
    "dim(X)[2]"
   ]
  },
  {
   "cell_type": "code",
   "execution_count": 34,
   "metadata": {},
   "outputs": [],
   "source": [
    "library(ggfortify)\n",
    "get.scale <- function(scaled) {\n",
    "    if (\"scaled:center\" %in% names(attributes(scaled))) {\n",
    "        center <- attr(scaled, \"scaled:center\")\n",
    "    } else {\n",
    "        center <- rep(0, ncol(scaled))\n",
    "    }\n",
    "    if (\"scaled:scale\" %in% names(attributes(scaled))) {\n",
    "        list(center, attr(scaled, \"scaled:scale\"))\n",
    "    } else {\n",
    "        list(center, rep(1., length(center)))\n",
    "    }\n",
    "}\n",
    "x.scale <- function(x, scaled) {\n",
    "    s <- get.scale(scaled)\n",
    "    centered <- sweep(x, 2, s[[1]])\n",
    "    sweep(centered, 2, s[[2]], FUN = \"/\")\n",
    "}\n",
    "y.scale <- function(y, scaled) {\n",
    "    s <- get.scale(scaled)\n",
    "    (y - s[[1]])/s[[2]]\n",
    "}\n",
    "y.unscale <- function(y, scaled) {\n",
    "    s <- get.scale(scaled)\n",
    "    y * s[[2]] + s[[1]]\n",
    "}"
   ]
  },
  {
   "cell_type": "code",
   "execution_count": 36,
   "metadata": {},
   "outputs": [
    {
     "name": "stderr",
     "output_type": "stream",
     "text": [
      "Warning message in y.unscale(nn.pred, y.scaled) - y.valid:\n",
      "\"la taille d'un objet plus long n'est pas multiple de la taille d'un objet plus court\""
     ]
    },
    {
     "data": {
      "text/html": [
       "24.2988457629828"
      ],
      "text/latex": [
       "24.2988457629828"
      ],
      "text/markdown": [
       "24.2988457629828"
      ],
      "text/plain": [
       "[1] 24.29885"
      ]
     },
     "metadata": {},
     "output_type": "display_data"
    }
   ],
   "source": [
    "x.scaled <- scale(X,center = T, scale = T)\n",
    "y.scaled <- scale(Y,center = T, scale = T)\n",
    "x.valid.scaled <- x.scale(x.valid,x.scaled)\n",
    "y.valid.scaled <- y.scale(y.valid,y.scaled)\n",
    "\n",
    "nn <- keras_model_sequential()\n",
    "\n",
    "nn %>%\n",
    " layer_dense(40,kernel_regularizer = regularizer_l2(l = 0.1), activation = \"relu\", input_shape = c(dim(X)[2])) %>%\n",
    " layer_dropout(rate = .6) %>%\n",
    " layer_dense(40, kernel_regularizer = regularizer_l2(l = 0.1), activation = \"relu\") %>%\n",
    " layer_dropout(rate = .6) %>%\n",
    " layer_dense(1, activation = \"linear\")\n",
    "\n",
    "nn %>% compile(\n",
    "  loss = 'mse',\n",
    "  optimizer = 'adam'\n",
    ")\n",
    "\n",
    "history <- nn %>% fit(\n",
    "  (x.scaled), y.scaled, \n",
    "  epochs = 1000,\n",
    "  validation_split = 0.5,\n",
    "  callbacks = callback_early_stopping(monitor = \"val_loss\", patience = 50)\n",
    ")\n",
    "\n",
    "nn.pred <- predict(nn, x.valid.scaled)\n",
    "sqrt(mean((y.unscale(nn.pred, y.scaled) - y.valid)^2))"
   ]
  },
  {
   "cell_type": "code",
   "execution_count": 8,
   "metadata": {},
   "outputs": [
    {
     "name": "stderr",
     "output_type": "stream",
     "text": [
      "also installing the dependency 'gridExtra'\n",
      "\n"
     ]
    },
    {
     "name": "stdout",
     "output_type": "stream",
     "text": [
      "package 'gridExtra' successfully unpacked and MD5 sums checked\n",
      "package 'ggfortify' successfully unpacked and MD5 sums checked\n",
      "\n",
      "The downloaded binary packages are in\n",
      "\tC:\\Users\\cpien\\AppData\\Local\\Temp\\RtmpS0dRYh\\downloaded_packages\n"
     ]
    }
   ],
   "source": [
    "install.packages(\"ggfortify\")"
   ]
  },
  {
   "cell_type": "code",
   "execution_count": 16,
   "metadata": {},
   "outputs": [],
   "source": [
    "train <- read.csv(file = '../../Data/training_data.csv')\n",
    "train <- subset(train,select = -SWEETORSOUR)\n",
    "train$Intensity <- as.numeric(train$Intensity)\n",
    "#Y <- train$VALENCE.PLEASANTNESS\n",
    "#train <- subset(train,select = -VALENCE.PLEASANTNESS)\n",
    "train.Z <- subset(train,select = -nearZeroVar(train))\n",
    "correlation <- cor(train.Z)\n",
    "id <- sort(findCorrelation(correlation, cutoff=0.5))\n",
    "data.unC <- train.Z[,-id]\n",
    "\n",
    "idx.train <- sample(nrow(data.unC), nrow(data.unC)*3/4)\n",
    "Y <- train[idx.train,]$VALENCE.PLEASANTNESS\n",
    "Y_test <- train[-idx.train,]$VALENCE.PLEASANTNESS\n",
    "data.unC <- subset(data.unC,select = -VALENCE.PLEASANTNESS)\n",
    "X <- data.unC[idx.train,]\n",
    "X <- as.matrix(X)\n",
    "X_test <- data.unC[-idx.train,]\n",
    "X_test <- as.matrix(X_test)"
   ]
  },
  {
   "cell_type": "code",
   "execution_count": 17,
   "metadata": {},
   "outputs": [
    {
     "data": {
      "text/html": [
       "<ol class=list-inline>\n",
       "\t<li>531</li>\n",
       "\t<li>66</li>\n",
       "</ol>\n"
      ],
      "text/latex": [
       "\\begin{enumerate*}\n",
       "\\item 531\n",
       "\\item 66\n",
       "\\end{enumerate*}\n"
      ],
      "text/markdown": [
       "1. 531\n",
       "2. 66\n",
       "\n",
       "\n"
      ],
      "text/plain": [
       "[1] 531  66"
      ]
     },
     "metadata": {},
     "output_type": "display_data"
    },
    {
     "data": {
      "text/html": [
       "<ol class=list-inline>\n",
       "\t<li>177</li>\n",
       "\t<li>66</li>\n",
       "</ol>\n"
      ],
      "text/latex": [
       "\\begin{enumerate*}\n",
       "\\item 177\n",
       "\\item 66\n",
       "\\end{enumerate*}\n"
      ],
      "text/markdown": [
       "1. 177\n",
       "2. 66\n",
       "\n",
       "\n"
      ],
      "text/plain": [
       "[1] 177  66"
      ]
     },
     "metadata": {},
     "output_type": "display_data"
    }
   ],
   "source": [
    "dim(X)\n",
    "dim(X_test)\n"
   ]
  },
  {
   "cell_type": "code",
   "execution_count": 21,
   "metadata": {},
   "outputs": [],
   "source": [
    "FLAGS <- flags(\n",
    "  flag_numeric('dropout1', 0.3),\n",
    "  flag_integer('neurons1', 128),\n",
    "  flag_integer('neurons2', 128),\n",
    "  flag_integer('neurons3', 128),\n",
    "  flag_numeric('l2', 0.001),\n",
    "  flag_numeric('lr', 0.001)\n",
    ")\n",
    "build_model <- function() {\n",
    "  model <- keras_model_sequential() \n",
    "  model %>% \n",
    "    layer_dense(units = FLAGS$neurons1, \n",
    "                input_shape = 66,\n",
    "                activation = 'relu',\n",
    "                kernel_regularizer = regularizer_l2(l = FLAGS$l2)) %>%\n",
    "    layer_dense(units = FLAGS$neurons2,\n",
    "                activation = 'relu') %>%\n",
    "    layer_dropout(FLAGS$dropout1) %>%\n",
    "    layer_dense(units = FLAGS$neurons3,\n",
    "                activation = 'relu') %>%\n",
    "    layer_dense(units = 1)\n",
    "  \n",
    "  model %>% compile(\n",
    "    loss = \"mse\",\n",
    "    optimizer = optimizer_rmsprop(lr = FLAGS$lr),\n",
    "    metrics = list('mean_squared_error')\n",
    "  )\n",
    "  model\n",
    "}\n",
    "\n",
    "\n",
    "model <- build_model()"
   ]
  },
  {
   "cell_type": "code",
   "execution_count": 22,
   "metadata": {},
   "outputs": [
    {
     "data": {
      "image/png": "[encoded data removed]",
      "text/plain": [
       "plot without title"
      ]
     },
     "metadata": {},
     "output_type": "display_data"
    }
   ],
   "source": [
    "early_stop <- callback_early_stopping(monitor = \"val_loss\", patience = 100)\n",
    "\n",
    "epochs <- 2000\n",
    "\n",
    "# Fit the model and store training stats\n",
    "history <- model %>% fit(\n",
    "  (X), Y,\n",
    "  epochs = epochs,\n",
    "  validation_split = 0.4,\n",
    "  verbose = 1,\n",
    "  callbacks = list(early_stop)\n",
    ")\n",
    "\n",
    "plot(history)\n"
   ]
  },
  {
   "cell_type": "code",
   "execution_count": 23,
   "metadata": {},
   "outputs": [
    {
     "name": "stdout",
     "output_type": "stream",
     "text": [
      "Test loss: 891.8521 \n",
      "Test accuracy: 891.7021 \n"
     ]
    }
   ],
   "source": [
    "score <- model %>% evaluate(\n",
    "  X_test, Y_test,\n",
    "  verbose = 0\n",
    ")\n",
    "\n",
    "save_model_hdf5(model, 'model.h5')\n",
    "\n",
    "cat('Test loss:', score$loss, '\\n')\n",
    "cat('Test accuracy:', score$mean_squared_error, '\\n')"
   ]
  },
  {
   "cell_type": "code",
   "execution_count": 1,
   "metadata": {},
   "outputs": [
    {
     "ename": "ERROR",
     "evalue": "Error in loadNamespace(i, c(lib.loc, .libPaths()), versionCheck = vI[[i]]): there is no package called 'rlang'\n",
     "output_type": "error",
     "traceback": [
      "Error in loadNamespace(i, c(lib.loc, .libPaths()), versionCheck = vI[[i]]): there is no package called 'rlang'\nTraceback:\n",
      "1. devtools::install_github",
      "2. getExportedValue(pkg, name)",
      "3. asNamespace(ns)",
      "4. getNamespace(ns)",
      "5. loadNamespace(name)",
      "6. namespaceImportFrom(ns, loadNamespace(j <- i[[1L]], c(lib.loc, \n .     .libPaths()), versionCheck = vI[[j]]), i[[2L]], from = package)",
      "7. asNamespace(ns)",
      "8. loadNamespace(j <- i[[1L]], c(lib.loc, .libPaths()), versionCheck = vI[[j]])",
      "9. namespaceImport(ns, loadNamespace(i, c(lib.loc, .libPaths()), \n .     versionCheck = vI[[i]]), from = package)",
      "10. loadNamespace(i, c(lib.loc, .libPaths()), versionCheck = vI[[i]])",
      "11. withRestarts(stop(cond), retry_loadNamespace = function() NULL)",
      "12. withOneRestart(expr, restarts[[1L]])",
      "13. doWithOneRestart(return(expr), restart)"
     ]
    }
   ],
   "source": [
    "devtools::install_github('henry090/kerastuneR')"
   ]
  },
  {
   "cell_type": "code",
   "execution_count": 3,
   "metadata": {},
   "outputs": [
    {
     "name": "stdout",
     "output_type": "stream",
     "text": [
      "package 'rlang' successfully unpacked and MD5 sums checked\n",
      "\n",
      "The downloaded binary packages are in\n",
      "\tC:\\Users\\cpien\\AppData\\Local\\Temp\\RtmpSKux6k\\downloaded_packages\n"
     ]
    }
   ],
   "source": [
    "install.packages(\"rlang\")"
   ]
  },
  {
   "cell_type": "code",
   "execution_count": null,
   "metadata": {},
   "outputs": [],
   "source": [
    "install.packages(\"reticulate\")"
   ]
  },
  {
   "cell_type": "code",
   "execution_count": 4,
   "metadata": {},
   "outputs": [
    {
     "name": "stderr",
     "output_type": "stream",
     "text": [
      "Warning message:\n",
      "\"package 'kerastuneR' was built under R version 3.6.3\""
     ]
    },
    {
     "ename": "ERROR",
     "evalue": "Error: package or namespace load failed for 'kerastuneR':\n object 'PyClass' is not exported by 'namespace:reticulate'\n",
     "output_type": "error",
     "traceback": [
      "Error: package or namespace load failed for 'kerastuneR':\n object 'PyClass' is not exported by 'namespace:reticulate'\nTraceback:\n",
      "1. library(kerastuneR)",
      "2. tryCatch({\n .     attr(package, \"LibPath\") <- which.lib.loc\n .     ns <- loadNamespace(package, lib.loc)\n .     env <- attachNamespace(ns, pos = pos, deps, exclude, include.only)\n . }, error = function(e) {\n .     P <- if (!is.null(cc <- conditionCall(e))) \n .         paste(\" in\", deparse(cc)[1L])\n .     else \"\"\n .     msg <- gettextf(\"package or namespace load failed for %s%s:\\n %s\", \n .         sQuote(package), P, conditionMessage(e))\n .     if (logical.return) \n .         message(paste(\"Error:\", msg), domain = NA)\n .     else stop(msg, call. = FALSE, domain = NA)\n . })",
      "3. tryCatchList(expr, classes, parentenv, handlers)",
      "4. tryCatchOne(expr, names, parentenv, handlers[[1L]])",
      "5. value[[3L]](cond)",
      "6. stop(msg, call. = FALSE, domain = NA)"
     ]
    }
   ],
   "source": [
    "library(kerastuneR)\n",
    "par <- list(\n",
    "  dropout1 = c(0.3,0.4,0.5,0.6),\n",
    "  neurons1 = c(64,128,256),\n",
    "  neurons2 = c(64,128,256),\n",
    "  neurons3 = c(64,128,256),\n",
    "  l2 = c(0.0001,0.001,0.01),\n",
    "  lr = c(0.00001,0.0001,0.001,0.01)\n",
    ")\n",
    "\n",
    "runs <- tuning_run('nn_ht.R', runs_dir = '_tuning', sample = 0.1, flags = par)\n",
    "\n",
    "ls_runs(order = metric_val_mean_absolute_error, decreasing= F, runs_dir = '_tuning')"
   ]
  },
  {
   "cell_type": "code",
   "execution_count": null,
   "metadata": {},
   "outputs": [],
   "source": [
    "best_run <- ls_runs(order = metric_val_mean_absolute_error, decreasing= F, runs_dir = '_tuning')[1,]\n",
    "\n",
    "run <- training_run('nn_ht.R',flags = list(\n",
    "  dropout1 = best_run$flag_dropout1,\n",
    "  neurons1 = best_run$flag_neurons1,\n",
    "  neurons2 = best_run$flag_neurons2,\n",
    "  neurons3 = best_run$flag_neurons3,\n",
    "  l2 = best_run$flag_l2,\n",
    "  lr = best_run$flag_lr))\n",
    "\n",
    "best_model <- load_model_hdf5('model.h5')"
   ]
  },
  {
   "cell_type": "markdown",
   "metadata": {},
   "source": [
    "## Nathan tests\n"
   ]
  },
  {
   "cell_type": "code",
   "execution_count": 1,
   "metadata": {},
   "outputs": [
    {
     "ename": "ERROR",
     "evalue": "Error in keras_model_sequential(): impossible de trouver la fonction \"keras_model_sequential\"\n",
     "output_type": "error",
     "traceback": [
      "Error in keras_model_sequential(): impossible de trouver la fonction \"keras_model_sequential\"\nTraceback:\n"
     ]
    }
   ],
   "source": [
    "nn <- keras_model_sequential()\n",
    "nn %>%\n",
    "  layer_dense(units = 1000, activation = 'relu', input_shape = 4870) %>% layer_dense(units = 500, activation = 'tanh') %>%\n",
    "  layer_dense(units = 100, activation = 'sigmoid') %>% layer_dense(units = 1,activation = 'linear')\n",
    "\n",
    "nn %>% compile(\n",
    "  loss = 'mse',\n",
    "  optimizer = 'adam'\n",
    ")\n",
    "\n",
    "history <- nn %>% fit(\n",
    "  (X), Y, \n",
    "  epochs = 200, \n",
    "  validation_split = 0.8\n",
    ")\n",
    "plot(history)\n"
   ]
  },
  {
   "cell_type": "code",
   "execution_count": 21,
   "metadata": {},
   "outputs": [
    {
     "name": "stderr",
     "output_type": "stream",
     "text": [
      "`geom_smooth()` using formula 'y ~ x'\n"
     ]
    },
    {
     "data": {
      "image/png": "[encoded data removed]",
      "text/plain": [
       "plot without title"
      ]
     },
     "metadata": {},
     "output_type": "display_data"
    }
   ],
   "source": [
    "nn2 <- keras_model_sequential()\n",
    "nn2 %>% layer_dense(units = 3000, activation = 'sigmoid', kernel_regularizer = regularizer_l2(l = .1), input_shape = 4870) %>% \n",
    "      layer_dense(units = 1500, kernel_regularizer = regularizer_l2(l = .1), activation = 'relu') %>%\n",
    "      layer_dense(units = 500, kernel_regularizer = regularizer_l2(l = .1), activation = 'sigmoid') %>% \n",
    "      layer_dense(units = 200, kernel_regularizer = regularizer_l2(l = .1), activation = 'relu') %>% \n",
    "      layer_dense(units = 100, kernel_regularizer = regularizer_l2(l = .1), activation = 'relu') %>% \n",
    "      layer_dense(units = 50, kernel_regularizer = regularizer_l2(l = .1), activation = 'relu') %>% \n",
    "      layer_dense(units = 1, kernel_regularizer = regularizer_l2(l = .02), activation = 'linear')\n",
    "\n",
    "                    \n",
    "nn2 %>% compile(loss = 'mse', optimizer = 'adam')\n",
    "                    \n",
    "\n",
    "history <- nn2 %>% fit(\n",
    "  (X), Y, \n",
    "  epochs = 1000, \n",
    "  validation_split = 0.5\n",
    ")\n",
    "plot(history)"
   ]
  },
  {
   "cell_type": "markdown",
   "metadata": {},
   "source": [
    "We can imagine that the data has a sort of organization but as there are 4k predictors, we will try to learn them."
   ]
  },
  {
   "cell_type": "markdown",
   "metadata": {},
   "source": [
    "## Convutionnal NN"
   ]
  },
  {
   "cell_type": "code",
   "execution_count": 3,
   "metadata": {},
   "outputs": [
    {
     "data": {
      "text/html": [
       "<ol class=list-inline>\n",
       "\t<li>708</li>\n",
       "\t<li>4870</li>\n",
       "</ol>\n"
      ],
      "text/latex": [
       "\\begin{enumerate*}\n",
       "\\item 708\n",
       "\\item 4870\n",
       "\\end{enumerate*}\n"
      ],
      "text/markdown": [
       "1. 708\n",
       "2. 4870\n",
       "\n",
       "\n"
      ],
      "text/plain": [
       "[1]  708 4870"
      ]
     },
     "metadata": {},
     "output_type": "display_data"
    }
   ],
   "source": [
    "X.conv <- as.matrix(X)\n",
    "dim(X.conv)"
   ]
  },
  {
   "cell_type": "code",
   "execution_count": 4,
   "metadata": {},
   "outputs": [],
   "source": [
    "#reshape data\n",
    "X.conv <- array_reshape(X.conv, c(nrow(X), 487, 10, 1)) #random shape\n"
   ]
  },
  {
   "cell_type": "code",
   "execution_count": 16,
   "metadata": {},
   "outputs": [],
   "source": [
    "conv.nn <- keras_model_sequential()\n",
    "conv.nn %>%\n",
    "  layer_conv_2d(200,                         \n",
    "                kernel_size = c(10, 5),     \n",
    "                strides = c(2, 1),           \n",
    "                activation = 'relu',\n",
    "                input_shape = c(487, 10, 1)) %>%\n",
    "  layer_conv_2d(100,                         \n",
    "                kernel_size = c(4, 4),     \n",
    "                strides = c(1, 1),           \n",
    "                activation = 'relu') %>%\n",
    "  layer_conv_2d(50,                         \n",
    "                kernel_size = c(2, 1),     \n",
    "                strides = c(1, 1),           \n",
    "                activation = 'relu') %>%\n",
    "  layer_flatten() %>%                        \n",
    "  layer_dense(units = 400, activation = 'relu') %>%\n",
    "  layer_dense(units = 1, activation = 'relu')"
   ]
  },
  {
   "cell_type": "code",
   "execution_count": 17,
   "metadata": {},
   "outputs": [],
   "source": [
    "conv.nn %>% compile(\n",
    "  loss = 'mse',\n",
    "  optimizer = 'adam',\n",
    ")\n"
   ]
  },
  {
   "cell_type": "code",
   "execution_count": 19,
   "metadata": {},
   "outputs": [
    {
     "name": "stderr",
     "output_type": "stream",
     "text": [
      "`geom_smooth()` using formula 'y ~ x'\n"
     ]
    },
    {
     "data": {
      "image/png": "[encoded data removed]",
      "text/plain": [
       "plot without title"
      ]
     },
     "metadata": {},
     "output_type": "display_data"
    }
   ],
   "source": [
    "history <- conv.nn %>% fit(\n",
    "  X.conv, Y,\n",
    "  epochs = 15,\n",
    "  #callbacks = callback_early_stopping(monitor = \"val_loss\")\n",
    ")\n",
    "plot(history)"
   ]
  },
  {
   "cell_type": "code",
   "execution_count": null,
   "metadata": {},
   "outputs": [],
   "source": []
  }
 ],
 "metadata": {
  "kernelspec": {
   "display_name": "R",
   "language": "R",
   "name": "ir"
  },
  "language_info": {
   "codemirror_mode": "r",
   "file_extension": ".r",
   "mimetype": "text/x-r-source",
   "name": "R",
   "pygments_lexer": "r",
   "version": "3.6.1"
  }
 },
 "nbformat": 4,
 "nbformat_minor": 4
}
