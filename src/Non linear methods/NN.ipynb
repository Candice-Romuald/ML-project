{
 "cells": [
  {
   "cell_type": "code",
   "execution_count": null,
   "metadata": {},
   "outputs": [],
   "source": [
    "#Libraries\n",
    "library(caret)\n",
    "library(keras)\n",
    "use_condaenv(\"r-tensorflow\")"
   ]
  },
  {
   "cell_type": "markdown",
   "metadata": {},
   "source": [
    "# Exploration of Neural Networks"
   ]
  },
  {
   "cell_type": "markdown",
   "metadata": {},
   "source": [
    "We first prepare our training data, note that we remove all highly correlated predictors as it has prooved to be useful. We used a cutoff value of 0.7 as papers suggest that a correlation coefficient higher than 0.7 means that predictors are highly correlated."
   ]
  },
  {
   "cell_type": "code",
   "execution_count": 15,
   "metadata": {},
   "outputs": [],
   "source": [
    "train <- read.csv(file = '../../Data/training_data.csv')\n",
    "train <- subset(train,select = -SWEETORSOUR)\n",
    "train$Intensity <- as.numeric(train$Intensity)\n",
    "Y <- train$VALENCE.PLEASANTNESS\n",
    "train <- subset(train,select = -VALENCE.PLEASANTNESS)\n",
    "train.Z <- subset(train,select = -nearZeroVar(train))\n",
    "correlation <- cor(train.Z)\n",
    "id <- sort(findCorrelation(correlation, cutoff=0.7))\n",
    "data.unC <- train.Z[,-id]\n",
    "X <- as.matrix(data.unC)"
   ]
  },
  {
   "cell_type": "markdown",
   "metadata": {},
   "source": [
    "Fitting a small, one-layer neural network to get a feeling for how well a neural network works."
   ]
  },
  {
   "cell_type": "code",
   "execution_count": 103,
   "metadata": {},
   "outputs": [
    {
     "data": {
      "image/png": "[encoded data removed]",
      "text/plain": [
       "plot without title"
      ]
     },
     "metadata": {},
     "output_type": "display_data"
    }
   ],
   "source": [
    "nn <- keras_model_sequential()\n",
    "\n",
    "nn %>%\n",
    " layer_dense(units = 50,  activation = 'relu', kernel_initializer = \"he_normal\", input_shape = 196)  %>%\n",
    " layer_dense(units = 1,activation = 'linear')\n",
    "\n",
    "nn %>% compile(\n",
    "  loss = 'mse',\n",
    "  optimizer = 'adam'\n",
    ")\n",
    "\n",
    "history <- nn %>% fit(\n",
    "  (X), Y, \n",
    "  epochs = 200,\n",
    "  validation_split = 0.5,\n",
    "  callbacks = callback_early_stopping(monitor = \"val_loss\", patience = 20)\n",
    ")\n",
    "plot(history)"
   ]
  },
  {
   "cell_type": "markdown",
   "metadata": {},
   "source": [
    "As we can see, the result is very average. We are now going to appropriately scale the data before fitting other neural networks."
   ]
  },
  {
   "cell_type": "code",
   "execution_count": 104,
   "metadata": {},
   "outputs": [],
   "source": [
    "#Libraries\n",
    "library(caret)\n",
    "library(keras)\n",
    "library(MASS)\n",
    "library(ggfortify)\n",
    "use_condaenv(\"r-tensorflow\")"
   ]
  },
  {
   "cell_type": "code",
   "execution_count": 6,
   "metadata": {},
   "outputs": [],
   "source": [
    "train <- read.csv(file = '../../Data/training_data.csv')\n",
    "train <- subset(train,select = -SWEETORSOUR)\n",
    "train$Intensity <- as.numeric(train$Intensity)\n",
    "train.Z <- subset(train,select = -nearZeroVar(train))\n",
    "correlation <- cor(train.Z)\n",
    "id <- sort(findCorrelation(correlation, cutoff=0.5))\n",
    "data.unC <- train.Z[,-id]\n",
    "\n",
    "#Splitting the data into a training and a validation set to simulate a test set\n",
    "idx.train <- sample(nrow(data.unC), nrow(data.unC)*0.6)\n",
    "Y <- train[idx.train,]$VALENCE.PLEASANTNESS\n",
    "y.valid <- train[-idx.train,]$VALENCE.PLEASANTNESS\n",
    "data.unC <- subset(data.unC,select = -VALENCE.PLEASANTNESS)\n",
    "X <- data.unC[idx.train,]\n",
    "X <- as.matrix(X)\n",
    "x.valid <- data.unC[-idx.train,]\n",
    "x.valid <- as.matrix(x.valid)"
   ]
  },
  {
   "cell_type": "code",
   "execution_count": 7,
   "metadata": {},
   "outputs": [],
   "source": [
    "#Scaling methods\n",
    "get.scale <- function(scaled) {\n",
    "    if (\"scaled:center\" %in% names(attributes(scaled))) {\n",
    "        center <- attr(scaled, \"scaled:center\")\n",
    "    } else {\n",
    "        center <- rep(0, ncol(scaled))\n",
    "    }\n",
    "    if (\"scaled:scale\" %in% names(attributes(scaled))) {\n",
    "        list(center, attr(scaled, \"scaled:scale\"))\n",
    "    } else {\n",
    "        list(center, rep(1., length(center)))\n",
    "    }\n",
    "}\n",
    "x.scale <- function(x, scaled) {\n",
    "    s <- get.scale(scaled)\n",
    "    centered <- sweep(x, 2, s[[1]])\n",
    "    sweep(centered, 2, s[[2]], FUN = \"/\")\n",
    "}\n",
    "y.scale <- function(y, scaled) {\n",
    "    s <- get.scale(scaled)\n",
    "    (y - s[[1]])/s[[2]]\n",
    "}\n",
    "y.unscale <- function(y, scaled) {\n",
    "    s <- get.scale(scaled)\n",
    "    y * s[[2]] + s[[1]]\n",
    "}"
   ]
  },
  {
   "cell_type": "code",
   "execution_count": 12,
   "metadata": {},
   "outputs": [],
   "source": [
    "x.scaled <- scale(X,center = T, scale = T)\n",
    "y.scaled <- scale(Y,center = T, scale = T)\n",
    "x.valid.scaled <- x.scale(x.valid,x.scaled)\n",
    "y.valid.scaled <- y.scale(y.valid,y.scaled)\n",
    "\n",
    "\n",
    "#A function to test hyper parameters combinations\n",
    "Neural_testing <- function(a = c(10,30,100),b = c(10,30,100), regul = c(0.1,0.01), drop = 0.6)){\n",
    "    output <- c(1,1,1,1,100)\n",
    "    for(i in a){\n",
    "        for(j in b){\n",
    "            for(z in regul){\n",
    "                for(c in drop){\n",
    "                    nn <- keras_model_sequential()\n",
    "\n",
    "                    nn %>%\n",
    "                     layer_dense(i,kernel_regularizer = regularizer_l2(l = z), activation = \"relu\", input_shape = c(dim(X)[2])) %>%\n",
    "                     layer_dropout(rate = c) %>%\n",
    "                     layer_dense(j, kernel_regularizer = regularizer_l2(l = z), activation = \"relu\") %>%\n",
    "                     layer_dropout(rate = c) %>%\n",
    "                     layer_dense(1, activation = \"linear\")\n",
    "\n",
    "                    nn %>% compile(\n",
    "                      loss = 'mse',\n",
    "                      optimizer = 'adam'\n",
    "                    )\n",
    "\n",
    "                    history <- nn %>% fit(\n",
    "                      (x.scaled), y.scaled, \n",
    "                      epochs = 1000,\n",
    "                      validation_split = 0.5,\n",
    "                      callbacks = callback_early_stopping(monitor = \"val_loss\", patience = 50)\n",
    "                    )\n",
    "\n",
    "                    nn.pred <- predict(nn, x.valid.scaled)\n",
    "                    cat(\"Layer 1: \", i, \"Layer 2: \", j, \"error: \", sqrt(mean((y.unscale(nn.pred, y.scaled) - y.valid)^2)), \"\\n\")\n",
    "                    temp <- c(i,j,z,c,sqrt(mean((y.unscale(nn.pred, y.scaled) - y.valid)^2)))\n",
    "                    if(temp[5]<output[5]){\n",
    "                        output <- temp\n",
    "                    }\n",
    "                }\n",
    "            }\n",
    "        }\n",
    "    }\n",
    "    output\n",
    "}"
   ]
  },
  {
   "cell_type": "code",
   "execution_count": 13,
   "metadata": {},
   "outputs": [
    {
     "name": "stdout",
     "output_type": "stream",
     "text": [
      "Layer 1:  10 Layer 2:  10 error:  22.41182 \n",
      "Layer 1:  10 Layer 2:  10 error:  22.02303 \n",
      "Layer 1:  10 Layer 2:  10 error:  23.60649 \n",
      "Layer 1:  10 Layer 2:  10 error:  22.45232 \n",
      "Layer 1:  10 Layer 2:  30 error:  23.1173 \n",
      "Layer 1:  10 Layer 2:  30 error:  21.71314 \n",
      "Layer 1:  10 Layer 2:  30 error:  23.16781 \n",
      "Layer 1:  10 Layer 2:  30 error:  22.2653 \n",
      "Layer 1:  10 Layer 2:  100 error:  23.21534 \n",
      "Layer 1:  10 Layer 2:  100 error:  21.77309 \n",
      "Layer 1:  10 Layer 2:  100 error:  23.24821 \n",
      "Layer 1:  10 Layer 2:  100 error:  21.80139 \n",
      "Layer 1:  30 Layer 2:  10 error:  22.92885 \n",
      "Layer 1:  30 Layer 2:  10 error:  21.74964 \n",
      "Layer 1:  30 Layer 2:  10 error:  23.57267 \n",
      "Layer 1:  30 Layer 2:  10 error:  21.74489 \n",
      "Layer 1:  30 Layer 2:  30 error:  22.59521 \n",
      "Layer 1:  30 Layer 2:  30 error:  22.00372 \n",
      "Layer 1:  30 Layer 2:  30 error:  24.16335 \n",
      "Layer 1:  30 Layer 2:  30 error:  22.69851 \n",
      "Layer 1:  30 Layer 2:  100 error:  23.14448 \n",
      "Layer 1:  30 Layer 2:  100 error:  22.63977 \n",
      "Layer 1:  30 Layer 2:  100 error:  24.97429 \n",
      "Layer 1:  30 Layer 2:  100 error:  22.23023 \n",
      "Layer 1:  100 Layer 2:  10 error:  23.20395 \n",
      "Layer 1:  100 Layer 2:  10 error:  22.29339 \n",
      "Layer 1:  100 Layer 2:  10 error:  23.48336 \n",
      "Layer 1:  100 Layer 2:  10 error:  21.97309 \n",
      "Layer 1:  100 Layer 2:  30 error:  23.2782 \n",
      "Layer 1:  100 Layer 2:  30 error:  22.46011 \n",
      "Layer 1:  100 Layer 2:  30 error:  24.21444 \n",
      "Layer 1:  100 Layer 2:  30 error:  23.49022 \n",
      "Layer 1:  100 Layer 2:  100 error:  23.50404 \n",
      "Layer 1:  100 Layer 2:  100 error:  22.49642 \n",
      "Layer 1:  100 Layer 2:  100 error:  24.8989 \n",
      "Layer 1:  100 Layer 2:  100 error:  23.71473 \n"
     ]
    },
    {
     "data": {
      "text/html": [
       "<ol class=list-inline>\n",
       "\t<li>10</li>\n",
       "\t<li>30</li>\n",
       "\t<li>0.1</li>\n",
       "\t<li>0.6</li>\n",
       "\t<li>21.7131417070264</li>\n",
       "</ol>\n"
      ],
      "text/latex": [
       "\\begin{enumerate*}\n",
       "\\item 10\n",
       "\\item 30\n",
       "\\item 0.1\n",
       "\\item 0.6\n",
       "\\item 21.7131417070264\n",
       "\\end{enumerate*}\n"
      ],
      "text/markdown": [
       "1. 10\n",
       "2. 30\n",
       "3. 0.1\n",
       "4. 0.6\n",
       "5. 21.7131417070264\n",
       "\n",
       "\n"
      ],
      "text/plain": [
       "[1] 10.00000 30.00000  0.10000  0.60000 21.71314"
      ]
     },
     "metadata": {},
     "output_type": "display_data"
    }
   ],
   "source": [
    "Neural_testing()"
   ]
  },
  {
   "cell_type": "markdown",
   "metadata": {},
   "source": [
    "From this testing run we conclude that the best hyperparameters would be a neural network with 2 hidden layers of 10 and 30 neurons, both of which are l2 regularized with a value of 0.1 and have a 0.6 (60%!!) dropout rate.  As expected the network must be tightly regularized to avoid overfitting."
   ]
  },
  {
   "cell_type": "code",
   "execution_count": null,
   "metadata": {},
   "outputs": [],
   "source": [
    "#results <- predict(nn, boston.x.scale(x.testa, boston.train.x.prep))\n",
    "#results <- boston.y.unscale(results,boston.train.y.prep)\n",
    "#id <- 1:68\n",
    "#temps <- data.frame(results)\n",
    "#final.data <- data.frame(Id = id, VALENCE.PLEASANTNESS = temps$results)\n",
    "#write_csv(final.data, \"../../Submission/NNopti.csv\", row.names=FALSE)"
   ]
  }
 ],
 "metadata": {
  "kernelspec": {
   "display_name": "R",
   "language": "R",
   "name": "ir"
  },
  "language_info": {
   "codemirror_mode": "r",
   "file_extension": ".r",
   "mimetype": "text/x-r-source",
   "name": "R",
   "pygments_lexer": "r",
   "version": "3.6.1"
  }
 },
 "nbformat": 4,
 "nbformat_minor": 4
}
