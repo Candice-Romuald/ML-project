{
 "cells": [
  {
   "cell_type": "code",
   "execution_count": 1,
   "metadata": {},
   "outputs": [],
   "source": [
    "train <- read.csv(file = '../../Data/training_data.csv')\n",
    "train <- train[,-3]"
   ]
  },
  {
   "cell_type": "code",
   "execution_count": null,
   "metadata": {},
   "outputs": [],
   "source": [
    "library(xgboost)\n",
    "library(Matrix)\n",
    "library(tidymodels)\n"
   ]
  },
  {
   "cell_type": "markdown",
   "metadata": {},
   "source": [
    "prepare the data\n"
   ]
  },
  {
   "cell_type": "code",
   "execution_count": 37,
   "metadata": {},
   "outputs": [],
   "source": [
    "train[,'Intensity'] = as.numeric(train[,'Intensity'])\n",
    "X <- train[,-2]\n",
    "Y <- train[,2]\n",
    "\n",
    "X <- as.matrix(X)\n",
    "Y <- as.matrix(Y)\n"
   ]
  },
  {
   "cell_type": "code",
   "execution_count": 29,
   "metadata": {},
   "outputs": [
    {
     "data": {
      "text/plain": [
       "               Length Class              Mode       \n",
       "handle              1 xgb.Booster.handle externalptr\n",
       "raw            557801 -none-             raw        \n",
       "niter               1 -none-             numeric    \n",
       "evaluation_log      2 data.table         list       \n",
       "call               16 -none-             call       \n",
       "params              4 -none-             list       \n",
       "callbacks           1 -none-             list       \n",
       "feature_names    4870 -none-             character  \n",
       "nfeatures           1 -none-             numeric    "
      ]
     },
     "metadata": {},
     "output_type": "display_data"
    }
   ],
   "source": [
    "test.boost = xgboost(X, label = Y,\n",
    "                      objective = \"reg:squarederror\",\n",
    "                      eta = 0.001,\n",
    "                      max_depth = 10,\n",
    "                      nround = 100, verbose = 0)\n",
    "summary(test.boost)"
   ]
  },
  {
   "cell_type": "markdown",
   "metadata": {},
   "source": [
    "Now that we know we have a running boost method on our data, lets get some idea of the performances:"
   ]
  },
  {
   "cell_type": "markdown",
   "metadata": {},
   "source": [
    "We first get apporoximation of the test error by using a simple validation set approach"
   ]
  },
  {
   "cell_type": "code",
   "execution_count": 59,
   "metadata": {},
   "outputs": [],
   "source": [
    "id <- sample(nrow(train),nrow(train)*3/4)\n",
    "val.data <- as.matrix(train[id,])\n",
    "train.data <- as.matrix(train[-id,])\n",
    "\n",
    "boost <- xgboost(train.data[,-2], label = train.data[,2],\n",
    "                      objective = \"reg:squarederror\",\n",
    "                      eta = 0.1,\n",
    "                      max_depth = 10,\n",
    "                      nround = 150, verbose = 0)\n",
    "\n",
    "\n"
   ]
  },
  {
   "cell_type": "code",
   "execution_count": 60,
   "metadata": {},
   "outputs": [
    {
     "data": {
      "text/html": [
       "640.619104782793"
      ],
      "text/latex": [
       "640.619104782793"
      ],
      "text/markdown": [
       "640.619104782793"
      ],
      "text/plain": [
       "[1] 640.6191"
      ]
     },
     "metadata": {},
     "output_type": "display_data"
    }
   ],
   "source": [
    "mean((predict(boost,val.data[,-2])-val.data[,2])^2)\n"
   ]
  },
  {
   "cell_type": "markdown",
   "metadata": {},
   "source": [
    "Instead of running directly massive CV, we will run the same approach (a bit improved: to reduce the fact that the validation error could depend on the split) as above and plot parameter influences"
   ]
  },
  {
   "cell_type": "code",
   "execution_count": 51,
   "metadata": {},
   "outputs": [],
   "source": [
    "boosting <- function (trainX,trainY,eta,max_depth){\n",
    "    xgboost(trainX, label = trainY,\n",
    "                      objective = \"reg:squarederror\",\n",
    "                      eta = eta,\n",
    "                      max_depth = max_depth,\n",
    "                      nround = 100, verbose = 0)\n",
    "}"
   ]
  },
  {
   "cell_type": "markdown",
   "metadata": {},
   "source": [
    "First we study max_depth"
   ]
  },
  {
   "cell_type": "code",
   "execution_count": 79,
   "metadata": {},
   "outputs": [
    {
     "data": {
      "image/png": "[encoded data removed]",
      "text/plain": [
       "plot without title"
      ]
     },
     "metadata": {},
     "output_type": "display_data"
    }
   ],
   "source": [
    "depth <- seq(10,200,by = 10)\n",
    "\n",
    "MSE = c()\n",
    "for (n in depth) {\n",
    "    mse <- c()\n",
    "    for (i in 1:3){ #to repeat 3 times the splitting -> reduce split dependancy\n",
    "        id <- sample(nrow(train),nrow(train)*3/4)\n",
    "        val.data <- as.matrix(train[id,])\n",
    "        train.data <- as.matrix(train[-id,])\n",
    "        boost <- boosting(train.data[,-2],train.data[,2],eta = 0.01, max_depth = n)\n",
    "        mse <- append(mse,mean((predict(boost,val.data[,-2])-val.data[,2])^2))\n",
    "    }\n",
    "    MSE <- append(MSE,mean(mse))\n",
    "}\n",
    "    \n",
    "plot(depth,MSE)\n",
    "\n"
   ]
  },
  {
   "cell_type": "markdown",
   "metadata": {},
   "source": [
    "Let s do the same thing for eta"
   ]
  },
  {
   "cell_type": "code",
   "execution_count": 83,
   "metadata": {},
   "outputs": [
    {
     "data": {
      "image/png": "[encoded data removed]",
      "text/plain": [
       "plot without title"
      ]
     },
     "metadata": {},
     "output_type": "display_data"
    }
   ],
   "source": [
    "etas <- seq(0.001,0.1, length.out = 20)\n",
    "\n",
    "MSE = c()\n",
    "for (eta in etas) {\n",
    "    mse <- c()\n",
    "    for (i in 1:3){ #to repeat 3 times the splitting -> reduce split dependancy\n",
    "        id <- sample(nrow(train),nrow(train)*3/4)\n",
    "        val.data <- as.matrix(train[id,])\n",
    "        train.data <- as.matrix(train[-id,])\n",
    "        boost <- boosting(train.data[,-2],train.data[,2],eta = eta, max_depth = 90)\n",
    "        mse <- append(mse,mean((predict(boost,val.data[,-2])-val.data[,2])^2))\n",
    "    }\n",
    "    MSE <- append(MSE,mean(mse))\n",
    "}\n",
    "    \n",
    "plot(etas,MSE)\n",
    "\n"
   ]
  },
  {
   "cell_type": "code",
   "execution_count": null,
   "metadata": {},
   "outputs": [],
   "source": []
  },
  {
   "cell_type": "code",
   "execution_count": null,
   "metadata": {},
   "outputs": [],
   "source": []
  }
 ],
 "metadata": {
  "kernelspec": {
   "display_name": "R",
   "language": "R",
   "name": "ir"
  },
  "language_info": {
   "codemirror_mode": "r",
   "file_extension": ".r",
   "mimetype": "text/x-r-source",
   "name": "R",
   "pygments_lexer": "r",
   "version": "3.6.1"
  }
 },
 "nbformat": 4,
 "nbformat_minor": 4
}
