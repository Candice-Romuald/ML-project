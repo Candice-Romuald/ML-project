{
 "cells": [
  {
   "cell_type": "code",
   "execution_count": 1,
   "metadata": {},
   "outputs": [],
   "source": [
    "train <- read.csv(file = '../../Data/training_data.csv')\n",
    "train <- train[,-3]"
   ]
  },
  {
   "cell_type": "code",
   "execution_count": null,
   "metadata": {},
   "outputs": [],
   "source": [
    "library(xgboost)\n",
    "library(Matrix)\n",
    "library(tidymodels)\n"
   ]
  },
  {
   "cell_type": "markdown",
   "metadata": {},
   "source": [
    "prepare the data\n"
   ]
  },
  {
   "cell_type": "code",
   "execution_count": 37,
   "metadata": {},
   "outputs": [],
   "source": [
    "train[,'Intensity'] = as.numeric(train[,'Intensity'])\n",
    "X <- train[,-2]\n",
    "Y <- train[,2]\n",
    "\n",
    "X <- as.matrix(X)\n",
    "Y <- as.matrix(Y)\n"
   ]
  },
  {
   "cell_type": "code",
   "execution_count": 29,
   "metadata": {},
   "outputs": [
    {
     "data": {
      "text/plain": [
       "               Length Class              Mode       \n",
       "handle              1 xgb.Booster.handle externalptr\n",
       "raw            557801 -none-             raw        \n",
       "niter               1 -none-             numeric    \n",
       "evaluation_log      2 data.table         list       \n",
       "call               16 -none-             call       \n",
       "params              4 -none-             list       \n",
       "callbacks           1 -none-             list       \n",
       "feature_names    4870 -none-             character  \n",
       "nfeatures           1 -none-             numeric    "
      ]
     },
     "metadata": {},
     "output_type": "display_data"
    }
   ],
   "source": [
    "test.boost = xgboost(X, label = Y,\n",
    "                      objective = \"reg:squarederror\",\n",
    "                      eta = 0.001,\n",
    "                      max_depth = 10,\n",
    "                      nround = 100, verbose = 0)\n",
    "summary(test.boost)"
   ]
  },
  {
   "cell_type": "markdown",
   "metadata": {},
   "source": [
    "Now that we know we have a running boost method on our data, lets get some idea of the performances:"
   ]
  },
  {
   "cell_type": "markdown",
   "metadata": {},
   "source": [
    "We first get apporoximation of the test error by using a simple validation set approach"
   ]
  },
  {
   "cell_type": "code",
   "execution_count": 59,
   "metadata": {},
   "outputs": [],
   "source": [
    "id <- sample(nrow(train),nrow(train)*3/4)\n",
    "val.data <- as.matrix(train[id,])\n",
    "train.data <- as.matrix(train[-id,])\n",
    "\n",
    "boost <- xgboost(train.data[,-2], label = train.data[,2],\n",
    "                      objective = \"reg:squarederror\",\n",
    "                      eta = 0.1,\n",
    "                      max_depth = 10,\n",
    "                      nround = 150, verbose = 0)\n",
    "\n",
    "\n"
   ]
  },
  {
   "cell_type": "code",
   "execution_count": 60,
   "metadata": {},
   "outputs": [
    {
     "data": {
      "text/html": [
       "640.619104782793"
      ],
      "text/latex": [
       "640.619104782793"
      ],
      "text/markdown": [
       "640.619104782793"
      ],
      "text/plain": [
       "[1] 640.6191"
      ]
     },
     "metadata": {},
     "output_type": "display_data"
    }
   ],
   "source": [
    "mean((predict(boost,val.data[,-2])-val.data[,2])^2)\n"
   ]
  },
  {
   "cell_type": "markdown",
   "metadata": {},
   "source": [
    "Instead of running directly massive CV, we will run the same approach (a bit improved: to reduce the fact that the validation error could depend on the split) as above and plot parameter influences"
   ]
  },
  {
   "cell_type": "code",
   "execution_count": 51,
   "metadata": {},
   "outputs": [],
   "source": [
    "boosting <- function (trainX,trainY,eta,max_depth){\n",
    "    xgboost(trainX, label = trainY,\n",
    "                      objective = \"reg:squarederror\",\n",
    "                      eta = eta,\n",
    "                      max_depth = max_depth,\n",
    "                      nround = 100, verbose = 0)\n",
    "}"
   ]
  },
  {
   "cell_type": "markdown",
   "metadata": {},
   "source": [
    "First we study max_depth"
   ]
  },
  {
   "cell_type": "code",
   "execution_count": 79,
   "metadata": {},
   "outputs": [
    {
     "data": {
      "image/png": "[encoded data removed]",
      "text/plain": [
       "plot without title"
      ]
     },
     "metadata": {},
     "output_type": "display_data"
    }
   ],
   "source": [
    "depth <- seq(10,200,by = 10)\n",
    "\n",
    "MSE = c()\n",
    "for (n in depth) {\n",
    "    mse <- c()\n",
    "    for (i in 1:3){ #to repeat 3 times the splitting -> reduce split dependancy\n",
    "        id <- sample(nrow(train),nrow(train)*3/4)\n",
    "        val.data <- as.matrix(train[id,])\n",
    "        train.data <- as.matrix(train[-id,])\n",
    "        boost <- boosting(train.data[,-2],train.data[,2],eta = 0.01, max_depth = n)\n",
    "        mse <- append(mse,mean((predict(boost,val.data[,-2])-val.data[,2])^2))\n",
    "    }\n",
    "    MSE <- append(MSE,mean(mse))\n",
    "}\n",
    "    \n",
    "plot(depth,MSE)\n",
    "\n"
   ]
  },
  {
   "cell_type": "markdown",
   "metadata": {},
   "source": [
    "Let s do the same thing for eta"
   ]
  },
  {
   "cell_type": "code",
   "execution_count": 83,
   "metadata": {},
   "outputs": [
    {
     "data": {
      "image/png": "[encoded data removed]",
      "text/plain": [
       "plot without title"
      ]
     },
     "metadata": {},
     "output_type": "display_data"
    }
   ],
   "source": [
    "etas <- seq(0.001,0.1, length.out = 20)\n",
    "\n",
    "MSE = c()\n",
    "for (eta in etas) {\n",
    "    mse <- c()\n",
    "    for (i in 1:3){ #to repeat 3 times the splitting -> reduce split dependancy\n",
    "        id <- sample(nrow(train),nrow(train)*3/4)\n",
    "        val.data <- as.matrix(train[id,])\n",
    "        train.data <- as.matrix(train[-id,])\n",
    "        boost <- boosting(train.data[,-2],train.data[,2],eta = eta, max_depth = 90)\n",
    "        mse <- append(mse,mean((predict(boost,val.data[,-2])-val.data[,2])^2))\n",
    "    }\n",
    "    MSE <- append(MSE,mean(mse))\n",
    "}\n",
    "    \n",
    "plot(etas,MSE)\n",
    "\n"
   ]
  },
  {
   "cell_type": "markdown",
   "metadata": {},
   "source": [
    "So we see that we can optimize paramete a little bit, let's re run a simple boosting with them"
   ]
  },
  {
   "cell_type": "code",
   "execution_count": 89,
   "metadata": {},
   "outputs": [
    {
     "data": {
      "text/html": [
       "630.345101424188"
      ],
      "text/latex": [
       "630.345101424188"
      ],
      "text/markdown": [
       "630.345101424188"
      ],
      "text/plain": [
       "[1] 630.3451"
      ]
     },
     "metadata": {},
     "output_type": "display_data"
    }
   ],
   "source": [
    "mse <- c()\n",
    "for (i in 1:15) {   \n",
    "    id <- sample(nrow(train),nrow(train)*0.8)\n",
    "    val.data <- as.matrix(train[id,])\n",
    "    train.data <- as.matrix(train[-id,])\n",
    "\n",
    "    boost <- xgboost(train.data[,-2], label = train.data[,2],\n",
    "                          objective = \"reg:squarederror\",\n",
    "                          eta = 0.04,\n",
    "                          max_depth = 90,\n",
    "                          nround = 1000, verbose = 0)\n",
    "    mse <- append(mse,mean((predict(boost,val.data[,-2])-val.data[,2])^2))\n",
    "}\n",
    "mean(mse)"
   ]
  },
  {
   "cell_type": "markdown",
   "metadata": {},
   "source": [
    "We will try this version of boosting onto the test set."
   ]
  },
  {
   "cell_type": "code",
   "execution_count": 94,
   "metadata": {},
   "outputs": [
    {
     "data": {
      "text/html": [
       "<ol class=list-inline>\n",
       "\t<li>20.6333351135254</li>\n",
       "\t<li>45.6283912658691</li>\n",
       "\t<li>19.5602397918701</li>\n",
       "\t<li>54.2847900390625</li>\n",
       "\t<li>30.6009902954102</li>\n",
       "\t<li>68.7822494506836</li>\n",
       "\t<li>35.8552894592285</li>\n",
       "\t<li>31.195650100708</li>\n",
       "\t<li>38.509033203125</li>\n",
       "\t<li>51.955883026123</li>\n",
       "\t<li>16.272388458252</li>\n",
       "\t<li>48.7441787719727</li>\n",
       "\t<li>38.1129417419434</li>\n",
       "\t<li>40.776798248291</li>\n",
       "\t<li>38.9926338195801</li>\n",
       "\t<li>40.1921348571777</li>\n",
       "\t<li>54.2751922607422</li>\n",
       "\t<li>23.8288116455078</li>\n",
       "\t<li>33.3716926574707</li>\n",
       "\t<li>69.8518829345703</li>\n",
       "\t<li>48.4640083312988</li>\n",
       "\t<li>30.9662780761719</li>\n",
       "\t<li>47.2959823608398</li>\n",
       "\t<li>67.4174041748047</li>\n",
       "\t<li>27.771879196167</li>\n",
       "\t<li>41.5640487670898</li>\n",
       "\t<li>62.5889739990234</li>\n",
       "\t<li>50.299243927002</li>\n",
       "\t<li>74.0131072998047</li>\n",
       "\t<li>30.7800159454346</li>\n",
       "\t<li>45.6366004943848</li>\n",
       "\t<li>36.9870414733887</li>\n",
       "\t<li>15.7600431442261</li>\n",
       "\t<li>43.588451385498</li>\n",
       "\t<li>35.7954330444336</li>\n",
       "\t<li>42.5411415100098</li>\n",
       "\t<li>57.431510925293</li>\n",
       "\t<li>52.3464660644531</li>\n",
       "\t<li>46.7853164672852</li>\n",
       "\t<li>40.7900695800781</li>\n",
       "\t<li>43.3567924499512</li>\n",
       "\t<li>54.1446990966797</li>\n",
       "\t<li>51.6820831298828</li>\n",
       "\t<li>53.8282203674316</li>\n",
       "\t<li>50.577335357666</li>\n",
       "\t<li>46.0920028686523</li>\n",
       "\t<li>24.7357845306396</li>\n",
       "\t<li>37.4760246276855</li>\n",
       "\t<li>26.2021903991699</li>\n",
       "\t<li>35.257884979248</li>\n",
       "\t<li>34.3383712768555</li>\n",
       "\t<li>51.7260818481445</li>\n",
       "\t<li>65.9377212524414</li>\n",
       "\t<li>43.7719345092773</li>\n",
       "\t<li>28.9786014556885</li>\n",
       "\t<li>29.4759159088135</li>\n",
       "\t<li>40.667293548584</li>\n",
       "\t<li>32.7181091308594</li>\n",
       "\t<li>35.5301208496094</li>\n",
       "\t<li>49.0372924804688</li>\n",
       "\t<li>35.3530349731445</li>\n",
       "\t<li>28.4793109893799</li>\n",
       "\t<li>40.4997825622559</li>\n",
       "\t<li>35.5117034912109</li>\n",
       "\t<li>59.539176940918</li>\n",
       "\t<li>50.5362739562988</li>\n",
       "\t<li>38.2038307189941</li>\n",
       "\t<li>56.0919036865234</li>\n",
       "</ol>\n"
      ],
      "text/latex": [
       "\\begin{enumerate*}\n",
       "\\item 20.6333351135254\n",
       "\\item 45.6283912658691\n",
       "\\item 19.5602397918701\n",
       "\\item 54.2847900390625\n",
       "\\item 30.6009902954102\n",
       "\\item 68.7822494506836\n",
       "\\item 35.8552894592285\n",
       "\\item 31.195650100708\n",
       "\\item 38.509033203125\n",
       "\\item 51.955883026123\n",
       "\\item 16.272388458252\n",
       "\\item 48.7441787719727\n",
       "\\item 38.1129417419434\n",
       "\\item 40.776798248291\n",
       "\\item 38.9926338195801\n",
       "\\item 40.1921348571777\n",
       "\\item 54.2751922607422\n",
       "\\item 23.8288116455078\n",
       "\\item 33.3716926574707\n",
       "\\item 69.8518829345703\n",
       "\\item 48.4640083312988\n",
       "\\item 30.9662780761719\n",
       "\\item 47.2959823608398\n",
       "\\item 67.4174041748047\n",
       "\\item 27.771879196167\n",
       "\\item 41.5640487670898\n",
       "\\item 62.5889739990234\n",
       "\\item 50.299243927002\n",
       "\\item 74.0131072998047\n",
       "\\item 30.7800159454346\n",
       "\\item 45.6366004943848\n",
       "\\item 36.9870414733887\n",
       "\\item 15.7600431442261\n",
       "\\item 43.588451385498\n",
       "\\item 35.7954330444336\n",
       "\\item 42.5411415100098\n",
       "\\item 57.431510925293\n",
       "\\item 52.3464660644531\n",
       "\\item 46.7853164672852\n",
       "\\item 40.7900695800781\n",
       "\\item 43.3567924499512\n",
       "\\item 54.1446990966797\n",
       "\\item 51.6820831298828\n",
       "\\item 53.8282203674316\n",
       "\\item 50.577335357666\n",
       "\\item 46.0920028686523\n",
       "\\item 24.7357845306396\n",
       "\\item 37.4760246276855\n",
       "\\item 26.2021903991699\n",
       "\\item 35.257884979248\n",
       "\\item 34.3383712768555\n",
       "\\item 51.7260818481445\n",
       "\\item 65.9377212524414\n",
       "\\item 43.7719345092773\n",
       "\\item 28.9786014556885\n",
       "\\item 29.4759159088135\n",
       "\\item 40.667293548584\n",
       "\\item 32.7181091308594\n",
       "\\item 35.5301208496094\n",
       "\\item 49.0372924804688\n",
       "\\item 35.3530349731445\n",
       "\\item 28.4793109893799\n",
       "\\item 40.4997825622559\n",
       "\\item 35.5117034912109\n",
       "\\item 59.539176940918\n",
       "\\item 50.5362739562988\n",
       "\\item 38.2038307189941\n",
       "\\item 56.0919036865234\n",
       "\\end{enumerate*}\n"
      ],
      "text/markdown": [
       "1. 20.6333351135254\n",
       "2. 45.6283912658691\n",
       "3. 19.5602397918701\n",
       "4. 54.2847900390625\n",
       "5. 30.6009902954102\n",
       "6. 68.7822494506836\n",
       "7. 35.8552894592285\n",
       "8. 31.195650100708\n",
       "9. 38.509033203125\n",
       "10. 51.955883026123\n",
       "11. 16.272388458252\n",
       "12. 48.7441787719727\n",
       "13. 38.1129417419434\n",
       "14. 40.776798248291\n",
       "15. 38.9926338195801\n",
       "16. 40.1921348571777\n",
       "17. 54.2751922607422\n",
       "18. 23.8288116455078\n",
       "19. 33.3716926574707\n",
       "20. 69.8518829345703\n",
       "21. 48.4640083312988\n",
       "22. 30.9662780761719\n",
       "23. 47.2959823608398\n",
       "24. 67.4174041748047\n",
       "25. 27.771879196167\n",
       "26. 41.5640487670898\n",
       "27. 62.5889739990234\n",
       "28. 50.299243927002\n",
       "29. 74.0131072998047\n",
       "30. 30.7800159454346\n",
       "31. 45.6366004943848\n",
       "32. 36.9870414733887\n",
       "33. 15.7600431442261\n",
       "34. 43.588451385498\n",
       "35. 35.7954330444336\n",
       "36. 42.5411415100098\n",
       "37. 57.431510925293\n",
       "38. 52.3464660644531\n",
       "39. 46.7853164672852\n",
       "40. 40.7900695800781\n",
       "41. 43.3567924499512\n",
       "42. 54.1446990966797\n",
       "43. 51.6820831298828\n",
       "44. 53.8282203674316\n",
       "45. 50.577335357666\n",
       "46. 46.0920028686523\n",
       "47. 24.7357845306396\n",
       "48. 37.4760246276855\n",
       "49. 26.2021903991699\n",
       "50. 35.257884979248\n",
       "51. 34.3383712768555\n",
       "52. 51.7260818481445\n",
       "53. 65.9377212524414\n",
       "54. 43.7719345092773\n",
       "55. 28.9786014556885\n",
       "56. 29.4759159088135\n",
       "57. 40.667293548584\n",
       "58. 32.7181091308594\n",
       "59. 35.5301208496094\n",
       "60. 49.0372924804688\n",
       "61. 35.3530349731445\n",
       "62. 28.4793109893799\n",
       "63. 40.4997825622559\n",
       "64. 35.5117034912109\n",
       "65. 59.539176940918\n",
       "66. 50.5362739562988\n",
       "67. 38.2038307189941\n",
       "68. 56.0919036865234\n",
       "\n",
       "\n"
      ],
      "text/plain": [
       " [1] 20.63334 45.62839 19.56024 54.28479 30.60099 68.78225 35.85529 31.19565\n",
       " [9] 38.50903 51.95588 16.27239 48.74418 38.11294 40.77680 38.99263 40.19213\n",
       "[17] 54.27519 23.82881 33.37169 69.85188 48.46401 30.96628 47.29598 67.41740\n",
       "[25] 27.77188 41.56405 62.58897 50.29924 74.01311 30.78002 45.63660 36.98704\n",
       "[33] 15.76004 43.58845 35.79543 42.54114 57.43151 52.34647 46.78532 40.79007\n",
       "[41] 43.35679 54.14470 51.68208 53.82822 50.57734 46.09200 24.73578 37.47602\n",
       "[49] 26.20219 35.25788 34.33837 51.72608 65.93772 43.77193 28.97860 29.47592\n",
       "[57] 40.66729 32.71811 35.53012 49.03729 35.35303 28.47931 40.49978 35.51170\n",
       "[65] 59.53918 50.53627 38.20383 56.09190"
      ]
     },
     "metadata": {},
     "output_type": "display_data"
    }
   ],
   "source": [
    "#load data\n",
    "test <- read.csv(file = '../../Data/test_data.csv')\n",
    "test <- test[,-1]\n",
    "test$Intensity <- as.numeric(test$Intensity)\n",
    "test <- as.matrix(test)\n",
    "\n",
    "#train boost on the whole training set\n",
    "test.boost <- xgboost(X, label = Y,\n",
    "                          objective = \"reg:squarederror\",\n",
    "                          eta = 0.04,\n",
    "                          max_depth = 90,\n",
    "                          nround = 1500, verbose = 0)\n",
    "result <- predict(test.boost,test)\n"
   ]
  },
  {
   "cell_type": "code",
   "execution_count": 108,
   "metadata": {},
   "outputs": [],
   "source": [
    "id <- 1:68\n",
    "final.data <- data.frame(Id = id,VALENCE.PLEASANTNESS = result)\n",
    "write.csv(final.data,\"../../Submission/Boosting.csv\",row.names = FALSE)"
   ]
  },
  {
   "cell_type": "code",
   "execution_count": null,
   "metadata": {},
   "outputs": [],
   "source": []
  }
 ],
 "metadata": {
  "kernelspec": {
   "display_name": "R",
   "language": "R",
   "name": "ir"
  },
  "language_info": {
   "codemirror_mode": "r",
   "file_extension": ".r",
   "mimetype": "text/x-r-source",
   "name": "R",
   "pygments_lexer": "r",
   "version": "3.6.1"
  }
 },
 "nbformat": 4,
 "nbformat_minor": 4
}
