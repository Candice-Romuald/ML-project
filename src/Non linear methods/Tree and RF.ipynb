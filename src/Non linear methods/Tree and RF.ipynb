{
 "cells": [
  {
   "cell_type": "code",
   "execution_count": 1,
   "metadata": {},
   "outputs": [
    {
     "name": "stderr",
     "output_type": "stream",
     "text": [
      "Warning message:\n",
      "\"package 'tree' was built under R version 3.6.3\"randomForest 4.6-14\n",
      "Type rfNews() to see new features/changes/bug fixes.\n",
      "Warning message:\n",
      "\"package 'tidymodels' was built under R version 3.6.3\"Registered S3 method overwritten by 'cli':\n",
      "  method     from\n",
      "  print.tree tree\n",
      "-- Attaching packages ------------------------------------------------------------------------------ tidymodels 0.1.2 --\n",
      "v broom     0.7.2      v recipes   0.1.15\n",
      "v dials     0.0.9      v rsample   0.0.8 \n",
      "v dplyr     1.0.2      v tibble    3.0.4 \n",
      "v ggplot2   3.3.2      v tidyr     1.1.2 \n",
      "v infer     0.5.3      v tune      0.1.2 \n",
      "v modeldata 0.1.0      v workflows 0.2.1 \n",
      "v parsnip   0.1.4      v yardstick 0.0.7 \n",
      "v purrr     0.3.4      \n",
      "Warning message:\n",
      "\"package 'broom' was built under R version 3.6.3\"Warning message:\n",
      "\"package 'dials' was built under R version 3.6.3\"Warning message:\n",
      "\"package 'dplyr' was built under R version 3.6.3\"Warning message:\n",
      "\"package 'ggplot2' was built under R version 3.6.3\"Warning message:\n",
      "\"package 'infer' was built under R version 3.6.3\"Warning message:\n",
      "\"package 'modeldata' was built under R version 3.6.3\"Warning message:\n",
      "\"package 'parsnip' was built under R version 3.6.3\"Warning message:\n",
      "\"package 'purrr' was built under R version 3.6.3\"Warning message:\n",
      "\"package 'recipes' was built under R version 3.6.3\"Warning message:\n",
      "\"package 'rsample' was built under R version 3.6.3\"Warning message:\n",
      "\"package 'tibble' was built under R version 3.6.3\"Warning message:\n",
      "\"package 'tidyr' was built under R version 3.6.3\"Warning message:\n",
      "\"package 'tune' was built under R version 3.6.3\"Warning message:\n",
      "\"package 'workflows' was built under R version 3.6.3\"Warning message:\n",
      "\"package 'yardstick' was built under R version 3.6.3\"-- Conflicts --------------------------------------------------------------------------------- tidymodels_conflicts() --\n",
      "x dplyr::combine()  masks randomForest::combine()\n",
      "x purrr::discard()  masks scales::discard()\n",
      "x dplyr::filter()   masks stats::filter()\n",
      "x dplyr::lag()      masks stats::lag()\n",
      "x ggplot2::margin() masks randomForest::margin()\n",
      "x recipes::step()   masks stats::step()\n"
     ]
    }
   ],
   "source": [
    "train <- read.csv(file = '../../Data/training_data.csv')\n",
    "library(tree)\n",
    "library(randomForest)\n",
    "library(tidymodels)\n",
    "\n",
    "data.train <- train[,-3]\n",
    "\n",
    "foo <- function(dat) {\n",
    "    out <- lapply(dat, function(x) length(unique(x)))\n",
    "    want <- which(!out > 1)\n",
    "    unlist(want)\n",
    "}\n",
    "               \n",
    "                  \n",
    "#load data\n",
    "test <- read.csv(file = '../../Data/test_data.csv')\n",
    "test <- na.omit(test)\n",
    "test <- test[,-1]\n",
    "\n",
    "ID <- foo(data.train)\n",
    "       \n",
    "data <- (data.train[,-ID])\n",
    "ID <- ID - 1\n",
    "test <- (test[,-ID])\n",
    "                  "
   ]
  },
  {
   "cell_type": "code",
   "execution_count": 89,
   "metadata": {},
   "outputs": [
    {
     "data": {
      "text/html": [
       "<ol class=list-inline>\n",
       "\t<li>68</li>\n",
       "\t<li>3028</li>\n",
       "</ol>\n"
      ],
      "text/latex": [
       "\\begin{enumerate*}\n",
       "\\item 68\n",
       "\\item 3028\n",
       "\\end{enumerate*}\n"
      ],
      "text/markdown": [
       "1. 68\n",
       "2. 3028\n",
       "\n",
       "\n"
      ],
      "text/plain": [
       "[1]   68 3028"
      ]
     },
     "metadata": {},
     "output_type": "display_data"
    },
    {
     "data": {
      "text/html": [
       "<ol class=list-inline>\n",
       "\t<li>708</li>\n",
       "\t<li>3029</li>\n",
       "</ol>\n"
      ],
      "text/latex": [
       "\\begin{enumerate*}\n",
       "\\item 708\n",
       "\\item 3029\n",
       "\\end{enumerate*}\n"
      ],
      "text/markdown": [
       "1. 708\n",
       "2. 3029\n",
       "\n",
       "\n"
      ],
      "text/plain": [
       "[1]  708 3029"
      ]
     },
     "metadata": {},
     "output_type": "display_data"
    }
   ],
   "source": [
    "dim(test)\n",
    "dim(data)"
   ]
  },
  {
   "cell_type": "markdown",
   "metadata": {},
   "source": [
    "## Simple tree"
   ]
  },
  {
   "cell_type": "code",
   "execution_count": 13,
   "metadata": {},
   "outputs": [
    {
     "data": {
      "text/plain": [
       "\n",
       "Regression tree:\n",
       "tree(formula = VALENCE.PLEASANTNESS ~ ., data = data)\n",
       "Variables actually used in tree construction:\n",
       " [1] \"RDF015s\"        \"Chi_Dz.i.\"      \"MATS8p\"         \"R4m\"           \n",
       " [5] \"L2s\"            \"Mor29s\"         \"RTs.\"           \"X4sol\"         \n",
       " [9] \"Mor26m\"         \"P1p\"            \"Mor10u\"         \"P_VSA_m_2\"     \n",
       "[13] \"RDF040m\"        \"SpMaxA_AEA.ed.\" \"Mor17s\"         \"MATS2i\"        \n",
       "[17] \"Dv\"             \"SIC1\"           \"ATSC1e\"         \"Mor18s\"        \n",
       "Number of terminal nodes:  21 \n",
       "Residual mean deviance:  315 = 216400 / 687 \n",
       "Distribution of residuals:\n",
       "    Min.  1st Qu.   Median     Mean  3rd Qu.     Max. \n",
       "-57.0200 -11.2500   0.1897   0.0000  12.6800  54.8500 "
      ]
     },
     "metadata": {},
     "output_type": "display_data"
    },
    {
     "data": {
      "image/png": "[encoded data removed]",
      "text/plain": [
       "plot without title"
      ]
     },
     "metadata": {},
     "output_type": "display_data"
    }
   ],
   "source": [
    "T <- tree(VALENCE.PLEASANTNESS ~ ., data)\n",
    "summary(T) #affiche missclassification sur le training data\n",
    "# visualize tree\n",
    "par(mfrow = c(1, 2))\n",
    "plot(T)\n",
    "text(T)"
   ]
  },
  {
   "cell_type": "markdown",
   "metadata": {},
   "source": [
    "# Random Forest"
   ]
  },
  {
   "cell_type": "code",
   "execution_count": 6,
   "metadata": {},
   "outputs": [
    {
     "data": {
      "image/png": "[encoded data removed]",
      "text/plain": [
       "Plot with title \"rf\""
      ]
     },
     "metadata": {},
     "output_type": "display_data"
    }
   ],
   "source": [
    "#mtry: nbr de variable a considéer\n",
    "#ntree: number of tree grow on a bagging sample\n",
    "rf <- randomForest(VALENCE.PLEASANTNESS ~ ., data.train, mtry = 50, ntree = 1000, maxnodes = 20)\n",
    "varImpPlot(rf)"
   ]
  },
  {
   "cell_type": "markdown",
   "metadata": {},
   "source": [
    "### Study RF with cross validation -> find best mtry, maxnodes."
   ]
  },
  {
   "cell_type": "code",
   "execution_count": 9,
   "metadata": {},
   "outputs": [],
   "source": [
    "fit_and_evaluate.mtry <- function(fold, mtry) {      \n",
    "    sapply (seq(5,mtry,by = 50), function (i) {\n",
    "        tree <- randomForest(VALENCE.PLEASANTNESS ~ ., analysis(fold), mtry = i, ntree = 100, maxnodes = 20) \n",
    "        valid.set <- assessment(fold)\n",
    "        mean((valid.set$VALENCE.PLEASANTNESS-predict(tree,valid.set))^2)\n",
    "    })\n",
    "}\n",
    "\n"
   ]
  },
  {
   "cell_type": "code",
   "execution_count": 10,
   "metadata": {},
   "outputs": [
    {
     "data": {
      "image/png": "[encoded data removed]",
      "text/plain": [
       "plot without title"
      ]
     },
     "metadata": {},
     "output_type": "display_data"
    }
   ],
   "source": [
    "#NOT GOOD, too slow\n",
    "validation_data <- vfold_cv(data.train, v = 8) #v = nbr of fold !\n",
    "mtry <- 2000\n",
    "\n",
    "v.errors <- sapply(validation_data$splits, fit_and_evaluate.mtry,mtry = mtry)\n",
    "v.errors.mtry <- rowMeans(v.errors)\n",
    "plot(seq(5,mtry,by = 50),v.errors.mtry,xlab = 'mtry', ylab = 'MSE')"
   ]
  },
  {
   "cell_type": "code",
   "execution_count": 11,
   "metadata": {},
   "outputs": [
    {
     "data": {
      "text/html": [
       "1805"
      ],
      "text/latex": [
       "1805"
      ],
      "text/markdown": [
       "1805"
      ],
      "text/plain": [
       "[1] 1805"
      ]
     },
     "metadata": {},
     "output_type": "display_data"
    }
   ],
   "source": [
    "seq(5,mtry,by = 50)[which.min(v.errors.mtry)]"
   ]
  },
  {
   "cell_type": "markdown",
   "metadata": {},
   "source": [
    "### Study RF with CV to find the best maxnodes"
   ]
  },
  {
   "cell_type": "code",
   "execution_count": 139,
   "metadata": {},
   "outputs": [],
   "source": [
    "fit_and_evaluate.maxN <- function(fold, maxnodes) {      \n",
    "    iter <- seq(1,maxnodes,by = 10)\n",
    "    sapply (iter, function (i) {\n",
    "        tree <- randomForest(VALENCE.PLEASANTNESS ~ ., analysis(fold), mtry = 115, ntree = 100, maxnodes = i) \n",
    "        valid.set <- assessment(fold)\n",
    "        mean((valid.set$VALENCE.PLEASANTNESS-predict(tree,valid.set))^2)\n",
    "    })\n",
    "}\n"
   ]
  },
  {
   "cell_type": "code",
   "execution_count": 140,
   "metadata": {},
   "outputs": [
    {
     "data": {
      "image/png": "[encoded data removed]",
      "text/plain": [
       "plot without title"
      ]
     },
     "metadata": {},
     "output_type": "display_data"
    }
   ],
   "source": [
    "#NOT GOOD, too slow\n",
    "validation_data <- vfold_cv(data, v = 10) #v = nbr of fold !  ####RELANCER AVEC dATA\n",
    "maxnodes <- 601\n",
    "v.errors <- sapply(validation_data$splits, fit_and_evaluate.maxN,maxnodes)\n",
    "v.errors.maxnodes <- rowMeans(v.errors)\n",
    "plot(seq(1,maxnodes,by = 10),v.errors.maxnodes,xlab='max nodes',ylab = 'MSE')"
   ]
  },
  {
   "cell_type": "code",
   "execution_count": 141,
   "metadata": {},
   "outputs": [
    {
     "data": {
      "text/html": [
       "21"
      ],
      "text/latex": [
       "21"
      ],
      "text/markdown": [
       "21"
      ],
      "text/plain": [
       "[1] 21"
      ]
     },
     "metadata": {},
     "output_type": "display_data"
    }
   ],
   "source": [
    "seq(1,maxnodes,by = 10)[which.min(v.errors.maxnodes)]\n"
   ]
  },
  {
   "cell_type": "markdown",
   "metadata": {},
   "source": [
    "So it gives ~ 21 ! "
   ]
  },
  {
   "cell_type": "markdown",
   "metadata": {},
   "source": [
    "### simple way to roughly estimate the validation error (with the data pre processed)\n",
    "\n",
    "note: this is more a way to compare our runs with different parameter, if we want to get a more precise estimate, we should do a proper CV."
   ]
  },
  {
   "cell_type": "code",
   "execution_count": 6,
   "metadata": {},
   "outputs": [
    {
     "data": {
      "text/html": [
       "506.75715030882"
      ],
      "text/latex": [
       "506.75715030882"
      ],
      "text/markdown": [
       "506.75715030882"
      ],
      "text/plain": [
       "[1] 506.7572"
      ]
     },
     "metadata": {},
     "output_type": "display_data"
    }
   ],
   "source": [
    "set.seed(2)\n",
    "MSE <- c()\n",
    "data$Intensity <- as.numeric(data$Intensity) #If we do not do this, we have problem with the auto one hot coding of RF when using test set\n",
    "\n",
    "for (i in 10){\n",
    "    id <- sample(nrow(data),nrow(data)*3/4)\n",
    "    train <- data[id,]\n",
    "    valid <- data[-id,]\n",
    "    RF <- randomForest(VALENCE.PLEASANTNESS ~ ., train, mtry = 1800, ntree = 555, maxnodes = 21)\n",
    "    MSE <- append(MSE,mean((predict(RF,valid[,-2])-valid$VALENCE.PLEASANTNESS)^2))\n",
    "    }\n",
    "mean(MSE)"
   ]
  },
  {
   "cell_type": "markdown",
   "metadata": {},
   "source": [
    "### CV for ntree"
   ]
  },
  {
   "cell_type": "markdown",
   "metadata": {},
   "source": [
    "\n"
   ]
  },
  {
   "cell_type": "code",
   "execution_count": null,
   "metadata": {},
   "outputs": [],
   "source": [
    "MSE <- c()\n",
    "for (N in seq(5,2000,by = 50)){\n",
    "    mse <- c()\n",
    "    for (i in 1:8){\n",
    "        id <- sample(nrow(data),nrow(data)*3/4)\n",
    "        train <- data[id,]\n",
    "        valid <- data[-id,]\n",
    "        RF <- randomForest(VALENCE.PLEASANTNESS ~ ., train, mtry = 115, ntree = N, maxnodes = 21)\n",
    "        mse <- append(mse,mean((predict(RF,valid[,-2])-valid$VALENCE.PLEASANTNESS)^2))\n",
    "        }\n",
    "    MSE <- append(MSE,mean(mse))\n",
    "    }\n"
   ]
  },
  {
   "cell_type": "code",
   "execution_count": 138,
   "metadata": {},
   "outputs": [
    {
     "data": {
      "text/html": [
       "555"
      ],
      "text/latex": [
       "555"
      ],
      "text/markdown": [
       "555"
      ],
      "text/plain": [
       "[1] 555"
      ]
     },
     "metadata": {},
     "output_type": "display_data"
    },
    {
     "data": {
      "image/png": "[encoded data removed]",
      "text/plain": [
       "plot without title"
      ]
     },
     "metadata": {},
     "output_type": "display_data"
    }
   ],
   "source": [
    "plot(seq(5,2000,by = 50),MSE,xlab = 'ntree', ylab = 'MSE')\n",
    "seq(5,2000,by = 50)[which.min(MSE)]"
   ]
  },
  {
   "cell_type": "markdown",
   "metadata": {},
   "source": [
    "a bit random "
   ]
  },
  {
   "cell_type": "markdown",
   "metadata": {},
   "source": [
    "### plot importance (sert a air)"
   ]
  },
  {
   "cell_type": "code",
   "execution_count": 8,
   "metadata": {},
   "outputs": [
    {
     "data": {
      "image/png": "[encoded data removed]",
      "text/plain": [
       "Plot with title \"rf\""
      ]
     },
     "metadata": {},
     "output_type": "display_data"
    }
   ],
   "source": [
    "varImpPlot(rf)"
   ]
  },
  {
   "cell_type": "markdown",
   "metadata": {},
   "source": [
    "### Run our optimized RF on test set"
   ]
  },
  {
   "cell_type": "code",
   "execution_count": null,
   "metadata": {},
   "outputs": [],
   "source": [
    "#train full RF on full data data\n",
    "test$Intensity <- as.numeric(test$Intensity) #If we do not do this, we have problem with the auto one hot coding of RF\n",
    "\n",
    "RF.best <- randomForest(VALENCE.PLEASANTNESS ~ .,data, mtry = 1800, ntree = 555, maxnodes = 21)"
   ]
  },
  {
   "cell_type": "code",
   "execution_count": 148,
   "metadata": {},
   "outputs": [],
   "source": [
    "y.pred <- predict(RF.best,test) #force RF to consider the same one hot coding\n",
    "id <- 1:68\n",
    "final.data <- data.frame(Id = id,VALENCE.PLEASANTNESS = y.pred)\n",
    "write.csv(final.data,\"../../Submission/RFgood.csv\",row.names = FALSE)"
   ]
  },
  {
   "cell_type": "code",
   "execution_count": 133,
   "metadata": {},
   "outputs": [],
   "source": [
    "# data.train$Intensity <- as.numeric(data.train$Intensity)\n",
    "# test$Intensity <- as.numeric(test$Intensity) #If we do not do this, we have problem with the auto one hot coding of RF\n",
    "# RF.best <- randomForest(VALENCE.PLEASANTNESS ~ .,data.train, mtry = 115, ntree = 200, maxnodes = 21)\n",
    "# y.pred <- predict(RF.best,test) #force RF to consider the same one hot coding\n",
    "# id <- 1:68\n",
    "# final.data <- data.frame(Id = id,VALENCE.PLEASANTNESS = y.pred)\n",
    "# write.csv(final.data,\"../../Submission/RF.csv\",row.names = FALSE)"
   ]
  },
  {
   "cell_type": "code",
   "execution_count": null,
   "metadata": {},
   "outputs": [],
   "source": []
  }
 ],
 "metadata": {
  "kernelspec": {
   "display_name": "R",
   "language": "R",
   "name": "ir"
  },
  "language_info": {
   "codemirror_mode": "r",
   "file_extension": ".r",
   "mimetype": "text/x-r-source",
   "name": "R",
   "pygments_lexer": "r",
   "version": "3.6.1"
  }
 },
 "nbformat": 4,
 "nbformat_minor": 4
}
