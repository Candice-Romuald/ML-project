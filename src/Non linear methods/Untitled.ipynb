{
 "cells": [
  {
   "cell_type": "code",
   "execution_count": null,
   "metadata": {},
   "outputs": [],
   "source": [
    "library(caret)\n",
    "library(randomForest)\n",
    "library(tidymodels)"
   ]
  },
  {
   "cell_type": "code",
   "execution_count": 2,
   "metadata": {},
   "outputs": [],
   "source": [
    "train <- read.csv(file = '../../Data/training_data.csv')\n",
    "train <- subset(train,select = -SWEETORSOUR)\n",
    "train$Intensity <- as.numeric(train$Intensity)\n",
    "Y <- train$VALENCE.PLEASANTNESS\n",
    "train <- subset(train,select = -VALENCE.PLEASANTNESS)"
   ]
  },
  {
   "cell_type": "code",
   "execution_count": 24,
   "metadata": {},
   "outputs": [],
   "source": [
    "train.Z <- subset(train,select = -nearZeroVar(train))\n",
    "correlation <- cor(train.Z)\n",
    "id <- sort(findCorrelation(correlation, cutoff=0.99999))\n",
    "data.unC <- train.Z[,-id]"
   ]
  },
  {
   "cell_type": "code",
   "execution_count": 9,
   "metadata": {},
   "outputs": [],
   "source": [
    "MSE.estimation <- function (Data,valid.split,p,ntree,mtry,maxnodes) {\n",
    "    MSE <- c()\n",
    "    for (i in 1:p){\n",
    "        id <- sample(nrow(Data),nrow(Data)*0.8)\n",
    "        train <- Data[id,]\n",
    "        valid <- Data[-id,]\n",
    "        RF <- randomForest(VALENCE.PLEASANTNESS ~ ., train, mtry = mtry, ntree = ntree, maxnodes = maxnodes)\n",
    "        MSE <- append(MSE,mean((predict(RF,subset(valid,select = -VALENCE.PLEASANTNESS))-valid$VALENCE.PLEASANTNESS)^2))\n",
    "        }\n",
    "    mean(MSE)\n",
    "}"
   ]
  },
  {
   "cell_type": "code",
   "execution_count": 25,
   "metadata": {},
   "outputs": [
    {
     "data": {
      "text/html": [
       "<ol class=list-inline>\n",
       "\t<li>708</li>\n",
       "\t<li>2446</li>\n",
       "</ol>\n"
      ],
      "text/latex": [
       "\\begin{enumerate*}\n",
       "\\item 708\n",
       "\\item 2446\n",
       "\\end{enumerate*}\n"
      ],
      "text/markdown": [
       "1. 708\n",
       "2. 2446\n",
       "\n",
       "\n"
      ],
      "text/plain": [
       "[1]  708 2446"
      ]
     },
     "metadata": {},
     "output_type": "display_data"
    }
   ],
   "source": [
    "data.unC$VALENCE.PLEASANTNESS <- Y  \n",
    "dim(data.unC)"
   ]
  },
  {
   "cell_type": "code",
   "execution_count": 26,
   "metadata": {},
   "outputs": [
    {
     "data": {
      "text/html": [
       "478.265822526878"
      ],
      "text/latex": [
       "478.265822526878"
      ],
      "text/markdown": [
       "478.265822526878"
      ],
      "text/plain": [
       "[1] 478.2658"
      ]
     },
     "metadata": {},
     "output_type": "display_data"
    }
   ],
   "source": [
    "MSE.estimation (data.unC, valid.split = 0.75, 6, ntree = 15000, mtry = 20, maxnodes = 20)"
   ]
  },
  {
   "cell_type": "code",
   "execution_count": 14,
   "metadata": {},
   "outputs": [
    {
     "data": {
      "text/html": [
       "471.106359076587"
      ],
      "text/latex": [
       "471.106359076587"
      ],
      "text/markdown": [
       "471.106359076587"
      ],
      "text/plain": [
       "[1] 471.1064"
      ]
     },
     "metadata": {},
     "output_type": "display_data"
    }
   ],
   "source": [
    "MSE.estimation (data.unC, valid.split = 0.95, 10, ntree = 1800, mtry = 500, maxnodes = 20)"
   ]
  },
  {
   "cell_type": "markdown",
   "metadata": {},
   "source": [
    "==============================================================================================="
   ]
  },
  {
   "cell_type": "code",
   "execution_count": null,
   "metadata": {},
   "outputs": [],
   "source": [
    "library(glmnet)"
   ]
  },
  {
   "cell_type": "code",
   "execution_count": 31,
   "metadata": {},
   "outputs": [],
   "source": [
    "train.Z$VALENCE.PLEASANTESS <- Y\n",
    "a <- ncol(train.Z)\n",
    "corY <- cor(train.Z)[a,]\n",
    "cut <- sort(which(abs(corY)>0.1, arr.ind=TRUE))\n"
   ]
  },
  {
   "cell_type": "code",
   "execution_count": 56,
   "metadata": {},
   "outputs": [],
   "source": [
    "T <- as.matrix(train.Z[,cut])\n",
    "T <- subset(T,select = -VALENCE.PLEASANTESS)\n"
   ]
  },
  {
   "cell_type": "code",
   "execution_count": 57,
   "metadata": {},
   "outputs": [
    {
     "data": {
      "text/html": [
       "<ol class=list-inline>\n",
       "\t<li>708</li>\n",
       "\t<li>566</li>\n",
       "</ol>\n"
      ],
      "text/latex": [
       "\\begin{enumerate*}\n",
       "\\item 708\n",
       "\\item 566\n",
       "\\end{enumerate*}\n"
      ],
      "text/markdown": [
       "1. 708\n",
       "2. 566\n",
       "\n",
       "\n"
      ],
      "text/plain": [
       "[1] 708 566"
      ]
     },
     "metadata": {},
     "output_type": "display_data"
    },
    {
     "data": {
      "text/html": [
       "<table>\n",
       "<thead><tr><th scope=col>nO</th><th scope=col>nS</th><th scope=col>nHM</th><th scope=col>nBnz</th><th scope=col>ZM1Kup</th><th scope=col>Xt</th><th scope=col>Dz</th><th scope=col>SPI</th><th scope=col>PW5</th><th scope=col>MAXDP</th><th scope=col>...</th><th scope=col>F02.C.S.</th><th scope=col>F02.O.O.</th><th scope=col>F03.C.O.</th><th scope=col>F03.C.S.</th><th scope=col>F04.C.O.</th><th scope=col>F05.C.O.</th><th scope=col>MLOGP</th><th scope=col>BLTF96</th><th scope=col>BLTD48</th><th scope=col>BLTA96</th></tr></thead>\n",
       "<tbody>\n",
       "\t<tr><td>2      </td><td>0      </td><td>0      </td><td>0      </td><td>189.471</td><td>0.317  </td><td>32     </td><td>8.808  </td><td>0.077  </td><td>3.662  </td><td>...    </td><td>0      </td><td>1      </td><td>2      </td><td>0      </td><td> 3     </td><td>4      </td><td>3.026  </td><td>-3.96  </td><td>-4.19  </td><td>-4.26  </td></tr>\n",
       "\t<tr><td>1      </td><td>0      </td><td>0      </td><td>1      </td><td>117.736</td><td>0.420  </td><td>19     </td><td>4.176  </td><td>0.078  </td><td>1.469  </td><td>...    </td><td>0      </td><td>0      </td><td>2      </td><td>0      </td><td> 1     </td><td>1      </td><td>2.193  </td><td>-3.25  </td><td>-3.40  </td><td>-3.42  </td></tr>\n",
       "\t<tr><td>3      </td><td>0      </td><td>0      </td><td>2      </td><td>293.207</td><td>0.280  </td><td>39     </td><td>7.015  </td><td>0.090  </td><td>4.772  </td><td>...    </td><td>0      </td><td>1      </td><td>7      </td><td>0      </td><td>10     </td><td>7      </td><td>3.202  </td><td>-4.11  </td><td>-4.36  </td><td>-4.43  </td></tr>\n",
       "\t<tr><td>2      </td><td>0      </td><td>0      </td><td>0      </td><td>107.885</td><td>0.675  </td><td>14     </td><td>3.786  </td><td>0.000  </td><td>2.699  </td><td>...    </td><td>0      </td><td>1      </td><td>4      </td><td>0      </td><td> 0     </td><td>0      </td><td>0.586  </td><td>-1.89  </td><td>-1.88  </td><td>-1.82  </td></tr>\n",
       "\t<tr><td>1      </td><td>0      </td><td>0      </td><td>1      </td><td>108.150</td><td>0.397  </td><td>21     </td><td>4.443  </td><td>0.070  </td><td>3.329  </td><td>...    </td><td>0      </td><td>0      </td><td>3      </td><td>0      </td><td> 2     </td><td>1      </td><td>2.242  </td><td>-3.30  </td><td>-3.45  </td><td>-3.47  </td></tr>\n",
       "\t<tr><td>2      </td><td>0      </td><td>0      </td><td>1      </td><td>189.471</td><td>0.331  </td><td>30     </td><td>6.253  </td><td>0.063  </td><td>3.801  </td><td>...    </td><td>0      </td><td>1      </td><td>4      </td><td>0      </td><td> 2     </td><td>3      </td><td>2.959  </td><td>-3.90  </td><td>-4.13  </td><td>-4.19  </td></tr>\n",
       "</tbody>\n",
       "</table>\n"
      ],
      "text/latex": [
       "\\begin{tabular}{r|llllllllllllllllllllllllllllllllllllllllllllllllllllllllllllllllllllllllllllllllllllllllllllllllllllllllllllllllllllllllllllllllllllllllllllllllllllllllllllllllllllllllllllllllllllllllllllllllllllllllllllllllllllllllllllllllllllllllllllllllllllllllllllllllllllllllllllllllllllllllllllllllllllllllllllllllllllllllllllllllllllllllllllllllllllllllllllllllllllllllllllllllllllllllllllllllllllllllllllllllllllllllllllllllllllllllllllllllllllllllllllllllllllllllllllllllllllllllllllllllllllllllllllllllllllllllllllllllllllllllllllllllllllllllllllllllllllllllllllllllllllll}\n",
       " nO & nS & nHM & nBnz & ZM1Kup & Xt & Dz & SPI & PW5 & MAXDP & ... & F02.C.S. & F02.O.O. & F03.C.O. & F03.C.S. & F04.C.O. & F05.C.O. & MLOGP & BLTF96 & BLTD48 & BLTA96\\\\\n",
       "\\hline\n",
       "\t 2       & 0       & 0       & 0       & 189.471 & 0.317   & 32      & 8.808   & 0.077   & 3.662   & ...     & 0       & 1       & 2       & 0       &  3      & 4       & 3.026   & -3.96   & -4.19   & -4.26  \\\\\n",
       "\t 1       & 0       & 0       & 1       & 117.736 & 0.420   & 19      & 4.176   & 0.078   & 1.469   & ...     & 0       & 0       & 2       & 0       &  1      & 1       & 2.193   & -3.25   & -3.40   & -3.42  \\\\\n",
       "\t 3       & 0       & 0       & 2       & 293.207 & 0.280   & 39      & 7.015   & 0.090   & 4.772   & ...     & 0       & 1       & 7       & 0       & 10      & 7       & 3.202   & -4.11   & -4.36   & -4.43  \\\\\n",
       "\t 2       & 0       & 0       & 0       & 107.885 & 0.675   & 14      & 3.786   & 0.000   & 2.699   & ...     & 0       & 1       & 4       & 0       &  0      & 0       & 0.586   & -1.89   & -1.88   & -1.82  \\\\\n",
       "\t 1       & 0       & 0       & 1       & 108.150 & 0.397   & 21      & 4.443   & 0.070   & 3.329   & ...     & 0       & 0       & 3       & 0       &  2      & 1       & 2.242   & -3.30   & -3.45   & -3.47  \\\\\n",
       "\t 2       & 0       & 0       & 1       & 189.471 & 0.331   & 30      & 6.253   & 0.063   & 3.801   & ...     & 0       & 1       & 4       & 0       &  2      & 3       & 2.959   & -3.90   & -4.13   & -4.19  \\\\\n",
       "\\end{tabular}\n"
      ],
      "text/markdown": [
       "\n",
       "| nO | nS | nHM | nBnz | ZM1Kup | Xt | Dz | SPI | PW5 | MAXDP | ... | F02.C.S. | F02.O.O. | F03.C.O. | F03.C.S. | F04.C.O. | F05.C.O. | MLOGP | BLTF96 | BLTD48 | BLTA96 |\n",
       "|---|---|---|---|---|---|---|---|---|---|---|---|---|---|---|---|---|---|---|---|---|\n",
       "| 2       | 0       | 0       | 0       | 189.471 | 0.317   | 32      | 8.808   | 0.077   | 3.662   | ...     | 0       | 1       | 2       | 0       |  3      | 4       | 3.026   | -3.96   | -4.19   | -4.26   |\n",
       "| 1       | 0       | 0       | 1       | 117.736 | 0.420   | 19      | 4.176   | 0.078   | 1.469   | ...     | 0       | 0       | 2       | 0       |  1      | 1       | 2.193   | -3.25   | -3.40   | -3.42   |\n",
       "| 3       | 0       | 0       | 2       | 293.207 | 0.280   | 39      | 7.015   | 0.090   | 4.772   | ...     | 0       | 1       | 7       | 0       | 10      | 7       | 3.202   | -4.11   | -4.36   | -4.43   |\n",
       "| 2       | 0       | 0       | 0       | 107.885 | 0.675   | 14      | 3.786   | 0.000   | 2.699   | ...     | 0       | 1       | 4       | 0       |  0      | 0       | 0.586   | -1.89   | -1.88   | -1.82   |\n",
       "| 1       | 0       | 0       | 1       | 108.150 | 0.397   | 21      | 4.443   | 0.070   | 3.329   | ...     | 0       | 0       | 3       | 0       |  2      | 1       | 2.242   | -3.30   | -3.45   | -3.47   |\n",
       "| 2       | 0       | 0       | 1       | 189.471 | 0.331   | 30      | 6.253   | 0.063   | 3.801   | ...     | 0       | 1       | 4       | 0       |  2      | 3       | 2.959   | -3.90   | -4.13   | -4.19   |\n",
       "\n"
      ],
      "text/plain": [
       "  nO nS nHM nBnz ZM1Kup  Xt    Dz SPI   PW5   MAXDP ... F02.C.S. F02.O.O.\n",
       "1 2  0  0   0    189.471 0.317 32 8.808 0.077 3.662 ... 0        1       \n",
       "2 1  0  0   1    117.736 0.420 19 4.176 0.078 1.469 ... 0        0       \n",
       "3 3  0  0   2    293.207 0.280 39 7.015 0.090 4.772 ... 0        1       \n",
       "4 2  0  0   0    107.885 0.675 14 3.786 0.000 2.699 ... 0        1       \n",
       "5 1  0  0   1    108.150 0.397 21 4.443 0.070 3.329 ... 0        0       \n",
       "6 2  0  0   1    189.471 0.331 30 6.253 0.063 3.801 ... 0        1       \n",
       "  F03.C.O. F03.C.S. F04.C.O. F05.C.O. MLOGP BLTF96 BLTD48 BLTA96\n",
       "1 2        0         3       4        3.026 -3.96  -4.19  -4.26 \n",
       "2 2        0         1       1        2.193 -3.25  -3.40  -3.42 \n",
       "3 7        0        10       7        3.202 -4.11  -4.36  -4.43 \n",
       "4 4        0         0       0        0.586 -1.89  -1.88  -1.82 \n",
       "5 3        0         2       1        2.242 -3.30  -3.45  -3.47 \n",
       "6 4        0         2       3        2.959 -3.90  -4.13  -4.19 "
      ]
     },
     "metadata": {},
     "output_type": "display_data"
    }
   ],
   "source": [
    "dim(T)\n",
    "head(T)"
   ]
  },
  {
   "cell_type": "code",
   "execution_count": 52,
   "metadata": {},
   "outputs": [],
   "source": [
    "cv <- cv.glmnet(T,Y, alpha = 1, nfolds = 10)"
   ]
  },
  {
   "cell_type": "code",
   "execution_count": 53,
   "metadata": {},
   "outputs": [
    {
     "data": {
      "image/png": "[encoded data removed]",
      "text/plain": [
       "plot without title"
      ]
     },
     "metadata": {},
     "output_type": "display_data"
    }
   ],
   "source": [
    "plot(cv)"
   ]
  },
  {
   "cell_type": "markdown",
   "metadata": {},
   "source": [
    "------------------------------------------------------------------------------------------------------------------------------------------------------"
   ]
  },
  {
   "cell_type": "code",
   "execution_count": null,
   "metadata": {},
   "outputs": [],
   "source": []
  }
 ],
 "metadata": {
  "kernelspec": {
   "display_name": "R",
   "language": "R",
   "name": "ir"
  },
  "language_info": {
   "codemirror_mode": "r",
   "file_extension": ".r",
   "mimetype": "text/x-r-source",
   "name": "R",
   "pygments_lexer": "r",
   "version": "3.6.1"
  }
 },
 "nbformat": 4,
 "nbformat_minor": 4
}
