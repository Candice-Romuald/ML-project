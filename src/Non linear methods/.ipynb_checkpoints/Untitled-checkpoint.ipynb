{
 "cells": [
  {
   "cell_type": "code",
   "execution_count": null,
   "metadata": {},
   "outputs": [],
   "source": [
    "library(caret)\n",
    "library(randomForest)\n",
    "library(tidymodels)"
   ]
  },
  {
   "cell_type": "code",
   "execution_count": 2,
   "metadata": {},
   "outputs": [],
   "source": [
    "train <- read.csv(file = '../../Data/training_data.csv')\n",
    "train <- subset(train,select = -SWEETORSOUR)\n",
    "train$Intensity <- as.numeric(train$Intensity)\n",
    "Y <- train$VALENCE.PLEASANTNESS\n",
    "train <- subset(train,select = -VALENCE.PLEASANTNESS)"
   ]
  },
  {
   "cell_type": "code",
   "execution_count": 24,
   "metadata": {},
   "outputs": [],
   "source": [
    "train.Z <- subset(train,select = -nearZeroVar(train))\n",
    "correlation <- cor(train.Z)\n",
    "id <- sort(findCorrelation(correlation, cutoff=0.99999))\n",
    "data.unC <- train.Z[,-id]"
   ]
  },
  {
   "cell_type": "code",
   "execution_count": 9,
   "metadata": {},
   "outputs": [],
   "source": [
    "MSE.estimation <- function (Data,valid.split,p,ntree,mtry,maxnodes) {\n",
    "    MSE <- c()\n",
    "    for (i in 1:p){\n",
    "        id <- sample(nrow(Data),nrow(Data)*0.8)\n",
    "        train <- Data[id,]\n",
    "        valid <- Data[-id,]\n",
    "        RF <- randomForest(VALENCE.PLEASANTNESS ~ ., train, mtry = mtry, ntree = ntree, maxnodes = maxnodes)\n",
    "        MSE <- append(MSE,mean((predict(RF,subset(valid,select = -VALENCE.PLEASANTNESS))-valid$VALENCE.PLEASANTNESS)^2))\n",
    "        }\n",
    "    mean(MSE)\n",
    "}"
   ]
  },
  {
   "cell_type": "code",
   "execution_count": 25,
   "metadata": {},
   "outputs": [
    {
     "data": {
      "text/html": [
       "<ol class=list-inline>\n",
       "\t<li>708</li>\n",
       "\t<li>2446</li>\n",
       "</ol>\n"
      ],
      "text/latex": [
       "\\begin{enumerate*}\n",
       "\\item 708\n",
       "\\item 2446\n",
       "\\end{enumerate*}\n"
      ],
      "text/markdown": [
       "1. 708\n",
       "2. 2446\n",
       "\n",
       "\n"
      ],
      "text/plain": [
       "[1]  708 2446"
      ]
     },
     "metadata": {},
     "output_type": "display_data"
    }
   ],
   "source": [
    "data.unC$VALENCE.PLEASANTNESS <- Y  \n",
    "dim(data.unC)"
   ]
  },
  {
   "cell_type": "code",
   "execution_count": 26,
   "metadata": {},
   "outputs": [
    {
     "data": {
      "text/html": [
       "478.265822526878"
      ],
      "text/latex": [
       "478.265822526878"
      ],
      "text/markdown": [
       "478.265822526878"
      ],
      "text/plain": [
       "[1] 478.2658"
      ]
     },
     "metadata": {},
     "output_type": "display_data"
    }
   ],
   "source": [
    "MSE.estimation (data.unC, valid.split = 0.75, 6, ntree = 15000, mtry = 20, maxnodes = 20)"
   ]
  },
  {
   "cell_type": "code",
   "execution_count": 14,
   "metadata": {},
   "outputs": [
    {
     "data": {
      "text/html": [
       "471.106359076587"
      ],
      "text/latex": [
       "471.106359076587"
      ],
      "text/markdown": [
       "471.106359076587"
      ],
      "text/plain": [
       "[1] 471.1064"
      ]
     },
     "metadata": {},
     "output_type": "display_data"
    }
   ],
   "source": [
    "MSE.estimation (data.unC, valid.split = 0.95, 10, ntree = 1800, mtry = 500, maxnodes = 20)"
   ]
  },
  {
   "cell_type": "code",
   "execution_count": null,
   "metadata": {},
   "outputs": [],
   "source": []
  }
 ],
 "metadata": {
  "kernelspec": {
   "display_name": "R",
   "language": "R",
   "name": "ir"
  },
  "language_info": {
   "codemirror_mode": "r",
   "file_extension": ".r",
   "mimetype": "text/x-r-source",
   "name": "R",
   "pygments_lexer": "r",
   "version": "3.6.1"
  }
 },
 "nbformat": 4,
 "nbformat_minor": 4
}
