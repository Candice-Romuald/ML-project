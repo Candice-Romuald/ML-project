{
 "cells": [
  {
   "cell_type": "code",
   "execution_count": null,
   "metadata": {},
   "outputs": [],
   "source": [
    "library(caret)\n",
    "library(randomForest)\n",
    "library(tidymodels)"
   ]
  },
  {
   "cell_type": "code",
   "execution_count": 17,
   "metadata": {},
   "outputs": [],
   "source": [
    "train <- read.csv(file = '../../Data/training_data.csv')\n",
    "train <- subset(train,select = -SWEETORSOUR)\n",
    "train$Intensity <- as.numeric(train$Intensity)\n",
    "Y <- train$VALENCE.PLEASANTNESS\n",
    "train <- subset(train,select = -VALENCE.PLEASANTNESS)"
   ]
  },
  {
   "cell_type": "markdown",
   "metadata": {},
   "source": [
    "Remove correlated data; as we do not want to overfit, we remove variables that contains the \"same informations\""
   ]
  },
  {
   "cell_type": "code",
   "execution_count": 19,
   "metadata": {},
   "outputs": [
    {
     "data": {
      "text/html": [
       "<ol class=list-inline>\n",
       "\t<li>708</li>\n",
       "\t<li>2615</li>\n",
       "</ol>\n"
      ],
      "text/latex": [
       "\\begin{enumerate*}\n",
       "\\item 708\n",
       "\\item 2615\n",
       "\\end{enumerate*}\n"
      ],
      "text/markdown": [
       "1. 708\n",
       "2. 2615\n",
       "\n",
       "\n"
      ],
      "text/plain": [
       "[1]  708 2615"
      ]
     },
     "metadata": {},
     "output_type": "display_data"
    },
    {
     "data": {
      "text/html": [
       "<ol class=list-inline>\n",
       "\t<li>2615</li>\n",
       "\t<li>2615</li>\n",
       "</ol>\n"
      ],
      "text/latex": [
       "\\begin{enumerate*}\n",
       "\\item 2615\n",
       "\\item 2615\n",
       "\\end{enumerate*}\n"
      ],
      "text/markdown": [
       "1. 2615\n",
       "2. 2615\n",
       "\n",
       "\n"
      ],
      "text/plain": [
       "[1] 2615 2615"
      ]
     },
     "metadata": {},
     "output_type": "display_data"
    }
   ],
   "source": [
    "train.Z <- subset(train,select = -nearZeroVar(train))\n",
    "train.Z\n",
    "correlation <- cor(train.Z)\n",
    "id <- sort(findCorrelation(correlation, cutoff=0.5))\n",
    "data.unC <- train [,-id]"
   ]
  },
  {
   "cell_type": "code",
   "execution_count": 21,
   "metadata": {},
   "outputs": [
    {
     "data": {
      "text/html": [
       "<table>\n",
       "<thead><tr><th scope=col>Intensity</th><th scope=col>ZM1</th><th scope=col>DECC</th><th scope=col>SMTIV</th><th scope=col>piPC06</th><th scope=col>VR1_D</th><th scope=col>SpMax_Dz.Z.</th><th scope=col>VR3_Dz.Z.</th><th scope=col>ATSC3i</th><th scope=col>ATSC5s</th><th scope=col>...</th><th scope=col>Psychotic.80</th><th scope=col>Psychotic.50</th><th scope=col>Hypertens.80</th><th scope=col>Hypertens.50</th><th scope=col>Hypnotic.80</th><th scope=col>Hypnotic.50</th><th scope=col>Neoplastic.80</th><th scope=col>Neoplastic.50</th><th scope=col>Infective.80</th><th scope=col>Infective.50</th></tr></thead>\n",
       "<tbody>\n",
       "\t<tr><td>2     </td><td>80    </td><td>1.067 </td><td>2454  </td><td>4.190 </td><td>15.566</td><td>47.917</td><td>1.788 </td><td>0.933 </td><td>23.627</td><td>...   </td><td>0     </td><td>0     </td><td>1     </td><td>0     </td><td>1     </td><td>0     </td><td>1     </td><td>0     </td><td>1     </td><td>0     </td></tr>\n",
       "\t<tr><td>1     </td><td>40    </td><td>0.938 </td><td> 630  </td><td>3.876 </td><td> 8.678</td><td>15.012</td><td>0.845 </td><td>0.353 </td><td> 7.007</td><td>...   </td><td>0     </td><td>0     </td><td>0     </td><td>0     </td><td>0     </td><td>0     </td><td>0     </td><td>0     </td><td>0     </td><td>0     </td></tr>\n",
       "\t<tr><td>1     </td><td>86    </td><td>1.222 </td><td>4839  </td><td>4.952 </td><td>18.526</td><td>57.873</td><td>2.282 </td><td>0.683 </td><td>45.724</td><td>...   </td><td>0     </td><td>0     </td><td>1     </td><td>0     </td><td>1     </td><td>1     </td><td>1     </td><td>0     </td><td>1     </td><td>1     </td></tr>\n",
       "\t<tr><td>1     </td><td>22    </td><td>0.444 </td><td> 254  </td><td>0.000 </td><td> 4.745</td><td> 8.595</td><td>0.405 </td><td>0.182 </td><td> 6.000</td><td>...   </td><td>0     </td><td>0     </td><td>0     </td><td>0     </td><td>0     </td><td>0     </td><td>0     </td><td>0     </td><td>0     </td><td>0     </td></tr>\n",
       "\t<tr><td>2     </td><td>44    </td><td>0.760 </td><td> 801  </td><td>3.766 </td><td> 9.654</td><td>20.358</td><td>0.984 </td><td>0.490 </td><td>15.440</td><td>...   </td><td>0     </td><td>0     </td><td>0     </td><td>0     </td><td>0     </td><td>0     </td><td>0     </td><td>0     </td><td>0     </td><td>0     </td></tr>\n",
       "\t<tr><td>1     </td><td>60    </td><td>1.235 </td><td>2514  </td><td>3.797 </td><td>13.574</td><td>46.628</td><td>1.586 </td><td>0.643 </td><td>17.250</td><td>...   </td><td>0     </td><td>0     </td><td>0     </td><td>0     </td><td>1     </td><td>0     </td><td>1     </td><td>0     </td><td>1     </td><td>0     </td></tr>\n",
       "</tbody>\n",
       "</table>\n"
      ],
      "text/latex": [
       "\\begin{tabular}{r|lllllllllllllllllllllllllllllllllllllllllllllllllllllllllllllllllllllllllllllllllllllllllllllllllllllllllllllllllllllllllllllllllllllllllllllllllllllllllllllllllllllllllllllllllllllllllllllllllllllllllllllllllllllllllllllllllllllllllllllllllllllllllllllllllllllllllllllllllllllllllllllllllllllllllllllllllllllllllllllllllllllllllllllllllllllllllllllllllllllllllllllllllllllllllllllllllllllllllllllllllllllllllllllllllllllllllllllllllllllllllllllllllllllllllllllllllllllllllllllllllllllllllllllllllllllllllllllllllllllllllllllllllllllllllllllllllllllllllllllllllllllllllllllllllllllllllllllllllllllllllllllllllllllllllllllllllllllllllllllllllllllllllllllllllllllllllllllllllllllllllllllllllllllllllllllllllllllllllllllllllllllllllllllllllllllllllllllllllllllllllllllllllllllllllllllllllllllllllllllllllllllllllllllllllllllllllllllllllllllllllllllllllllllllllllllllllllllllllllllllllllllllllllllllllllllllllllllllllllllllllllllllllllllllllllllllllllllllllllllllllllllllllllllllllllllllllllllllllllllllllllllllllllllllllllllllllllllllllllllllllllllllllllllllllllllllllllllllllllllllllllllllllllllllllllllllllllllllllllllllllllllllllllllllllllllllllllllllllllllllllllllllllllllllllllllllllllllllllllllllllllllllllllllllllllllllllllllllllllllllllllllllllllllllllllllllllllllllllllllllllllllllllllllllllllllllllllllllllllllllllllllllllllllllllllllllllllllllllllllllllllllllllllllllllllllllllllllllllllllllllllllllllllllllllllllllllllllllllllllllllllllllllllllllllllllllllllllllllllllllllllllllllllllllllllllllllllllllllllllllllllllllllllllllllllllllllllllllllllllllllllllllllllllllllllllllllllllllllllllllllllllllllllllllllllllllllllllllllllllllllllllllllllllllllllllllllllllllllllllllllllllllllllllllllllllllllllllllllllllllllllllllllllllllllllllllllllllllllllllllllllllllllllllllllllllllllllllllllllllllllllllllllllllllllllllllllllllllllllllllllllllllllllllllllllllllllllllllllllllllllllllllllllllllllllllllllllllllllllllllllllllllllllllllllllllllllllllllllllllllllllllllllllllllllllllllllllllllllllllllllllllllllllllllllllllllllllllllllllllllllllllllllllllllllllllllllllllllllllllllllllllllllllllllllllllllllllllllllllllllllllllllllllllllllllllllllllllllllllllllllllllllllllllllllllllllllllllllllllllllllllllllllllllllllllllllllllllllllllllllllllllllllllllllllllllllllllllllllllllllllllllllllllllllllllllllllllllllllllllllll}\n",
       " Intensity & ZM1 & DECC & SMTIV & piPC06 & VR1\\_D & SpMax\\_Dz.Z. & VR3\\_Dz.Z. & ATSC3i & ATSC5s & ... & Psychotic.80 & Psychotic.50 & Hypertens.80 & Hypertens.50 & Hypnotic.80 & Hypnotic.50 & Neoplastic.80 & Neoplastic.50 & Infective.80 & Infective.50\\\\\n",
       "\\hline\n",
       "\t 2      & 80     & 1.067  & 2454   & 4.190  & 15.566 & 47.917 & 1.788  & 0.933  & 23.627 & ...    & 0      & 0      & 1      & 0      & 1      & 0      & 1      & 0      & 1      & 0     \\\\\n",
       "\t 1      & 40     & 0.938  &  630   & 3.876  &  8.678 & 15.012 & 0.845  & 0.353  &  7.007 & ...    & 0      & 0      & 0      & 0      & 0      & 0      & 0      & 0      & 0      & 0     \\\\\n",
       "\t 1      & 86     & 1.222  & 4839   & 4.952  & 18.526 & 57.873 & 2.282  & 0.683  & 45.724 & ...    & 0      & 0      & 1      & 0      & 1      & 1      & 1      & 0      & 1      & 1     \\\\\n",
       "\t 1      & 22     & 0.444  &  254   & 0.000  &  4.745 &  8.595 & 0.405  & 0.182  &  6.000 & ...    & 0      & 0      & 0      & 0      & 0      & 0      & 0      & 0      & 0      & 0     \\\\\n",
       "\t 2      & 44     & 0.760  &  801   & 3.766  &  9.654 & 20.358 & 0.984  & 0.490  & 15.440 & ...    & 0      & 0      & 0      & 0      & 0      & 0      & 0      & 0      & 0      & 0     \\\\\n",
       "\t 1      & 60     & 1.235  & 2514   & 3.797  & 13.574 & 46.628 & 1.586  & 0.643  & 17.250 & ...    & 0      & 0      & 0      & 0      & 1      & 0      & 1      & 0      & 1      & 0     \\\\\n",
       "\\end{tabular}\n"
      ],
      "text/markdown": [
       "\n",
       "| Intensity | ZM1 | DECC | SMTIV | piPC06 | VR1_D | SpMax_Dz.Z. | VR3_Dz.Z. | ATSC3i | ATSC5s | ... | Psychotic.80 | Psychotic.50 | Hypertens.80 | Hypertens.50 | Hypnotic.80 | Hypnotic.50 | Neoplastic.80 | Neoplastic.50 | Infective.80 | Infective.50 |\n",
       "|---|---|---|---|---|---|---|---|---|---|---|---|---|---|---|---|---|---|---|---|---|\n",
       "| 2      | 80     | 1.067  | 2454   | 4.190  | 15.566 | 47.917 | 1.788  | 0.933  | 23.627 | ...    | 0      | 0      | 1      | 0      | 1      | 0      | 1      | 0      | 1      | 0      |\n",
       "| 1      | 40     | 0.938  |  630   | 3.876  |  8.678 | 15.012 | 0.845  | 0.353  |  7.007 | ...    | 0      | 0      | 0      | 0      | 0      | 0      | 0      | 0      | 0      | 0      |\n",
       "| 1      | 86     | 1.222  | 4839   | 4.952  | 18.526 | 57.873 | 2.282  | 0.683  | 45.724 | ...    | 0      | 0      | 1      | 0      | 1      | 1      | 1      | 0      | 1      | 1      |\n",
       "| 1      | 22     | 0.444  |  254   | 0.000  |  4.745 |  8.595 | 0.405  | 0.182  |  6.000 | ...    | 0      | 0      | 0      | 0      | 0      | 0      | 0      | 0      | 0      | 0      |\n",
       "| 2      | 44     | 0.760  |  801   | 3.766  |  9.654 | 20.358 | 0.984  | 0.490  | 15.440 | ...    | 0      | 0      | 0      | 0      | 0      | 0      | 0      | 0      | 0      | 0      |\n",
       "| 1      | 60     | 1.235  | 2514   | 3.797  | 13.574 | 46.628 | 1.586  | 0.643  | 17.250 | ...    | 0      | 0      | 0      | 0      | 1      | 0      | 1      | 0      | 1      | 0      |\n",
       "\n"
      ],
      "text/plain": [
       "  Intensity ZM1 DECC  SMTIV piPC06 VR1_D  SpMax_Dz.Z. VR3_Dz.Z. ATSC3i ATSC5s\n",
       "1 2         80  1.067 2454  4.190  15.566 47.917      1.788     0.933  23.627\n",
       "2 1         40  0.938  630  3.876   8.678 15.012      0.845     0.353   7.007\n",
       "3 1         86  1.222 4839  4.952  18.526 57.873      2.282     0.683  45.724\n",
       "4 1         22  0.444  254  0.000   4.745  8.595      0.405     0.182   6.000\n",
       "5 2         44  0.760  801  3.766   9.654 20.358      0.984     0.490  15.440\n",
       "6 1         60  1.235 2514  3.797  13.574 46.628      1.586     0.643  17.250\n",
       "  ... Psychotic.80 Psychotic.50 Hypertens.80 Hypertens.50 Hypnotic.80\n",
       "1 ... 0            0            1            0            1          \n",
       "2 ... 0            0            0            0            0          \n",
       "3 ... 0            0            1            0            1          \n",
       "4 ... 0            0            0            0            0          \n",
       "5 ... 0            0            0            0            0          \n",
       "6 ... 0            0            0            0            1          \n",
       "  Hypnotic.50 Neoplastic.80 Neoplastic.50 Infective.80 Infective.50\n",
       "1 0           1             0             1            0           \n",
       "2 0           0             0             0            0           \n",
       "3 1           1             0             1            1           \n",
       "4 0           0             0             0            0           \n",
       "5 0           0             0             0            0           \n",
       "6 0           1             0             1            0           "
      ]
     },
     "metadata": {},
     "output_type": "display_data"
    }
   ],
   "source": [
    "head(data.unC)"
   ]
  },
  {
   "cell_type": "markdown",
   "metadata": {},
   "source": [
    "Now our strategy, as CV did not work so well so far and it is very time consuming, is to have ntree very big, mtry and maxnode relatively small.\n",
    "The reason for this is that we do not want to overfit data -> we would like low variance. A good way to reduce variance is to do RF with very big ntree.\n",
    "The choice of mtry and max_node should be given by CV, we imagine it will be low, but not too low (too low mtry/max_node will result in high bias)"
   ]
  },
  {
   "cell_type": "code",
   "execution_count": 22,
   "metadata": {},
   "outputs": [],
   "source": [
    "MSE.estimation <- function (Data,valid.split,p,ntree,mtry,maxnodes) {\n",
    "    MSE <- c()\n",
    "    for (i in 1:p){\n",
    "        id <- sample(nrow(Data),nrow(Data)*0.8)\n",
    "        train <- Data[id,]\n",
    "        valid <- Data[-id,]\n",
    "        RF <- randomForest(VALENCE.PLEASANTNESS ~ ., train, mtry = mtry, ntree = ntree, maxnodes = maxnodes)\n",
    "        MSE <- append(MSE,mean((predict(RF,subset(valid,select = -VALENCE.PLEASANTNESS))-valid$VALENCE.PLEASANTNESS)^2))\n",
    "        }\n",
    "    mean(MSE)\n",
    "}\n"
   ]
  },
  {
   "cell_type": "code",
   "execution_count": 25,
   "metadata": {},
   "outputs": [],
   "source": [
    "data.unC$VALENCE.PLEASANTNESS <- Y  \n"
   ]
  },
  {
   "cell_type": "code",
   "execution_count": null,
   "metadata": {},
   "outputs": [],
   "source": [
    "MSE.estimation (data.unC, valid.split = 0.95, 15, ntree = 20000, mtry = 20, maxnodes = 40)"
   ]
  },
  {
   "cell_type": "markdown",
   "metadata": {},
   "source": [
    "Let s start \"recursive\" CV finding (recursive is explained in the report)"
   ]
  },
  {
   "cell_type": "code",
   "execution_count": null,
   "metadata": {},
   "outputs": [],
   "source": [
    "fit_and_evaluate <- function(fold,ntree,mtry,maxnodes) {      \n",
    "    sapply (iter, function (i) {\n",
    "        tree <- randomForest(VALENCE.PLEASANTNESS ~ ., analysis(fold), mtry = mtry, ntree = ntree, maxnodes = maxnodes) \n",
    "        valid.set <- assessment(fold)\n",
    "        mean((valid.set$VALENCE.PLEASANTNESS-predict(tree,valid.set))^2)\n",
    "    })\n",
    "}\n",
    "\n",
    "get.error <- function(data, v = 10, ) {\n",
    "    iter <- seq(1,maxnodes,by = 10)\n",
    "    validation_data <- vfold_cv(data, v = v) #v = nbr of fold !  ####RELANCER AVEC dATA\n",
    "    v.errors <- sapply(validation_data$splits, fit_and_evaluate.maxN,maxnodes)\n",
    "    v.errors.maxnodes <- rowMeans(v.errors)\n",
    "}"
   ]
  },
  {
   "cell_type": "code",
   "execution_count": null,
   "metadata": {},
   "outputs": [],
   "source": [
    "validation_data <- vfold_cv(data, v = 10) #v = nbr of fold !  ####RELANCER AVEC dATA\n",
    "maxnodes <- 601\n",
    "v.errors <- sapply(validation_data$splits, fit_and_evaluate.maxN,maxnodes)\n",
    "v.errors.maxnodes <- rowMeans(v.errors)\n",
    "plot(seq(1,maxnodes,by = 10),v.errors.maxnodes,xlab='max nodes',ylab = 'MSE')"
   ]
  }
 ],
 "metadata": {
  "kernelspec": {
   "display_name": "R",
   "language": "R",
   "name": "ir"
  },
  "language_info": {
   "codemirror_mode": "r",
   "file_extension": ".r",
   "mimetype": "text/x-r-source",
   "name": "R",
   "pygments_lexer": "r",
   "version": "3.6.1"
  }
 },
 "nbformat": 4,
 "nbformat_minor": 4
}
