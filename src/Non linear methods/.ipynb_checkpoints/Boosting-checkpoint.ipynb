{
 "cells": [
  {
   "cell_type": "code",
   "execution_count": 2,
   "metadata": {},
   "outputs": [],
   "source": [
    "train <- read.csv(file = '../../Data/training_data.csv')\n",
    "train <- na.omit(train[,-3])\n",
    "\n",
    "\n",
    "foo <- function(dat) {\n",
    "    out <- lapply(dat, function(x) length(unique(x)))\n",
    "    want <- which(!out > 1)\n",
    "    unlist(want)\n",
    "}\n",
    "                  \n",
    "test <- read.csv(file = '../../Data/test_data.csv')\n",
    "test <- na.omit(test)\n",
    "test <- test[,-1]\n",
    "test$Intensity <- as.numeric(test$Intensity)\n",
    "\n",
    "                  \n",
    "ID <- foo(train)\n",
    "       \n",
    "data.train <- (train[,-ID])\n",
    "ID <- ID - 1\n",
    "test.p <- (test[,-ID])\n"
   ]
  },
  {
   "cell_type": "code",
   "execution_count": 1,
   "metadata": {},
   "outputs": [
    {
     "name": "stderr",
     "output_type": "stream",
     "text": [
      "Warning message:\n",
      "\"package 'xgboost' was built under R version 3.6.3\"Warning message:\n",
      "\"package 'tidymodels' was built under R version 3.6.3\"-- Attaching packages ------------------------------------------------------------------------------ tidymodels 0.1.2 --\n",
      "v broom     0.7.2      v recipes   0.1.15\n",
      "v dials     0.0.9      v rsample   0.0.8 \n",
      "v dplyr     1.0.2      v tibble    3.0.4 \n",
      "v ggplot2   3.3.2      v tidyr     1.1.2 \n",
      "v infer     0.5.3      v tune      0.1.2 \n",
      "v modeldata 0.1.0      v workflows 0.2.1 \n",
      "v parsnip   0.1.4      v yardstick 0.0.7 \n",
      "v purrr     0.3.4      \n",
      "Warning message:\n",
      "\"package 'broom' was built under R version 3.6.3\"Warning message:\n",
      "\"package 'dials' was built under R version 3.6.3\"Warning message:\n",
      "\"package 'dplyr' was built under R version 3.6.3\"Warning message:\n",
      "\"package 'ggplot2' was built under R version 3.6.3\"Warning message:\n",
      "\"package 'infer' was built under R version 3.6.3\"Warning message:\n",
      "\"package 'modeldata' was built under R version 3.6.3\"Warning message:\n",
      "\"package 'parsnip' was built under R version 3.6.3\"Warning message:\n",
      "\"package 'purrr' was built under R version 3.6.3\"Warning message:\n",
      "\"package 'recipes' was built under R version 3.6.3\"Warning message:\n",
      "\"package 'rsample' was built under R version 3.6.3\"Warning message:\n",
      "\"package 'tibble' was built under R version 3.6.3\"Warning message:\n",
      "\"package 'tidyr' was built under R version 3.6.3\"Warning message:\n",
      "\"package 'tune' was built under R version 3.6.3\"Warning message:\n",
      "\"package 'workflows' was built under R version 3.6.3\"Warning message:\n",
      "\"package 'yardstick' was built under R version 3.6.3\"-- Conflicts --------------------------------------------------------------------------------- tidymodels_conflicts() --\n",
      "x purrr::discard()  masks scales::discard()\n",
      "x tidyr::expand()   masks Matrix::expand()\n",
      "x dplyr::filter()   masks stats::filter()\n",
      "x dplyr::lag()      masks stats::lag()\n",
      "x tidyr::pack()     masks Matrix::pack()\n",
      "x dplyr::slice()    masks xgboost::slice()\n",
      "x recipes::step()   masks stats::step()\n",
      "x tidyr::unpack()   masks Matrix::unpack()\n",
      "x recipes::update() masks Matrix::update(), stats::update()\n"
     ]
    }
   ],
   "source": [
    "library(xgboost)\n",
    "library(Matrix)\n",
    "library(tidymodels)\n"
   ]
  },
  {
   "cell_type": "markdown",
   "metadata": {},
   "source": [
    "prepare the data\n"
   ]
  },
  {
   "cell_type": "code",
   "execution_count": 3,
   "metadata": {},
   "outputs": [],
   "source": [
    "train[,'Intensity'] = as.numeric(train[,'Intensity'])\n",
    "X <- as.matrix(train[,-2])\n",
    "Y <- as.matrix(train[,2])\n",
    "\n",
    "data.train$Intensity <- as.numeric(data.train$Intensity)\n",
    "X.test <- as.matrix(test.p)\n",
    "X.proc <- as.matrix(data.train[,-2])\n",
    "y.proc <- as.matrix(data.train[,2])"
   ]
  },
  {
   "cell_type": "code",
   "execution_count": 29,
   "metadata": {},
   "outputs": [
    {
     "data": {
      "text/plain": [
       "               Length Class              Mode       \n",
       "handle              1 xgb.Booster.handle externalptr\n",
       "raw            557801 -none-             raw        \n",
       "niter               1 -none-             numeric    \n",
       "evaluation_log      2 data.table         list       \n",
       "call               16 -none-             call       \n",
       "params              4 -none-             list       \n",
       "callbacks           1 -none-             list       \n",
       "feature_names    4870 -none-             character  \n",
       "nfeatures           1 -none-             numeric    "
      ]
     },
     "metadata": {},
     "output_type": "display_data"
    }
   ],
   "source": [
    "test.boost = xgboost(X, label = Y,\n",
    "                      objective = \"reg:squarederror\",\n",
    "                      eta = 0.001,\n",
    "                      max_depth = 10,\n",
    "                      nround = 100, verbose = 0)\n",
    "summary(test.boost)"
   ]
  },
  {
   "cell_type": "markdown",
   "metadata": {},
   "source": [
    "Now that we know we have a running boost method on our data, lets get some idea of the performances:"
   ]
  },
  {
   "cell_type": "markdown",
   "metadata": {},
   "source": [
    "We first get apporoximation of the test error by using a simple validation set approach"
   ]
  },
  {
   "cell_type": "code",
   "execution_count": 14,
   "metadata": {},
   "outputs": [],
   "source": [
    "id <- sample(nrow(train),nrow(train)*3/4)\n",
    "val.data <- as.matrix(train[id,])\n",
    "train.data <- as.matrix(train[-id,])\n",
    "\n",
    "boost <- xgboost(train.data[,-2], label = train.data[,2],\n",
    "                      objective = \"reg:squarederror\",\n",
    "                      eta = 0.1,\n",
    "                      max_depth = 10,\n",
    "                      nround = 150, verbose = 0)\n",
    "\n",
    "\n"
   ]
  },
  {
   "cell_type": "code",
   "execution_count": 15,
   "metadata": {},
   "outputs": [
    {
     "data": {
      "text/html": [
       "662.059060499072"
      ],
      "text/latex": [
       "662.059060499072"
      ],
      "text/markdown": [
       "662.059060499072"
      ],
      "text/plain": [
       "[1] 662.0591"
      ]
     },
     "metadata": {},
     "output_type": "display_data"
    },
    {
     "data": {
      "image/png": "[encoded data removed]",
      "text/plain": [
       "plot without title"
      ]
     },
     "metadata": {},
     "output_type": "display_data"
    }
   ],
   "source": [
    "mean((predict(boost,val.data[,-2])-val.data[,2])^2)\n",
    "xgb.plot.importance(xgb.importance(model=boost))"
   ]
  },
  {
   "cell_type": "markdown",
   "metadata": {},
   "source": [
    "Instead of running directly massive CV, we will run the same approach (a bit improved: to reduce the fact that the validation error could depend on the split) as above and plot parameter influences"
   ]
  },
  {
   "cell_type": "code",
   "execution_count": 51,
   "metadata": {},
   "outputs": [],
   "source": [
    "boosting <- function (trainX,trainY,eta,max_depth){\n",
    "    xgboost(trainX, label = trainY,\n",
    "                      objective = \"reg:squarederror\",\n",
    "                      eta = eta,\n",
    "                      max_depth = max_depth,\n",
    "                      nround = 100, verbose = 0)\n",
    "}"
   ]
  },
  {
   "cell_type": "markdown",
   "metadata": {},
   "source": [
    "First we study max_depth"
   ]
  },
  {
   "cell_type": "code",
   "execution_count": 79,
   "metadata": {},
   "outputs": [
    {
     "data": {
      "image/png": "[encoded data removed]",
      "text/plain": [
       "plot without title"
      ]
     },
     "metadata": {},
     "output_type": "display_data"
    }
   ],
   "source": [
    "depth <- seq(10,200,by = 10)\n",
    "\n",
    "MSE = c()\n",
    "for (n in depth) {\n",
    "    mse <- c()\n",
    "    for (i in 1:3){ #to repeat 3 times the splitting -> reduce split dependancy\n",
    "        id <- sample(nrow(train),nrow(train)*3/4)\n",
    "        val.data <- as.matrix(train[id,])\n",
    "        train.data <- as.matrix(train[-id,])\n",
    "        boost <- boosting(train.data[,-2],train.data[,2],eta = 0.01, max_depth = n)\n",
    "        mse <- append(mse,mean((predict(boost,val.data[,-2])-val.data[,2])^2))\n",
    "    }\n",
    "    MSE <- append(MSE,mean(mse))\n",
    "}\n",
    "    \n",
    "plot(depth,MSE)\n",
    "\n"
   ]
  },
  {
   "cell_type": "markdown",
   "metadata": {},
   "source": [
    "a bit random ..."
   ]
  },
  {
   "cell_type": "markdown",
   "metadata": {},
   "source": [
    "Let s do the same thing for eta"
   ]
  },
  {
   "cell_type": "code",
   "execution_count": 83,
   "metadata": {},
   "outputs": [
    {
     "data": {
      "image/png": "[encoded data removed]",
      "text/plain": [
       "plot without title"
      ]
     },
     "metadata": {},
     "output_type": "display_data"
    }
   ],
   "source": [
    "etas <- seq(0.001,0.1, length.out = 20)\n",
    "\n",
    "MSE = c()\n",
    "for (eta in etas) {\n",
    "    mse <- c()\n",
    "    for (i in 1:3){ #to repeat 3 times the splitting -> reduce split dependancy\n",
    "        id <- sample(nrow(train),nrow(train)*3/4)\n",
    "        val.data <- as.matrix(train[id,])\n",
    "        train.data <- as.matrix(train[-id,])\n",
    "        boost <- boosting(train.data[,-2],train.data[,2],eta = eta, max_depth = 90)\n",
    "        mse <- append(mse,mean((predict(boost,val.data[,-2])-val.data[,2])^2))\n",
    "    }\n",
    "    MSE <- append(MSE,mean(mse))\n",
    "}\n",
    "    \n",
    "plot(etas,MSE)\n",
    "\n"
   ]
  },
  {
   "cell_type": "markdown",
   "metadata": {},
   "source": [
    "So we see that we can optimize paramete a little bit, let's re run a simple boosting with them"
   ]
  },
  {
   "cell_type": "code",
   "execution_count": 6,
   "metadata": {},
   "outputs": [
    {
     "data": {
      "text/html": [
       "627.933547774202"
      ],
      "text/latex": [
       "627.933547774202"
      ],
      "text/markdown": [
       "627.933547774202"
      ],
      "text/plain": [
       "[1] 627.9335"
      ]
     },
     "metadata": {},
     "output_type": "display_data"
    }
   ],
   "source": [
    "mse <- c()\n",
    "D <- train\n",
    "\n",
    "for (i in 1:15) {   \n",
    "    id <- sample(nrow(D),nrow(D)*0.8)\n",
    "    val.data <- as.matrix(D[id,])\n",
    "    train.data <- as.matrix(D[-id,])\n",
    "\n",
    "    boost <- xgboost(train.data[,-2], label = train.data[,2],\n",
    "                          objective = \"reg:squarederror\",\n",
    "                          eta = 0.04,\n",
    "                          max_depth = 90,\n",
    "                          nround = 100, verbose = 0)\n",
    "    mse <- append(mse,mean((predict(boost,val.data[,-2])-val.data[,2])^2))\n",
    "}\n",
    "mean(mse)"
   ]
  },
  {
   "cell_type": "markdown",
   "metadata": {},
   "source": [
    "We will try this version of boosting onto the test set."
   ]
  },
  {
   "cell_type": "code",
   "execution_count": 12,
   "metadata": {},
   "outputs": [],
   "source": [
    "#load data\n",
    "test <- read.csv(file = '../../Data/test_data.csv')\n",
    "test <- test[,-1]\n",
    "test <- as.matrix(test)\n",
    "\n",
    "#train boost on the whole training set\n",
    "test.boost <- xgboost(X, label = Y,\n",
    "                          objective = \"reg:squarederror\",\n",
    "                          eta = 0.04,\n",
    "                          max_depth = 90,\n",
    "                          nround = 1500, verbose = 0)\n",
    "result <- predict(test.boost,test)\n"
   ]
  },
  {
   "cell_type": "code",
   "execution_count": 11,
   "metadata": {},
   "outputs": [
    {
     "data": {
      "image/png": "[encoded data removed]",
      "text/plain": [
       "plot without title"
      ]
     },
     "metadata": {},
     "output_type": "display_data"
    }
   ],
   "source": [
    "xgb.plot.importance(xgb.importance(model=test.boost))"
   ]
  },
  {
   "cell_type": "code",
   "execution_count": 108,
   "metadata": {},
   "outputs": [],
   "source": [
    "id <- 1:68\n",
    "final.data <- data.frame(Id = id,VALENCE.PLEASANTNESS = result)\n",
    "write.csv(final.data,\"../../Submission/Boosting.csv\",row.names = FALSE)"
   ]
  },
  {
   "cell_type": "code",
   "execution_count": null,
   "metadata": {},
   "outputs": [],
   "source": []
  }
 ],
 "metadata": {
  "kernelspec": {
   "display_name": "R",
   "language": "R",
   "name": "ir"
  },
  "language_info": {
   "codemirror_mode": "r",
   "file_extension": ".r",
   "mimetype": "text/x-r-source",
   "name": "R",
   "pygments_lexer": "r",
   "version": "3.6.1"
  }
 },
 "nbformat": 4,
 "nbformat_minor": 4
}
